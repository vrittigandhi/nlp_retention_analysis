{
 "cells": [
  {
   "cell_type": "markdown",
   "id": "ca332c73",
   "metadata": {},
   "source": [
    "# Part 4, Extracting Named Entities"
   ]
  },
  {
   "cell_type": "code",
   "execution_count": 1,
   "id": "5e1f95e8",
   "metadata": {},
   "outputs": [],
   "source": [
    "import os\n",
    "import numpy as np\n",
    "import pandas as pd\n",
    "import tensorflow as tf\n",
    "import re\n",
    "import string\n",
    "import ktrain"
   ]
  },
  {
   "cell_type": "code",
   "execution_count": 2,
   "id": "f4fbab13",
   "metadata": {},
   "outputs": [],
   "source": [
    "pd.set_option('display.max_colwidth', 500)"
   ]
  },
  {
   "cell_type": "code",
   "execution_count": 3,
   "id": "5e20945d",
   "metadata": {},
   "outputs": [
    {
     "data": {
      "text/plain": [
       "[PhysicalDevice(name='/physical_device:CPU:0', device_type='CPU'),\n",
       " PhysicalDevice(name='/physical_device:GPU:0', device_type='GPU')]"
      ]
     },
     "execution_count": 3,
     "metadata": {},
     "output_type": "execute_result"
    }
   ],
   "source": [
    "tf.config.list_physical_devices()"
   ]
  },
  {
   "cell_type": "code",
   "execution_count": 4,
   "id": "4c9566a1",
   "metadata": {},
   "outputs": [
    {
     "data": {
      "text/html": [
       "<div>\n",
       "<style scoped>\n",
       "    .dataframe tbody tr th:only-of-type {\n",
       "        vertical-align: middle;\n",
       "    }\n",
       "\n",
       "    .dataframe tbody tr th {\n",
       "        vertical-align: top;\n",
       "    }\n",
       "\n",
       "    .dataframe thead th {\n",
       "        text-align: right;\n",
       "    }\n",
       "</style>\n",
       "<table border=\"1\" class=\"dataframe\">\n",
       "  <thead>\n",
       "    <tr style=\"text-align: right;\">\n",
       "      <th></th>\n",
       "      <th>Unnamed: 0</th>\n",
       "      <th>date</th>\n",
       "      <th>clean_text</th>\n",
       "      <th>clean_title</th>\n",
       "    </tr>\n",
       "  </thead>\n",
       "  <tbody>\n",
       "    <tr>\n",
       "      <th>0</th>\n",
       "      <td>0</td>\n",
       "      <td>2022-01-06</td>\n",
       "      <td>chicago  ap   chicago school leaders canceled classes thursday   second consecutive day  failing  reach agreement   teachers union  covid   safety protocols   nation third largest school district  the chicago teachers union sought  revert  remote instruction   latest surge  infections    sides hammer   deal  but chicago public schools leaders  said remote learning  work  schools  safely remain open  protocols  place  the move  cancel classes  activities thursday affects roughly     students ...</td>\n",
       "      <td>no deal   school  chicago cancels classes   2nd day</td>\n",
       "    </tr>\n",
       "    <tr>\n",
       "      <th>1</th>\n",
       "      <td>1</td>\n",
       "      <td>2022-01-06</td>\n",
       "      <td>chicago pd    lies season   episode   promo  voight employs  new informant  help solve  tricky drug trafficking case  atwater     struggles  reconcile  personal  professional life  reaches  decision   jesseleesoffer  marinasqu  trspiridakos  nbcchicagopd</td>\n",
       "      <td>watch chicago p d  preview wednesday</td>\n",
       "    </tr>\n",
       "    <tr>\n",
       "      <th>2</th>\n",
       "      <td>2</td>\n",
       "      <td>2022-01-06</td>\n",
       "      <td>wise  foolish  the chicago tribune article titled  chicago public schools cancels classes  thursday  deadlock  union continues  trump  biden press secretary  comment  impasse  reported trumps solution  follows educate  children  person  give every dollar spent  education directly   students    get    failing government schools  trump said   statement  the purpose  this post is  relate  ancient wisdom proverb  trump solution  king solomon go   presence   foolish man   thou perceivest     lips...</td>\n",
       "      <td>trump solution  chicago public schools  king solomon blog</td>\n",
       "    </tr>\n",
       "    <tr>\n",
       "      <th>3</th>\n",
       "      <td>3</td>\n",
       "      <td>2022-01-06</td>\n",
       "      <td>the neighbors near mashawn plummer portage park firehouse knew    often sat outside   friendly presence   station  he showed  early   shifts  ready    job   thrilled    friends  family recalled  chicago firefighter emt mashawn plummer  engine     chicago fire department  hundreds  chicago firefighters joined family  friends  thursday  lay plummer  rest   died  december battling  apartment fire   northwest side  they remembered plummer       gentle giant  followed  dream  becoming  chicago fi...</td>\n",
       "      <td>family  friends  colleagues gathering today  south side church  attend funeral services  chicago firefighter mashawn plummer</td>\n",
       "    </tr>\n",
       "    <tr>\n",
       "      <th>4</th>\n",
       "      <td>4</td>\n",
       "      <td>2022-01-06</td>\n",
       "      <td>mashawn plummer died final month  preventing  fireplace  town northwest aspect  additionally killed  civilian  a visitation  held  plummer wednesday night time  a remaining visitation  probably  held        home  hope church    e  114th st  related   chicago firefighter amongst   critically injured  belmont central residence fireplace    killed following  ultimate visitation  funeral companies  start         probably  adopted   procession  oak woods cemetery  67th road  the   yea...</td>\n",
       "      <td>chicago firefighter funeral  pals  household say goodbye  mashawn plummer</td>\n",
       "    </tr>\n",
       "  </tbody>\n",
       "</table>\n",
       "</div>"
      ],
      "text/plain": [
       "   Unnamed: 0        date  \\\n",
       "0           0  2022-01-06   \n",
       "1           1  2022-01-06   \n",
       "2           2  2022-01-06   \n",
       "3           3  2022-01-06   \n",
       "4           4  2022-01-06   \n",
       "\n",
       "                                                                                                                                                                                                                                                                                                                                                                                                                                                                                                            clean_text  \\\n",
       "0  chicago  ap   chicago school leaders canceled classes thursday   second consecutive day  failing  reach agreement   teachers union  covid   safety protocols   nation third largest school district  the chicago teachers union sought  revert  remote instruction   latest surge  infections    sides hammer   deal  but chicago public schools leaders  said remote learning  work  schools  safely remain open  protocols  place  the move  cancel classes  activities thursday affects roughly     students ...   \n",
       "1                                                                                                                                                                                                                                                       chicago pd    lies season   episode   promo  voight employs  new informant  help solve  tricky drug trafficking case  atwater     struggles  reconcile  personal  professional life  reaches  decision   jesseleesoffer  marinasqu  trspiridakos  nbcchicagopd   \n",
       "2  wise  foolish  the chicago tribune article titled  chicago public schools cancels classes  thursday  deadlock  union continues  trump  biden press secretary  comment  impasse  reported trumps solution  follows educate  children  person  give every dollar spent  education directly   students    get    failing government schools  trump said   statement  the purpose  this post is  relate  ancient wisdom proverb  trump solution  king solomon go   presence   foolish man   thou perceivest     lips...   \n",
       "3  the neighbors near mashawn plummer portage park firehouse knew    often sat outside   friendly presence   station  he showed  early   shifts  ready    job   thrilled    friends  family recalled  chicago firefighter emt mashawn plummer  engine     chicago fire department  hundreds  chicago firefighters joined family  friends  thursday  lay plummer  rest   died  december battling  apartment fire   northwest side  they remembered plummer       gentle giant  followed  dream  becoming  chicago fi...   \n",
       "4              mashawn plummer died final month  preventing  fireplace  town northwest aspect  additionally killed  civilian  a visitation  held  plummer wednesday night time  a remaining visitation  probably  held        home  hope church    e  114th st  related   chicago firefighter amongst   critically injured  belmont central residence fireplace    killed following  ultimate visitation  funeral companies  start         probably  adopted   procession  oak woods cemetery  67th road  the   yea...   \n",
       "\n",
       "                                                                                                                    clean_title  \n",
       "0                                                                           no deal   school  chicago cancels classes   2nd day  \n",
       "1                                                                                          watch chicago p d  preview wednesday  \n",
       "2                                                                     trump solution  chicago public schools  king solomon blog  \n",
       "3  family  friends  colleagues gathering today  south side church  attend funeral services  chicago firefighter mashawn plummer  \n",
       "4                                                     chicago firefighter funeral  pals  household say goodbye  mashawn plummer  "
      ]
     },
     "execution_count": 4,
     "metadata": {},
     "output_type": "execute_result"
    }
   ],
   "source": [
    "df_cleaned_news = pd.read_csv('df_cleaned_news.csv')\n",
    "df_cleaned_news.head()"
   ]
  },
  {
   "cell_type": "code",
   "execution_count": 5,
   "id": "3cfbda48",
   "metadata": {},
   "outputs": [
    {
     "data": {
      "text/plain": [
       "Unnamed: 0     0\n",
       "date           0\n",
       "clean_text     7\n",
       "clean_title    6\n",
       "dtype: int64"
      ]
     },
     "execution_count": 5,
     "metadata": {},
     "output_type": "execute_result"
    }
   ],
   "source": [
    "df_cleaned_news.isna().sum()"
   ]
  },
  {
   "cell_type": "code",
   "execution_count": 6,
   "id": "b6c81530",
   "metadata": {},
   "outputs": [],
   "source": [
    "df_cleaned_news.dropna(inplace=True)"
   ]
  },
  {
   "cell_type": "code",
   "execution_count": 7,
   "id": "76019543",
   "metadata": {},
   "outputs": [],
   "source": [
    "df_cleaned_news.reset_index(drop=True, inplace=True)"
   ]
  },
  {
   "cell_type": "code",
   "execution_count": 8,
   "id": "926c39eb",
   "metadata": {},
   "outputs": [],
   "source": [
    "df_cleaned_news.drop(columns=df_cleaned_news.columns[0], inplace=True)"
   ]
  },
  {
   "cell_type": "code",
   "execution_count": 9,
   "id": "35f6ad45",
   "metadata": {},
   "outputs": [
    {
     "data": {
      "text/plain": [
       "(165360, 3)"
      ]
     },
     "execution_count": 9,
     "metadata": {},
     "output_type": "execute_result"
    }
   ],
   "source": [
    "df_cleaned_news.shape"
   ]
  },
  {
   "cell_type": "code",
   "execution_count": 10,
   "id": "996898af",
   "metadata": {},
   "outputs": [
    {
     "data": {
      "text/html": [
       "<div>\n",
       "<style scoped>\n",
       "    .dataframe tbody tr th:only-of-type {\n",
       "        vertical-align: middle;\n",
       "    }\n",
       "\n",
       "    .dataframe tbody tr th {\n",
       "        vertical-align: top;\n",
       "    }\n",
       "\n",
       "    .dataframe thead th {\n",
       "        text-align: right;\n",
       "    }\n",
       "</style>\n",
       "<table border=\"1\" class=\"dataframe\">\n",
       "  <thead>\n",
       "    <tr style=\"text-align: right;\">\n",
       "      <th></th>\n",
       "      <th>date</th>\n",
       "      <th>clean_text</th>\n",
       "      <th>clean_title</th>\n",
       "    </tr>\n",
       "  </thead>\n",
       "  <tbody>\n",
       "    <tr>\n",
       "      <th>0</th>\n",
       "      <td>2022-01-06</td>\n",
       "      <td>chicago  ap   chicago school leaders canceled classes thursday   second consecutive day  failing  reach agreement   teachers union  covid   safety protocols   nation third largest school district  the chicago teachers union sought  revert  remote instruction   latest surge  infections    sides hammer   deal  but chicago public schools leaders  said remote learning  work  schools  safely remain open  protocols  place  the move  cancel classes  activities thursday affects roughly     students ...</td>\n",
       "      <td>no deal   school  chicago cancels classes   2nd day</td>\n",
       "    </tr>\n",
       "    <tr>\n",
       "      <th>1</th>\n",
       "      <td>2022-01-06</td>\n",
       "      <td>chicago pd    lies season   episode   promo  voight employs  new informant  help solve  tricky drug trafficking case  atwater     struggles  reconcile  personal  professional life  reaches  decision   jesseleesoffer  marinasqu  trspiridakos  nbcchicagopd</td>\n",
       "      <td>watch chicago p d  preview wednesday</td>\n",
       "    </tr>\n",
       "    <tr>\n",
       "      <th>2</th>\n",
       "      <td>2022-01-06</td>\n",
       "      <td>wise  foolish  the chicago tribune article titled  chicago public schools cancels classes  thursday  deadlock  union continues  trump  biden press secretary  comment  impasse  reported trumps solution  follows educate  children  person  give every dollar spent  education directly   students    get    failing government schools  trump said   statement  the purpose  this post is  relate  ancient wisdom proverb  trump solution  king solomon go   presence   foolish man   thou perceivest     lips...</td>\n",
       "      <td>trump solution  chicago public schools  king solomon blog</td>\n",
       "    </tr>\n",
       "    <tr>\n",
       "      <th>3</th>\n",
       "      <td>2022-01-06</td>\n",
       "      <td>the neighbors near mashawn plummer portage park firehouse knew    often sat outside   friendly presence   station  he showed  early   shifts  ready    job   thrilled    friends  family recalled  chicago firefighter emt mashawn plummer  engine     chicago fire department  hundreds  chicago firefighters joined family  friends  thursday  lay plummer  rest   died  december battling  apartment fire   northwest side  they remembered plummer       gentle giant  followed  dream  becoming  chicago fi...</td>\n",
       "      <td>family  friends  colleagues gathering today  south side church  attend funeral services  chicago firefighter mashawn plummer</td>\n",
       "    </tr>\n",
       "    <tr>\n",
       "      <th>4</th>\n",
       "      <td>2022-01-06</td>\n",
       "      <td>mashawn plummer died final month  preventing  fireplace  town northwest aspect  additionally killed  civilian  a visitation  held  plummer wednesday night time  a remaining visitation  probably  held        home  hope church    e  114th st  related   chicago firefighter amongst   critically injured  belmont central residence fireplace    killed following  ultimate visitation  funeral companies  start         probably  adopted   procession  oak woods cemetery  67th road  the   yea...</td>\n",
       "      <td>chicago firefighter funeral  pals  household say goodbye  mashawn plummer</td>\n",
       "    </tr>\n",
       "  </tbody>\n",
       "</table>\n",
       "</div>"
      ],
      "text/plain": [
       "         date  \\\n",
       "0  2022-01-06   \n",
       "1  2022-01-06   \n",
       "2  2022-01-06   \n",
       "3  2022-01-06   \n",
       "4  2022-01-06   \n",
       "\n",
       "                                                                                                                                                                                                                                                                                                                                                                                                                                                                                                            clean_text  \\\n",
       "0  chicago  ap   chicago school leaders canceled classes thursday   second consecutive day  failing  reach agreement   teachers union  covid   safety protocols   nation third largest school district  the chicago teachers union sought  revert  remote instruction   latest surge  infections    sides hammer   deal  but chicago public schools leaders  said remote learning  work  schools  safely remain open  protocols  place  the move  cancel classes  activities thursday affects roughly     students ...   \n",
       "1                                                                                                                                                                                                                                                       chicago pd    lies season   episode   promo  voight employs  new informant  help solve  tricky drug trafficking case  atwater     struggles  reconcile  personal  professional life  reaches  decision   jesseleesoffer  marinasqu  trspiridakos  nbcchicagopd   \n",
       "2  wise  foolish  the chicago tribune article titled  chicago public schools cancels classes  thursday  deadlock  union continues  trump  biden press secretary  comment  impasse  reported trumps solution  follows educate  children  person  give every dollar spent  education directly   students    get    failing government schools  trump said   statement  the purpose  this post is  relate  ancient wisdom proverb  trump solution  king solomon go   presence   foolish man   thou perceivest     lips...   \n",
       "3  the neighbors near mashawn plummer portage park firehouse knew    often sat outside   friendly presence   station  he showed  early   shifts  ready    job   thrilled    friends  family recalled  chicago firefighter emt mashawn plummer  engine     chicago fire department  hundreds  chicago firefighters joined family  friends  thursday  lay plummer  rest   died  december battling  apartment fire   northwest side  they remembered plummer       gentle giant  followed  dream  becoming  chicago fi...   \n",
       "4              mashawn plummer died final month  preventing  fireplace  town northwest aspect  additionally killed  civilian  a visitation  held  plummer wednesday night time  a remaining visitation  probably  held        home  hope church    e  114th st  related   chicago firefighter amongst   critically injured  belmont central residence fireplace    killed following  ultimate visitation  funeral companies  start         probably  adopted   procession  oak woods cemetery  67th road  the   yea...   \n",
       "\n",
       "                                                                                                                    clean_title  \n",
       "0                                                                           no deal   school  chicago cancels classes   2nd day  \n",
       "1                                                                                          watch chicago p d  preview wednesday  \n",
       "2                                                                     trump solution  chicago public schools  king solomon blog  \n",
       "3  family  friends  colleagues gathering today  south side church  attend funeral services  chicago firefighter mashawn plummer  \n",
       "4                                                     chicago firefighter funeral  pals  household say goodbye  mashawn plummer  "
      ]
     },
     "execution_count": 10,
     "metadata": {},
     "output_type": "execute_result"
    }
   ],
   "source": [
    "df_cleaned_news.head()"
   ]
  },
  {
   "cell_type": "code",
   "execution_count": 11,
   "id": "8b0da1f7",
   "metadata": {},
   "outputs": [],
   "source": [
    "import spacy \n",
    "from spacy import displacy"
   ]
  },
  {
   "cell_type": "code",
   "execution_count": 12,
   "id": "7d47d5ff",
   "metadata": {
    "scrolled": true
   },
   "outputs": [],
   "source": [
    "# !python -m spacy download en_core_web_md"
   ]
  },
  {
   "cell_type": "code",
   "execution_count": 13,
   "id": "14ce1d25",
   "metadata": {},
   "outputs": [],
   "source": [
    "nlp = spacy.load(\"en_core_web_md\")"
   ]
  },
  {
   "cell_type": "code",
   "execution_count": 14,
   "id": "56432ea1",
   "metadata": {},
   "outputs": [
    {
     "data": {
      "text/plain": [
       "['tagger', 'parser', 'ner']"
      ]
     },
     "execution_count": 14,
     "metadata": {},
     "output_type": "execute_result"
    }
   ],
   "source": [
    "nlp.pipe_names"
   ]
  },
  {
   "cell_type": "code",
   "execution_count": 15,
   "id": "b4b191da",
   "metadata": {},
   "outputs": [],
   "source": [
    "# Using spaCy to count the number of ORG entities and PERSON entities in each article\n",
    "\n",
    "def entity_count(text):\n",
    "    doc = nlp(text)\n",
    "\n",
    "    entities_dict = {}\n",
    "    business = 0\n",
    "    person = 0\n",
    "\n",
    "    for ent in doc.ents:\n",
    "        if ent.label_ == \"ORG\":\n",
    "            entities_dict[ent.text] = ent.label_\n",
    "            business += 1\n",
    "        elif ent.label_ == \"PERSON\":\n",
    "            entities_dict[ent.text] = ent.label_\n",
    "            person += 1\n",
    "\n",
    "    return entities_dict, business, person"
   ]
  },
  {
   "cell_type": "code",
   "execution_count": 16,
   "id": "b44fca58",
   "metadata": {},
   "outputs": [
    {
     "data": {
      "text/plain": [
       "{'ap': 'ORG',\n",
       " 'the chicago teachers union': 'ORG',\n",
       " 'pedro martinez': 'PERSON',\n",
       " 'white house': 'ORG',\n",
       " 'jen psaki': 'PERSON',\n",
       " 'joe biden': 'PERSON',\n",
       " 'donald trump': 'PERSON',\n",
       " 'jesse sharkey': 'PERSON',\n",
       " 'cps': 'ORG',\n",
       " 'payton': 'PERSON',\n",
       " 'danelda craig': 'PERSON',\n",
       " 'lincoln': 'ORG',\n",
       " 'cps       ': 'ORG',\n",
       " 'associated press': 'ORG',\n",
       " 'sara burnett': 'PERSON',\n",
       " 'rick callahan': 'PERSON',\n",
       " 'sophia tareen': 'PERSON',\n",
       " 'twitter    ': 'ORG',\n",
       " 'the associated press': 'ORG'}"
      ]
     },
     "execution_count": 16,
     "metadata": {},
     "output_type": "execute_result"
    }
   ],
   "source": [
    "entity_count(df_cleaned_news['clean_text'][0])[0]"
   ]
  },
  {
   "cell_type": "code",
   "execution_count": 17,
   "id": "19a9d3ac",
   "metadata": {},
   "outputs": [],
   "source": [
    "df_cleaned_news[\"entities_labels\"] = [i for i in df_cleaned_news[\"clean_text\"].apply(lambda x: entity_count(x)[0])]\n",
    "df_cleaned_news[\"ORG_count\"] = df_cleaned_news[\"clean_text\"].apply(lambda x: entity_count(x)[1])\n",
    "df_cleaned_news[\"PERSON_count\"] = df_cleaned_news[\"clean_text\"].apply(lambda x: entity_count(x)[2])"
   ]
  },
  {
   "cell_type": "code",
   "execution_count": 18,
   "id": "41722b64",
   "metadata": {},
   "outputs": [
    {
     "data": {
      "text/html": [
       "<div>\n",
       "<style scoped>\n",
       "    .dataframe tbody tr th:only-of-type {\n",
       "        vertical-align: middle;\n",
       "    }\n",
       "\n",
       "    .dataframe tbody tr th {\n",
       "        vertical-align: top;\n",
       "    }\n",
       "\n",
       "    .dataframe thead th {\n",
       "        text-align: right;\n",
       "    }\n",
       "</style>\n",
       "<table border=\"1\" class=\"dataframe\">\n",
       "  <thead>\n",
       "    <tr style=\"text-align: right;\">\n",
       "      <th></th>\n",
       "      <th>date</th>\n",
       "      <th>clean_text</th>\n",
       "      <th>clean_title</th>\n",
       "      <th>entities_labels</th>\n",
       "      <th>ORG_count</th>\n",
       "      <th>PERSON_count</th>\n",
       "    </tr>\n",
       "  </thead>\n",
       "  <tbody>\n",
       "    <tr>\n",
       "      <th>0</th>\n",
       "      <td>2022-01-06</td>\n",
       "      <td>chicago  ap   chicago school leaders canceled classes thursday   second consecutive day  failing  reach agreement   teachers union  covid   safety protocols   nation third largest school district  the chicago teachers union sought  revert  remote instruction   latest surge  infections    sides hammer   deal  but chicago public schools leaders  said remote learning  work  schools  safely remain open  protocols  place  the move  cancel classes  activities thursday affects roughly     students ...</td>\n",
       "      <td>no deal   school  chicago cancels classes   2nd day</td>\n",
       "      <td>{'ap': 'ORG', 'the chicago teachers union': 'ORG', 'pedro martinez': 'PERSON', 'white house': 'ORG', 'jen psaki': 'PERSON', 'joe biden': 'PERSON', 'donald trump': 'PERSON', 'jesse sharkey': 'PERSON', 'cps': 'ORG', 'payton': 'PERSON', 'danelda craig': 'PERSON', 'lincoln': 'ORG', 'cps       ': 'ORG', 'associated press': 'ORG', 'sara burnett': 'PERSON', 'rick callahan': 'PERSON', 'sophia tareen': 'PERSON', 'twitter    ': 'ORG', 'the associated press': 'ORG'}</td>\n",
       "      <td>9</td>\n",
       "      <td>13</td>\n",
       "    </tr>\n",
       "    <tr>\n",
       "      <th>1</th>\n",
       "      <td>2022-01-06</td>\n",
       "      <td>chicago pd    lies season   episode   promo  voight employs  new informant  help solve  tricky drug trafficking case  atwater     struggles  reconcile  personal  professional life  reaches  decision   jesseleesoffer  marinasqu  trspiridakos  nbcchicagopd</td>\n",
       "      <td>watch chicago p d  preview wednesday</td>\n",
       "      <td>{'chicago pd    ': 'ORG', 'voight': 'ORG', 'jesseleesoffer': 'PERSON'}</td>\n",
       "      <td>2</td>\n",
       "      <td>1</td>\n",
       "    </tr>\n",
       "    <tr>\n",
       "      <th>2</th>\n",
       "      <td>2022-01-06</td>\n",
       "      <td>wise  foolish  the chicago tribune article titled  chicago public schools cancels classes  thursday  deadlock  union continues  trump  biden press secretary  comment  impasse  reported trumps solution  follows educate  children  person  give every dollar spent  education directly   students    get    failing government schools  trump said   statement  the purpose  this post is  relate  ancient wisdom proverb  trump solution  king solomon go   presence   foolish man   thou perceivest     lips...</td>\n",
       "      <td>trump solution  chicago public schools  king solomon blog</td>\n",
       "      <td>{'the chicago tribune article': 'ORG', 'biden press': 'ORG', 'solomon': 'PERSON', 'lightfoot': 'PERSON', 'obama': 'PERSON'}</td>\n",
       "      <td>2</td>\n",
       "      <td>3</td>\n",
       "    </tr>\n",
       "    <tr>\n",
       "      <th>3</th>\n",
       "      <td>2022-01-06</td>\n",
       "      <td>the neighbors near mashawn plummer portage park firehouse knew    often sat outside   friendly presence   station  he showed  early   shifts  ready    job   thrilled    friends  family recalled  chicago firefighter emt mashawn plummer  engine     chicago fire department  hundreds  chicago firefighters joined family  friends  thursday  lay plummer  rest   died  december battling  apartment fire   northwest side  they remembered plummer       gentle giant  followed  dream  becoming  chicago fi...</td>\n",
       "      <td>family  friends  colleagues gathering today  south side church  attend funeral services  chicago firefighter mashawn plummer</td>\n",
       "      <td>{'plummer portage': 'PERSON', 'emt': 'PERSON', 'plummer': 'PERSON', 'plummer       ': 'PERSON'}</td>\n",
       "      <td>0</td>\n",
       "      <td>5</td>\n",
       "    </tr>\n",
       "    <tr>\n",
       "      <th>4</th>\n",
       "      <td>2022-01-06</td>\n",
       "      <td>mashawn plummer died final month  preventing  fireplace  town northwest aspect  additionally killed  civilian  a visitation  held  plummer wednesday night time  a remaining visitation  probably  held        home  hope church    e  114th st  related   chicago firefighter amongst   critically injured  belmont central residence fireplace    killed following  ultimate visitation  funeral companies  start         probably  adopted   procession  oak woods cemetery  67th road  the   yea...</td>\n",
       "      <td>chicago firefighter funeral  pals  household say goodbye  mashawn plummer</td>\n",
       "      <td>{'plummer': 'PERSON', 'englewood': 'PERSON', 'plummer  ': 'PERSON', 'dolores johnson': 'PERSON', 'fireman  johnson': 'PERSON', 'arnetta carr': 'PERSON', 'pat        ': 'PERSON', 'gomez': 'ORG', 'johnson': 'PERSON', 'carr': 'PERSON', 'emt': 'PERSON'}</td>\n",
       "      <td>1</td>\n",
       "      <td>15</td>\n",
       "    </tr>\n",
       "  </tbody>\n",
       "</table>\n",
       "</div>"
      ],
      "text/plain": [
       "         date  \\\n",
       "0  2022-01-06   \n",
       "1  2022-01-06   \n",
       "2  2022-01-06   \n",
       "3  2022-01-06   \n",
       "4  2022-01-06   \n",
       "\n",
       "                                                                                                                                                                                                                                                                                                                                                                                                                                                                                                            clean_text  \\\n",
       "0  chicago  ap   chicago school leaders canceled classes thursday   second consecutive day  failing  reach agreement   teachers union  covid   safety protocols   nation third largest school district  the chicago teachers union sought  revert  remote instruction   latest surge  infections    sides hammer   deal  but chicago public schools leaders  said remote learning  work  schools  safely remain open  protocols  place  the move  cancel classes  activities thursday affects roughly     students ...   \n",
       "1                                                                                                                                                                                                                                                       chicago pd    lies season   episode   promo  voight employs  new informant  help solve  tricky drug trafficking case  atwater     struggles  reconcile  personal  professional life  reaches  decision   jesseleesoffer  marinasqu  trspiridakos  nbcchicagopd   \n",
       "2  wise  foolish  the chicago tribune article titled  chicago public schools cancels classes  thursday  deadlock  union continues  trump  biden press secretary  comment  impasse  reported trumps solution  follows educate  children  person  give every dollar spent  education directly   students    get    failing government schools  trump said   statement  the purpose  this post is  relate  ancient wisdom proverb  trump solution  king solomon go   presence   foolish man   thou perceivest     lips...   \n",
       "3  the neighbors near mashawn plummer portage park firehouse knew    often sat outside   friendly presence   station  he showed  early   shifts  ready    job   thrilled    friends  family recalled  chicago firefighter emt mashawn plummer  engine     chicago fire department  hundreds  chicago firefighters joined family  friends  thursday  lay plummer  rest   died  december battling  apartment fire   northwest side  they remembered plummer       gentle giant  followed  dream  becoming  chicago fi...   \n",
       "4              mashawn plummer died final month  preventing  fireplace  town northwest aspect  additionally killed  civilian  a visitation  held  plummer wednesday night time  a remaining visitation  probably  held        home  hope church    e  114th st  related   chicago firefighter amongst   critically injured  belmont central residence fireplace    killed following  ultimate visitation  funeral companies  start         probably  adopted   procession  oak woods cemetery  67th road  the   yea...   \n",
       "\n",
       "                                                                                                                    clean_title  \\\n",
       "0                                                                           no deal   school  chicago cancels classes   2nd day   \n",
       "1                                                                                          watch chicago p d  preview wednesday   \n",
       "2                                                                     trump solution  chicago public schools  king solomon blog   \n",
       "3  family  friends  colleagues gathering today  south side church  attend funeral services  chicago firefighter mashawn plummer   \n",
       "4                                                     chicago firefighter funeral  pals  household say goodbye  mashawn plummer   \n",
       "\n",
       "                                                                                                                                                                                                                                                                                                                                                                                                                                                               entities_labels  \\\n",
       "0  {'ap': 'ORG', 'the chicago teachers union': 'ORG', 'pedro martinez': 'PERSON', 'white house': 'ORG', 'jen psaki': 'PERSON', 'joe biden': 'PERSON', 'donald trump': 'PERSON', 'jesse sharkey': 'PERSON', 'cps': 'ORG', 'payton': 'PERSON', 'danelda craig': 'PERSON', 'lincoln': 'ORG', 'cps       ': 'ORG', 'associated press': 'ORG', 'sara burnett': 'PERSON', 'rick callahan': 'PERSON', 'sophia tareen': 'PERSON', 'twitter    ': 'ORG', 'the associated press': 'ORG'}   \n",
       "1                                                                                                                                                                                                                                                                                                                                                                                                       {'chicago pd    ': 'ORG', 'voight': 'ORG', 'jesseleesoffer': 'PERSON'}   \n",
       "2                                                                                                                                                                                                                                                                                                                                                  {'the chicago tribune article': 'ORG', 'biden press': 'ORG', 'solomon': 'PERSON', 'lightfoot': 'PERSON', 'obama': 'PERSON'}   \n",
       "3                                                                                                                                                                                                                                                                                                                                                                              {'plummer portage': 'PERSON', 'emt': 'PERSON', 'plummer': 'PERSON', 'plummer       ': 'PERSON'}   \n",
       "4                                                                                                                                                                                                                    {'plummer': 'PERSON', 'englewood': 'PERSON', 'plummer  ': 'PERSON', 'dolores johnson': 'PERSON', 'fireman  johnson': 'PERSON', 'arnetta carr': 'PERSON', 'pat        ': 'PERSON', 'gomez': 'ORG', 'johnson': 'PERSON', 'carr': 'PERSON', 'emt': 'PERSON'}   \n",
       "\n",
       "   ORG_count  PERSON_count  \n",
       "0          9            13  \n",
       "1          2             1  \n",
       "2          2             3  \n",
       "3          0             5  \n",
       "4          1            15  "
      ]
     },
     "execution_count": 18,
     "metadata": {},
     "output_type": "execute_result"
    }
   ],
   "source": [
    "df_cleaned_news.head()"
   ]
  },
  {
   "cell_type": "code",
   "execution_count": 19,
   "id": "7020dd4d",
   "metadata": {},
   "outputs": [],
   "source": [
    "# Saving the extracted entities and counts to a csv\n",
    "\n",
    "df_cleaned_news.to_csv(\"df_cleaned_news_ner.csv\")"
   ]
  },
  {
   "cell_type": "code",
   "execution_count": null,
   "id": "80e64239",
   "metadata": {},
   "outputs": [],
   "source": []
  }
 ],
 "metadata": {
  "kernelspec": {
   "display_name": "Python 3",
   "language": "python",
   "name": "python3"
  },
  "language_info": {
   "codemirror_mode": {
    "name": "ipython",
    "version": 3
   },
   "file_extension": ".py",
   "mimetype": "text/x-python",
   "name": "python",
   "nbconvert_exporter": "python",
   "pygments_lexer": "ipython3",
   "version": "3.8.8"
  }
 },
 "nbformat": 4,
 "nbformat_minor": 5
}
