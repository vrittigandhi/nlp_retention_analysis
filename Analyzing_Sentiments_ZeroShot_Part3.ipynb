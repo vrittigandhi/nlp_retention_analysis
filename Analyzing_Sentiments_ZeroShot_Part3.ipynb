{
 "cells": [
  {
   "cell_type": "markdown",
   "metadata": {},
   "source": [
    "# Part 3, Fine Tuning Sentiments Using BERT + Topics"
   ]
  },
  {
   "cell_type": "code",
   "execution_count": 1,
   "metadata": {
    "colab": {
     "base_uri": "https://localhost:8080/"
    },
    "executionInfo": {
     "elapsed": 36353,
     "status": "ok",
     "timestamp": 1653797559144,
     "user": {
      "displayName": "Vritti Gandhi",
      "userId": "01901719497825676340"
     },
     "user_tz": 300
    },
    "id": "TG4lcj4uAyWG",
    "outputId": "1e1cbd92-1c42-4864-d8fc-81e9336697f0"
   },
   "outputs": [
    {
     "name": "stdout",
     "output_type": "stream",
     "text": [
      "Looking in indexes: https://pypi.org/simple, https://us-python.pkg.dev/colab-wheels/public/simple/\n",
      "Collecting ktrain\n",
      "  Downloading ktrain-0.31.2.tar.gz (25.3 MB)\n",
      "\u001b[K     |████████████████████████████████| 25.3 MB 1.2 MB/s \n",
      "\u001b[?25hCollecting scikit-learn==0.24.2\n",
      "  Downloading scikit_learn-0.24.2-cp37-cp37m-manylinux2010_x86_64.whl (22.3 MB)\n",
      "\u001b[K     |████████████████████████████████| 22.3 MB 1.5 MB/s \n",
      "\u001b[?25hRequirement already satisfied: matplotlib>=3.0.0 in /usr/local/lib/python3.7/dist-packages (from ktrain) (3.2.2)\n",
      "Requirement already satisfied: pandas>=1.0.1 in /usr/local/lib/python3.7/dist-packages (from ktrain) (1.3.5)\n",
      "Requirement already satisfied: fastprogress>=0.1.21 in /usr/local/lib/python3.7/dist-packages (from ktrain) (1.0.2)\n",
      "Requirement already satisfied: requests in /usr/local/lib/python3.7/dist-packages (from ktrain) (2.23.0)\n",
      "Requirement already satisfied: joblib in /usr/local/lib/python3.7/dist-packages (from ktrain) (1.1.0)\n",
      "Requirement already satisfied: packaging in /usr/local/lib/python3.7/dist-packages (from ktrain) (21.3)\n",
      "Collecting langdetect\n",
      "  Downloading langdetect-1.0.9.tar.gz (981 kB)\n",
      "\u001b[K     |████████████████████████████████| 981 kB 50.1 MB/s \n",
      "\u001b[?25hRequirement already satisfied: jieba in /usr/local/lib/python3.7/dist-packages (from ktrain) (0.42.1)\n",
      "Collecting cchardet\n",
      "  Downloading cchardet-2.1.7-cp37-cp37m-manylinux2010_x86_64.whl (263 kB)\n",
      "\u001b[K     |████████████████████████████████| 263 kB 71.8 MB/s \n",
      "\u001b[?25hRequirement already satisfied: chardet in /usr/local/lib/python3.7/dist-packages (from ktrain) (3.0.4)\n",
      "Collecting syntok==1.3.3\n",
      "  Downloading syntok-1.3.3-py3-none-any.whl (22 kB)\n",
      "Collecting transformers==4.10.3\n",
      "  Downloading transformers-4.10.3-py3-none-any.whl (2.8 MB)\n",
      "\u001b[K     |████████████████████████████████| 2.8 MB 62.3 MB/s \n",
      "\u001b[?25hCollecting sentencepiece\n",
      "  Downloading sentencepiece-0.1.96-cp37-cp37m-manylinux_2_17_x86_64.manylinux2014_x86_64.whl (1.2 MB)\n",
      "\u001b[K     |████████████████████████████████| 1.2 MB 60.2 MB/s \n",
      "\u001b[?25hCollecting keras_bert>=0.86.0\n",
      "  Downloading keras-bert-0.89.0.tar.gz (25 kB)\n",
      "Collecting whoosh\n",
      "  Downloading Whoosh-2.7.4-py2.py3-none-any.whl (468 kB)\n",
      "\u001b[K     |████████████████████████████████| 468 kB 67.7 MB/s \n",
      "\u001b[?25hRequirement already satisfied: scipy>=0.19.1 in /usr/local/lib/python3.7/dist-packages (from scikit-learn==0.24.2->ktrain) (1.4.1)\n",
      "Requirement already satisfied: threadpoolctl>=2.0.0 in /usr/local/lib/python3.7/dist-packages (from scikit-learn==0.24.2->ktrain) (3.1.0)\n",
      "Requirement already satisfied: numpy>=1.13.3 in /usr/local/lib/python3.7/dist-packages (from scikit-learn==0.24.2->ktrain) (1.21.6)\n",
      "Requirement already satisfied: regex in /usr/local/lib/python3.7/dist-packages (from syntok==1.3.3->ktrain) (2019.12.20)\n",
      "Requirement already satisfied: filelock in /usr/local/lib/python3.7/dist-packages (from transformers==4.10.3->ktrain) (3.7.0)\n",
      "Requirement already satisfied: tqdm>=4.27 in /usr/local/lib/python3.7/dist-packages (from transformers==4.10.3->ktrain) (4.64.0)\n",
      "Collecting pyyaml>=5.1\n",
      "  Downloading PyYAML-6.0-cp37-cp37m-manylinux_2_5_x86_64.manylinux1_x86_64.manylinux_2_12_x86_64.manylinux2010_x86_64.whl (596 kB)\n",
      "\u001b[K     |████████████████████████████████| 596 kB 53.7 MB/s \n",
      "\u001b[?25hCollecting huggingface-hub>=0.0.12\n",
      "  Downloading huggingface_hub-0.7.0-py3-none-any.whl (86 kB)\n",
      "\u001b[K     |████████████████████████████████| 86 kB 6.1 MB/s \n",
      "\u001b[?25hCollecting tokenizers<0.11,>=0.10.1\n",
      "  Downloading tokenizers-0.10.3-cp37-cp37m-manylinux_2_5_x86_64.manylinux1_x86_64.manylinux_2_12_x86_64.manylinux2010_x86_64.whl (3.3 MB)\n",
      "\u001b[K     |████████████████████████████████| 3.3 MB 48.3 MB/s \n",
      "\u001b[?25hRequirement already satisfied: importlib-metadata in /usr/local/lib/python3.7/dist-packages (from transformers==4.10.3->ktrain) (4.11.3)\n",
      "Collecting sacremoses\n",
      "  Downloading sacremoses-0.0.53.tar.gz (880 kB)\n",
      "\u001b[K     |████████████████████████████████| 880 kB 72.2 MB/s \n",
      "\u001b[?25hRequirement already satisfied: typing-extensions>=3.7.4.3 in /usr/local/lib/python3.7/dist-packages (from huggingface-hub>=0.0.12->transformers==4.10.3->ktrain) (4.2.0)\n",
      "Collecting keras-transformer==0.40.0\n",
      "  Downloading keras-transformer-0.40.0.tar.gz (9.7 kB)\n",
      "Collecting keras-pos-embd==0.13.0\n",
      "  Downloading keras-pos-embd-0.13.0.tar.gz (5.6 kB)\n",
      "Collecting keras-multi-head==0.29.0\n",
      "  Downloading keras-multi-head-0.29.0.tar.gz (13 kB)\n",
      "Collecting keras-layer-normalization==0.16.0\n",
      "  Downloading keras-layer-normalization-0.16.0.tar.gz (3.9 kB)\n",
      "Collecting keras-position-wise-feed-forward==0.8.0\n",
      "  Downloading keras-position-wise-feed-forward-0.8.0.tar.gz (4.1 kB)\n",
      "Collecting keras-embed-sim==0.10.0\n",
      "  Downloading keras-embed-sim-0.10.0.tar.gz (3.6 kB)\n",
      "Collecting keras-self-attention==0.51.0\n",
      "  Downloading keras-self-attention-0.51.0.tar.gz (11 kB)\n",
      "Requirement already satisfied: cycler>=0.10 in /usr/local/lib/python3.7/dist-packages (from matplotlib>=3.0.0->ktrain) (0.11.0)\n",
      "Requirement already satisfied: kiwisolver>=1.0.1 in /usr/local/lib/python3.7/dist-packages (from matplotlib>=3.0.0->ktrain) (1.4.2)\n",
      "Requirement already satisfied: pyparsing!=2.0.4,!=2.1.2,!=2.1.6,>=2.0.1 in /usr/local/lib/python3.7/dist-packages (from matplotlib>=3.0.0->ktrain) (3.0.9)\n",
      "Requirement already satisfied: python-dateutil>=2.1 in /usr/local/lib/python3.7/dist-packages (from matplotlib>=3.0.0->ktrain) (2.8.2)\n",
      "Requirement already satisfied: pytz>=2017.3 in /usr/local/lib/python3.7/dist-packages (from pandas>=1.0.1->ktrain) (2022.1)\n",
      "Requirement already satisfied: six>=1.5 in /usr/local/lib/python3.7/dist-packages (from python-dateutil>=2.1->matplotlib>=3.0.0->ktrain) (1.15.0)\n",
      "Requirement already satisfied: zipp>=0.5 in /usr/local/lib/python3.7/dist-packages (from importlib-metadata->transformers==4.10.3->ktrain) (3.8.0)\n",
      "Requirement already satisfied: certifi>=2017.4.17 in /usr/local/lib/python3.7/dist-packages (from requests->ktrain) (2022.5.18.1)\n",
      "Requirement already satisfied: urllib3!=1.25.0,!=1.25.1,<1.26,>=1.21.1 in /usr/local/lib/python3.7/dist-packages (from requests->ktrain) (1.24.3)\n",
      "Requirement already satisfied: idna<3,>=2.5 in /usr/local/lib/python3.7/dist-packages (from requests->ktrain) (2.10)\n",
      "Requirement already satisfied: click in /usr/local/lib/python3.7/dist-packages (from sacremoses->transformers==4.10.3->ktrain) (7.1.2)\n",
      "Building wheels for collected packages: ktrain, keras-bert, keras-transformer, keras-embed-sim, keras-layer-normalization, keras-multi-head, keras-pos-embd, keras-position-wise-feed-forward, keras-self-attention, langdetect, sacremoses\n",
      "  Building wheel for ktrain (setup.py) ... \u001b[?25l\u001b[?25hdone\n",
      "  Created wheel for ktrain: filename=ktrain-0.31.2-py3-none-any.whl size=25313063 sha256=f1855350c42ad35a447a622a897afcce3ffc1ca74765bc347baecc82cb2a17aa\n",
      "  Stored in directory: /root/.cache/pip/wheels/0a/b3/dd/512a01ea0b4f31d96163518b58361bb72d3bcb916d291052e7\n",
      "  Building wheel for keras-bert (setup.py) ... \u001b[?25l\u001b[?25hdone\n",
      "  Created wheel for keras-bert: filename=keras_bert-0.89.0-py3-none-any.whl size=33517 sha256=d1be78730ceb48d4e2a9213f8bb82c898abe4b8957836b8dc7761089da3adb0e\n",
      "  Stored in directory: /root/.cache/pip/wheels/a4/e8/45/842b3a39831261aef9154b907eacbc4ac99499a99ae829b06f\n",
      "  Building wheel for keras-transformer (setup.py) ... \u001b[?25l\u001b[?25hdone\n",
      "  Created wheel for keras-transformer: filename=keras_transformer-0.40.0-py3-none-any.whl size=12305 sha256=5317a7f151083467c32828ab2cc292c2dd971342dcba153903b3f3869e19becd\n",
      "  Stored in directory: /root/.cache/pip/wheels/46/68/26/692ed21edd832833c3b0a0e21615bcacd99ca458b3f9ed571f\n",
      "  Building wheel for keras-embed-sim (setup.py) ... \u001b[?25l\u001b[?25hdone\n",
      "  Created wheel for keras-embed-sim: filename=keras_embed_sim-0.10.0-py3-none-any.whl size=3960 sha256=2d32e138242adb850ae239330270e6421cb08a989394caa0d4de435ad4fb209b\n",
      "  Stored in directory: /root/.cache/pip/wheels/81/67/b5/d847588d075895281e1cf5590f819bd4cf076a554872268bd5\n",
      "  Building wheel for keras-layer-normalization (setup.py) ... \u001b[?25l\u001b[?25hdone\n",
      "  Created wheel for keras-layer-normalization: filename=keras_layer_normalization-0.16.0-py3-none-any.whl size=4668 sha256=ba93a3023a1dcc18ee4847721767cff0c371565192e245c32f1d4b30a9992765\n",
      "  Stored in directory: /root/.cache/pip/wheels/85/5d/1c/2e619f594f69fbcf8bc20943b27d414871c409be053994813e\n",
      "  Building wheel for keras-multi-head (setup.py) ... \u001b[?25l\u001b[?25hdone\n",
      "  Created wheel for keras-multi-head: filename=keras_multi_head-0.29.0-py3-none-any.whl size=14993 sha256=87d5b0ab294784da8df62a1a7705e10d7dfdc8a9f72379a2d4a773fbbb112ad6\n",
      "  Stored in directory: /root/.cache/pip/wheels/86/aa/3c/9d15d24005179dae08ff291ce99c754b296347817d076fd9fb\n",
      "  Building wheel for keras-pos-embd (setup.py) ... \u001b[?25l\u001b[?25hdone\n",
      "  Created wheel for keras-pos-embd: filename=keras_pos_embd-0.13.0-py3-none-any.whl size=6962 sha256=c10c1a7671b80969b2deac8c6e6487f8fa8f57cac520ca95b658d55e3bfcf33d\n",
      "  Stored in directory: /root/.cache/pip/wheels/8d/c1/a0/dc44fcf68c857b7ff6be9a97e675e5adf51022eff1169b042f\n",
      "  Building wheel for keras-position-wise-feed-forward (setup.py) ... \u001b[?25l\u001b[?25hdone\n",
      "  Created wheel for keras-position-wise-feed-forward: filename=keras_position_wise_feed_forward-0.8.0-py3-none-any.whl size=4983 sha256=849215a9485222acbe8f6988c44e2efb7d5a9123372ebeed5d3760c9512b6947\n",
      "  Stored in directory: /root/.cache/pip/wheels/c2/75/6f/d42f6e051506f442daeba53ff1e2d21a5f20ef8c411610f2bb\n",
      "  Building wheel for keras-self-attention (setup.py) ... \u001b[?25l\u001b[?25hdone\n",
      "  Created wheel for keras-self-attention: filename=keras_self_attention-0.51.0-py3-none-any.whl size=18912 sha256=10e030199ccc5cf09ed539cf36b75a1b6c9c8293deae6ffbfc4f24ca98ad5b65\n",
      "  Stored in directory: /root/.cache/pip/wheels/95/b1/a8/5ee00cc137940b2f6fa198212e8f45d813d0e0d9c3a04035a3\n",
      "  Building wheel for langdetect (setup.py) ... \u001b[?25l\u001b[?25hdone\n",
      "  Created wheel for langdetect: filename=langdetect-1.0.9-py3-none-any.whl size=993242 sha256=89130dc4601ab93861c5de38a8ba1ffb561fdf15f95dbbceb159577a03610ff4\n",
      "  Stored in directory: /root/.cache/pip/wheels/c5/96/8a/f90c59ed25d75e50a8c10a1b1c2d4c402e4dacfa87f3aff36a\n",
      "  Building wheel for sacremoses (setup.py) ... \u001b[?25l\u001b[?25hdone\n",
      "  Created wheel for sacremoses: filename=sacremoses-0.0.53-py3-none-any.whl size=895260 sha256=bfc644559baea4d88139a448f2b680c9a304dffe3c8ab0f3efd26b8afb1947a4\n",
      "  Stored in directory: /root/.cache/pip/wheels/87/39/dd/a83eeef36d0bf98e7a4d1933a4ad2d660295a40613079bafc9\n",
      "Successfully built ktrain keras-bert keras-transformer keras-embed-sim keras-layer-normalization keras-multi-head keras-pos-embd keras-position-wise-feed-forward keras-self-attention langdetect sacremoses\n",
      "Installing collected packages: keras-self-attention, pyyaml, keras-position-wise-feed-forward, keras-pos-embd, keras-multi-head, keras-layer-normalization, keras-embed-sim, tokenizers, sacremoses, keras-transformer, huggingface-hub, whoosh, transformers, syntok, sentencepiece, scikit-learn, langdetect, keras-bert, cchardet, ktrain\n",
      "  Attempting uninstall: pyyaml\n",
      "    Found existing installation: PyYAML 3.13\n",
      "    Uninstalling PyYAML-3.13:\n",
      "      Successfully uninstalled PyYAML-3.13\n",
      "  Attempting uninstall: scikit-learn\n",
      "    Found existing installation: scikit-learn 1.0.2\n",
      "    Uninstalling scikit-learn-1.0.2:\n",
      "      Successfully uninstalled scikit-learn-1.0.2\n",
      "\u001b[31mERROR: pip's dependency resolver does not currently take into account all the packages that are installed. This behaviour is the source of the following dependency conflicts.\n",
      "yellowbrick 1.4 requires scikit-learn>=1.0.0, but you have scikit-learn 0.24.2 which is incompatible.\u001b[0m\n",
      "Successfully installed cchardet-2.1.7 huggingface-hub-0.7.0 keras-bert-0.89.0 keras-embed-sim-0.10.0 keras-layer-normalization-0.16.0 keras-multi-head-0.29.0 keras-pos-embd-0.13.0 keras-position-wise-feed-forward-0.8.0 keras-self-attention-0.51.0 keras-transformer-0.40.0 ktrain-0.31.2 langdetect-1.0.9 pyyaml-6.0 sacremoses-0.0.53 scikit-learn-0.24.2 sentencepiece-0.1.96 syntok-1.3.3 tokenizers-0.10.3 transformers-4.10.3 whoosh-2.7.4\n"
     ]
    }
   ],
   "source": [
    "# !pip install ktrain"
   ]
  },
  {
   "cell_type": "code",
   "execution_count": 2,
   "metadata": {
    "colab": {
     "base_uri": "https://localhost:8080/"
    },
    "executionInfo": {
     "elapsed": 4972,
     "status": "ok",
     "timestamp": 1653797564641,
     "user": {
      "displayName": "Vritti Gandhi",
      "userId": "01901719497825676340"
     },
     "user_tz": 300
    },
    "id": "RdZ6WbbWA36g",
    "outputId": "a8944260-be1b-4f3d-c0ea-da1e2e644421"
   },
   "outputs": [
    {
     "name": "stdout",
     "output_type": "stream",
     "text": [
      "Looking in indexes: https://pypi.org/simple, https://us-python.pkg.dev/colab-wheels/public/simple/\n",
      "Requirement already satisfied: joblib in /usr/local/lib/python3.7/dist-packages (1.1.0)\n"
     ]
    }
   ],
   "source": [
    "# !pip install joblib"
   ]
  },
  {
   "cell_type": "code",
   "execution_count": 1,
   "metadata": {
    "executionInfo": {
     "elapsed": 8372,
     "status": "ok",
     "timestamp": 1653797573007,
     "user": {
      "displayName": "Vritti Gandhi",
      "userId": "01901719497825676340"
     },
     "user_tz": 300
    },
    "id": "GpZoPqnfA92O"
   },
   "outputs": [],
   "source": [
    "import os\n",
    "import numpy as np\n",
    "import pandas as pd\n",
    "import tensorflow as tf\n",
    "import re\n",
    "import string\n",
    "import ktrain\n",
    "from joblib import dump, load"
   ]
  },
  {
   "cell_type": "code",
   "execution_count": 2,
   "metadata": {
    "executionInfo": {
     "elapsed": 16,
     "status": "ok",
     "timestamp": 1653797573008,
     "user": {
      "displayName": "Vritti Gandhi",
      "userId": "01901719497825676340"
     },
     "user_tz": 300
    },
    "id": "G-ab5EkKA-Yw"
   },
   "outputs": [],
   "source": [
    "pd.set_option('display.max_colwidth', 500)"
   ]
  },
  {
   "cell_type": "code",
   "execution_count": 3,
   "metadata": {
    "colab": {
     "base_uri": "https://localhost:8080/"
    },
    "executionInfo": {
     "elapsed": 5,
     "status": "ok",
     "timestamp": 1653797573164,
     "user": {
      "displayName": "Vritti Gandhi",
      "userId": "01901719497825676340"
     },
     "user_tz": 300
    },
    "id": "TIl7UyPFBCjO",
    "outputId": "70c3b39f-371e-405b-dcf4-f92cd2454d8c"
   },
   "outputs": [
    {
     "data": {
      "text/plain": [
       "[PhysicalDevice(name='/physical_device:CPU:0', device_type='CPU'),\n",
       " PhysicalDevice(name='/physical_device:GPU:0', device_type='GPU')]"
      ]
     },
     "execution_count": 3,
     "metadata": {},
     "output_type": "execute_result"
    }
   ],
   "source": [
    "tf.config.list_physical_devices()"
   ]
  },
  {
   "cell_type": "code",
   "execution_count": 4,
   "metadata": {
    "executionInfo": {
     "elapsed": 13861,
     "status": "ok",
     "timestamp": 1653800130302,
     "user": {
      "displayName": "Vritti Gandhi",
      "userId": "01901719497825676340"
     },
     "user_tz": 300
    },
    "id": "G43DL0kpKkr3"
   },
   "outputs": [
    {
     "data": {
      "text/html": [
       "<div>\n",
       "<style scoped>\n",
       "    .dataframe tbody tr th:only-of-type {\n",
       "        vertical-align: middle;\n",
       "    }\n",
       "\n",
       "    .dataframe tbody tr th {\n",
       "        vertical-align: top;\n",
       "    }\n",
       "\n",
       "    .dataframe thead th {\n",
       "        text-align: right;\n",
       "    }\n",
       "</style>\n",
       "<table border=\"1\" class=\"dataframe\">\n",
       "  <thead>\n",
       "    <tr style=\"text-align: right;\">\n",
       "      <th></th>\n",
       "      <th>Unnamed: 0</th>\n",
       "      <th>Unnamed: 0.1</th>\n",
       "      <th>date</th>\n",
       "      <th>clean_text</th>\n",
       "      <th>clean_title</th>\n",
       "      <th>positive</th>\n",
       "      <th>negative</th>\n",
       "    </tr>\n",
       "  </thead>\n",
       "  <tbody>\n",
       "    <tr>\n",
       "      <th>0</th>\n",
       "      <td>0</td>\n",
       "      <td>0</td>\n",
       "      <td>2022-01-06</td>\n",
       "      <td>chicago  ap   chicago school leaders canceled classes thursday   second consecutive day  failing  reach agreement   teachers union  covid   safety protocols   nation third largest school district  the chicago teachers union sought  revert  remote instruction   latest surge  infections    sides hammer   deal  but chicago public schools leaders  said remote learning  work  schools  safely remain open  protocols  place  the move  cancel classes  activities thursday affects roughly     students ...</td>\n",
       "      <td>no deal   school  chicago cancels classes   2nd day</td>\n",
       "      <td>0.295749</td>\n",
       "      <td>0.957052</td>\n",
       "    </tr>\n",
       "    <tr>\n",
       "      <th>1</th>\n",
       "      <td>1</td>\n",
       "      <td>1</td>\n",
       "      <td>2022-01-06</td>\n",
       "      <td>chicago pd    lies season   episode   promo  voight employs  new informant  help solve  tricky drug trafficking case  atwater     struggles  reconcile  personal  professional life  reaches  decision   jesseleesoffer  marinasqu  trspiridakos  nbcchicagopd</td>\n",
       "      <td>watch chicago p d  preview wednesday</td>\n",
       "      <td>0.002615</td>\n",
       "      <td>0.986636</td>\n",
       "    </tr>\n",
       "    <tr>\n",
       "      <th>2</th>\n",
       "      <td>2</td>\n",
       "      <td>2</td>\n",
       "      <td>2022-01-06</td>\n",
       "      <td>wise  foolish  the chicago tribune article titled  chicago public schools cancels classes  thursday  deadlock  union continues  trump  biden press secretary  comment  impasse  reported trumps solution  follows educate  children  person  give every dollar spent  education directly   students    get    failing government schools  trump said   statement  the purpose  this post is  relate  ancient wisdom proverb  trump solution  king solomon go   presence   foolish man   thou perceivest     lips...</td>\n",
       "      <td>trump solution  chicago public schools  king solomon blog</td>\n",
       "      <td>0.040025</td>\n",
       "      <td>0.966754</td>\n",
       "    </tr>\n",
       "    <tr>\n",
       "      <th>3</th>\n",
       "      <td>3</td>\n",
       "      <td>3</td>\n",
       "      <td>2022-01-06</td>\n",
       "      <td>the neighbors near mashawn plummer portage park firehouse knew    often sat outside   friendly presence   station  he showed  early   shifts  ready    job   thrilled    friends  family recalled  chicago firefighter emt mashawn plummer  engine     chicago fire department  hundreds  chicago firefighters joined family  friends  thursday  lay plummer  rest   died  december battling  apartment fire   northwest side  they remembered plummer       gentle giant  followed  dream  becoming  chicago fi...</td>\n",
       "      <td>family  friends  colleagues gathering today  south side church  attend funeral services  chicago firefighter mashawn plummer</td>\n",
       "      <td>0.892183</td>\n",
       "      <td>0.033660</td>\n",
       "    </tr>\n",
       "    <tr>\n",
       "      <th>4</th>\n",
       "      <td>4</td>\n",
       "      <td>4</td>\n",
       "      <td>2022-01-06</td>\n",
       "      <td>mashawn plummer died final month  preventing  fireplace  town northwest aspect  additionally killed  civilian  a visitation  held  plummer wednesday night time  a remaining visitation  probably  held        home  hope church    e  114th st  related   chicago firefighter amongst   critically injured  belmont central residence fireplace    killed following  ultimate visitation  funeral companies  start         probably  adopted   procession  oak woods cemetery  67th road  the   yea...</td>\n",
       "      <td>chicago firefighter funeral  pals  household say goodbye  mashawn plummer</td>\n",
       "      <td>0.915046</td>\n",
       "      <td>0.068743</td>\n",
       "    </tr>\n",
       "  </tbody>\n",
       "</table>\n",
       "</div>"
      ],
      "text/plain": [
       "   Unnamed: 0  Unnamed: 0.1        date  \\\n",
       "0           0             0  2022-01-06   \n",
       "1           1             1  2022-01-06   \n",
       "2           2             2  2022-01-06   \n",
       "3           3             3  2022-01-06   \n",
       "4           4             4  2022-01-06   \n",
       "\n",
       "                                                                                                                                                                                                                                                                                                                                                                                                                                                                                                            clean_text  \\\n",
       "0  chicago  ap   chicago school leaders canceled classes thursday   second consecutive day  failing  reach agreement   teachers union  covid   safety protocols   nation third largest school district  the chicago teachers union sought  revert  remote instruction   latest surge  infections    sides hammer   deal  but chicago public schools leaders  said remote learning  work  schools  safely remain open  protocols  place  the move  cancel classes  activities thursday affects roughly     students ...   \n",
       "1                                                                                                                                                                                                                                                       chicago pd    lies season   episode   promo  voight employs  new informant  help solve  tricky drug trafficking case  atwater     struggles  reconcile  personal  professional life  reaches  decision   jesseleesoffer  marinasqu  trspiridakos  nbcchicagopd   \n",
       "2  wise  foolish  the chicago tribune article titled  chicago public schools cancels classes  thursday  deadlock  union continues  trump  biden press secretary  comment  impasse  reported trumps solution  follows educate  children  person  give every dollar spent  education directly   students    get    failing government schools  trump said   statement  the purpose  this post is  relate  ancient wisdom proverb  trump solution  king solomon go   presence   foolish man   thou perceivest     lips...   \n",
       "3  the neighbors near mashawn plummer portage park firehouse knew    often sat outside   friendly presence   station  he showed  early   shifts  ready    job   thrilled    friends  family recalled  chicago firefighter emt mashawn plummer  engine     chicago fire department  hundreds  chicago firefighters joined family  friends  thursday  lay plummer  rest   died  december battling  apartment fire   northwest side  they remembered plummer       gentle giant  followed  dream  becoming  chicago fi...   \n",
       "4              mashawn plummer died final month  preventing  fireplace  town northwest aspect  additionally killed  civilian  a visitation  held  plummer wednesday night time  a remaining visitation  probably  held        home  hope church    e  114th st  related   chicago firefighter amongst   critically injured  belmont central residence fireplace    killed following  ultimate visitation  funeral companies  start         probably  adopted   procession  oak woods cemetery  67th road  the   yea...   \n",
       "\n",
       "                                                                                                                    clean_title  \\\n",
       "0                                                                           no deal   school  chicago cancels classes   2nd day   \n",
       "1                                                                                          watch chicago p d  preview wednesday   \n",
       "2                                                                     trump solution  chicago public schools  king solomon blog   \n",
       "3  family  friends  colleagues gathering today  south side church  attend funeral services  chicago firefighter mashawn plummer   \n",
       "4                                                     chicago firefighter funeral  pals  household say goodbye  mashawn plummer   \n",
       "\n",
       "   positive  negative  \n",
       "0  0.295749  0.957052  \n",
       "1  0.002615  0.986636  \n",
       "2  0.040025  0.966754  \n",
       "3  0.892183  0.033660  \n",
       "4  0.915046  0.068743  "
      ]
     },
     "execution_count": 4,
     "metadata": {},
     "output_type": "execute_result"
    }
   ],
   "source": [
    "zero_shot_sentiments = pd.read_csv(\"zero_shot_sentiments.csv\")\n",
    "zero_shot_sentiments.head()"
   ]
  },
  {
   "cell_type": "code",
   "execution_count": 5,
   "metadata": {},
   "outputs": [
    {
     "data": {
      "text/plain": [
       "(165360, 7)"
      ]
     },
     "execution_count": 5,
     "metadata": {},
     "output_type": "execute_result"
    }
   ],
   "source": [
    "zero_shot_sentiments.shape"
   ]
  },
  {
   "cell_type": "code",
   "execution_count": 6,
   "metadata": {},
   "outputs": [],
   "source": [
    "zero_shot_sentiments.drop(columns=[zero_shot_sentiments.columns[0], zero_shot_sentiments.columns[1]], inplace=True)"
   ]
  },
  {
   "cell_type": "code",
   "execution_count": 7,
   "metadata": {
    "colab": {
     "base_uri": "https://localhost:8080/"
    },
    "executionInfo": {
     "elapsed": 18421,
     "status": "ok",
     "timestamp": 1653803148349,
     "user": {
      "displayName": "Vritti Gandhi",
      "userId": "01901719497825676340"
     },
     "user_tz": 300
    },
    "id": "0InH3IJNWPIN",
    "outputId": "69d6d485-6eb8-4611-a488-45e26b220e4e"
   },
   "outputs": [
    {
     "data": {
      "text/html": [
       "<div>\n",
       "<style scoped>\n",
       "    .dataframe tbody tr th:only-of-type {\n",
       "        vertical-align: middle;\n",
       "    }\n",
       "\n",
       "    .dataframe tbody tr th {\n",
       "        vertical-align: top;\n",
       "    }\n",
       "\n",
       "    .dataframe thead th {\n",
       "        text-align: right;\n",
       "    }\n",
       "</style>\n",
       "<table border=\"1\" class=\"dataframe\">\n",
       "  <thead>\n",
       "    <tr style=\"text-align: right;\">\n",
       "      <th></th>\n",
       "      <th>date</th>\n",
       "      <th>clean_text</th>\n",
       "      <th>clean_title</th>\n",
       "      <th>positive</th>\n",
       "      <th>negative</th>\n",
       "    </tr>\n",
       "  </thead>\n",
       "  <tbody>\n",
       "    <tr>\n",
       "      <th>0</th>\n",
       "      <td>2022-01-06</td>\n",
       "      <td>chicago  ap   chicago school leaders canceled classes thursday   second consecutive day  failing  reach agreement   teachers union  covid   safety protocols   nation third largest school district  the chicago teachers union sought  revert  remote instruction   latest surge  infections    sides hammer   deal  but chicago public schools leaders  said remote learning  work  schools  safely remain open  protocols  place  the move  cancel classes  activities thursday affects roughly     students ...</td>\n",
       "      <td>no deal   school  chicago cancels classes   2nd day</td>\n",
       "      <td>0.295749</td>\n",
       "      <td>0.957052</td>\n",
       "    </tr>\n",
       "    <tr>\n",
       "      <th>1</th>\n",
       "      <td>2022-01-06</td>\n",
       "      <td>chicago pd    lies season   episode   promo  voight employs  new informant  help solve  tricky drug trafficking case  atwater     struggles  reconcile  personal  professional life  reaches  decision   jesseleesoffer  marinasqu  trspiridakos  nbcchicagopd</td>\n",
       "      <td>watch chicago p d  preview wednesday</td>\n",
       "      <td>0.002615</td>\n",
       "      <td>0.986636</td>\n",
       "    </tr>\n",
       "    <tr>\n",
       "      <th>2</th>\n",
       "      <td>2022-01-06</td>\n",
       "      <td>wise  foolish  the chicago tribune article titled  chicago public schools cancels classes  thursday  deadlock  union continues  trump  biden press secretary  comment  impasse  reported trumps solution  follows educate  children  person  give every dollar spent  education directly   students    get    failing government schools  trump said   statement  the purpose  this post is  relate  ancient wisdom proverb  trump solution  king solomon go   presence   foolish man   thou perceivest     lips...</td>\n",
       "      <td>trump solution  chicago public schools  king solomon blog</td>\n",
       "      <td>0.040025</td>\n",
       "      <td>0.966754</td>\n",
       "    </tr>\n",
       "    <tr>\n",
       "      <th>3</th>\n",
       "      <td>2022-01-06</td>\n",
       "      <td>the neighbors near mashawn plummer portage park firehouse knew    often sat outside   friendly presence   station  he showed  early   shifts  ready    job   thrilled    friends  family recalled  chicago firefighter emt mashawn plummer  engine     chicago fire department  hundreds  chicago firefighters joined family  friends  thursday  lay plummer  rest   died  december battling  apartment fire   northwest side  they remembered plummer       gentle giant  followed  dream  becoming  chicago fi...</td>\n",
       "      <td>family  friends  colleagues gathering today  south side church  attend funeral services  chicago firefighter mashawn plummer</td>\n",
       "      <td>0.892183</td>\n",
       "      <td>0.033660</td>\n",
       "    </tr>\n",
       "    <tr>\n",
       "      <th>4</th>\n",
       "      <td>2022-01-06</td>\n",
       "      <td>mashawn plummer died final month  preventing  fireplace  town northwest aspect  additionally killed  civilian  a visitation  held  plummer wednesday night time  a remaining visitation  probably  held        home  hope church    e  114th st  related   chicago firefighter amongst   critically injured  belmont central residence fireplace    killed following  ultimate visitation  funeral companies  start         probably  adopted   procession  oak woods cemetery  67th road  the   yea...</td>\n",
       "      <td>chicago firefighter funeral  pals  household say goodbye  mashawn plummer</td>\n",
       "      <td>0.915046</td>\n",
       "      <td>0.068743</td>\n",
       "    </tr>\n",
       "  </tbody>\n",
       "</table>\n",
       "</div>"
      ],
      "text/plain": [
       "         date  \\\n",
       "0  2022-01-06   \n",
       "1  2022-01-06   \n",
       "2  2022-01-06   \n",
       "3  2022-01-06   \n",
       "4  2022-01-06   \n",
       "\n",
       "                                                                                                                                                                                                                                                                                                                                                                                                                                                                                                            clean_text  \\\n",
       "0  chicago  ap   chicago school leaders canceled classes thursday   second consecutive day  failing  reach agreement   teachers union  covid   safety protocols   nation third largest school district  the chicago teachers union sought  revert  remote instruction   latest surge  infections    sides hammer   deal  but chicago public schools leaders  said remote learning  work  schools  safely remain open  protocols  place  the move  cancel classes  activities thursday affects roughly     students ...   \n",
       "1                                                                                                                                                                                                                                                       chicago pd    lies season   episode   promo  voight employs  new informant  help solve  tricky drug trafficking case  atwater     struggles  reconcile  personal  professional life  reaches  decision   jesseleesoffer  marinasqu  trspiridakos  nbcchicagopd   \n",
       "2  wise  foolish  the chicago tribune article titled  chicago public schools cancels classes  thursday  deadlock  union continues  trump  biden press secretary  comment  impasse  reported trumps solution  follows educate  children  person  give every dollar spent  education directly   students    get    failing government schools  trump said   statement  the purpose  this post is  relate  ancient wisdom proverb  trump solution  king solomon go   presence   foolish man   thou perceivest     lips...   \n",
       "3  the neighbors near mashawn plummer portage park firehouse knew    often sat outside   friendly presence   station  he showed  early   shifts  ready    job   thrilled    friends  family recalled  chicago firefighter emt mashawn plummer  engine     chicago fire department  hundreds  chicago firefighters joined family  friends  thursday  lay plummer  rest   died  december battling  apartment fire   northwest side  they remembered plummer       gentle giant  followed  dream  becoming  chicago fi...   \n",
       "4              mashawn plummer died final month  preventing  fireplace  town northwest aspect  additionally killed  civilian  a visitation  held  plummer wednesday night time  a remaining visitation  probably  held        home  hope church    e  114th st  related   chicago firefighter amongst   critically injured  belmont central residence fireplace    killed following  ultimate visitation  funeral companies  start         probably  adopted   procession  oak woods cemetery  67th road  the   yea...   \n",
       "\n",
       "                                                                                                                    clean_title  \\\n",
       "0                                                                           no deal   school  chicago cancels classes   2nd day   \n",
       "1                                                                                          watch chicago p d  preview wednesday   \n",
       "2                                                                     trump solution  chicago public schools  king solomon blog   \n",
       "3  family  friends  colleagues gathering today  south side church  attend funeral services  chicago firefighter mashawn plummer   \n",
       "4                                                     chicago firefighter funeral  pals  household say goodbye  mashawn plummer   \n",
       "\n",
       "   positive  negative  \n",
       "0  0.295749  0.957052  \n",
       "1  0.002615  0.986636  \n",
       "2  0.040025  0.966754  \n",
       "3  0.892183  0.033660  \n",
       "4  0.915046  0.068743  "
      ]
     },
     "execution_count": 7,
     "metadata": {},
     "output_type": "execute_result"
    }
   ],
   "source": [
    "# !pip install pyLDAvis\n",
    "zero_shot_sentiments.head()"
   ]
  },
  {
   "cell_type": "code",
   "execution_count": 8,
   "metadata": {},
   "outputs": [],
   "source": [
    "# Normalizing the relevance scores such that positive plus negative sum upto 1\n",
    "\n",
    "zero_shot_sentiments['positive_new'] = zero_shot_sentiments['positive']/(zero_shot_sentiments['positive'] + zero_shot_sentiments['negative'])\n",
    "zero_shot_sentiments['negative_new'] = zero_shot_sentiments['negative']/(zero_shot_sentiments['positive'] + zero_shot_sentiments['negative'])"
   ]
  },
  {
   "cell_type": "code",
   "execution_count": 9,
   "metadata": {},
   "outputs": [
    {
     "data": {
      "text/html": [
       "<div>\n",
       "<style scoped>\n",
       "    .dataframe tbody tr th:only-of-type {\n",
       "        vertical-align: middle;\n",
       "    }\n",
       "\n",
       "    .dataframe tbody tr th {\n",
       "        vertical-align: top;\n",
       "    }\n",
       "\n",
       "    .dataframe thead th {\n",
       "        text-align: right;\n",
       "    }\n",
       "</style>\n",
       "<table border=\"1\" class=\"dataframe\">\n",
       "  <thead>\n",
       "    <tr style=\"text-align: right;\">\n",
       "      <th></th>\n",
       "      <th>date</th>\n",
       "      <th>clean_text</th>\n",
       "      <th>clean_title</th>\n",
       "      <th>positive</th>\n",
       "      <th>negative</th>\n",
       "      <th>positive_new</th>\n",
       "      <th>negative_new</th>\n",
       "    </tr>\n",
       "  </thead>\n",
       "  <tbody>\n",
       "    <tr>\n",
       "      <th>0</th>\n",
       "      <td>2022-01-06</td>\n",
       "      <td>chicago  ap   chicago school leaders canceled classes thursday   second consecutive day  failing  reach agreement   teachers union  covid   safety protocols   nation third largest school district  the chicago teachers union sought  revert  remote instruction   latest surge  infections    sides hammer   deal  but chicago public schools leaders  said remote learning  work  schools  safely remain open  protocols  place  the move  cancel classes  activities thursday affects roughly     students ...</td>\n",
       "      <td>no deal   school  chicago cancels classes   2nd day</td>\n",
       "      <td>0.295749</td>\n",
       "      <td>0.957052</td>\n",
       "      <td>0.236070</td>\n",
       "      <td>0.763930</td>\n",
       "    </tr>\n",
       "    <tr>\n",
       "      <th>1</th>\n",
       "      <td>2022-01-06</td>\n",
       "      <td>chicago pd    lies season   episode   promo  voight employs  new informant  help solve  tricky drug trafficking case  atwater     struggles  reconcile  personal  professional life  reaches  decision   jesseleesoffer  marinasqu  trspiridakos  nbcchicagopd</td>\n",
       "      <td>watch chicago p d  preview wednesday</td>\n",
       "      <td>0.002615</td>\n",
       "      <td>0.986636</td>\n",
       "      <td>0.002644</td>\n",
       "      <td>0.997356</td>\n",
       "    </tr>\n",
       "    <tr>\n",
       "      <th>2</th>\n",
       "      <td>2022-01-06</td>\n",
       "      <td>wise  foolish  the chicago tribune article titled  chicago public schools cancels classes  thursday  deadlock  union continues  trump  biden press secretary  comment  impasse  reported trumps solution  follows educate  children  person  give every dollar spent  education directly   students    get    failing government schools  trump said   statement  the purpose  this post is  relate  ancient wisdom proverb  trump solution  king solomon go   presence   foolish man   thou perceivest     lips...</td>\n",
       "      <td>trump solution  chicago public schools  king solomon blog</td>\n",
       "      <td>0.040025</td>\n",
       "      <td>0.966754</td>\n",
       "      <td>0.039755</td>\n",
       "      <td>0.960245</td>\n",
       "    </tr>\n",
       "    <tr>\n",
       "      <th>3</th>\n",
       "      <td>2022-01-06</td>\n",
       "      <td>the neighbors near mashawn plummer portage park firehouse knew    often sat outside   friendly presence   station  he showed  early   shifts  ready    job   thrilled    friends  family recalled  chicago firefighter emt mashawn plummer  engine     chicago fire department  hundreds  chicago firefighters joined family  friends  thursday  lay plummer  rest   died  december battling  apartment fire   northwest side  they remembered plummer       gentle giant  followed  dream  becoming  chicago fi...</td>\n",
       "      <td>family  friends  colleagues gathering today  south side church  attend funeral services  chicago firefighter mashawn plummer</td>\n",
       "      <td>0.892183</td>\n",
       "      <td>0.033660</td>\n",
       "      <td>0.963644</td>\n",
       "      <td>0.036356</td>\n",
       "    </tr>\n",
       "    <tr>\n",
       "      <th>4</th>\n",
       "      <td>2022-01-06</td>\n",
       "      <td>mashawn plummer died final month  preventing  fireplace  town northwest aspect  additionally killed  civilian  a visitation  held  plummer wednesday night time  a remaining visitation  probably  held        home  hope church    e  114th st  related   chicago firefighter amongst   critically injured  belmont central residence fireplace    killed following  ultimate visitation  funeral companies  start         probably  adopted   procession  oak woods cemetery  67th road  the   yea...</td>\n",
       "      <td>chicago firefighter funeral  pals  household say goodbye  mashawn plummer</td>\n",
       "      <td>0.915046</td>\n",
       "      <td>0.068743</td>\n",
       "      <td>0.930124</td>\n",
       "      <td>0.069876</td>\n",
       "    </tr>\n",
       "  </tbody>\n",
       "</table>\n",
       "</div>"
      ],
      "text/plain": [
       "         date  \\\n",
       "0  2022-01-06   \n",
       "1  2022-01-06   \n",
       "2  2022-01-06   \n",
       "3  2022-01-06   \n",
       "4  2022-01-06   \n",
       "\n",
       "                                                                                                                                                                                                                                                                                                                                                                                                                                                                                                            clean_text  \\\n",
       "0  chicago  ap   chicago school leaders canceled classes thursday   second consecutive day  failing  reach agreement   teachers union  covid   safety protocols   nation third largest school district  the chicago teachers union sought  revert  remote instruction   latest surge  infections    sides hammer   deal  but chicago public schools leaders  said remote learning  work  schools  safely remain open  protocols  place  the move  cancel classes  activities thursday affects roughly     students ...   \n",
       "1                                                                                                                                                                                                                                                       chicago pd    lies season   episode   promo  voight employs  new informant  help solve  tricky drug trafficking case  atwater     struggles  reconcile  personal  professional life  reaches  decision   jesseleesoffer  marinasqu  trspiridakos  nbcchicagopd   \n",
       "2  wise  foolish  the chicago tribune article titled  chicago public schools cancels classes  thursday  deadlock  union continues  trump  biden press secretary  comment  impasse  reported trumps solution  follows educate  children  person  give every dollar spent  education directly   students    get    failing government schools  trump said   statement  the purpose  this post is  relate  ancient wisdom proverb  trump solution  king solomon go   presence   foolish man   thou perceivest     lips...   \n",
       "3  the neighbors near mashawn plummer portage park firehouse knew    often sat outside   friendly presence   station  he showed  early   shifts  ready    job   thrilled    friends  family recalled  chicago firefighter emt mashawn plummer  engine     chicago fire department  hundreds  chicago firefighters joined family  friends  thursday  lay plummer  rest   died  december battling  apartment fire   northwest side  they remembered plummer       gentle giant  followed  dream  becoming  chicago fi...   \n",
       "4              mashawn plummer died final month  preventing  fireplace  town northwest aspect  additionally killed  civilian  a visitation  held  plummer wednesday night time  a remaining visitation  probably  held        home  hope church    e  114th st  related   chicago firefighter amongst   critically injured  belmont central residence fireplace    killed following  ultimate visitation  funeral companies  start         probably  adopted   procession  oak woods cemetery  67th road  the   yea...   \n",
       "\n",
       "                                                                                                                    clean_title  \\\n",
       "0                                                                           no deal   school  chicago cancels classes   2nd day   \n",
       "1                                                                                          watch chicago p d  preview wednesday   \n",
       "2                                                                     trump solution  chicago public schools  king solomon blog   \n",
       "3  family  friends  colleagues gathering today  south side church  attend funeral services  chicago firefighter mashawn plummer   \n",
       "4                                                     chicago firefighter funeral  pals  household say goodbye  mashawn plummer   \n",
       "\n",
       "   positive  negative  positive_new  negative_new  \n",
       "0  0.295749  0.957052      0.236070      0.763930  \n",
       "1  0.002615  0.986636      0.002644      0.997356  \n",
       "2  0.040025  0.966754      0.039755      0.960245  \n",
       "3  0.892183  0.033660      0.963644      0.036356  \n",
       "4  0.915046  0.068743      0.930124      0.069876  "
      ]
     },
     "execution_count": 9,
     "metadata": {},
     "output_type": "execute_result"
    }
   ],
   "source": [
    "zero_shot_sentiments.head()"
   ]
  },
  {
   "cell_type": "code",
   "execution_count": 22,
   "metadata": {},
   "outputs": [
    {
     "data": {
      "text/html": [
       "<div>\n",
       "<style scoped>\n",
       "    .dataframe tbody tr th:only-of-type {\n",
       "        vertical-align: middle;\n",
       "    }\n",
       "\n",
       "    .dataframe tbody tr th {\n",
       "        vertical-align: top;\n",
       "    }\n",
       "\n",
       "    .dataframe thead th {\n",
       "        text-align: right;\n",
       "    }\n",
       "</style>\n",
       "<table border=\"1\" class=\"dataframe\">\n",
       "  <thead>\n",
       "    <tr style=\"text-align: right;\">\n",
       "      <th></th>\n",
       "      <th>date</th>\n",
       "      <th>clean_text</th>\n",
       "      <th>clean_title</th>\n",
       "      <th>positive</th>\n",
       "      <th>negative</th>\n",
       "      <th>positive_new</th>\n",
       "      <th>negative_new</th>\n",
       "      <th>Sentiment</th>\n",
       "      <th>Sentiment_value</th>\n",
       "    </tr>\n",
       "  </thead>\n",
       "  <tbody>\n",
       "    <tr>\n",
       "      <th>0</th>\n",
       "      <td>2022-01-06</td>\n",
       "      <td>chicago  ap   chicago school leaders canceled classes thursday   second consecutive day  failing  reach agreement   teachers union  covid   safety protocols   nation third largest school district  the chicago teachers union sought  revert  remote instruction   latest surge  infections    sides hammer   deal  but chicago public schools leaders  said remote learning  work  schools  safely remain open  protocols  place  the move  cancel classes  activities thursday affects roughly     students ...</td>\n",
       "      <td>no deal   school  chicago cancels classes   2nd day</td>\n",
       "      <td>0.295749</td>\n",
       "      <td>0.957052</td>\n",
       "      <td>0.236070</td>\n",
       "      <td>0.763930</td>\n",
       "      <td>negative_new</td>\n",
       "      <td>0</td>\n",
       "    </tr>\n",
       "    <tr>\n",
       "      <th>1</th>\n",
       "      <td>2022-01-06</td>\n",
       "      <td>chicago pd    lies season   episode   promo  voight employs  new informant  help solve  tricky drug trafficking case  atwater     struggles  reconcile  personal  professional life  reaches  decision   jesseleesoffer  marinasqu  trspiridakos  nbcchicagopd</td>\n",
       "      <td>watch chicago p d  preview wednesday</td>\n",
       "      <td>0.002615</td>\n",
       "      <td>0.986636</td>\n",
       "      <td>0.002644</td>\n",
       "      <td>0.997356</td>\n",
       "      <td>negative_new</td>\n",
       "      <td>0</td>\n",
       "    </tr>\n",
       "    <tr>\n",
       "      <th>2</th>\n",
       "      <td>2022-01-06</td>\n",
       "      <td>wise  foolish  the chicago tribune article titled  chicago public schools cancels classes  thursday  deadlock  union continues  trump  biden press secretary  comment  impasse  reported trumps solution  follows educate  children  person  give every dollar spent  education directly   students    get    failing government schools  trump said   statement  the purpose  this post is  relate  ancient wisdom proverb  trump solution  king solomon go   presence   foolish man   thou perceivest     lips...</td>\n",
       "      <td>trump solution  chicago public schools  king solomon blog</td>\n",
       "      <td>0.040025</td>\n",
       "      <td>0.966754</td>\n",
       "      <td>0.039755</td>\n",
       "      <td>0.960245</td>\n",
       "      <td>negative_new</td>\n",
       "      <td>0</td>\n",
       "    </tr>\n",
       "    <tr>\n",
       "      <th>3</th>\n",
       "      <td>2022-01-06</td>\n",
       "      <td>the neighbors near mashawn plummer portage park firehouse knew    often sat outside   friendly presence   station  he showed  early   shifts  ready    job   thrilled    friends  family recalled  chicago firefighter emt mashawn plummer  engine     chicago fire department  hundreds  chicago firefighters joined family  friends  thursday  lay plummer  rest   died  december battling  apartment fire   northwest side  they remembered plummer       gentle giant  followed  dream  becoming  chicago fi...</td>\n",
       "      <td>family  friends  colleagues gathering today  south side church  attend funeral services  chicago firefighter mashawn plummer</td>\n",
       "      <td>0.892183</td>\n",
       "      <td>0.033660</td>\n",
       "      <td>0.963644</td>\n",
       "      <td>0.036356</td>\n",
       "      <td>positive_new</td>\n",
       "      <td>1</td>\n",
       "    </tr>\n",
       "    <tr>\n",
       "      <th>4</th>\n",
       "      <td>2022-01-06</td>\n",
       "      <td>mashawn plummer died final month  preventing  fireplace  town northwest aspect  additionally killed  civilian  a visitation  held  plummer wednesday night time  a remaining visitation  probably  held        home  hope church    e  114th st  related   chicago firefighter amongst   critically injured  belmont central residence fireplace    killed following  ultimate visitation  funeral companies  start         probably  adopted   procession  oak woods cemetery  67th road  the   yea...</td>\n",
       "      <td>chicago firefighter funeral  pals  household say goodbye  mashawn plummer</td>\n",
       "      <td>0.915046</td>\n",
       "      <td>0.068743</td>\n",
       "      <td>0.930124</td>\n",
       "      <td>0.069876</td>\n",
       "      <td>positive_new</td>\n",
       "      <td>1</td>\n",
       "    </tr>\n",
       "  </tbody>\n",
       "</table>\n",
       "</div>"
      ],
      "text/plain": [
       "         date  \\\n",
       "0  2022-01-06   \n",
       "1  2022-01-06   \n",
       "2  2022-01-06   \n",
       "3  2022-01-06   \n",
       "4  2022-01-06   \n",
       "\n",
       "                                                                                                                                                                                                                                                                                                                                                                                                                                                                                                            clean_text  \\\n",
       "0  chicago  ap   chicago school leaders canceled classes thursday   second consecutive day  failing  reach agreement   teachers union  covid   safety protocols   nation third largest school district  the chicago teachers union sought  revert  remote instruction   latest surge  infections    sides hammer   deal  but chicago public schools leaders  said remote learning  work  schools  safely remain open  protocols  place  the move  cancel classes  activities thursday affects roughly     students ...   \n",
       "1                                                                                                                                                                                                                                                       chicago pd    lies season   episode   promo  voight employs  new informant  help solve  tricky drug trafficking case  atwater     struggles  reconcile  personal  professional life  reaches  decision   jesseleesoffer  marinasqu  trspiridakos  nbcchicagopd   \n",
       "2  wise  foolish  the chicago tribune article titled  chicago public schools cancels classes  thursday  deadlock  union continues  trump  biden press secretary  comment  impasse  reported trumps solution  follows educate  children  person  give every dollar spent  education directly   students    get    failing government schools  trump said   statement  the purpose  this post is  relate  ancient wisdom proverb  trump solution  king solomon go   presence   foolish man   thou perceivest     lips...   \n",
       "3  the neighbors near mashawn plummer portage park firehouse knew    often sat outside   friendly presence   station  he showed  early   shifts  ready    job   thrilled    friends  family recalled  chicago firefighter emt mashawn plummer  engine     chicago fire department  hundreds  chicago firefighters joined family  friends  thursday  lay plummer  rest   died  december battling  apartment fire   northwest side  they remembered plummer       gentle giant  followed  dream  becoming  chicago fi...   \n",
       "4              mashawn plummer died final month  preventing  fireplace  town northwest aspect  additionally killed  civilian  a visitation  held  plummer wednesday night time  a remaining visitation  probably  held        home  hope church    e  114th st  related   chicago firefighter amongst   critically injured  belmont central residence fireplace    killed following  ultimate visitation  funeral companies  start         probably  adopted   procession  oak woods cemetery  67th road  the   yea...   \n",
       "\n",
       "                                                                                                                    clean_title  \\\n",
       "0                                                                           no deal   school  chicago cancels classes   2nd day   \n",
       "1                                                                                          watch chicago p d  preview wednesday   \n",
       "2                                                                     trump solution  chicago public schools  king solomon blog   \n",
       "3  family  friends  colleagues gathering today  south side church  attend funeral services  chicago firefighter mashawn plummer   \n",
       "4                                                     chicago firefighter funeral  pals  household say goodbye  mashawn plummer   \n",
       "\n",
       "   positive  negative  positive_new  negative_new     Sentiment  \\\n",
       "0  0.295749  0.957052      0.236070      0.763930  negative_new   \n",
       "1  0.002615  0.986636      0.002644      0.997356  negative_new   \n",
       "2  0.040025  0.966754      0.039755      0.960245  negative_new   \n",
       "3  0.892183  0.033660      0.963644      0.036356  positive_new   \n",
       "4  0.915046  0.068743      0.930124      0.069876  positive_new   \n",
       "\n",
       "   Sentiment_value  \n",
       "0                0  \n",
       "1                0  \n",
       "2                0  \n",
       "3                1  \n",
       "4                1  "
      ]
     },
     "execution_count": 22,
     "metadata": {},
     "output_type": "execute_result"
    }
   ],
   "source": [
    "# Creating the sentiment column based on the max relevance score\n",
    "\n",
    "zero_shot_sentiments[\"Sentiment\"] = zero_shot_sentiments[['positive_new','negative_new']].idxmax(axis=1)\n",
    "zero_shot_sentiments[\"Sentiment_value\"] = [1 if x == \"positive_new\" else 0 for x in zero_shot_sentiments[\"Sentiment\"]]\n",
    "zero_shot_sentiments.head()"
   ]
  },
  {
   "cell_type": "code",
   "execution_count": 23,
   "metadata": {},
   "outputs": [
    {
     "data": {
      "text/plain": [
       "positive_new    95845\n",
       "negative_new    69515\n",
       "Name: Sentiment, dtype: int64"
      ]
     },
     "execution_count": 23,
     "metadata": {},
     "output_type": "execute_result"
    }
   ],
   "source": [
    "# Distribution of sentiments in our data\n",
    "\n",
    "zero_shot_sentiments.Sentiment.value_counts()"
   ]
  },
  {
   "cell_type": "markdown",
   "metadata": {},
   "source": [
    "### Fine-Tuning sentiments as predicted by ZSL using BERT"
   ]
  },
  {
   "cell_type": "code",
   "execution_count": 24,
   "metadata": {},
   "outputs": [
    {
     "data": {
      "text/plain": [
       "((105830, 9), (26458, 9), (33072, 9))"
      ]
     },
     "execution_count": 24,
     "metadata": {},
     "output_type": "execute_result"
    }
   ],
   "source": [
    "# Train-test split\n",
    "\n",
    "from sklearn.model_selection import train_test_split\n",
    "\n",
    "df_train_full, df_test = train_test_split(zero_shot_sentiments, random_state=42, train_size=0.8)\n",
    "df_train, df_valid = train_test_split(df_train_full, random_state=42, train_size=0.8)\n",
    "df_train.shape, df_valid.shape, df_test.shape"
   ]
  },
  {
   "cell_type": "code",
   "execution_count": 28,
   "metadata": {
    "scrolled": true
   },
   "outputs": [
    {
     "name": "stderr",
     "output_type": "stream",
     "text": [
      "loading configuration file https://huggingface.co/bert-base-uncased/resolve/main/config.json from cache at /home/vritti/.cache/huggingface/transformers/3c61d016573b14f7f008c02c4e51a366c67ab274726fe2910691e2a761acf43e.37395cee442ab11005bcd270f3c34464dc1704b715b5d7d52b1a461abe3b9e4e\n",
      "Model config BertConfig {\n",
      "  \"architectures\": [\n",
      "    \"BertForMaskedLM\"\n",
      "  ],\n",
      "  \"attention_probs_dropout_prob\": 0.1,\n",
      "  \"classifier_dropout\": null,\n",
      "  \"gradient_checkpointing\": false,\n",
      "  \"hidden_act\": \"gelu\",\n",
      "  \"hidden_dropout_prob\": 0.1,\n",
      "  \"hidden_size\": 768,\n",
      "  \"initializer_range\": 0.02,\n",
      "  \"intermediate_size\": 3072,\n",
      "  \"layer_norm_eps\": 1e-12,\n",
      "  \"max_position_embeddings\": 512,\n",
      "  \"model_type\": \"bert\",\n",
      "  \"num_attention_heads\": 12,\n",
      "  \"num_hidden_layers\": 12,\n",
      "  \"pad_token_id\": 0,\n",
      "  \"position_embedding_type\": \"absolute\",\n",
      "  \"transformers_version\": \"4.10.3\",\n",
      "  \"type_vocab_size\": 2,\n",
      "  \"use_cache\": true,\n",
      "  \"vocab_size\": 30522\n",
      "}\n",
      "\n",
      "loading file https://huggingface.co/bert-base-uncased/resolve/main/vocab.txt from cache at /home/vritti/.cache/huggingface/transformers/45c3f7a79a80e1cf0a489e5c62b43f173c15db47864303a55d623bb3c96f72a5.d789d64ebfe299b0e416afc4a169632f903f693095b4629a7ea271d5a0cf2c99\n",
      "loading file https://huggingface.co/bert-base-uncased/resolve/main/tokenizer.json from cache at /home/vritti/.cache/huggingface/transformers/534479488c54aeaf9c3406f647aa2ec13648c06771ffe269edabebd4c412da1d.7f2721073f19841be16f41b0a70b600ca6b880c8f3df6f3535cbc704371bdfa4\n",
      "loading file https://huggingface.co/bert-base-uncased/resolve/main/added_tokens.json from cache at None\n",
      "loading file https://huggingface.co/bert-base-uncased/resolve/main/special_tokens_map.json from cache at None\n",
      "loading file https://huggingface.co/bert-base-uncased/resolve/main/tokenizer_config.json from cache at /home/vritti/.cache/huggingface/transformers/c1d7f0a763fb63861cc08553866f1fc3e5a6f4f07621be277452d26d71303b7e.20430bd8e10ef77a7d2977accefe796051e01bc2fc4aa146bc862997a1a15e79\n",
      "loading configuration file https://huggingface.co/bert-base-uncased/resolve/main/config.json from cache at /home/vritti/.cache/huggingface/transformers/3c61d016573b14f7f008c02c4e51a366c67ab274726fe2910691e2a761acf43e.37395cee442ab11005bcd270f3c34464dc1704b715b5d7d52b1a461abe3b9e4e\n",
      "Model config BertConfig {\n",
      "  \"architectures\": [\n",
      "    \"BertForMaskedLM\"\n",
      "  ],\n",
      "  \"attention_probs_dropout_prob\": 0.1,\n",
      "  \"classifier_dropout\": null,\n",
      "  \"gradient_checkpointing\": false,\n",
      "  \"hidden_act\": \"gelu\",\n",
      "  \"hidden_dropout_prob\": 0.1,\n",
      "  \"hidden_size\": 768,\n",
      "  \"initializer_range\": 0.02,\n",
      "  \"intermediate_size\": 3072,\n",
      "  \"layer_norm_eps\": 1e-12,\n",
      "  \"max_position_embeddings\": 512,\n",
      "  \"model_type\": \"bert\",\n",
      "  \"num_attention_heads\": 12,\n",
      "  \"num_hidden_layers\": 12,\n",
      "  \"pad_token_id\": 0,\n",
      "  \"position_embedding_type\": \"absolute\",\n",
      "  \"transformers_version\": \"4.10.3\",\n",
      "  \"type_vocab_size\": 2,\n",
      "  \"use_cache\": true,\n",
      "  \"vocab_size\": 30522\n",
      "}\n",
      "\n",
      "loading configuration file https://huggingface.co/distilbert-base-uncased/resolve/main/config.json from cache at /home/vritti/.cache/huggingface/transformers/23454919702d26495337f3da04d1655c7ee010d5ec9d77bdb9e399e00302c0a1.91b885ab15d631bf9cee9dc9d25ece0afd932f2f5130eba28f2055b2220c0333\n",
      "You are using a model of type distilbert to instantiate a model of type bert. This is not supported for all configurations of models and can yield errors.\n",
      "Model config BertConfig {\n",
      "  \"activation\": \"gelu\",\n",
      "  \"architectures\": [\n",
      "    \"DistilBertForMaskedLM\"\n",
      "  ],\n",
      "  \"attention_dropout\": 0.1,\n",
      "  \"attention_probs_dropout_prob\": 0.1,\n",
      "  \"classifier_dropout\": null,\n",
      "  \"dim\": 768,\n",
      "  \"dropout\": 0.1,\n",
      "  \"gradient_checkpointing\": false,\n",
      "  \"hidden_act\": \"gelu\",\n",
      "  \"hidden_dim\": 3072,\n",
      "  \"hidden_dropout_prob\": 0.1,\n",
      "  \"hidden_size\": 768,\n",
      "  \"initializer_range\": 0.02,\n",
      "  \"intermediate_size\": 3072,\n",
      "  \"layer_norm_eps\": 1e-12,\n",
      "  \"max_position_embeddings\": 512,\n",
      "  \"model_type\": \"bert\",\n",
      "  \"n_heads\": 12,\n",
      "  \"n_layers\": 6,\n",
      "  \"num_attention_heads\": 12,\n",
      "  \"num_hidden_layers\": 12,\n",
      "  \"pad_token_id\": 0,\n",
      "  \"position_embedding_type\": \"absolute\",\n",
      "  \"qa_dropout\": 0.1,\n",
      "  \"seq_classif_dropout\": 0.2,\n",
      "  \"sinusoidal_pos_embds\": false,\n",
      "  \"tie_weights_\": true,\n",
      "  \"transformers_version\": \"4.10.3\",\n",
      "  \"type_vocab_size\": 2,\n",
      "  \"use_cache\": true,\n",
      "  \"vocab_size\": 30522\n",
      "}\n",
      "\n",
      "loading weights file https://huggingface.co/distilbert-base-uncased/resolve/main/pytorch_model.bin from cache at /home/vritti/.cache/huggingface/transformers/9c169103d7e5a73936dd2b627e42851bec0831212b677c637033ee4bce9ab5ee.126183e36667471617ae2f0835fab707baa54b731f991507ebbb55ea85adb12a\n",
      "Some weights of the model checkpoint at distilbert-base-uncased were not used when initializing BertForSequenceClassification: ['distilbert.transformer.layer.3.attention.v_lin.bias', 'distilbert.transformer.layer.1.ffn.lin2.bias', 'distilbert.transformer.layer.3.ffn.lin1.weight', 'distilbert.transformer.layer.1.ffn.lin1.weight', 'distilbert.embeddings.word_embeddings.weight', 'distilbert.transformer.layer.2.attention.k_lin.weight', 'distilbert.transformer.layer.4.attention.v_lin.weight', 'distilbert.transformer.layer.4.attention.out_lin.weight', 'distilbert.transformer.layer.5.attention.v_lin.weight', 'distilbert.transformer.layer.2.output_layer_norm.bias', 'distilbert.transformer.layer.4.attention.q_lin.bias', 'distilbert.transformer.layer.1.attention.v_lin.weight', 'distilbert.transformer.layer.4.ffn.lin1.bias', 'distilbert.transformer.layer.3.ffn.lin2.weight', 'distilbert.transformer.layer.3.ffn.lin2.bias', 'distilbert.transformer.layer.5.attention.k_lin.weight', 'distilbert.embeddings.position_embeddings.weight', 'distilbert.transformer.layer.4.output_layer_norm.weight', 'vocab_transform.weight', 'vocab_projector.weight', 'distilbert.transformer.layer.0.attention.out_lin.bias', 'distilbert.transformer.layer.3.attention.out_lin.bias', 'distilbert.transformer.layer.0.attention.q_lin.bias', 'distilbert.embeddings.LayerNorm.weight', 'distilbert.transformer.layer.4.output_layer_norm.bias', 'distilbert.transformer.layer.0.output_layer_norm.weight', 'distilbert.transformer.layer.1.attention.q_lin.bias', 'distilbert.transformer.layer.1.ffn.lin2.weight', 'distilbert.transformer.layer.3.sa_layer_norm.weight', 'distilbert.transformer.layer.4.attention.q_lin.weight', 'distilbert.transformer.layer.2.attention.q_lin.bias', 'vocab_layer_norm.weight', 'distilbert.transformer.layer.0.ffn.lin2.bias', 'distilbert.transformer.layer.0.attention.out_lin.weight', 'distilbert.transformer.layer.2.ffn.lin2.bias', 'distilbert.transformer.layer.5.ffn.lin1.bias', 'distilbert.transformer.layer.2.ffn.lin1.bias', 'distilbert.transformer.layer.1.attention.out_lin.weight', 'distilbert.transformer.layer.0.sa_layer_norm.bias', 'distilbert.transformer.layer.5.attention.v_lin.bias', 'distilbert.transformer.layer.3.attention.k_lin.bias', 'distilbert.transformer.layer.1.output_layer_norm.weight', 'distilbert.transformer.layer.0.sa_layer_norm.weight', 'distilbert.transformer.layer.5.attention.q_lin.weight', 'distilbert.transformer.layer.0.ffn.lin1.weight', 'distilbert.transformer.layer.1.attention.k_lin.weight', 'vocab_transform.bias', 'distilbert.transformer.layer.3.ffn.lin1.bias', 'vocab_projector.bias', 'distilbert.transformer.layer.1.attention.k_lin.bias', 'distilbert.transformer.layer.5.attention.out_lin.weight', 'distilbert.transformer.layer.1.attention.out_lin.bias', 'distilbert.transformer.layer.5.output_layer_norm.weight', 'distilbert.transformer.layer.4.ffn.lin1.weight', 'distilbert.transformer.layer.1.sa_layer_norm.bias', 'distilbert.transformer.layer.4.attention.out_lin.bias', 'distilbert.transformer.layer.4.ffn.lin2.weight', 'distilbert.transformer.layer.0.attention.v_lin.weight', 'distilbert.transformer.layer.2.output_layer_norm.weight', 'distilbert.transformer.layer.3.output_layer_norm.bias', 'distilbert.transformer.layer.4.ffn.lin2.bias', 'vocab_layer_norm.bias', 'distilbert.transformer.layer.1.output_layer_norm.bias', 'distilbert.transformer.layer.2.ffn.lin2.weight', 'distilbert.transformer.layer.3.output_layer_norm.weight', 'distilbert.transformer.layer.3.attention.v_lin.weight', 'distilbert.transformer.layer.2.sa_layer_norm.weight', 'distilbert.transformer.layer.5.ffn.lin2.bias', 'distilbert.transformer.layer.2.ffn.lin1.weight', 'distilbert.transformer.layer.2.attention.k_lin.bias', 'distilbert.transformer.layer.3.attention.out_lin.weight', 'distilbert.transformer.layer.5.attention.k_lin.bias', 'distilbert.transformer.layer.5.output_layer_norm.bias', 'distilbert.transformer.layer.3.attention.q_lin.bias', 'distilbert.transformer.layer.1.ffn.lin1.bias', 'distilbert.transformer.layer.0.ffn.lin2.weight', 'distilbert.transformer.layer.2.attention.v_lin.weight', 'distilbert.transformer.layer.5.sa_layer_norm.weight', 'distilbert.transformer.layer.5.attention.q_lin.bias', 'distilbert.transformer.layer.1.attention.q_lin.weight', 'distilbert.transformer.layer.4.attention.k_lin.weight', 'distilbert.transformer.layer.2.attention.v_lin.bias', 'distilbert.transformer.layer.1.attention.v_lin.bias', 'distilbert.transformer.layer.5.attention.out_lin.bias', 'distilbert.transformer.layer.5.ffn.lin2.weight', 'distilbert.transformer.layer.3.sa_layer_norm.bias', 'distilbert.embeddings.LayerNorm.bias', 'distilbert.transformer.layer.1.sa_layer_norm.weight', 'distilbert.transformer.layer.0.ffn.lin1.bias', 'distilbert.transformer.layer.2.sa_layer_norm.bias', 'distilbert.transformer.layer.4.attention.k_lin.bias', 'distilbert.transformer.layer.2.attention.q_lin.weight', 'distilbert.transformer.layer.5.sa_layer_norm.bias', 'distilbert.transformer.layer.0.attention.k_lin.bias', 'distilbert.transformer.layer.0.attention.k_lin.weight', 'distilbert.transformer.layer.5.ffn.lin1.weight', 'distilbert.transformer.layer.0.output_layer_norm.bias', 'distilbert.transformer.layer.0.attention.q_lin.weight', 'distilbert.transformer.layer.4.sa_layer_norm.weight', 'distilbert.transformer.layer.4.attention.v_lin.bias', 'distilbert.transformer.layer.2.attention.out_lin.weight', 'distilbert.transformer.layer.3.attention.q_lin.weight', 'distilbert.transformer.layer.4.sa_layer_norm.bias', 'distilbert.transformer.layer.2.attention.out_lin.bias', 'distilbert.transformer.layer.3.attention.k_lin.weight', 'distilbert.transformer.layer.0.attention.v_lin.bias']\n",
      "- This IS expected if you are initializing BertForSequenceClassification from the checkpoint of a model trained on another task or with another architecture (e.g. initializing a BertForSequenceClassification model from a BertForPreTraining model).\n",
      "- This IS NOT expected if you are initializing BertForSequenceClassification from the checkpoint of a model that you expect to be exactly identical (initializing a BertForSequenceClassification model from a BertForSequenceClassification model).\n",
      "Some weights of BertForSequenceClassification were not initialized from the model checkpoint at distilbert-base-uncased and are newly initialized: ['encoder.layer.7.attention.self.value.weight', 'encoder.layer.9.intermediate.dense.bias', 'encoder.layer.1.attention.self.value.weight', 'encoder.layer.0.attention.self.query.weight', 'encoder.layer.2.attention.output.LayerNorm.bias', 'encoder.layer.5.attention.self.value.weight', 'encoder.layer.0.intermediate.dense.weight', 'encoder.layer.2.intermediate.dense.weight', 'encoder.layer.2.attention.self.query.bias', 'encoder.layer.4.attention.output.LayerNorm.weight', 'encoder.layer.7.attention.self.query.weight', 'encoder.layer.7.attention.self.value.bias', 'encoder.layer.5.output.LayerNorm.bias', 'encoder.layer.7.output.LayerNorm.bias', 'encoder.layer.4.attention.self.key.weight', 'encoder.layer.11.attention.output.dense.weight', 'encoder.layer.2.attention.self.value.bias', 'encoder.layer.9.output.dense.bias', 'embeddings.LayerNorm.weight', 'embeddings.LayerNorm.bias', 'encoder.layer.1.attention.output.LayerNorm.weight', 'encoder.layer.2.output.LayerNorm.bias', 'classifier.weight', 'encoder.layer.3.attention.self.value.weight', 'encoder.layer.9.output.LayerNorm.bias', 'encoder.layer.5.attention.self.key.weight', 'encoder.layer.2.attention.output.LayerNorm.weight', 'encoder.layer.10.attention.output.dense.bias', 'encoder.layer.7.attention.output.LayerNorm.weight', 'encoder.layer.4.attention.self.key.bias', 'encoder.layer.2.attention.self.key.weight', 'encoder.layer.10.attention.self.query.weight', 'encoder.layer.8.attention.output.dense.weight', 'encoder.layer.6.intermediate.dense.weight', 'encoder.layer.2.attention.output.dense.bias', 'encoder.layer.1.attention.output.dense.weight', 'encoder.layer.8.attention.self.value.bias', 'encoder.layer.1.output.dense.bias', 'encoder.layer.5.attention.output.LayerNorm.weight', 'encoder.layer.1.attention.self.query.weight', 'encoder.layer.9.attention.output.dense.weight', 'encoder.layer.10.output.LayerNorm.weight', 'encoder.layer.5.intermediate.dense.bias', 'encoder.layer.0.attention.self.key.bias', 'encoder.layer.0.intermediate.dense.bias', 'encoder.layer.1.output.dense.weight', 'encoder.layer.6.output.dense.weight', 'encoder.layer.2.attention.self.query.weight', 'encoder.layer.5.attention.self.query.weight', 'encoder.layer.5.attention.self.key.bias', 'encoder.layer.10.attention.self.key.bias', 'encoder.layer.4.output.LayerNorm.bias', 'encoder.layer.3.intermediate.dense.weight', 'encoder.layer.5.output.dense.bias', 'encoder.layer.3.attention.self.key.bias', 'encoder.layer.10.intermediate.dense.bias', 'encoder.layer.0.output.LayerNorm.bias', 'encoder.layer.6.intermediate.dense.bias', 'encoder.layer.4.output.dense.weight', 'encoder.layer.6.attention.output.LayerNorm.bias', 'encoder.layer.9.attention.self.query.bias', 'encoder.layer.4.attention.output.LayerNorm.bias', 'embeddings.token_type_embeddings.weight', 'encoder.layer.0.output.dense.weight', 'encoder.layer.9.output.LayerNorm.weight', 'encoder.layer.11.attention.self.key.weight', 'encoder.layer.1.attention.self.query.bias', 'encoder.layer.9.intermediate.dense.weight', 'encoder.layer.11.attention.self.query.weight', 'encoder.layer.9.output.dense.weight', 'encoder.layer.0.output.LayerNorm.weight', 'encoder.layer.0.output.dense.bias', 'encoder.layer.6.attention.self.value.weight', 'encoder.layer.10.output.LayerNorm.bias', 'encoder.layer.8.attention.self.key.bias', 'encoder.layer.7.output.dense.weight', 'encoder.layer.5.output.LayerNorm.weight', 'encoder.layer.10.attention.self.query.bias', 'encoder.layer.11.output.LayerNorm.bias', 'encoder.layer.3.output.dense.weight', 'encoder.layer.4.attention.self.query.bias', 'encoder.layer.2.output.dense.weight', 'encoder.layer.7.attention.output.dense.bias', 'encoder.layer.1.output.LayerNorm.weight', 'encoder.layer.4.attention.output.dense.weight', 'encoder.layer.2.output.LayerNorm.weight', 'encoder.layer.3.attention.self.key.weight', 'encoder.layer.9.attention.self.key.bias', 'classifier.bias', 'encoder.layer.7.output.dense.bias', 'encoder.layer.3.attention.output.dense.bias', 'encoder.layer.3.attention.self.query.bias', 'encoder.layer.1.attention.output.dense.bias', 'encoder.layer.3.output.LayerNorm.bias', 'encoder.layer.6.output.LayerNorm.weight', 'encoder.layer.9.attention.self.value.weight', 'encoder.layer.10.intermediate.dense.weight', 'encoder.layer.4.output.dense.bias', 'encoder.layer.5.attention.self.query.bias', 'encoder.layer.4.output.LayerNorm.weight', 'encoder.layer.2.attention.self.value.weight', 'encoder.layer.3.output.LayerNorm.weight', 'encoder.layer.6.output.dense.bias', 'encoder.layer.6.attention.output.dense.bias', 'encoder.layer.10.attention.output.LayerNorm.weight', 'encoder.layer.2.intermediate.dense.bias', 'encoder.layer.10.attention.self.key.weight', 'encoder.layer.11.intermediate.dense.weight', 'encoder.layer.11.attention.self.query.bias', 'pooler.dense.weight', 'encoder.layer.11.attention.self.value.weight', 'encoder.layer.0.attention.self.key.weight', 'encoder.layer.10.output.dense.weight', 'encoder.layer.10.output.dense.bias', 'encoder.layer.2.attention.output.dense.weight', 'encoder.layer.11.attention.output.dense.bias', 'encoder.layer.5.attention.self.value.bias', 'encoder.layer.10.attention.output.LayerNorm.bias', 'encoder.layer.4.attention.self.query.weight', 'encoder.layer.6.attention.self.value.bias', 'encoder.layer.9.attention.self.query.weight', 'encoder.layer.4.attention.self.value.weight', 'encoder.layer.11.output.dense.weight', 'encoder.layer.3.attention.self.value.bias', 'encoder.layer.1.intermediate.dense.weight', 'encoder.layer.5.attention.output.LayerNorm.bias', 'encoder.layer.7.intermediate.dense.bias', 'encoder.layer.0.attention.output.dense.bias', 'encoder.layer.5.intermediate.dense.weight', 'encoder.layer.6.attention.self.key.bias', 'encoder.layer.6.output.LayerNorm.bias', 'encoder.layer.8.attention.self.value.weight', 'encoder.layer.5.attention.output.dense.bias', 'encoder.layer.8.attention.self.query.bias', 'encoder.layer.3.output.dense.bias', 'encoder.layer.0.attention.self.query.bias', 'encoder.layer.8.attention.self.query.weight', 'encoder.layer.1.attention.output.LayerNorm.bias', 'encoder.layer.10.attention.self.value.bias', 'encoder.layer.8.attention.self.key.weight', 'encoder.layer.8.output.LayerNorm.bias', 'encoder.layer.6.attention.self.query.bias', 'encoder.layer.4.intermediate.dense.weight', 'encoder.layer.7.attention.self.key.bias', 'encoder.layer.3.intermediate.dense.bias', 'encoder.layer.0.attention.self.value.bias', 'encoder.layer.7.attention.self.query.bias', 'encoder.layer.11.attention.self.value.bias', 'encoder.layer.11.intermediate.dense.bias', 'encoder.layer.8.output.dense.bias', 'encoder.layer.4.attention.output.dense.bias', 'encoder.layer.6.attention.output.dense.weight', 'encoder.layer.7.attention.self.key.weight', 'encoder.layer.2.output.dense.bias', 'encoder.layer.8.attention.output.dense.bias', 'encoder.layer.11.attention.output.LayerNorm.weight', 'encoder.layer.1.output.LayerNorm.bias', 'encoder.layer.7.attention.output.LayerNorm.bias', 'encoder.layer.5.output.dense.weight', 'encoder.layer.3.attention.output.LayerNorm.bias', 'encoder.layer.1.attention.self.key.bias', 'encoder.layer.4.intermediate.dense.bias', 'encoder.layer.0.attention.self.value.weight', 'encoder.layer.7.intermediate.dense.weight', 'encoder.layer.0.attention.output.dense.weight', 'encoder.layer.6.attention.self.query.weight', 'encoder.layer.8.attention.output.LayerNorm.weight', 'encoder.layer.9.attention.output.dense.bias', 'encoder.layer.7.output.LayerNorm.weight', 'encoder.layer.7.attention.output.dense.weight', 'encoder.layer.8.output.LayerNorm.weight', 'encoder.layer.4.attention.self.value.bias', 'encoder.layer.1.intermediate.dense.bias', 'embeddings.word_embeddings.weight', 'pooler.dense.bias', 'encoder.layer.9.attention.self.value.bias', 'encoder.layer.10.attention.output.dense.weight', 'encoder.layer.3.attention.self.query.weight', 'encoder.layer.8.attention.output.LayerNorm.bias', 'encoder.layer.0.attention.output.LayerNorm.bias', 'encoder.layer.0.attention.output.LayerNorm.weight', 'encoder.layer.6.attention.output.LayerNorm.weight', 'encoder.layer.11.output.dense.bias', 'encoder.layer.1.attention.self.value.bias', 'encoder.layer.6.attention.self.key.weight', 'encoder.layer.8.intermediate.dense.weight', 'encoder.layer.9.attention.output.LayerNorm.bias', 'encoder.layer.9.attention.self.key.weight', 'encoder.layer.11.output.LayerNorm.weight', 'embeddings.position_embeddings.weight', 'encoder.layer.2.attention.self.key.bias', 'encoder.layer.3.attention.output.LayerNorm.weight', 'encoder.layer.9.attention.output.LayerNorm.weight', 'encoder.layer.11.attention.self.key.bias', 'encoder.layer.3.attention.output.dense.weight', 'encoder.layer.8.intermediate.dense.bias', 'encoder.layer.1.attention.self.key.weight', 'encoder.layer.5.attention.output.dense.weight', 'encoder.layer.10.attention.self.value.weight', 'encoder.layer.11.attention.output.LayerNorm.bias', 'encoder.layer.8.output.dense.weight']\n",
      "You should probably TRAIN this model on a down-stream task to be able to use it for predictions and inference.\n",
      "PyTorch: setting up devices\n",
      "The default value for the training argument `--report_to` will change in v5 (from all installed integrations to none). In v5, you will need to use `--report_to all` to get the same behavior as now. You should start updating your code and make this info disappear :-).\n",
      "***** Running training *****\n",
      "  Num examples = 105830\n",
      "  Num Epochs = 5\n",
      "  Instantaneous batch size per device = 16\n",
      "  Total train batch size (w. parallel, distributed & accumulation) = 16\n",
      "  Gradient Accumulation steps = 1\n",
      "  Total optimization steps = 33075\n"
     ]
    },
    {
     "data": {
      "text/html": [
       "\n",
       "    <div>\n",
       "      \n",
       "      <progress value='33075' max='33075' style='width:300px; height:20px; vertical-align: middle;'></progress>\n",
       "      [33075/33075 1:59:46, Epoch 5/5]\n",
       "    </div>\n",
       "    <table border=\"1\" class=\"dataframe\">\n",
       "  <thead>\n",
       "    <tr style=\"text-align: left;\">\n",
       "      <th>Step</th>\n",
       "      <th>Training Loss</th>\n",
       "      <th>Validation Loss</th>\n",
       "      <th>Accuracy</th>\n",
       "      <th>F1</th>\n",
       "      <th>Precision</th>\n",
       "      <th>Recall</th>\n",
       "    </tr>\n",
       "  </thead>\n",
       "  <tbody>\n",
       "    <tr>\n",
       "      <td>5000</td>\n",
       "      <td>0.675100</td>\n",
       "      <td>0.657269</td>\n",
       "      <td>0.613085</td>\n",
       "      <td>0.731432</td>\n",
       "      <td>0.610573</td>\n",
       "      <td>0.911946</td>\n",
       "    </tr>\n",
       "    <tr>\n",
       "      <td>10000</td>\n",
       "      <td>0.670300</td>\n",
       "      <td>0.654328</td>\n",
       "      <td>0.613425</td>\n",
       "      <td>0.735081</td>\n",
       "      <td>0.608438</td>\n",
       "      <td>0.928300</td>\n",
       "    </tr>\n",
       "    <tr>\n",
       "      <td>15000</td>\n",
       "      <td>0.665100</td>\n",
       "      <td>0.678316</td>\n",
       "      <td>0.586477</td>\n",
       "      <td>0.735616</td>\n",
       "      <td>0.583247</td>\n",
       "      <td>0.995748</td>\n",
       "    </tr>\n",
       "    <tr>\n",
       "      <td>20000</td>\n",
       "      <td>0.666000</td>\n",
       "      <td>0.652717</td>\n",
       "      <td>0.612707</td>\n",
       "      <td>0.738470</td>\n",
       "      <td>0.605440</td>\n",
       "      <td>0.946422</td>\n",
       "    </tr>\n",
       "    <tr>\n",
       "      <td>25000</td>\n",
       "      <td>0.662500</td>\n",
       "      <td>0.655498</td>\n",
       "      <td>0.604354</td>\n",
       "      <td>0.738627</td>\n",
       "      <td>0.597278</td>\n",
       "      <td>0.967617</td>\n",
       "    </tr>\n",
       "    <tr>\n",
       "      <td>30000</td>\n",
       "      <td>0.659400</td>\n",
       "      <td>0.655562</td>\n",
       "      <td>0.603069</td>\n",
       "      <td>0.738431</td>\n",
       "      <td>0.596203</td>\n",
       "      <td>0.969776</td>\n",
       "    </tr>\n",
       "  </tbody>\n",
       "</table><p>"
      ],
      "text/plain": [
       "<IPython.core.display.HTML object>"
      ]
     },
     "metadata": {},
     "output_type": "display_data"
    },
    {
     "name": "stderr",
     "output_type": "stream",
     "text": [
      "***** Running Evaluation *****\n",
      "  Num examples = 26458\n",
      "  Batch size = 64\n",
      "Saving model checkpoint to ./checkpoint-6615\n",
      "Configuration saved in ./checkpoint-6615/config.json\n",
      "Model weights saved in ./checkpoint-6615/pytorch_model.bin\n",
      "***** Running Evaluation *****\n",
      "  Num examples = 26458\n",
      "  Batch size = 64\n",
      "Saving model checkpoint to ./checkpoint-13230\n",
      "Configuration saved in ./checkpoint-13230/config.json\n",
      "Model weights saved in ./checkpoint-13230/pytorch_model.bin\n",
      "***** Running Evaluation *****\n",
      "  Num examples = 26458\n",
      "  Batch size = 64\n",
      "Saving model checkpoint to ./checkpoint-19845\n",
      "Configuration saved in ./checkpoint-19845/config.json\n",
      "Model weights saved in ./checkpoint-19845/pytorch_model.bin\n",
      "***** Running Evaluation *****\n",
      "  Num examples = 26458\n",
      "  Batch size = 64\n",
      "***** Running Evaluation *****\n",
      "  Num examples = 26458\n",
      "  Batch size = 64\n",
      "Saving model checkpoint to ./checkpoint-26460\n",
      "Configuration saved in ./checkpoint-26460/config.json\n",
      "Model weights saved in ./checkpoint-26460/pytorch_model.bin\n",
      "***** Running Evaluation *****\n",
      "  Num examples = 26458\n",
      "  Batch size = 64\n",
      "Saving model checkpoint to ./checkpoint-33075\n",
      "Configuration saved in ./checkpoint-33075/config.json\n",
      "Model weights saved in ./checkpoint-33075/pytorch_model.bin\n",
      "\n",
      "\n",
      "Training completed. Do not forget to share your model on huggingface.co/models =)\n",
      "\n",
      "\n"
     ]
    },
    {
     "data": {
      "text/plain": [
       "TrainOutput(global_step=33075, training_loss=0.6675663865738896, metrics={'train_runtime': 7186.0897, 'train_samples_per_second': 73.635, 'train_steps_per_second': 4.603, 'total_flos': 1.39225214943744e+17, 'train_loss': 0.6675663865738896, 'epoch': 5.0})"
      ]
     },
     "execution_count": 28,
     "metadata": {},
     "output_type": "execute_result"
    }
   ],
   "source": [
    "import torch\n",
    "from transformers import BertForSequenceClassification, Trainer, TrainingArguments, AutoTokenizer\n",
    "from sklearn.metrics import accuracy_score, precision_recall_fscore_support\n",
    "\n",
    "# Load the BERT Tokenizer\n",
    "tokenizer = AutoTokenizer.from_pretrained('bert-base-uncased')\n",
    "\n",
    "# The dataset class\n",
    "class TheDataset(torch.utils.data.Dataset):\n",
    "\n",
    "    def __init__(self, articles, sentiments, tokenizer):\n",
    "        self.articles    = articles\n",
    "        self.sentiments = sentiments\n",
    "        self.tokenizer  = tokenizer\n",
    "        self.max_len    = tokenizer.model_max_length\n",
    "  \n",
    "    def __len__(self):\n",
    "        return len(self.articles)\n",
    "  \n",
    "    def __getitem__(self, index):\n",
    "        article = str(self.articles[index])\n",
    "        sentiments = self.sentiments[index]\n",
    "\n",
    "        encoded_article = self.tokenizer.encode_plus(\n",
    "            article,\n",
    "            add_special_tokens    = True,\n",
    "            max_length            = self.max_len,\n",
    "            return_token_type_ids = False,\n",
    "            return_attention_mask = True,\n",
    "            return_tensors        = 'pt',\n",
    "            padding               = \"max_length\",\n",
    "            truncation            = True\n",
    "        )\n",
    "\n",
    "        return {\n",
    "            'input_ids': encoded_article['input_ids'][0],\n",
    "            'attention_mask': encoded_article['attention_mask'][0],\n",
    "            'labels': torch.tensor(sentiments, dtype=torch.long)\n",
    "        }\n",
    "\n",
    "# Prepare the Train/Validation sets\n",
    "train_set_dataset = TheDataset(\n",
    "    articles    = df_train.clean_text.tolist(),\n",
    "    sentiments = df_train.Sentiment_value.tolist(),\n",
    "    tokenizer  = tokenizer,\n",
    ")\n",
    "\n",
    "valid_set_dataset = TheDataset(\n",
    "    articles    = df_valid.clean_text.tolist(),\n",
    "    sentiments = df_valid.Sentiment_value.tolist(),\n",
    "    tokenizer  = tokenizer,\n",
    ")\n",
    "\n",
    "# Load the BERT model\n",
    "model = BertForSequenceClassification.from_pretrained(\"distilbert-base-uncased\")\n",
    "\n",
    "# Freeze BERT except (the 24th layer + the last pooler layer)\n",
    "for name, param in model.bert.named_parameters():\n",
    "    if ( not name.startswith('pooler') ) and \"layer.23\" not in name :\n",
    "        param.requires_grad = False\n",
    "\n",
    "# The function to get the accuracy\n",
    "def compute_metrics(pred):\n",
    "    labels = pred.label_ids\n",
    "    preds = pred.predictions.argmax(-1)\n",
    "    precision, recall, f1, _ = precision_recall_fscore_support(labels, preds, average='binary')\n",
    "    acc = accuracy_score(labels, preds)\n",
    "    return {\n",
    "        'accuracy': acc,\n",
    "        'f1': f1,\n",
    "        'precision': precision,\n",
    "        'recall': recall\n",
    "    }\n",
    "\n",
    "# Define the training parameters\n",
    "training_args = TrainingArguments(\n",
    "    output_dir                  = \".\",\n",
    "    num_train_epochs            = 5,\n",
    "    per_device_train_batch_size = 16,\n",
    "    per_device_eval_batch_size  = 64,\n",
    "    warmup_steps                = 500,\n",
    "    eval_steps                  = 5000,\n",
    "    weight_decay                = 0.01,\n",
    "    save_strategy               = \"epoch\",\n",
    "    evaluation_strategy         = \"steps\"\n",
    ")\n",
    "\n",
    "# Define the Huggingface Trainer object\n",
    "trainer = Trainer(\n",
    "    model           = model,\n",
    "    args            = training_args,\n",
    "    train_dataset   = train_set_dataset,\n",
    "    eval_dataset    = valid_set_dataset,\n",
    "    compute_metrics = compute_metrics\n",
    ")\n",
    "\n",
    "# Start pre-training!\n",
    "trainer.train()"
   ]
  },
  {
   "cell_type": "code",
   "execution_count": 66,
   "metadata": {
    "scrolled": true
   },
   "outputs": [
    {
     "name": "stderr",
     "output_type": "stream",
     "text": [
      "loading configuration file ./checkpoint-6615/config.json\n",
      "Model config BertConfig {\n",
      "  \"_name_or_path\": \"distilbert-base-uncased\",\n",
      "  \"activation\": \"gelu\",\n",
      "  \"architectures\": [\n",
      "    \"BertForSequenceClassification\"\n",
      "  ],\n",
      "  \"attention_dropout\": 0.1,\n",
      "  \"attention_probs_dropout_prob\": 0.1,\n",
      "  \"classifier_dropout\": null,\n",
      "  \"dim\": 768,\n",
      "  \"dropout\": 0.1,\n",
      "  \"gradient_checkpointing\": false,\n",
      "  \"hidden_act\": \"gelu\",\n",
      "  \"hidden_dim\": 3072,\n",
      "  \"hidden_dropout_prob\": 0.1,\n",
      "  \"hidden_size\": 768,\n",
      "  \"initializer_range\": 0.02,\n",
      "  \"intermediate_size\": 3072,\n",
      "  \"layer_norm_eps\": 1e-12,\n",
      "  \"max_position_embeddings\": 512,\n",
      "  \"model_type\": \"bert\",\n",
      "  \"n_heads\": 12,\n",
      "  \"n_layers\": 6,\n",
      "  \"num_attention_heads\": 12,\n",
      "  \"num_hidden_layers\": 12,\n",
      "  \"pad_token_id\": 0,\n",
      "  \"position_embedding_type\": \"absolute\",\n",
      "  \"problem_type\": \"single_label_classification\",\n",
      "  \"qa_dropout\": 0.1,\n",
      "  \"seq_classif_dropout\": 0.2,\n",
      "  \"sinusoidal_pos_embds\": false,\n",
      "  \"tie_weights_\": true,\n",
      "  \"torch_dtype\": \"float32\",\n",
      "  \"transformers_version\": \"4.10.3\",\n",
      "  \"type_vocab_size\": 2,\n",
      "  \"use_cache\": true,\n",
      "  \"vocab_size\": 30522\n",
      "}\n",
      "\n",
      "loading weights file ./checkpoint-6615/pytorch_model.bin\n",
      "All model checkpoint weights were used when initializing BertForSequenceClassification.\n",
      "\n",
      "All the weights of BertForSequenceClassification were initialized from the model checkpoint at ./checkpoint-6615.\n",
      "If your task is similar to the task the model of the checkpoint was trained on, you can already use BertForSequenceClassification for predictions without further training.\n",
      "PyTorch: setting up devices\n",
      "The default value for the training argument `--report_to` will change in v5 (from all installed integrations to none). In v5, you will need to use `--report_to all` to get the same behavior as now. You should start updating your code and make this info disappear :-).\n",
      "***** Running Prediction *****\n",
      "  Num examples = 33072\n",
      "  Batch size = 8\n"
     ]
    },
    {
     "data": {
      "text/html": [
       "\n",
       "    <div>\n",
       "      \n",
       "      <progress value='24805' max='4134' style='width:300px; height:20px; vertical-align: middle;'></progress>\n",
       "      [4134/4134 39:13]\n",
       "    </div>\n",
       "    "
      ],
      "text/plain": [
       "<IPython.core.display.HTML object>"
      ]
     },
     "metadata": {},
     "output_type": "display_data"
    }
   ],
   "source": [
    "# Load the checkpoint\n",
    "model = BertForSequenceClassification.from_pretrained(\"./checkpoint-6615\")\n",
    "\n",
    "# Make the test set ready\n",
    "test_set_dataset = TheDataset(\n",
    "    articles    = df_test.clean_text.tolist(),\n",
    "    sentiments = df_test.Sentiment_value.tolist(),\n",
    "    tokenizer  = tokenizer,\n",
    ")\n",
    "\n",
    "training_args = TrainingArguments(\n",
    "    output_dir = \".\",\n",
    "    do_predict = True\n",
    ")\n",
    "\n",
    "trainer = Trainer(\n",
    "    model           = model,\n",
    "    args            = training_args,\n",
    "    compute_metrics =compute_metrics,\n",
    ")\n",
    "\n",
    "t = trainer.predict(test_set_dataset)"
   ]
  },
  {
   "cell_type": "code",
   "execution_count": 69,
   "metadata": {},
   "outputs": [
    {
     "data": {
      "text/plain": [
       "14414"
      ]
     },
     "execution_count": 69,
     "metadata": {},
     "output_type": "execute_result"
    }
   ],
   "source": [
    "t.predictions.argmax(-1).sum()"
   ]
  },
  {
   "cell_type": "code",
   "execution_count": 70,
   "metadata": {
    "scrolled": true
   },
   "outputs": [
    {
     "name": "stderr",
     "output_type": "stream",
     "text": [
      "***** Running Prediction *****\n",
      "  Num examples = 105830\n",
      "  Batch size = 8\n",
      "***** Running Prediction *****\n",
      "  Num examples = 26458\n",
      "  Batch size = 8\n",
      "***** Running Prediction *****\n",
      "  Num examples = 33072\n",
      "  Batch size = 8\n"
     ]
    }
   ],
   "source": [
    "# Predicting fine-tuned sentiments\n",
    "\n",
    "train_predictions = trainer.predict(train_set_dataset).predictions.argmax(-1)\n",
    "valid_predictions = trainer.predict(valid_set_dataset).predictions.argmax(-1)\n",
    "test_predictions = trainer.predict(test_set_dataset).predictions.argmax(-1)"
   ]
  },
  {
   "cell_type": "code",
   "execution_count": 71,
   "metadata": {},
   "outputs": [
    {
     "name": "stderr",
     "output_type": "stream",
     "text": [
      "/tmp/ipykernel_6538/3820199879.py:1: SettingWithCopyWarning: \n",
      "A value is trying to be set on a copy of a slice from a DataFrame.\n",
      "Try using .loc[row_indexer,col_indexer] = value instead\n",
      "\n",
      "See the caveats in the documentation: https://pandas.pydata.org/pandas-docs/stable/user_guide/indexing.html#returning-a-view-versus-a-copy\n",
      "  df_train['Sentiment_Pred'] = train_predictions\n",
      "/tmp/ipykernel_6538/3820199879.py:2: SettingWithCopyWarning: \n",
      "A value is trying to be set on a copy of a slice from a DataFrame.\n",
      "Try using .loc[row_indexer,col_indexer] = value instead\n",
      "\n",
      "See the caveats in the documentation: https://pandas.pydata.org/pandas-docs/stable/user_guide/indexing.html#returning-a-view-versus-a-copy\n",
      "  df_valid['Sentiment_Pred'] = valid_predictions\n",
      "/tmp/ipykernel_6538/3820199879.py:3: SettingWithCopyWarning: \n",
      "A value is trying to be set on a copy of a slice from a DataFrame.\n",
      "Try using .loc[row_indexer,col_indexer] = value instead\n",
      "\n",
      "See the caveats in the documentation: https://pandas.pydata.org/pandas-docs/stable/user_guide/indexing.html#returning-a-view-versus-a-copy\n",
      "  df_test['Sentiment_Pred'] = test_predictions\n"
     ]
    }
   ],
   "source": [
    "df_train['Sentiment_Pred'] = train_predictions\n",
    "df_valid['Sentiment_Pred'] = valid_predictions\n",
    "df_test['Sentiment_Pred'] = test_predictions"
   ]
  },
  {
   "cell_type": "code",
   "execution_count": 72,
   "metadata": {},
   "outputs": [
    {
     "data": {
      "text/html": [
       "<div>\n",
       "<style scoped>\n",
       "    .dataframe tbody tr th:only-of-type {\n",
       "        vertical-align: middle;\n",
       "    }\n",
       "\n",
       "    .dataframe tbody tr th {\n",
       "        vertical-align: top;\n",
       "    }\n",
       "\n",
       "    .dataframe thead th {\n",
       "        text-align: right;\n",
       "    }\n",
       "</style>\n",
       "<table border=\"1\" class=\"dataframe\">\n",
       "  <thead>\n",
       "    <tr style=\"text-align: right;\">\n",
       "      <th></th>\n",
       "      <th>date</th>\n",
       "      <th>clean_text</th>\n",
       "      <th>clean_title</th>\n",
       "      <th>positive</th>\n",
       "      <th>negative</th>\n",
       "      <th>positive_new</th>\n",
       "      <th>negative_new</th>\n",
       "      <th>Sentiment</th>\n",
       "      <th>Sentiment_value</th>\n",
       "      <th>Sentiment_Pred</th>\n",
       "    </tr>\n",
       "  </thead>\n",
       "  <tbody>\n",
       "    <tr>\n",
       "      <th>151586</th>\n",
       "      <td>2022-03-15</td>\n",
       "      <td>chicago  new york flights  chicago  new york flights  ticket   lowest cost  find  lowest prices   coming chicago  new york flights   bookflight  also  book new york  chicago flights  there  currently   flights  fly  chicago  new york  to get   savings   booking flights  click  fare calendar button  choose  dates  want  book  chicago  new york flights information looking  chicago  new york flight  here     aware   to make  easier  save time  select  airport closest   destination  want  go   t...</td>\n",
       "      <td>chicago  new york flights</td>\n",
       "      <td>0.989108</td>\n",
       "      <td>0.003644</td>\n",
       "      <td>0.996329</td>\n",
       "      <td>0.003671</td>\n",
       "      <td>positive_new</td>\n",
       "      <td>1</td>\n",
       "      <td>1</td>\n",
       "    </tr>\n",
       "    <tr>\n",
       "      <th>73914</th>\n",
       "      <td>2022-03-21</td>\n",
       "      <td>w wrightwood ave apt          the gaertner building  racine  wrightwood  lincoln park    scientific  astronomical instrument factory   it  best known  pioneering  ellipsometer  originally built     architects schmidt  garden   martin    historic structure  converted    condos exactly   years ago  an elevator building  attached garage parking   particular pricey unit comes   open concept living dining area  glass blocks   exposed brickwork  currently contingent   property fits today curren...</td>\n",
       "      <td>five lofts for sale  former chicago factories</td>\n",
       "      <td>0.963150</td>\n",
       "      <td>0.073637</td>\n",
       "      <td>0.928976</td>\n",
       "      <td>0.071024</td>\n",
       "      <td>positive_new</td>\n",
       "      <td>1</td>\n",
       "      <td>1</td>\n",
       "    </tr>\n",
       "    <tr>\n",
       "      <th>160522</th>\n",
       "      <td>2022-04-15</td>\n",
       "      <td>north michigan avenue  chicago  illinois                   email chicago subzero repair companies chicago subzero repair email  established january   for     years  chicago sub zero repair   providing superior sub zero service  restore comfort  convenience back   home  from simple  significant repairs   company   necessary knowledge  tools  get  job done right  all parts used  certified  sub zero   repair  backed   comprehensive warranty  service areas  residents include garfield park  sou...</td>\n",
       "      <td>chicago subzero repair   chicago  illinois  united states</td>\n",
       "      <td>0.969308</td>\n",
       "      <td>0.314146</td>\n",
       "      <td>0.755234</td>\n",
       "      <td>0.244766</td>\n",
       "      <td>positive_new</td>\n",
       "      <td>1</td>\n",
       "      <td>0</td>\n",
       "    </tr>\n",
       "    <tr>\n",
       "      <th>117172</th>\n",
       "      <td>2022-02-06</td>\n",
       "      <td>on saturday  indiana played  strong first half  faded   second   minutes  league leader illinois       loss  after  game  assembly call  live  switchyard brewery  bloomington   annual meetup  the show included  live appearence  iu players anthony leal  jordan geronimo   khristian lander  on  mics  jerod morris  andy bottoms  ryan phillips  brian tonsoni  we also point    meaningful moments  may  missed  go inside  numbers   hand   game balls  all         edition  the assembly call   music pr...</td>\n",
       "      <td>iu illinois postgame show  switchyard  hoosiers fade late against illini</td>\n",
       "      <td>0.864837</td>\n",
       "      <td>0.176018</td>\n",
       "      <td>0.830891</td>\n",
       "      <td>0.169109</td>\n",
       "      <td>positive_new</td>\n",
       "      <td>1</td>\n",
       "      <td>0</td>\n",
       "    </tr>\n",
       "    <tr>\n",
       "      <th>105755</th>\n",
       "      <td>2022-01-30</td>\n",
       "      <td>erika jayne    hook   least  illinois   the real housewives of beverly hills star   dismissed   estranged husband tom girardi    embezzlement  fraud lawsuit   according  court documents filed   state  jan      pursuant  stipulation  plaintiff   claims  defendants ej global llc  erika girardi  dismissed without prejudice  without costs  according   filing  obtained  e  news  shortly   decision made  jay edelson    attorney   plaintiffs   case  took  twitter  vow  carry   clients  legal fight ...</td>\n",
       "      <td>erika jayne dismissed from fraud  embezzlement lawsuit against tom girardi in illinois</td>\n",
       "      <td>0.177808</td>\n",
       "      <td>0.829553</td>\n",
       "      <td>0.176509</td>\n",
       "      <td>0.823491</td>\n",
       "      <td>negative_new</td>\n",
       "      <td>0</td>\n",
       "      <td>1</td>\n",
       "    </tr>\n",
       "  </tbody>\n",
       "</table>\n",
       "</div>"
      ],
      "text/plain": [
       "              date  \\\n",
       "151586  2022-03-15   \n",
       "73914   2022-03-21   \n",
       "160522  2022-04-15   \n",
       "117172  2022-02-06   \n",
       "105755  2022-01-30   \n",
       "\n",
       "                                                                                                                                                                                                                                                                                                                                                                                                                                                                                                                 clean_text  \\\n",
       "151586  chicago  new york flights  chicago  new york flights  ticket   lowest cost  find  lowest prices   coming chicago  new york flights   bookflight  also  book new york  chicago flights  there  currently   flights  fly  chicago  new york  to get   savings   booking flights  click  fare calendar button  choose  dates  want  book  chicago  new york flights information looking  chicago  new york flight  here     aware   to make  easier  save time  select  airport closest   destination  want  go   t...   \n",
       "73914      w wrightwood ave apt          the gaertner building  racine  wrightwood  lincoln park    scientific  astronomical instrument factory   it  best known  pioneering  ellipsometer  originally built     architects schmidt  garden   martin    historic structure  converted    condos exactly   years ago  an elevator building  attached garage parking   particular pricey unit comes   open concept living dining area  glass blocks   exposed brickwork  currently contingent   property fits today curren...   \n",
       "160522    north michigan avenue  chicago  illinois                   email chicago subzero repair companies chicago subzero repair email  established january   for     years  chicago sub zero repair   providing superior sub zero service  restore comfort  convenience back   home  from simple  significant repairs   company   necessary knowledge  tools  get  job done right  all parts used  certified  sub zero   repair  backed   comprehensive warranty  service areas  residents include garfield park  sou...   \n",
       "117172  on saturday  indiana played  strong first half  faded   second   minutes  league leader illinois       loss  after  game  assembly call  live  switchyard brewery  bloomington   annual meetup  the show included  live appearence  iu players anthony leal  jordan geronimo   khristian lander  on  mics  jerod morris  andy bottoms  ryan phillips  brian tonsoni  we also point    meaningful moments  may  missed  go inside  numbers   hand   game balls  all         edition  the assembly call   music pr...   \n",
       "105755  erika jayne    hook   least  illinois   the real housewives of beverly hills star   dismissed   estranged husband tom girardi    embezzlement  fraud lawsuit   according  court documents filed   state  jan      pursuant  stipulation  plaintiff   claims  defendants ej global llc  erika girardi  dismissed without prejudice  without costs  according   filing  obtained  e  news  shortly   decision made  jay edelson    attorney   plaintiffs   case  took  twitter  vow  carry   clients  legal fight ...   \n",
       "\n",
       "                                                                                   clean_title  \\\n",
       "151586                                                               chicago  new york flights   \n",
       "73914                                            five lofts for sale  former chicago factories   \n",
       "160522                               chicago subzero repair   chicago  illinois  united states   \n",
       "117172                iu illinois postgame show  switchyard  hoosiers fade late against illini   \n",
       "105755  erika jayne dismissed from fraud  embezzlement lawsuit against tom girardi in illinois   \n",
       "\n",
       "        positive  negative  positive_new  negative_new     Sentiment  \\\n",
       "151586  0.989108  0.003644      0.996329      0.003671  positive_new   \n",
       "73914   0.963150  0.073637      0.928976      0.071024  positive_new   \n",
       "160522  0.969308  0.314146      0.755234      0.244766  positive_new   \n",
       "117172  0.864837  0.176018      0.830891      0.169109  positive_new   \n",
       "105755  0.177808  0.829553      0.176509      0.823491  negative_new   \n",
       "\n",
       "        Sentiment_value  Sentiment_Pred  \n",
       "151586                1               1  \n",
       "73914                 1               1  \n",
       "160522                1               0  \n",
       "117172                1               0  \n",
       "105755                0               1  "
      ]
     },
     "execution_count": 72,
     "metadata": {},
     "output_type": "execute_result"
    }
   ],
   "source": [
    "df_train.head()"
   ]
  },
  {
   "cell_type": "code",
   "execution_count": 74,
   "metadata": {},
   "outputs": [
    {
     "data": {
      "text/plain": [
       "1    61359\n",
       "0    44471\n",
       "Name: Sentiment_value, dtype: int64"
      ]
     },
     "execution_count": 74,
     "metadata": {},
     "output_type": "execute_result"
    }
   ],
   "source": [
    "df_train.Sentiment_value.value_counts()"
   ]
  },
  {
   "cell_type": "code",
   "execution_count": 75,
   "metadata": {},
   "outputs": [
    {
     "name": "stdout",
     "output_type": "stream",
     "text": [
      "              precision    recall  f1-score   support\n",
      "\n",
      "           0       0.70      0.52      0.60     59700\n",
      "           1       0.54      0.71      0.61     46130\n",
      "\n",
      "    accuracy                           0.61    105830\n",
      "   macro avg       0.62      0.62      0.60    105830\n",
      "weighted avg       0.63      0.61      0.60    105830\n",
      "\n"
     ]
    }
   ],
   "source": [
    "# Train Metrics\n",
    "\n",
    "from sklearn.metrics import classification_report\n",
    "print(classification_report(df_train['Sentiment_Pred'], df_train['Sentiment_value']))"
   ]
  },
  {
   "cell_type": "code",
   "execution_count": 76,
   "metadata": {},
   "outputs": [
    {
     "name": "stdout",
     "output_type": "stream",
     "text": [
      "              precision    recall  f1-score   support\n",
      "\n",
      "           0       0.69      0.52      0.59     15021\n",
      "           1       0.53      0.70      0.60     11437\n",
      "\n",
      "    accuracy                           0.60     26458\n",
      "   macro avg       0.61      0.61      0.60     26458\n",
      "weighted avg       0.62      0.60      0.60     26458\n",
      "\n"
     ]
    }
   ],
   "source": [
    "# Validation Metrics\n",
    "\n",
    "print(classification_report(df_valid['Sentiment_Pred'], df_valid['Sentiment_value']))"
   ]
  },
  {
   "cell_type": "code",
   "execution_count": 77,
   "metadata": {},
   "outputs": [
    {
     "name": "stdout",
     "output_type": "stream",
     "text": [
      "              precision    recall  f1-score   support\n",
      "\n",
      "           0       0.70      0.52      0.60     18658\n",
      "           1       0.53      0.71      0.61     14414\n",
      "\n",
      "    accuracy                           0.60     33072\n",
      "   macro avg       0.62      0.61      0.60     33072\n",
      "weighted avg       0.63      0.60      0.60     33072\n",
      "\n"
     ]
    }
   ],
   "source": [
    "# Test Metrics\n",
    "\n",
    "print(classification_report(df_test['Sentiment_Pred'], df_test['Sentiment_value']))"
   ]
  },
  {
   "cell_type": "code",
   "execution_count": 82,
   "metadata": {},
   "outputs": [],
   "source": [
    "# Appending the predictions into a single dataset\n",
    "\n",
    "zero_shot_bert_sentiment = pd.concat([df_train, df_valid, df_test], ignore_index=True)"
   ]
  },
  {
   "cell_type": "code",
   "execution_count": 83,
   "metadata": {},
   "outputs": [],
   "source": [
    "# Saving the dataframe to a csv\n",
    "\n",
    "zero_shot_bert_sentiment.to_csv(\"zero_shot_bert_sentiment.csv\")"
   ]
  },
  {
   "cell_type": "markdown",
   "metadata": {},
   "source": [
    "### Using the predicted sentiments to analyze the topics using LDA"
   ]
  },
  {
   "cell_type": "code",
   "execution_count": 4,
   "metadata": {},
   "outputs": [],
   "source": [
    "zero_shot_bert_sentiment = pd.read_csv(\"zero_shot_bert_sentiment.csv\")"
   ]
  },
  {
   "cell_type": "code",
   "execution_count": 5,
   "metadata": {},
   "outputs": [
    {
     "data": {
      "text/html": [
       "<div>\n",
       "<style scoped>\n",
       "    .dataframe tbody tr th:only-of-type {\n",
       "        vertical-align: middle;\n",
       "    }\n",
       "\n",
       "    .dataframe tbody tr th {\n",
       "        vertical-align: top;\n",
       "    }\n",
       "\n",
       "    .dataframe thead th {\n",
       "        text-align: right;\n",
       "    }\n",
       "</style>\n",
       "<table border=\"1\" class=\"dataframe\">\n",
       "  <thead>\n",
       "    <tr style=\"text-align: right;\">\n",
       "      <th></th>\n",
       "      <th>Unnamed: 0</th>\n",
       "      <th>date</th>\n",
       "      <th>clean_text</th>\n",
       "      <th>clean_title</th>\n",
       "      <th>positive</th>\n",
       "      <th>negative</th>\n",
       "      <th>positive_new</th>\n",
       "      <th>negative_new</th>\n",
       "      <th>Sentiment</th>\n",
       "      <th>Sentiment_value</th>\n",
       "      <th>Sentiment_Pred</th>\n",
       "    </tr>\n",
       "  </thead>\n",
       "  <tbody>\n",
       "    <tr>\n",
       "      <th>0</th>\n",
       "      <td>0</td>\n",
       "      <td>2022-03-15</td>\n",
       "      <td>chicago  new york flights  chicago  new york flights  ticket   lowest cost  find  lowest prices   coming chicago  new york flights   bookflight  also  book new york  chicago flights  there  currently   flights  fly  chicago  new york  to get   savings   booking flights  click  fare calendar button  choose  dates  want  book  chicago  new york flights information looking  chicago  new york flight  here     aware   to make  easier  save time  select  airport closest   destination  want  go   t...</td>\n",
       "      <td>chicago  new york flights</td>\n",
       "      <td>0.989108</td>\n",
       "      <td>0.003644</td>\n",
       "      <td>0.996329</td>\n",
       "      <td>0.003671</td>\n",
       "      <td>positive_new</td>\n",
       "      <td>1</td>\n",
       "      <td>1</td>\n",
       "    </tr>\n",
       "    <tr>\n",
       "      <th>1</th>\n",
       "      <td>1</td>\n",
       "      <td>2022-03-21</td>\n",
       "      <td>w wrightwood ave apt          the gaertner building  racine  wrightwood  lincoln park    scientific  astronomical instrument factory   it  best known  pioneering  ellipsometer  originally built     architects schmidt  garden   martin    historic structure  converted    condos exactly   years ago  an elevator building  attached garage parking   particular pricey unit comes   open concept living dining area  glass blocks   exposed brickwork  currently contingent   property fits today curren...</td>\n",
       "      <td>five lofts for sale  former chicago factories</td>\n",
       "      <td>0.963150</td>\n",
       "      <td>0.073637</td>\n",
       "      <td>0.928976</td>\n",
       "      <td>0.071024</td>\n",
       "      <td>positive_new</td>\n",
       "      <td>1</td>\n",
       "      <td>1</td>\n",
       "    </tr>\n",
       "    <tr>\n",
       "      <th>2</th>\n",
       "      <td>2</td>\n",
       "      <td>2022-04-15</td>\n",
       "      <td>north michigan avenue  chicago  illinois                   email chicago subzero repair companies chicago subzero repair email  established january   for     years  chicago sub zero repair   providing superior sub zero service  restore comfort  convenience back   home  from simple  significant repairs   company   necessary knowledge  tools  get  job done right  all parts used  certified  sub zero   repair  backed   comprehensive warranty  service areas  residents include garfield park  sou...</td>\n",
       "      <td>chicago subzero repair   chicago  illinois  united states</td>\n",
       "      <td>0.969308</td>\n",
       "      <td>0.314146</td>\n",
       "      <td>0.755234</td>\n",
       "      <td>0.244766</td>\n",
       "      <td>positive_new</td>\n",
       "      <td>1</td>\n",
       "      <td>0</td>\n",
       "    </tr>\n",
       "    <tr>\n",
       "      <th>3</th>\n",
       "      <td>3</td>\n",
       "      <td>2022-02-06</td>\n",
       "      <td>on saturday  indiana played  strong first half  faded   second   minutes  league leader illinois       loss  after  game  assembly call  live  switchyard brewery  bloomington   annual meetup  the show included  live appearence  iu players anthony leal  jordan geronimo   khristian lander  on  mics  jerod morris  andy bottoms  ryan phillips  brian tonsoni  we also point    meaningful moments  may  missed  go inside  numbers   hand   game balls  all         edition  the assembly call   music pr...</td>\n",
       "      <td>iu illinois postgame show  switchyard  hoosiers fade late against illini</td>\n",
       "      <td>0.864837</td>\n",
       "      <td>0.176018</td>\n",
       "      <td>0.830891</td>\n",
       "      <td>0.169109</td>\n",
       "      <td>positive_new</td>\n",
       "      <td>1</td>\n",
       "      <td>0</td>\n",
       "    </tr>\n",
       "    <tr>\n",
       "      <th>4</th>\n",
       "      <td>4</td>\n",
       "      <td>2022-01-30</td>\n",
       "      <td>erika jayne    hook   least  illinois   the real housewives of beverly hills star   dismissed   estranged husband tom girardi    embezzlement  fraud lawsuit   according  court documents filed   state  jan      pursuant  stipulation  plaintiff   claims  defendants ej global llc  erika girardi  dismissed without prejudice  without costs  according   filing  obtained  e  news  shortly   decision made  jay edelson    attorney   plaintiffs   case  took  twitter  vow  carry   clients  legal fight ...</td>\n",
       "      <td>erika jayne dismissed from fraud  embezzlement lawsuit against tom girardi in illinois</td>\n",
       "      <td>0.177808</td>\n",
       "      <td>0.829553</td>\n",
       "      <td>0.176509</td>\n",
       "      <td>0.823491</td>\n",
       "      <td>negative_new</td>\n",
       "      <td>0</td>\n",
       "      <td>1</td>\n",
       "    </tr>\n",
       "  </tbody>\n",
       "</table>\n",
       "</div>"
      ],
      "text/plain": [
       "   Unnamed: 0        date  \\\n",
       "0           0  2022-03-15   \n",
       "1           1  2022-03-21   \n",
       "2           2  2022-04-15   \n",
       "3           3  2022-02-06   \n",
       "4           4  2022-01-30   \n",
       "\n",
       "                                                                                                                                                                                                                                                                                                                                                                                                                                                                                                            clean_text  \\\n",
       "0  chicago  new york flights  chicago  new york flights  ticket   lowest cost  find  lowest prices   coming chicago  new york flights   bookflight  also  book new york  chicago flights  there  currently   flights  fly  chicago  new york  to get   savings   booking flights  click  fare calendar button  choose  dates  want  book  chicago  new york flights information looking  chicago  new york flight  here     aware   to make  easier  save time  select  airport closest   destination  want  go   t...   \n",
       "1     w wrightwood ave apt          the gaertner building  racine  wrightwood  lincoln park    scientific  astronomical instrument factory   it  best known  pioneering  ellipsometer  originally built     architects schmidt  garden   martin    historic structure  converted    condos exactly   years ago  an elevator building  attached garage parking   particular pricey unit comes   open concept living dining area  glass blocks   exposed brickwork  currently contingent   property fits today curren...   \n",
       "2    north michigan avenue  chicago  illinois                   email chicago subzero repair companies chicago subzero repair email  established january   for     years  chicago sub zero repair   providing superior sub zero service  restore comfort  convenience back   home  from simple  significant repairs   company   necessary knowledge  tools  get  job done right  all parts used  certified  sub zero   repair  backed   comprehensive warranty  service areas  residents include garfield park  sou...   \n",
       "3  on saturday  indiana played  strong first half  faded   second   minutes  league leader illinois       loss  after  game  assembly call  live  switchyard brewery  bloomington   annual meetup  the show included  live appearence  iu players anthony leal  jordan geronimo   khristian lander  on  mics  jerod morris  andy bottoms  ryan phillips  brian tonsoni  we also point    meaningful moments  may  missed  go inside  numbers   hand   game balls  all         edition  the assembly call   music pr...   \n",
       "4  erika jayne    hook   least  illinois   the real housewives of beverly hills star   dismissed   estranged husband tom girardi    embezzlement  fraud lawsuit   according  court documents filed   state  jan      pursuant  stipulation  plaintiff   claims  defendants ej global llc  erika girardi  dismissed without prejudice  without costs  according   filing  obtained  e  news  shortly   decision made  jay edelson    attorney   plaintiffs   case  took  twitter  vow  carry   clients  legal fight ...   \n",
       "\n",
       "                                                                              clean_title  \\\n",
       "0                                                               chicago  new york flights   \n",
       "1                                           five lofts for sale  former chicago factories   \n",
       "2                               chicago subzero repair   chicago  illinois  united states   \n",
       "3                iu illinois postgame show  switchyard  hoosiers fade late against illini   \n",
       "4  erika jayne dismissed from fraud  embezzlement lawsuit against tom girardi in illinois   \n",
       "\n",
       "   positive  negative  positive_new  negative_new     Sentiment  \\\n",
       "0  0.989108  0.003644      0.996329      0.003671  positive_new   \n",
       "1  0.963150  0.073637      0.928976      0.071024  positive_new   \n",
       "2  0.969308  0.314146      0.755234      0.244766  positive_new   \n",
       "3  0.864837  0.176018      0.830891      0.169109  positive_new   \n",
       "4  0.177808  0.829553      0.176509      0.823491  negative_new   \n",
       "\n",
       "   Sentiment_value  Sentiment_Pred  \n",
       "0                1               1  \n",
       "1                1               1  \n",
       "2                1               0  \n",
       "3                1               0  \n",
       "4                0               1  "
      ]
     },
     "execution_count": 5,
     "metadata": {},
     "output_type": "execute_result"
    }
   ],
   "source": [
    "zero_shot_bert_sentiment.head()"
   ]
  },
  {
   "cell_type": "code",
   "execution_count": 10,
   "metadata": {},
   "outputs": [],
   "source": [
    "# Creating positive and negative datasets\n",
    "\n",
    "df_positive_news = zero_shot_bert_sentiment[zero_shot_bert_sentiment['Sentiment_Pred']==1]\n",
    "df_negative_news = zero_shot_bert_sentiment[zero_shot_bert_sentiment['Sentiment_Pred']==0]"
   ]
  },
  {
   "cell_type": "code",
   "execution_count": 11,
   "metadata": {},
   "outputs": [
    {
     "data": {
      "text/plain": [
       "((71981, 11), (93379, 11))"
      ]
     },
     "execution_count": 11,
     "metadata": {},
     "output_type": "execute_result"
    }
   ],
   "source": [
    "df_positive_news.shape, df_negative_news.shape"
   ]
  },
  {
   "cell_type": "code",
   "execution_count": 12,
   "metadata": {
    "executionInfo": {
     "elapsed": 140,
     "status": "ok",
     "timestamp": 1653803217144,
     "user": {
      "displayName": "Vritti Gandhi",
      "userId": "01901719497825676340"
     },
     "user_tz": 300
    },
    "id": "PRg5998JKx0g"
   },
   "outputs": [],
   "source": [
    "import gensim\n",
    "from gensim import corpora, models\n",
    "from gensim.models.ldamulticore import LdaMulticore\n",
    "from gensim.utils import simple_preprocess\n",
    "from gensim.models import CoherenceModel\n",
    "import time \n",
    "\n",
    "import pyLDAvis\n",
    "from pyLDAvis import gensim_models as gensimvis\n",
    "pyLDAvis.enable_notebook()\n",
    "\n",
    "import warnings\n",
    "warnings.filterwarnings(\"ignore\")"
   ]
  },
  {
   "cell_type": "code",
   "execution_count": 13,
   "metadata": {
    "executionInfo": {
     "elapsed": 4,
     "status": "ok",
     "timestamp": 1653803148585,
     "user": {
      "displayName": "Vritti Gandhi",
      "userId": "01901719497825676340"
     },
     "user_tz": 300
    },
    "id": "VWevQQkIWNs7"
   },
   "outputs": [],
   "source": [
    "start_time = time.time()\n",
    "\n",
    "def tic():\n",
    "    global start_time \n",
    "    start_time = time.time()\n",
    "\n",
    "def tac():\n",
    "    t_sec = round(time.time() - start_time)\n",
    "    (t_min, t_sec) = divmod(t_sec,60)\n",
    "    (t_hour,t_min) = divmod(t_min,60) \n",
    "    print(f'Execution time to calculate for topic {k}: {t_hour}hour:{t_min}min:{t_sec}sec'.format(t_hour,t_min,t_sec))"
   ]
  },
  {
   "cell_type": "code",
   "execution_count": 14,
   "metadata": {
    "executionInfo": {
     "elapsed": 200836,
     "status": "ok",
     "timestamp": 1653803420630,
     "user": {
      "displayName": "Vritti Gandhi",
      "userId": "01901719497825676340"
     },
     "user_tz": 300
    },
    "id": "_cJBwlvbWV8D"
   },
   "outputs": [],
   "source": [
    "def sent_to_words(sentences):\n",
    "    for sentence in sentences:\n",
    "        yield(gensim.utils.simple_preprocess(str(sentence), deacc=True))  # deacc=True removes punctuations\n",
    "        \n",
    "        \n",
    "data_list_positive = df_positive_news['clean_text'].tolist()        \n",
    "data_tokens_positive = list(sent_to_words(data_list_positive))\n",
    "\n",
    "data_list_negative = df_negative_news['clean_text'].tolist()        \n",
    "data_tokens_negative = list(sent_to_words(data_list_negative))"
   ]
  },
  {
   "cell_type": "code",
   "execution_count": 15,
   "metadata": {
    "colab": {
     "base_uri": "https://localhost:8080/"
    },
    "executionInfo": {
     "elapsed": 341062,
     "status": "ok",
     "timestamp": 1653803888098,
     "user": {
      "displayName": "Vritti Gandhi",
      "userId": "01901719497825676340"
     },
     "user_tz": 300
    },
    "id": "rlO4LHhvWknc",
    "outputId": "930c51e6-0526-48f6-dc8f-f1af9bf9e592"
   },
   "outputs": [
    {
     "name": "stdout",
     "output_type": "stream",
     "text": [
      "CPU times: user 3 µs, sys: 0 ns, total: 3 µs\n",
      "Wall time: 5.48 µs\n"
     ]
    }
   ],
   "source": [
    "%time\n",
    "\n",
    "bigram_positive = gensim.models.Phrases(data_tokens_positive, min_count=1, threshold=1) \n",
    "trigram_positive = gensim.models.Phrases(bigram_positive[data_tokens_positive], threshold=1)\n",
    "\n",
    "bigram_mod_positive = gensim.models.phrases.Phraser(bigram_positive)\n",
    "trigram_mod_positive = gensim.models.phrases.Phraser(trigram_positive)"
   ]
  },
  {
   "cell_type": "code",
   "execution_count": 16,
   "metadata": {
    "colab": {
     "base_uri": "https://localhost:8080/"
    },
    "executionInfo": {
     "elapsed": 457945,
     "status": "ok",
     "timestamp": 1653804396313,
     "user": {
      "displayName": "Vritti Gandhi",
      "userId": "01901719497825676340"
     },
     "user_tz": 300
    },
    "id": "Eyyfx9w8W05T",
    "outputId": "256105e4-5e1d-43ce-e391-6b609f78216f"
   },
   "outputs": [
    {
     "name": "stdout",
     "output_type": "stream",
     "text": [
      "CPU times: user 3 µs, sys: 0 ns, total: 3 µs\n",
      "Wall time: 5.72 µs\n"
     ]
    }
   ],
   "source": [
    "%time\n",
    "\n",
    "bigram_negative = gensim.models.Phrases(data_tokens_negative, min_count=1, threshold=1) \n",
    "trigram_negative = gensim.models.Phrases(bigram_negative[data_tokens_negative], threshold=1)\n",
    "\n",
    "bigram_mod_negative = gensim.models.phrases.Phraser(bigram_negative)\n",
    "trigram_mod_negative = gensim.models.phrases.Phraser(trigram_negative)"
   ]
  },
  {
   "cell_type": "code",
   "execution_count": 17,
   "metadata": {
    "colab": {
     "base_uri": "https://localhost:8080/"
    },
    "executionInfo": {
     "elapsed": 136,
     "status": "ok",
     "timestamp": 1653804510495,
     "user": {
      "displayName": "Vritti Gandhi",
      "userId": "01901719497825676340"
     },
     "user_tz": 300
    },
    "id": "k41ePICkZXC9",
    "outputId": "9f40566b-9bf6-43cf-95f3-0e6024eb1915"
   },
   "outputs": [
    {
     "name": "stderr",
     "output_type": "stream",
     "text": [
      "[nltk_data] Downloading package stopwords to /home/vritti/nltk_data...\n",
      "[nltk_data]   Package stopwords is already up-to-date!\n"
     ]
    }
   ],
   "source": [
    "import nltk\n",
    "from nltk.corpus import stopwords\n",
    "import spacy\n",
    "nltk.download('stopwords')\n",
    "stop_words = stopwords.words('english')\n",
    "\n",
    "# Define functions for stopwords, bigrams, trigrams and lemmatization\n",
    "def remove_stopwords(texts):\n",
    "    return [[word for word in simple_preprocess(str(doc)) if word not in stop_words] for doc in texts]\n",
    "\n",
    "def make_bigrams(texts, bigram_mod):\n",
    "    return [bigram_mod[doc] for doc in texts]\n",
    "\n",
    "def make_trigrams(texts, bigram_mod, trigram_mod):\n",
    "    return [trigram_mod[bigram_mod[doc]] for doc in texts]\n",
    "\n",
    "def lemmatization(texts, allowed_postags=['NOUN', 'ADJ', 'VERB', 'ADV']):\n",
    "    texts_out = []\n",
    "    for sent in texts:\n",
    "        doc = nlp(\" \".join(sent)) \n",
    "        texts_out.append([token.lemma_ for token in doc if token.pos_ in allowed_postags])\n",
    "    return texts_out"
   ]
  },
  {
   "cell_type": "code",
   "execution_count": 18,
   "metadata": {
    "id": "IGO1m1t_asKf"
   },
   "outputs": [
    {
     "name": "stdout",
     "output_type": "stream",
     "text": [
      "['find_lowest', 'price', 'new_york_flights_bookflight', 'also', 'book', 'new_york_chicago', 'flight', 'currently', 'savings_booke', 'date', 'chicago_new_york', 'flight', 'information', 'look', 'flight', 'aware', 'make_easi', 'code', 'currently', 'airlines_operate', 'flight', 'every_week', 'airfare', 'flight', 'would', 'could_higher', 'base', 'date_availability', 'suggested_take', 'flight', 'always', 'cost_less', 'flight_detail', 'chicago_new_york', 'look', 'chicago_new_york', 'flights_plenty', 'airlines_currently', 'offer', 'include', 'however_typically', 'cost_less', 'direct_flight', 'offered_various', 'airlines_follow', 'airlines_american_airline', 'depart', 'route', 'illinois_third_largest', 'city_united_state', 'metropolitan_amenitie', 'entertainment_shoppe', 'exquisite_eate', 'cities_globally', 'significance', 'honor_tire', 'pack', 'sandy_beache', 'public_art', 'impressive_collection', 'architectural_collection', 'around_globe', 'adler_planetarium', 'information', 'space_astronomy', 'field_museum_natural_history', 'shedd_aquarium', 'good', 'collection_marine', 'life', 'referred_museum', 'campus', 'among_stunning', 'spot', 'lake', 'modern_art', 'abundance_ancient', 'artifact', 'city', 'covered_paradise', 'even', 'area', 'less', 'even_luxurious', 'item', 'district', 'city_magnificent', 'mile', 'great', 'department_store', 'among_b', 'restaurants_city', 'offers_wide_range', 'ethnic_root', 'important', 'transport_hub', 'com', 'site', 'discounts_vacation', 'package', 'possible', 'purchase_cheap', 'flights_hotel', 'destination_anywhere', 'world_according', 'budget', 'requirement', 'understood_listening', 'new_york_state', 'much', 'center', 'also_known', 'capital', 'also', 'fashion_art', 'research_technology', 'education_entertainment', 'city_locate', 'globally', 'also', 'often_referre', 'town', 'beautiful_lively', 'city', 'aspect', 'place_study', 'history', 'fantastic', 'detail', 'city_united_state', 'capital_city', 'city', 'know', 'appearance', 'know', 'warm_welcome', 'ultimate', 'experience_incredible', 'city', 'sure_visit', 'many', 'renowned_attraction', 'provide', 'many', 'best_moment', 'enjoyment', 'empire_state_builde', 'trade', 'history_attraction', 'want_visit', 'gorgeous', 'city', 'need', 'search', 'perfect_time', 'restaurant', 'also', 'draw_tourist', 'tour_reasonable', 'price', 'com', 'travel', 'tour', 'related_service', 'faqs', 'chicago_new_york', 'flight', 'make', 'payment_future', 'tickets_chicago', 'new_york_flight', 'offer_option', 'various', 'receive_confirmation', 'get', 'ticket_confirmation', 'register', 'retrieve_baggage', 'lose', 'chicago_new_york', 'flight', 'contact_airline', 'give_information', 'include', 'identity_proof', 'proof', 'address', 'travel_information', 'recent', 'immediate_discount', 'flight', 'go', 'booking_page', 'flight', 'find_best', 'deal', 'use', 'purchase_ticket', 'need', 'supply', 'person', 'flight', 'therefore', 'contact_airline', 'check', 'airlines_operate', 'chicago_new_york', 'flight', 'offer_sleeping', 'area', 'many_airline', 'provide', 'space_sleepe', 'time', 'service_offered', 'fee_p', 'use', 'basis', 'popular_airline', 'top', 'airlines_globally', 'reason', 'pick', 'option', 'economic', 'class', 'business_class', 'offers_distinct_advantage', 'large', 'many_airline', 'relax_waite', 'board_plane', 'many', 'seats_reserve', 'seat', 'could', 'book', 'guest', 'popular_classe', 'flights_traveler', 'prefer', 'business', 'economy_class', 'flight', 'flight', 'pass_confirming', 'booking']\n",
      "CPU times: user 24min 49s, sys: 3.4 s, total: 24min 52s\n",
      "Wall time: 24min 52s\n"
     ]
    }
   ],
   "source": [
    "%%time\n",
    "\n",
    "# Remove Stop Words\n",
    "data_tokens_nostops_positive = remove_stopwords(data_tokens_positive)\n",
    "\n",
    "# Create n-grams\n",
    "data_words_bigrams_positive = make_bigrams(data_tokens_nostops_positive, bigram_mod_positive)\n",
    "data_words_trigrams_positive = make_trigrams(data_tokens_nostops_positive, bigram_mod_positive, trigram_mod_positive)\n",
    "\n",
    "# Combine tokens and n-grams\n",
    "data_tokens_combined_positive = data_words_trigrams_positive\n",
    "\n",
    "# Initialize spacy 'en' model, keeping only tagger component (for efficiency)\n",
    "nlp = spacy.load(\"en_core_web_sm\", disable=['parser', 'ner'])\n",
    "\n",
    "# Lemmatize text keeping only noun, adj, vb, adv\n",
    "data_lemmatized_positive = lemmatization(data_tokens_combined_positive, allowed_postags=['NOUN', 'ADJ', 'VERB', 'ADV'])\n",
    "\n",
    "print(*data_lemmatized_positive[:1])"
   ]
  },
  {
   "cell_type": "code",
   "execution_count": 19,
   "metadata": {
    "id": "82EvNqjrbklf"
   },
   "outputs": [
    {
     "name": "stdout",
     "output_type": "stream",
     "text": [
      "['year', 'repair', 'service', 'restore', 'comfort', 'convenience', 'back_home', 'simple', 'significant', 'necessary', 'knowledge', 'right', 'part', 'repair', 'back', 'comprehensive', 'warranty', 'resident', 'include', 'bronzeville', 'chinatown']\n",
      "CPU times: user 10min 46s, sys: 1.08 s, total: 10min 47s\n",
      "Wall time: 10min 47s\n"
     ]
    }
   ],
   "source": [
    "%%time\n",
    "\n",
    "# Remove Stop Words\n",
    "data_tokens_nostops_negative = remove_stopwords(data_tokens_negative)\n",
    "\n",
    "# Create n-grams\n",
    "data_words_bigrams_negative = make_bigrams(data_tokens_nostops_negative, bigram_mod_negative)\n",
    "data_words_trigrams_negative = make_trigrams(data_tokens_nostops_negative, bigram_mod_negative, trigram_mod_negative)\n",
    "\n",
    "# Combine tokens and n-grams\n",
    "data_tokens_combined_negative = data_words_trigrams_negative\n",
    "\n",
    "# Initialize spacy 'en' model, keeping only tagger component (for efficiency)\n",
    "nlp = spacy.load(\"en_core_web_sm\", disable=['parser', 'ner'])\n",
    "\n",
    "# Lemmatize text keeping only noun, adj, vb, adv\n",
    "data_lemmatized_negative = lemmatization(data_tokens_combined_negative, allowed_postags=['NOUN', 'ADJ', 'VERB', 'ADV'])\n",
    "\n",
    "print(*data_lemmatized_negative[:1])"
   ]
  },
  {
   "cell_type": "code",
   "execution_count": 20,
   "metadata": {},
   "outputs": [],
   "source": [
    "# Creating the term dictionary of our courpus, where every unique term is assigned an index. \n",
    "dictionary_positive = corpora.Dictionary(data_lemmatized_positive)\n",
    "\n",
    "# Converting list of documents (corpus) into Document Term Matrix using dictionary prepared above.\n",
    "doc_term_matrix_positive = [dictionary_positive.doc2bow(doc) for doc in data_lemmatized_positive]"
   ]
  },
  {
   "cell_type": "code",
   "execution_count": 21,
   "metadata": {},
   "outputs": [],
   "source": [
    "# Creating the term dictionary of our courpus, where every unique term is assigned an index. \n",
    "dictionary_negative = corpora.Dictionary(data_lemmatized_negative)\n",
    "\n",
    "# Converting list of documents (corpus) into Document Term Matrix using dictionary prepared above.\n",
    "doc_term_matrix_negative = [dictionary_negative.doc2bow(doc) for doc in data_lemmatized_negative]"
   ]
  },
  {
   "cell_type": "code",
   "execution_count": 22,
   "metadata": {},
   "outputs": [],
   "source": [
    "# tuning\n",
    "def compute_coherence_values(corpus, dictionary, k, a, b):\n",
    "    \n",
    "    lda_model = LdaMulticore(corpus=doc_term_matrix,\n",
    "                       id2word=dictionary,\n",
    "                       num_topics=k,\n",
    "                       random_state=100,                  \n",
    "                       passes=10,\n",
    "                       alpha=a,\n",
    "                       eta=b,\n",
    "                       workers=workers)\n",
    "    \n",
    "    coherence_model_lda = CoherenceModel(model=lda_model, texts=data_lemmatized, dictionary=dictionary, coherence='c_v')\n",
    "    \n",
    "    return coherence_model_lda.get_coherence()"
   ]
  },
  {
   "cell_type": "code",
   "execution_count": 23,
   "metadata": {},
   "outputs": [
    {
     "name": "stdout",
     "output_type": "stream",
     "text": [
      "Available CPUs: 6\n"
     ]
    }
   ],
   "source": [
    "import multiprocessing\n",
    "\n",
    "num_processors = multiprocessing.cpu_count()\n",
    "print(f'Available CPUs: {num_processors}')\n",
    "\n",
    "workers = num_processors-1"
   ]
  },
  {
   "cell_type": "code",
   "execution_count": 24,
   "metadata": {},
   "outputs": [
    {
     "name": "stdout",
     "output_type": "stream",
     "text": [
      "CPU times: user 3 µs, sys: 0 ns, total: 3 µs\n",
      "Wall time: 5.72 µs\n",
      "\n",
      "Coherence Score:  0.437687411636254\n"
     ]
    }
   ],
   "source": [
    "# Running LDA with 7 topics for positive sentiments\n",
    "\n",
    "%time\n",
    "\n",
    "positive_lda_model = LdaMulticore(corpus=doc_term_matrix_positive,\n",
    "                       id2word=dictionary_positive,\n",
    "                       num_topics=7,\n",
    "                       random_state=100,\n",
    "                       passes=10,\n",
    "                       alpha=\"asymmetric\",\n",
    "                       eta=\"auto\",\n",
    "                       workers = workers)\n",
    "\n",
    "coherence_model_lda = CoherenceModel(model=positive_lda_model, texts=data_lemmatized_positive, \\\n",
    "                                     dictionary=dictionary_positive, \n",
    "                                     coherence='c_v')\n",
    "coherence_lda = coherence_model_lda.get_coherence()\n",
    "print('\\nCoherence Score: ', coherence_lda)"
   ]
  },
  {
   "cell_type": "code",
   "execution_count": 25,
   "metadata": {},
   "outputs": [
    {
     "name": "stdout",
     "output_type": "stream",
     "text": [
      "CPU times: user 3 µs, sys: 0 ns, total: 3 µs\n",
      "Wall time: 5.01 µs\n"
     ]
    },
    {
     "name": "stderr",
     "output_type": "stream",
     "text": [
      "/software-msca/ivy2/env/2021.05/ML2/lib/python3.9/site-packages/past/builtins/misc.py:45: DeprecationWarning: the imp module is deprecated in favour of importlib; see the module's documentation for alternative uses\n",
      "  from imp import reload\n",
      "/software-msca/ivy2/env/2021.05/ML2/lib/python3.9/site-packages/past/builtins/misc.py:45: DeprecationWarning: the imp module is deprecated in favour of importlib; see the module's documentation for alternative uses\n",
      "  from imp import reload\n",
      "/software-msca/ivy2/env/2021.05/ML2/lib/python3.9/site-packages/past/builtins/misc.py:45: DeprecationWarning: the imp module is deprecated in favour of importlib; see the module's documentation for alternative uses\n",
      "  from imp import reload\n",
      "/software-msca/ivy2/env/2021.05/ML2/lib/python3.9/site-packages/past/builtins/misc.py:45: DeprecationWarning: the imp module is deprecated in favour of importlib; see the module's documentation for alternative uses\n",
      "  from imp import reload\n",
      "/software-msca/ivy2/env/2021.05/ML2/lib/python3.9/site-packages/past/builtins/misc.py:45: DeprecationWarning: the imp module is deprecated in favour of importlib; see the module's documentation for alternative uses\n",
      "  from imp import reload\n",
      "/software-msca/ivy2/env/2021.05/ML2/lib/python3.9/site-packages/past/builtins/misc.py:45: DeprecationWarning: the imp module is deprecated in favour of importlib; see the module's documentation for alternative uses\n",
      "  from imp import reload\n"
     ]
    }
   ],
   "source": [
    "%time\n",
    "\n",
    "lda_display = gensimvis.prepare(positive_lda_model, doc_term_matrix_positive, dictionary_positive, \\\n",
    "                                sort_topics=False, mds='mmds')"
   ]
  },
  {
   "cell_type": "code",
   "execution_count": 26,
   "metadata": {},
   "outputs": [
    {
     "data": {
      "text/html": [
       "\n",
       "<link rel=\"stylesheet\" type=\"text/css\" href=\"https://cdn.jsdelivr.net/gh/bmabey/pyLDAvis@3.3.1/pyLDAvis/js/ldavis.v1.0.0.css\">\n",
       "\n",
       "\n",
       "<div id=\"ldavis_el41951402453668340006967384239\"></div>\n",
       "<script type=\"text/javascript\">\n",
       "\n",
       "var ldavis_el41951402453668340006967384239_data = {\"mdsDat\": {\"x\": [-0.16518523489395956, -0.28940773309661394, 0.34938651383594316, 0.06956821365618461, 0.10592862958101164, 0.005221757965277015, -0.07551214704784297], \"y\": [0.15927953351097607, -0.1533623665194629, -0.10642692817753964, -0.10801787443761314, 0.23827523093254913, -0.29518265448214875, 0.2654350591732392], \"topics\": [1, 2, 3, 4, 5, 6, 7], \"cluster\": [1, 1, 1, 1, 1, 1, 1], \"Freq\": [28.752901916094782, 8.792502182997985, 4.890139732268954, 2.880669643674264, 14.674466021320418, 1.5963859387842019, 38.4129345648594]}, \"tinfo\": {\"Term\": [\"say\", \"game\", \"team\", \"season\", \"also\", \"play\", \"player\", \"bull\", \"fact\", \"bear\", \"company\", \"product\", \"well\", \"school\", \"state\", \"win\", \"go\", \"get\", \"section\", \"point\", \"score\", \"lawyer\", \"alcohol_drug_rehab_center\", \"come\", \"child\", \"take\", \"roof\", \"student\", \"field\", \"business\", \"chicago_truck_accident_lawyer\", \"chicago_personal_injury_lawyer\", \"chicago_accident_lawyer\", \"lender\", \"chicago_police_brutality_lawyer\", \"chicago_employment_lawyer\", \"chicago_sexual_harassment_lawyer\", \"chicago_injury_lawyer\", \"minutes_ago_failed_udp\", \"illinois_police_brutality_lawyer\", \"illinois_truck_accident_lawyer\", \"truck_accident\", \"announce_minutes_ago_faile\", \"chicago_insurance_lawyer\", \"chicago_semi_truck_accident\", \"illinois_insurance_claims_lawyer\", \"download_without\", \"service_anonymize_torrent_downloads\", \"expenditure\", \"chicago_immigration_lawyer\", \"minutes_ago_success_udp\", \"insurance_policie\", \"payday_advance\", \"seek_service\", \"mb_mb_mb_mb\", \"legal_responsibility\", \"loan_provider\", \"payday_loan\", \"illinois_residential_lease_agreement\", \"financial_loan\", \"financing\", \"purchaser\", \"loan\", \"legal_professional\", \"borrower\", \"consumer\", \"provider\", \"mortgage\", \"lawful\", \"workforce\", \"cbd\", \"corporation\", \"enterprise\", \"automobile\", \"obtain\", \"payment\", \"client\", \"customer\", \"shopper\", \"application\", \"company\", \"expertise\", \"buyer\", \"firm\", \"method\", \"accident\", \"function\", \"license\", \"business\", \"revenue\", \"individual\", \"lawyer\", \"cost\", \"acquire\", \"info\", \"fund\", \"service\", \"market\", \"website\", \"solution\", \"information\", \"provide\", \"supply\", \"require\", \"datum\", \"use\", \"may\", \"need\", \"price\", \"product\", \"include\", \"offer\", \"case\", \"state\", \"work\", \"get\", \"program\", \"also\", \"experience\", \"result\", \"time\", \"well\", \"good\", \"make\", \"find\", \"new\", \"go\", \"area\", \"year\", \"roof_covere\", \"family_lawyers_near\", \"source_hotel_food_drink\", \"divorce_lawyers_near\", \"chicago_divorce_attorney\", \"chicago_style_thin_crust\", \"new_beginnings_alcohol_drug\", \"attorneys_near\", \"chicago_divorce_lawyer\", \"divorce_lawyer\", \"chicago_tavern_style_pizza\", \"chicago_family_lawyer\", \"best_drug_rehab_center\", \"chicago_thin_crust_denver\", \"best_chicago_style\", \"divorce_lawyers_chicago\", \"roofing_repair_chicago_il\", \"chicago_family_lawyer_content\", \"chicago_divorce_attorneys_content\", \"alcohol_drug_rehab_center\", \"divorce_lawyers_content_section\", \"content_section_divorce_lawyer\", \"pre_alcoholic\", \"roof_repair_chicago\", \"minute_rule_divorce_lawyer\", \"rehab_center_content_section\", \"smart_trick_divorce_lawyer\", \"divorce_lawyers_chicago_content\", \"divorce_attorney_chicago_content\", \"roof_shingle\", \"alcohol_detox_chicago\", \"center_content_section\", \"drug_rehab_center\", \"chicago_content_section\", \"drug_detox_center\", \"rehab\", \"known_fact\", \"known_detail\", \"chicago_roofe\", \"known_incorrect_statement\", \"basic_principle\", \"single_strategy_use\", \"known_factual_statement\", \"content_section\", \"best_strategy_use\", \"fact\", \"section\", \"fascination\", \"roof\", \"roofing\", \"also\", \"table_content\", \"well\", \"get\", \"work\", \"center\", \"excitement\", \"know\", \"time\", \"see\", \"lawyer\", \"technique\", \"court\", \"additional_shares_last_quarter\", \"owns_shares_industrial_product\", \"total_transaction\", \"industrial_products_company_stock\", \"shares_illinois_tool_work\", \"ratio_debt_equity_ratio\", \"stock_sold_average_price\", \"shares_sold_average_price\", \"represents_dividend_annualized_basis\", \"ex_dividend_date_dividend\", \"latest_filings_insider_trade\", \"company_debt_equity_ratio\", \"welding_construction_products_specialty\", \"institutional_investor_owned_share\", \"components_fasteners_automotive_relate\", \"compared_consensus_estimate_billion\", \"compared_analyst_estimates_billion\", \"company_revenue_billion_quarter\", \"works_inc_nyse_itw\", \"compared_analysts_expectations_billion\", \"business_revenue_billion_quarter\", \"holdings_illinois_tool_work\", \"receive_concise_daily_summary\", \"products_company_stock_value\", \"com_get_latest_filing\", \"current_ratio_quick_ratio\", \"insider_trades_illinois_tool\", \"company_quick_ratio_current\", \"worth_purchasing_additional_share\", \"company_also_recently\", \"rated_stock_sell_rate\", \"illinois_tool_work\", \"product\", \"yield\", \"share\", \"report\", \"high\", \"percent_individuals_living_poverty\", \"poverty_line_total_individual\", \"\\u0430nd\", \"illinois_custody_lawyer\", \"living_poverty_line_total\", \"poverty_line_median_household\", \"total_employed_individuals_living\", \"line_total_individuals_living\", \"line_total_individuals_year\", \"individuals_years_old_live\", \"total_individuals_living_poverty\", \"income_percent_individuals_live\", \"line_percent_individuals_living\", \"living_poverty_line_percent\", \"line_total_employed_individual\", \"poverty_line_total_employe\", \"median_household_income_percent\", \"poverty_line_percent_individual\", \"household_income_percent_individual\", \"employed_individuals_living_poverty\", \"player_performance_stats_convenient\", \"game_results_favorite_team\", \"nearly_million_users_nationwide\", \"free_app\", \"reading_news_brief_powere\", \"returned_winter_break_prompte\", \"line_median_household_income\", \"district_officials_cancel_classe\", \"cash_bonus_required_activitie\", \"account_bonus\", \"chicago_tribune_historical_photo\", \"chicago_custody_lawyer\", \"essay\", \"chicago_style\", \"say\", \"state\", \"school\", \"child\", \"work\", \"student\", \"day\", \"spell\", \"college\", \"year\", \"get\", \"time\", \"covid\", \"kid\", \"bear\", \"format\", \"example\", \"com\", \"need\", \"paper\", \"family\", \"district\", \"place\", \"team\", \"offer\", \"program\", \"also\", \"look\", \"new\", \"bull\", \"cockburn\", \"lavine\", \"scored_point\", \"matchup\", \"postseason\", \"dosunmu\", \"offensively\", \"derozan\", \"free_throw_line\", \"buckeye\", \"strikeout\", \"points_shoote\", \"fleury\", \"eastern_conference\", \"read_sport\", \"added_point\", \"community_unit_school_district\", \"rutger\", \"physical_facilities_installed_maintaine\", \"wolverine\", \"padding_bottom_px_important\", \"grizzly\", \"milwaukee_buck\", \"bullpen\", \"vucevic\", \"innings\", \"spartan\", \"scoring_point\", \"layup\", \"illini\", \"chicago_bull\", \"quarterback\", \"rambler\", \"playoff\", \"sportsbook\", \"defensively\", \"chicago_bear\", \"cavalier\", \"hoosier\", \"cub\", \"offseason\", \"eberflus\", \"viking\", \"caruso\", \"inning\", \"game\", \"player\", \"ryan_pole\", \"redbird\", \"roster\", \"league\", \"teammate\", \"offense\", \"bear\", \"tournament\", \"ball\", \"season\", \"rebound\", \"basketball\", \"pole\", \"team\", \"coach\", \"win\", \"score\", \"play\", \"draft\", \"defense\", \"field\", \"buck\", \"point\", \"match\", \"go\", \"start\", \"pick\", \"get\", \"come\", \"lead\", \"year\", \"make\", \"take\", \"time\", \"also\", \"say\", \"good\", \"well\", \"look\", \"give\", \"run\", \"see\", \"need\", \"chicago_bankruptcy_law_firm\", \"clickevent_function_stoppropagation_card\", \"carousel_isuseraction_true_trackactive\", \"personal_bankruptcy_legal_representative\", \"personal_bankruptcy_lawyer\", \"availability_please_follow_fare\", \"latest_cheap_chicago_flight\", \"real_estate_finance_research\", \"view_bankruptcy_attorney_chicago\", \"shares_chicago_atlantic\", \"site_include_financial_companie\", \"impact_link\", \"ongoing_covid_pandemic_encourage\", \"real_estate_finance\", \"event_isuseraction_trackactive_card\", \"false_assettracked_foreach_function\", \"owl_assettracked_length_return\", \"card_carousel_card_carousel\", \"true_hasbeenlogged_false_assettracke\", \"assetid_hasbeenlogged_true_return\", \"touchonly_false_true_autoplaytimeout\", \"var_assetid_find_card\", \"else_var_activethings_owl\", \"true_loop_true_margin\", \"carousel_card_carousel_initialize\", \"responsiveclass_true_featured_classified\", \"item_index_array_item\", \"push_assetid_tncms_tracke\", \"activethings_function_index_value\", \"false_items_bind_previous\", \"chicago_atlantic_real_estate\", \"insolvency\", \"personal_bankruptcy\", \"control_prev_tnt_client\", \"discover_financial_service\", \"bankruptcy\", \"illinois_content_section\", \"also\", \"well\", \"attorney\", \"say\", \"legal_representative\", \"availability\", \"com\", \"time\", \"deal\", \"advantage\", \"lawyer\", \"want\", \"people\", \"charge\", \"get\", \"work\", \"save\", \"go\", \"guide\", \"field\", \"voight\", \"td_block_template_widget\", \"museum\", \"comedy\", \"chicago_fire_season_episode\", \"musician\", \"firehouse\", \"actress\", \"halstead\", \"severide\", \"td_wrapper_pulldown_filter\", \"ensemble\", \"soldier\", \"democracy\", \"brewery\", \"chicago_me\", \"td_block_title_wrap\", \"refugee\", \"lyric\", \"filter_td_pulldown_filter\", \"violet\", \"burgess\", \"sculpture\", \"episode\", \"racist\", \"dancer\", \"stella\", \"pulldown_filter_display_option\", \"windy_city_time\", \"atwater\", \"artist\", \"actor\", \"theater\", \"music\", \"band\", \"voter\", \"musical\", \"festival\", \"protest\", \"biden\", \"ukrainian\", \"politician\", \"ukraine\", \"concert\", \"album\", \"murder\", \"sing\", \"song\", \"trump\", \"daughter\", \"politic\", \"dinner\", \"tour\", \"art\", \"mother\", \"husband\", \"cast\", \"mayor\", \"film\", \"restaurant\", \"gun\", \"woman\", \"character\", \"black\", \"say\", \"city\", \"war\", \"student\", \"school\", \"tell\", \"teacher\", \"love\", \"show\", \"story\", \"family\", \"crime\", \"pandemic\", \"district\", \"live\", \"life\", \"parent\", \"call\", \"write\", \"world\", \"people\", \"child\", \"see\", \"make\", \"know\", \"take\", \"day\", \"come\", \"year\", \"think\", \"leave\", \"go\", \"new\", \"work\", \"time\", \"also\", \"even\", \"include\", \"first\", \"state\", \"get\", \"find\", \"would\", \"use\", \"give\", \"well\", \"may\"], \"Freq\": [60259.0, 14601.0, 23144.0, 13978.0, 40756.0, 13603.0, 7665.0, 6337.0, 11411.0, 9241.0, 21072.0, 7779.0, 23114.0, 8811.0, 20332.0, 6258.0, 29040.0, 30605.0, 5588.0, 12040.0, 5302.0, 7420.0, 2558.0, 19590.0, 6757.0, 19246.0, 4160.0, 6428.0, 6065.0, 12498.0, 1801.8955387655392, 795.3302232380385, 706.8989709742536, 742.5715314580409, 742.4783267322446, 590.6901490135482, 574.7452595034217, 516.8223071904162, 487.1700914991765, 500.9125510449357, 525.1585485700397, 477.9738281706135, 401.6047889786439, 395.33900762349884, 400.5319788821316, 380.5978659399309, 380.75793492553765, 380.7580496155202, 469.07904657610703, 350.1807445252568, 334.6685803191865, 299.8294910533849, 286.0743200345629, 278.8145588308924, 254.688182957559, 255.94369419622916, 240.78112417188348, 236.1826293226573, 231.26080429770406, 230.4743177425583, 1009.8547771462131, 609.5244997133439, 2941.7298493839116, 300.6497729233805, 356.4164006449927, 2962.1920714656326, 2843.417290525959, 833.2136242849114, 622.5952582614649, 975.3763687604467, 631.6631070395972, 1243.2662479961728, 1651.129592861063, 840.4439101630736, 3208.221046052786, 2083.15222962427, 3902.588148476796, 5191.690095067975, 959.7612511800656, 2622.498387792232, 16688.95346409704, 1204.6833909758914, 1005.6909955607401, 3880.1618222143884, 2479.460099990122, 2317.453465358637, 2692.8391303528656, 1847.671369189669, 9369.8167977149, 1844.978295480072, 6129.884736094619, 5757.292766154655, 4990.998529331764, 3005.7620312259196, 2578.283105730287, 3889.643472449461, 8169.860469058643, 5738.7613116986995, 4575.601505354946, 3348.626969376047, 5204.206901000514, 7460.678785132256, 3022.5416344288424, 4805.164362691404, 2865.1493600941653, 10609.540272150964, 10998.671455090485, 9526.557938788805, 4136.0113177049725, 4832.675889858867, 9762.563620583427, 5813.126296366071, 6010.749675689849, 8025.212239741875, 9776.24017161923, 9186.20761673547, 5507.521839737745, 10120.56396634704, 5402.849339048996, 4681.838683245251, 8303.07456587788, 6926.428991027649, 5821.043881079494, 6379.198737621161, 5442.770016485404, 5378.4897984411955, 5292.804453738956, 4899.845989622681, 4965.79395293274, 2175.509116547232, 1538.5921083110893, 811.063966336456, 792.6323608093733, 763.2869699222798, 595.5054240931565, 2018.845052263579, 565.7934174820037, 553.8044286343278, 454.41869358082926, 438.89522987507934, 430.5568732143758, 1807.7121790708436, 401.6970611128222, 383.7954117082859, 365.5581733058271, 359.8756295829075, 323.1688147390883, 308.1417318893192, 2551.980443923239, 301.7410609120145, 286.9878643244668, 280.6618725960553, 277.44077468629547, 265.17754885982544, 287.88406207339494, 259.48132719056815, 257.21504345959727, 244.15337628357992, 258.11007215328294, 573.8222083144836, 359.8775000712956, 582.3977429027929, 1616.036500188363, 294.7157403375179, 1126.2428496393263, 1385.9673637014469, 753.6419835980986, 466.35086634371794, 990.0463239687374, 931.1953348641135, 939.4985263431215, 1039.11297536427, 925.2759873112658, 740.7612394114161, 4357.378641809216, 2366.4502546397225, 830.0910418418771, 1775.1957959816855, 1036.482039922047, 6060.360305544315, 1004.9857276753163, 3116.710441994422, 2770.3053449680565, 2545.823357296269, 1304.7381320953575, 774.6304064650272, 1162.7723655650625, 1208.1881977247835, 1123.4482464631485, 923.1864647329663, 834.0203767986701, 818.2055845264802, 1739.0750486215002, 1559.239666502905, 1398.8643692815774, 1393.7689188471277, 1310.31245243683, 1069.2289862649288, 1004.6736448665515, 917.7931980530476, 1020.4631953073327, 1031.1481405640068, 843.1528595943106, 841.5373063578511, 851.8903399238122, 784.2554135624746, 658.1388540600011, 680.6865343261792, 655.5551860472455, 637.8840744737024, 625.6396488222221, 616.0822982421304, 620.0464088751378, 618.0774614956439, 616.5238588662427, 605.498575387921, 599.9522535328323, 567.5671705720354, 588.6381793153104, 556.2075826843405, 526.8424747824831, 720.4652219792335, 623.1360848689708, 762.4846386422432, 1771.9573489230781, 681.1280949502916, 805.7340687436301, 785.4100043474223, 653.9363558265335, 208.1085338402153, 208.10821210745047, 177.78575697615537, 137.44996704319723, 113.7686966626347, 113.30709440844518, 104.0811775677946, 104.08098606019648, 104.08095541898079, 104.08085583502977, 104.08098606019648, 104.08095541898079, 104.08093243806901, 104.08079455259838, 104.08087115563762, 104.08079455259838, 104.08082519381406, 104.08082519381406, 104.08079455259838, 104.08060304500026, 103.69129107894673, 103.69120681560356, 103.69120681560356, 106.73196445845403, 100.87806744356719, 88.98525409310385, 83.27543207442996, 89.26736010573327, 64.82975727748412, 64.83437644075063, 74.83625908804645, 223.96131832356346, 201.45712258374348, 173.01625258482795, 1492.51768322733, 733.4117765430165, 404.6869007780594, 344.5213416938519, 395.5044025400532, 268.2494420663936, 305.9006018859536, 137.1259821490123, 199.22438911946247, 298.61268065578304, 307.59745112888874, 296.06415882251633, 200.80003703370335, 207.39935822348824, 226.31243412469448, 137.86841880537978, 183.61388472864002, 191.3421815108252, 230.74865401287252, 155.02236719274427, 203.71726461546652, 172.35224212004005, 193.2339088856009, 204.3476310254178, 183.15826517181557, 183.59566852590743, 202.64883606528585, 183.49231570535738, 175.61638954593826, 6333.847771823149, 908.360341067864, 774.3499692645885, 681.7878694688857, 766.1055341113279, 486.1962411832452, 443.94277935130987, 323.87305146531384, 318.6496390525587, 263.8184909262198, 340.7011246674575, 292.9251236127131, 252.84708692028363, 276.45428169132583, 238.9542650505836, 267.67317038925944, 232.85153961527953, 254.9744168548595, 300.162856861888, 205.13945324812542, 205.89008964734217, 195.25591790185683, 200.40497298155378, 391.01019187849, 319.41826481443087, 192.18434154026664, 230.13807254021523, 242.11830517532331, 180.70174306407998, 175.08935458419066, 1781.0294744476212, 1412.750773896899, 1198.9019716849357, 525.9112517568395, 1343.883123134489, 413.6239914106644, 408.17637534685394, 1154.5506614010408, 277.1960990103688, 344.30340673862077, 2802.757998520129, 860.180457359143, 628.1250153307018, 474.70427731218376, 380.19109260670564, 333.8994676171414, 13191.465866134753, 6864.321219603342, 469.4596171598063, 557.8804173868214, 1233.3705270721348, 1561.0513334699176, 808.6725025366977, 2225.2095494915716, 7295.773098652755, 1167.2587217965975, 1897.0006909127637, 10141.234800363425, 1054.0748029361157, 1332.7208211630211, 1310.6103725828896, 15030.311201032839, 3325.1712752912235, 4582.619764316775, 3813.0658918125387, 8491.782099860859, 1970.130532882704, 2614.5104397379714, 3650.917503287698, 1655.7187740334798, 5148.066093998176, 2328.097153226677, 8054.998189329382, 4539.320734192023, 2684.1000063553156, 6885.75611103317, 5198.480951148816, 3901.3303679901014, 5601.160464063809, 5777.979119300396, 4845.271014861763, 5886.997310520558, 6294.796572633786, 6747.241920834594, 4085.455592128193, 4491.3155931426745, 3748.6007570908664, 3637.357035868618, 3068.325945208965, 3569.098916222644, 3070.082581107652, 178.53613411655687, 105.35473736582217, 105.35477981706785, 75.9884853702488, 74.4207693581364, 69.39168490271764, 62.55094259710444, 61.950074930606306, 67.77674612492892, 60.47894823775259, 60.28337959410435, 58.209793313040116, 56.74857049579975, 55.535271443484696, 53.404923601843485, 52.7052039646928, 52.7052039646928, 52.70518698419453, 52.7052039646928, 52.7052039646928, 52.705157268322566, 52.70518273906997, 52.7051657585717, 52.70517424882083, 52.705153023198, 52.705153023198, 52.705157268322566, 52.705148778073436, 52.70514453294887, 52.7051657585717, 430.4058781703003, 79.52759477973915, 108.40474899352243, 52.7051784939454, 60.00449613571649, 137.6935019950121, 81.50605206439553, 459.82656115306366, 226.21176968163033, 144.30005351367222, 256.94674323014283, 61.45876119379257, 80.61972099643165, 109.19231299332507, 127.94427626961695, 101.86037156926142, 77.33012302845445, 91.42442053301325, 89.7879335029256, 91.72530647202862, 78.66840703825265, 86.55754653240017, 81.96747163401287, 71.62780851317918, 76.47839821595564, 69.79454297894188, 71.18873103415464, 439.47773666996005, 417.9733273283838, 862.7145481213938, 417.504493369104, 394.16486683249303, 455.5436312246754, 391.3742079602159, 365.3018149520951, 334.4159510041276, 316.9240442962371, 308.3498145633593, 335.3569898079546, 310.39124311092866, 322.03144621660084, 302.56289835450076, 1065.567477449325, 281.3166937170085, 322.9839000637199, 268.9502946692894, 260.9979677312447, 271.94021882748956, 255.16253120414274, 251.29684083865783, 1906.0997618462718, 254.83435509374976, 236.38182269566767, 226.28295687853245, 211.64275526437225, 212.21420969673693, 253.99158270287055, 1803.2571167778278, 1319.4485615116484, 1053.121862597821, 2543.1676587573816, 1125.4333783186762, 735.9215078576922, 732.7933263295079, 630.8490221848366, 658.3856307124969, 820.9898835030784, 474.0578099639363, 450.8051880190387, 539.4644758065942, 793.2052595381654, 404.6310059217216, 1108.3245012178036, 368.2341786906528, 1335.6152251062524, 957.3286579559399, 1343.6918662070389, 659.9427243359581, 806.1560985876316, 1613.7795537469838, 1938.1084625694218, 1713.583498968888, 933.7210205035578, 911.810164117159, 1272.5304352506112, 2188.8191779636986, 2769.0717230244522, 792.3072250585078, 4365.0672011366905, 2290.365564424754, 1920.8209285493747, 47028.32601642399, 10695.547648397298, 1411.21090240994, 5605.117420318864, 7530.484140873439, 5502.544037479662, 2276.6264489628993, 4490.999388806716, 12450.484452790872, 4621.833865135982, 7996.427923554532, 2037.311164437261, 3159.9979862992423, 3283.3905694383852, 5492.307578254792, 5448.139992223947, 3273.1563574703605, 9116.583312728704, 4036.906412949481, 4395.9910896919555, 10491.263012163052, 5181.537289310343, 12719.590599829762, 14809.391555282984, 11093.28105695155, 11116.911575564534, 9172.546545642668, 11219.636546092734, 13649.496493246847, 7254.494033230207, 5968.740330111697, 14633.280165225771, 9133.074909233483, 14428.93996045863, 14735.838430155289, 17410.915775494213, 8810.04685568016, 10657.37615222096, 7322.745266572411, 9135.206125906812, 11247.29088023466, 7859.445769681763, 6604.299296199455, 8155.499386436798, 7269.036645162174, 8090.410656363682, 7828.903506197988], \"Total\": [60259.0, 14601.0, 23144.0, 13978.0, 40756.0, 13603.0, 7665.0, 6337.0, 11411.0, 9241.0, 21072.0, 7779.0, 23114.0, 8811.0, 20332.0, 6258.0, 29040.0, 30605.0, 5588.0, 12040.0, 5302.0, 7420.0, 2558.0, 19590.0, 6757.0, 19246.0, 4160.0, 6428.0, 6065.0, 12498.0, 1802.7853498633133, 796.0942603043861, 707.6518047174412, 743.405105581825, 743.359235410263, 591.449494196145, 575.5055528694606, 517.5701758143739, 487.909163123861, 501.6730472831054, 525.9785953425776, 478.73451100319915, 402.3434547778962, 396.08363538943513, 401.2876175334399, 381.3483003046673, 381.51299798211863, 381.51313743066095, 470.0675481039713, 350.92777380063495, 335.4062220388501, 300.59924300639733, 286.8164061420196, 279.55819885191755, 255.42490436813327, 256.6893227333805, 241.5234016788082, 236.92465255489566, 231.9970947659578, 231.21482848788395, 1020.9144192054084, 614.0461211254609, 3015.26163293642, 301.7595573295987, 358.5180555546875, 3047.105724149638, 2956.904793986704, 846.1888355408157, 631.1501384552048, 998.4206987166558, 642.3715778414257, 1284.024544134836, 1741.9311367869536, 866.4004685718044, 3508.843303727347, 2237.995739375492, 4313.45077134057, 5924.745555324254, 1005.3631174548664, 2913.024466168923, 21072.49641326788, 1283.5470684307863, 1059.2592410827283, 4575.1839266288, 2819.437593071323, 2623.1451908610084, 3094.6075064327156, 2074.4568584560775, 12498.071314093393, 2080.6986248336107, 7937.737260892144, 7420.644685425224, 6329.768912656631, 3601.73377673547, 3076.7690007515, 4942.446556477502, 11852.380557906565, 7948.007047396127, 6137.628705387684, 4290.2049264634015, 7310.00497367801, 11306.775224293393, 3801.1207845067643, 6783.355215338797, 3568.0481707261265, 20951.776420140937, 22246.54809808664, 19760.33912680845, 6107.4647123061395, 7779.451461398998, 23503.00227356195, 10833.01227387472, 12264.096514146422, 20332.096079156287, 29480.46092612057, 30605.68300411838, 11301.45140498695, 40756.96648597646, 10911.473411059404, 8218.574079128117, 30860.57586285634, 23114.90808883038, 17648.84602620428, 27464.696064679665, 15989.551866593074, 15644.383318636334, 29040.47655263228, 10639.975832650376, 25427.612394268966, 2176.321974353547, 1539.3987186086622, 811.8333591676042, 793.4160207718958, 764.0641649603117, 596.2943128443475, 2021.5234066245923, 566.5772251020105, 554.577996503163, 455.1936076025683, 439.66612642970586, 431.32585687478746, 1811.0542901713527, 402.46053084308653, 384.5628954569677, 366.3291801398512, 360.6417878736477, 323.9359738787324, 308.90871843653497, 2558.36758833358, 302.507431835598, 287.7534364160158, 281.4260816293151, 278.21448805740425, 265.9419873033264, 288.7162659421896, 260.24574250611767, 257.9807334518201, 244.91584283190147, 258.9214058798388, 575.9850767768876, 361.2801414486302, 588.0846050051089, 1680.15845471003, 296.03673338736866, 1263.7767634830875, 1772.422163764094, 883.3261689155896, 506.14981912794514, 1275.9226412877133, 1195.176491448831, 1211.9015680011332, 1406.5453753600304, 1236.1110859300738, 968.8586993140967, 11411.069339534064, 5588.0252612302775, 1219.003689670201, 4160.263933736373, 1834.7072861822612, 40756.96648597646, 1936.9227118944768, 23114.90808883038, 30605.68300411838, 29480.46092612057, 7142.85972582675, 1414.8424981683374, 18963.760015838147, 30860.57586285634, 20871.956845115874, 7420.644685425224, 2755.134907762594, 5700.503066783743, 1740.0605489669824, 1560.234859866842, 1399.8048849515674, 1394.735692944472, 1311.351295189053, 1070.1230123852483, 1005.547974926599, 918.6487061106625, 1021.4450492825976, 1032.1427320039459, 843.9961017442176, 842.3963065096607, 852.7630465097523, 785.1054720560543, 658.9467867477421, 681.5573147237012, 656.4109527329709, 638.7452912107831, 626.4926828908233, 616.9293005886395, 620.9002939923987, 618.957070991004, 617.403398859499, 606.3788516732918, 600.8254660476068, 568.4030770914982, 589.5187360509876, 557.051237445601, 527.6613966163458, 721.5901903961696, 624.3299328784967, 798.3937307908426, 7779.451461398998, 1162.3838730554014, 7598.366988843804, 12580.147313644313, 7671.7929992840645, 208.90265722436763, 208.9025023793373, 178.59482267844356, 138.33003591255522, 114.56445807673403, 114.10297720013003, 104.87292346762212, 104.87286280923024, 104.87286646346388, 104.87277127186199, 104.872904689228, 104.87289723657088, 104.87288564269079, 104.87281674341419, 104.87292973218207, 104.87286883286697, 104.87289976161652, 104.8729009512122, 104.87288802023556, 104.87287182770868, 104.48278593470278, 104.48275285813293, 104.48280525059911, 107.55975270413434, 101.66962173248876, 89.82812001231872, 84.06699316558387, 90.11663112412616, 65.62429316344847, 65.63074505766872, 75.99527651595241, 237.17576214673596, 286.17460275139916, 301.62697271194196, 60259.012229911896, 20332.096079156287, 8811.360473316785, 6757.958886597349, 29480.46092612057, 6428.120649933086, 15003.276338317657, 386.0797946538018, 2839.590731233765, 25427.612394268966, 30605.68300411838, 30860.57586285634, 3623.337196786882, 4783.657464381301, 9241.452621841905, 554.030946698063, 3856.9364405515325, 5531.182382848803, 19760.33912680845, 1435.0764584901308, 9915.948865998922, 3857.2248670702193, 12152.606757798754, 23144.279499712215, 10833.01227387472, 11301.45140498695, 40756.96648597646, 15452.346664581275, 15644.383318636334, 6337.843412864215, 909.1712256547771, 775.1444827262663, 682.5938974159025, 767.4136173311393, 487.03871524654033, 444.7444707159045, 324.64703033852425, 319.4189029582105, 264.5773051108665, 341.6979482381715, 293.83104027903073, 253.6294548192899, 277.31363521575787, 239.71351301362677, 268.5472117359847, 233.65034381273807, 255.87577285986836, 301.24110103311557, 205.8910257961039, 206.66989463865193, 196.0066746509341, 201.1762739198537, 392.5175890836297, 320.6735896679271, 192.9450022229647, 231.06145857396643, 243.11582461560474, 181.4590956563832, 175.845881749378, 1790.444203840224, 1423.3446248147145, 1211.2758452380508, 528.7831413195734, 1364.2696768045973, 416.09581266624946, 410.71780750094325, 1175.0847667299831, 278.39856094600304, 346.57638974001844, 2887.101678940204, 874.4182596775585, 636.5087292231693, 480.5760229922289, 383.9376811881397, 336.3624164862113, 14601.48021003323, 7665.225275716614, 479.0273087205906, 573.6851891499398, 1323.8276287081069, 1702.814725055561, 854.9340479364151, 2561.0655243964716, 9241.452621841905, 1287.83477274563, 2210.4480606913908, 13978.994472426974, 1163.483240659084, 1505.9432881357436, 1489.8154636456513, 23144.279499712215, 4288.428263477604, 6258.241473710243, 5302.247750235555, 13603.698303453504, 2476.027231630543, 3527.22312581635, 6065.612304242986, 2127.455737079969, 12040.911269097393, 3944.1575797290766, 29040.47655263228, 13654.819370881518, 5446.870586925262, 30605.68300411838, 19590.146186807193, 11623.625849069866, 25427.612394268966, 27464.696064679665, 19246.688634004793, 30860.57586285634, 40756.96648597646, 60259.012229911896, 17648.84602620428, 23114.90808883038, 15452.346664581275, 15182.876138651123, 8823.843743660093, 20871.956845115874, 19760.33912680845, 179.8056387059949, 106.16338059311964, 106.16346588166756, 76.82959095414033, 75.28859014930887, 70.20376741872558, 63.36257207762683, 62.75866769508481, 68.68342112769353, 61.288124168883044, 61.095907930820935, 59.021089785033034, 57.559554050073125, 56.346560603213746, 54.21344342457058, 53.513135830213756, 53.513173979084826, 53.51316902194704, 53.51318889908363, 53.51319168563404, 53.51314788176963, 53.513184938575044, 53.51316891527307, 53.5131791650732, 53.51316041352698, 53.513163816530685, 53.513169415573145, 53.51316165667259, 53.51316350083411, 53.513187124503325, 451.4238135144083, 88.45662313603128, 141.75650232453185, 53.51320331181521, 66.92632769178324, 361.2388821265098, 158.32677816807077, 40756.96648597646, 23114.90808883038, 4029.949947934004, 60259.012229911896, 125.45186197706155, 600.1388387677613, 5531.182382848803, 30860.57586285634, 7427.598630433602, 1496.9413683033272, 7420.644685425224, 10887.506432542781, 15690.781353914099, 4609.633491747145, 30605.68300411838, 29480.46092612057, 2643.7459601228206, 29040.47655263228, 2154.704797461879, 6065.612304242986, 440.2229433219874, 418.70840901952977, 864.3404124249558, 418.29804988721753, 394.91933898031965, 456.4364866879234, 392.1600417271602, 366.05717604909677, 335.1621105688503, 317.67453809620577, 309.0846229471675, 336.17315346366036, 311.16233025169447, 322.848403713904, 303.3375208605246, 1068.320035495333, 282.05132804005143, 323.87937149543785, 269.69664230725, 261.73245459020916, 272.712270144332, 255.90929981621014, 252.04057769400612, 1911.8143432276843, 255.6162299617194, 237.145619826207, 227.02723585656, 212.37713633247054, 212.95330380577826, 254.88129030410022, 1811.2213976959258, 1324.3174652970263, 1056.9179323138, 2577.3456690378357, 1133.9676312572567, 740.4146050721472, 737.4978962051796, 634.3466949130166, 662.6156915440024, 828.416713071863, 475.87963978940064, 452.40442155702453, 542.4030394560051, 801.0692628504298, 406.0747318925162, 1124.3090084470598, 369.54086582180537, 1362.4243088041474, 972.0696627437451, 1378.2430539985094, 668.68831439326, 820.5843405075116, 1667.8454432485341, 2020.4428323298584, 1783.074385259586, 953.5434731378505, 933.7123140993501, 1317.5802405485458, 2322.5707746454864, 2969.41318199652, 810.1909098143826, 4799.906286571986, 2452.9767115052605, 2041.1743605630425, 60259.012229911896, 12516.122611787368, 1481.2459427475596, 6428.120649933086, 8811.360473316785, 6385.044965772404, 2477.2413076395615, 5204.731267604482, 15826.745280393317, 5411.64932620091, 9915.948865998922, 2213.849692822789, 3670.4652780778742, 3857.2248670702193, 7007.198474247694, 6997.542131084909, 3908.9432793538404, 12991.77856381997, 4996.318003511251, 5531.848275529426, 15690.781353914099, 6757.958886597349, 20871.956845115874, 27464.696064679665, 18963.760015838147, 19246.688634004793, 15003.276338317657, 19590.146186807193, 25427.612394268966, 11212.334550582113, 8698.433755670216, 29040.47655263228, 15644.383318636334, 29480.46092612057, 30860.57586285634, 40756.96648597646, 16547.480655688487, 23503.00227356195, 12402.072090698692, 20332.096079156287, 30605.68300411838, 15989.551866593074, 11471.56709825182, 20951.776420140937, 15182.876138651123, 23114.90808883038, 22246.54809808664], \"Category\": [\"Default\", \"Default\", \"Default\", \"Default\", \"Default\", \"Default\", \"Default\", \"Default\", \"Default\", \"Default\", \"Default\", \"Default\", \"Default\", \"Default\", \"Default\", \"Default\", \"Default\", \"Default\", \"Default\", \"Default\", \"Default\", \"Default\", \"Default\", \"Default\", \"Default\", \"Default\", \"Default\", \"Default\", \"Default\", \"Default\", \"Topic1\", \"Topic1\", \"Topic1\", \"Topic1\", \"Topic1\", \"Topic1\", \"Topic1\", \"Topic1\", \"Topic1\", \"Topic1\", \"Topic1\", \"Topic1\", \"Topic1\", \"Topic1\", \"Topic1\", \"Topic1\", \"Topic1\", \"Topic1\", \"Topic1\", \"Topic1\", \"Topic1\", \"Topic1\", \"Topic1\", \"Topic1\", \"Topic1\", \"Topic1\", \"Topic1\", \"Topic1\", \"Topic1\", \"Topic1\", \"Topic1\", \"Topic1\", \"Topic1\", \"Topic1\", \"Topic1\", \"Topic1\", \"Topic1\", \"Topic1\", \"Topic1\", \"Topic1\", \"Topic1\", \"Topic1\", \"Topic1\", \"Topic1\", \"Topic1\", \"Topic1\", \"Topic1\", \"Topic1\", \"Topic1\", \"Topic1\", \"Topic1\", \"Topic1\", \"Topic1\", \"Topic1\", \"Topic1\", \"Topic1\", \"Topic1\", \"Topic1\", \"Topic1\", \"Topic1\", \"Topic1\", \"Topic1\", \"Topic1\", \"Topic1\", \"Topic1\", \"Topic1\", \"Topic1\", \"Topic1\", \"Topic1\", \"Topic1\", \"Topic1\", \"Topic1\", \"Topic1\", \"Topic1\", \"Topic1\", \"Topic1\", \"Topic1\", \"Topic1\", \"Topic1\", \"Topic1\", \"Topic1\", \"Topic1\", \"Topic1\", \"Topic1\", \"Topic1\", \"Topic1\", \"Topic1\", \"Topic1\", \"Topic1\", \"Topic1\", \"Topic1\", \"Topic1\", \"Topic1\", \"Topic1\", \"Topic1\", \"Topic1\", \"Topic1\", \"Topic1\", \"Topic1\", \"Topic2\", \"Topic2\", \"Topic2\", \"Topic2\", \"Topic2\", \"Topic2\", \"Topic2\", \"Topic2\", \"Topic2\", \"Topic2\", \"Topic2\", \"Topic2\", \"Topic2\", \"Topic2\", \"Topic2\", \"Topic2\", \"Topic2\", \"Topic2\", \"Topic2\", \"Topic2\", \"Topic2\", \"Topic2\", \"Topic2\", \"Topic2\", \"Topic2\", \"Topic2\", \"Topic2\", \"Topic2\", \"Topic2\", \"Topic2\", \"Topic2\", \"Topic2\", \"Topic2\", \"Topic2\", \"Topic2\", \"Topic2\", \"Topic2\", \"Topic2\", \"Topic2\", \"Topic2\", \"Topic2\", \"Topic2\", \"Topic2\", \"Topic2\", \"Topic2\", \"Topic2\", \"Topic2\", \"Topic2\", \"Topic2\", \"Topic2\", \"Topic2\", \"Topic2\", \"Topic2\", \"Topic2\", \"Topic2\", \"Topic2\", \"Topic2\", \"Topic2\", \"Topic2\", \"Topic2\", \"Topic2\", \"Topic2\", \"Topic2\", \"Topic3\", \"Topic3\", \"Topic3\", \"Topic3\", \"Topic3\", \"Topic3\", \"Topic3\", \"Topic3\", \"Topic3\", \"Topic3\", \"Topic3\", \"Topic3\", \"Topic3\", \"Topic3\", \"Topic3\", \"Topic3\", \"Topic3\", \"Topic3\", \"Topic3\", \"Topic3\", \"Topic3\", \"Topic3\", \"Topic3\", \"Topic3\", \"Topic3\", \"Topic3\", \"Topic3\", \"Topic3\", \"Topic3\", \"Topic3\", \"Topic3\", \"Topic3\", \"Topic3\", \"Topic3\", \"Topic3\", \"Topic3\", \"Topic3\", \"Topic4\", \"Topic4\", \"Topic4\", \"Topic4\", \"Topic4\", \"Topic4\", \"Topic4\", \"Topic4\", \"Topic4\", \"Topic4\", \"Topic4\", \"Topic4\", \"Topic4\", \"Topic4\", \"Topic4\", \"Topic4\", \"Topic4\", \"Topic4\", \"Topic4\", \"Topic4\", \"Topic4\", \"Topic4\", \"Topic4\", \"Topic4\", \"Topic4\", \"Topic4\", \"Topic4\", \"Topic4\", \"Topic4\", \"Topic4\", \"Topic4\", \"Topic4\", \"Topic4\", \"Topic4\", \"Topic4\", \"Topic4\", \"Topic4\", \"Topic4\", \"Topic4\", \"Topic4\", \"Topic4\", \"Topic4\", \"Topic4\", \"Topic4\", \"Topic4\", \"Topic4\", \"Topic4\", \"Topic4\", \"Topic4\", \"Topic4\", \"Topic4\", \"Topic4\", \"Topic4\", \"Topic4\", \"Topic4\", \"Topic4\", \"Topic4\", \"Topic4\", \"Topic4\", \"Topic4\", \"Topic4\", \"Topic4\", \"Topic4\", \"Topic5\", \"Topic5\", \"Topic5\", \"Topic5\", \"Topic5\", \"Topic5\", \"Topic5\", \"Topic5\", \"Topic5\", \"Topic5\", \"Topic5\", \"Topic5\", \"Topic5\", \"Topic5\", \"Topic5\", \"Topic5\", \"Topic5\", \"Topic5\", \"Topic5\", \"Topic5\", \"Topic5\", \"Topic5\", \"Topic5\", \"Topic5\", \"Topic5\", \"Topic5\", \"Topic5\", \"Topic5\", \"Topic5\", \"Topic5\", \"Topic5\", \"Topic5\", \"Topic5\", \"Topic5\", \"Topic5\", \"Topic5\", \"Topic5\", \"Topic5\", \"Topic5\", \"Topic5\", \"Topic5\", \"Topic5\", \"Topic5\", \"Topic5\", \"Topic5\", \"Topic5\", \"Topic5\", \"Topic5\", \"Topic5\", \"Topic5\", \"Topic5\", \"Topic5\", \"Topic5\", \"Topic5\", \"Topic5\", \"Topic5\", \"Topic5\", \"Topic5\", \"Topic5\", \"Topic5\", \"Topic5\", \"Topic5\", \"Topic5\", \"Topic5\", \"Topic5\", \"Topic5\", \"Topic5\", \"Topic5\", \"Topic5\", \"Topic5\", \"Topic5\", \"Topic5\", \"Topic5\", \"Topic5\", \"Topic5\", \"Topic5\", \"Topic5\", \"Topic5\", \"Topic5\", \"Topic5\", \"Topic5\", \"Topic5\", \"Topic5\", \"Topic5\", \"Topic5\", \"Topic5\", \"Topic5\", \"Topic5\", \"Topic5\", \"Topic5\", \"Topic5\", \"Topic6\", \"Topic6\", \"Topic6\", \"Topic6\", \"Topic6\", \"Topic6\", \"Topic6\", \"Topic6\", \"Topic6\", \"Topic6\", \"Topic6\", \"Topic6\", \"Topic6\", \"Topic6\", \"Topic6\", \"Topic6\", \"Topic6\", \"Topic6\", \"Topic6\", \"Topic6\", \"Topic6\", \"Topic6\", \"Topic6\", \"Topic6\", \"Topic6\", \"Topic6\", \"Topic6\", \"Topic6\", \"Topic6\", \"Topic6\", \"Topic6\", \"Topic6\", \"Topic6\", \"Topic6\", \"Topic6\", \"Topic6\", \"Topic6\", \"Topic6\", \"Topic6\", \"Topic6\", \"Topic6\", \"Topic6\", \"Topic6\", \"Topic6\", \"Topic6\", \"Topic6\", \"Topic6\", \"Topic6\", \"Topic6\", \"Topic6\", \"Topic6\", \"Topic6\", \"Topic6\", \"Topic6\", \"Topic6\", \"Topic6\", \"Topic6\", \"Topic7\", \"Topic7\", \"Topic7\", \"Topic7\", \"Topic7\", \"Topic7\", \"Topic7\", \"Topic7\", \"Topic7\", \"Topic7\", \"Topic7\", \"Topic7\", \"Topic7\", \"Topic7\", \"Topic7\", \"Topic7\", \"Topic7\", \"Topic7\", \"Topic7\", \"Topic7\", \"Topic7\", \"Topic7\", \"Topic7\", \"Topic7\", \"Topic7\", \"Topic7\", \"Topic7\", \"Topic7\", \"Topic7\", \"Topic7\", \"Topic7\", \"Topic7\", \"Topic7\", \"Topic7\", \"Topic7\", \"Topic7\", \"Topic7\", \"Topic7\", \"Topic7\", \"Topic7\", \"Topic7\", \"Topic7\", \"Topic7\", \"Topic7\", \"Topic7\", \"Topic7\", \"Topic7\", \"Topic7\", \"Topic7\", \"Topic7\", \"Topic7\", \"Topic7\", \"Topic7\", \"Topic7\", \"Topic7\", \"Topic7\", \"Topic7\", \"Topic7\", \"Topic7\", \"Topic7\", \"Topic7\", \"Topic7\", \"Topic7\", \"Topic7\", \"Topic7\", \"Topic7\", \"Topic7\", \"Topic7\", \"Topic7\", \"Topic7\", \"Topic7\", \"Topic7\", \"Topic7\", \"Topic7\", \"Topic7\", \"Topic7\", \"Topic7\", \"Topic7\", \"Topic7\", \"Topic7\", \"Topic7\", \"Topic7\", \"Topic7\", \"Topic7\", \"Topic7\", \"Topic7\", \"Topic7\", \"Topic7\", \"Topic7\", \"Topic7\", \"Topic7\", \"Topic7\", \"Topic7\", \"Topic7\", \"Topic7\", \"Topic7\", \"Topic7\", \"Topic7\", \"Topic7\", \"Topic7\", \"Topic7\", \"Topic7\", \"Topic7\", \"Topic7\", \"Topic7\", \"Topic7\", \"Topic7\", \"Topic7\", \"Topic7\", \"Topic7\", \"Topic7\"], \"logprob\": [30.0, 29.0, 28.0, 27.0, 26.0, 25.0, 24.0, 23.0, 22.0, 21.0, 20.0, 19.0, 18.0, 17.0, 16.0, 15.0, 14.0, 13.0, 12.0, 11.0, 10.0, 9.0, 8.0, 7.0, 6.0, 5.0, 4.0, 3.0, 2.0, 1.0, -7.2848, -8.1027, -8.2205, -8.1713, -8.1714, -8.4001, -8.4275, -8.5337, -8.5928, -8.565, -8.5177, -8.6119, -8.7859, -8.8017, -8.7886, -8.8397, -8.8392, -8.8392, -8.6306, -8.923, -8.9683, -9.0782, -9.1252, -9.1509, -9.2414, -9.2365, -9.2975, -9.3168, -9.3379, -9.3413, -7.8638, -8.3687, -6.7947, -9.0755, -8.9053, -6.7877, -6.8286, -8.0561, -8.3475, -7.8986, -8.3331, -7.6559, -7.3722, -8.0475, -6.7079, -7.1398, -6.512, -6.2266, -7.9147, -6.9095, -5.0589, -7.6874, -7.868, -6.5178, -6.9656, -7.0332, -6.8831, -7.2597, -5.6362, -7.2612, -6.0605, -6.1232, -6.266, -6.7731, -6.9265, -6.5153, -5.7732, -6.1264, -6.3529, -6.6651, -6.2242, -5.864, -6.7676, -6.304, -6.821, -5.5119, -5.4759, -5.6196, -6.4539, -6.2983, -5.5951, -6.1135, -6.0801, -5.7911, -5.5937, -5.6559, -6.1675, -5.5591, -6.1867, -6.33, -5.757, -5.9383, -6.1122, -6.0206, -6.1794, -6.1912, -6.2073, -6.2844, -6.2711, -5.9116, -6.2579, -6.8982, -6.9212, -6.9589, -7.2072, -5.9863, -7.2583, -7.2798, -7.4775, -7.5123, -7.5315, -6.0968, -7.6009, -7.6465, -7.6951, -7.7108, -7.8184, -7.866, -5.7519, -7.887, -7.9371, -7.9594, -7.971, -8.0162, -7.934, -8.0379, -8.0467, -8.0988, -8.0432, -7.2442, -7.7108, -7.2294, -6.2088, -7.9106, -6.5699, -6.3624, -6.9717, -7.4516, -6.6988, -6.7601, -6.7512, -6.6504, -6.7665, -6.9889, -5.2169, -5.8274, -6.875, -6.1149, -6.653, -4.887, -6.6838, -5.552, -5.6699, -5.7544, -6.4228, -6.9442, -6.538, -6.4997, -6.5724, -6.7687, -6.8703, -6.8895, -5.5488, -5.6579, -5.7665, -5.7701, -5.8319, -6.0352, -6.0975, -6.1879, -6.0819, -6.0715, -6.2727, -6.2747, -6.2624, -6.3452, -6.5205, -6.4868, -6.5244, -6.5517, -6.5711, -6.5865, -6.5801, -6.5833, -6.5858, -6.6038, -6.613, -6.6685, -6.6321, -6.6887, -6.743, -6.43, -6.5751, -6.3733, -5.5301, -6.4861, -6.3181, -6.3437, -6.5269, -7.1426, -7.1426, -7.3001, -7.5574, -7.7465, -7.7506, -7.8355, -7.8355, -7.8355, -7.8355, -7.8355, -7.8355, -7.8355, -7.8355, -7.8355, -7.8355, -7.8355, -7.8355, -7.8355, -7.8355, -7.8393, -7.8393, -7.8393, -7.8104, -7.8668, -7.9922, -8.0585, -7.9891, -8.3089, -8.3089, -8.1654, -7.0692, -7.1751, -7.3273, -5.1725, -5.883, -6.4776, -6.6385, -6.5005, -6.8888, -6.7574, -7.5598, -7.1863, -6.7815, -6.7519, -6.7901, -7.1784, -7.146, -7.0588, -7.5544, -7.2679, -7.2266, -7.0394, -7.4371, -7.164, -7.3312, -7.2168, -7.1609, -7.2703, -7.268, -7.1692, -7.2685, -7.3124, -5.3551, -7.2971, -7.4568, -7.5841, -7.4675, -7.9222, -8.0131, -8.3284, -8.3447, -8.5335, -8.2778, -8.4289, -8.576, -8.4867, -8.6325, -8.519, -8.6584, -8.5676, -8.4045, -8.7851, -8.7814, -8.8345, -8.8084, -8.14, -8.3423, -8.8503, -8.6701, -8.6194, -8.9119, -8.9435, -6.6238, -6.8555, -7.0196, -7.8436, -6.9055, -8.0838, -8.0971, -7.0573, -8.4841, -8.2673, -6.1704, -7.3516, -7.666, -7.9461, -8.1681, -8.2979, -4.6215, -5.2747, -7.9572, -7.7846, -6.9913, -6.7557, -7.4134, -6.4012, -5.2137, -7.0464, -6.5607, -4.8844, -7.1484, -6.9138, -6.9305, -4.491, -5.9995, -5.6788, -5.8626, -5.0619, -6.5229, -6.2399, -5.906, -6.6968, -5.5624, -6.356, -5.1147, -5.6882, -6.2137, -5.2716, -5.5527, -5.8397, -5.478, -5.447, -5.623, -5.4283, -5.3613, -5.2919, -5.7936, -5.6989, -5.8796, -5.9098, -6.0799, -5.9287, -6.0793, -6.7056, -7.2331, -7.2331, -7.5598, -7.5807, -7.6506, -7.7544, -7.7641, -7.6742, -7.7881, -7.7914, -7.8264, -7.8518, -7.8734, -7.9125, -7.9257, -7.9257, -7.9257, -7.9257, -7.9257, -7.9257, -7.9257, -7.9257, -7.9257, -7.9257, -7.9257, -7.9257, -7.9257, -7.9257, -7.9257, -5.8257, -7.5143, -7.2045, -7.9257, -7.796, -6.9654, -7.4897, -5.7596, -6.4689, -6.9185, -6.3415, -7.772, -7.5007, -7.1973, -7.0388, -7.2668, -7.5423, -7.3749, -7.393, -7.3716, -7.5252, -7.4296, -7.4841, -7.6189, -7.5534, -7.6449, -7.6251, -8.9855, -9.0356, -8.311, -9.0368, -9.0943, -8.9496, -9.1014, -9.1703, -9.2587, -9.3124, -9.3398, -9.2559, -9.3332, -9.2964, -9.3588, -8.0998, -9.4316, -9.2935, -9.4765, -9.5066, -9.4655, -9.5292, -9.5444, -7.5182, -9.5305, -9.6056, -9.6493, -9.7162, -9.7135, -9.5338, -7.5737, -7.8861, -8.1115, -7.2299, -8.0451, -8.4699, -8.4742, -8.624, -8.5813, -8.3606, -8.9097, -8.96, -8.7805, -8.395, -9.0681, -8.0605, -9.1623, -7.8739, -8.2069, -7.8679, -8.5789, -8.3788, -7.6847, -7.5016, -7.6247, -8.2319, -8.2556, -7.9223, -7.3799, -7.1448, -8.3961, -6.6897, -7.3346, -7.5106, -4.3126, -5.7935, -7.8189, -6.4396, -6.1443, -6.4581, -7.3406, -6.6612, -5.6415, -6.6325, -6.0843, -7.4517, -7.0127, -6.9744, -6.46, -6.468, -6.9776, -5.9532, -6.7678, -6.6826, -5.8128, -6.5182, -5.6202, -5.468, -5.757, -5.7548, -5.9471, -5.7456, -5.5496, -6.1817, -6.3768, -5.48, -5.9514, -5.4941, -5.473, -5.3062, -5.9874, -5.7971, -6.1723, -5.9512, -5.7432, -6.1016, -6.2756, -6.0646, -6.1797, -6.0726, -6.1055], \"loglift\": [30.0, 29.0, 28.0, 27.0, 26.0, 25.0, 24.0, 23.0, 22.0, 21.0, 20.0, 19.0, 18.0, 17.0, 16.0, 15.0, 14.0, 13.0, 12.0, 11.0, 10.0, 9.0, 8.0, 7.0, 6.0, 5.0, 4.0, 3.0, 2.0, 1.0, 1.2459, 1.2455, 1.2454, 1.2453, 1.2452, 1.2451, 1.2451, 1.245, 1.2449, 1.2449, 1.2449, 1.2448, 1.2446, 1.2445, 1.2445, 1.2445, 1.2445, 1.2445, 1.2443, 1.2443, 1.2442, 1.2439, 1.2438, 1.2438, 1.2435, 1.2435, 1.2434, 1.2433, 1.2433, 1.2432, 1.2355, 1.239, 1.2217, 1.2427, 1.2406, 1.2182, 1.2073, 1.231, 1.2328, 1.2231, 1.2296, 1.2142, 1.1929, 1.216, 1.1569, 1.1747, 1.1463, 1.1144, 1.2, 1.1414, 1.0132, 1.183, 1.1945, 1.0817, 1.1179, 1.1225, 1.1074, 1.1307, 0.9584, 1.1262, 0.988, 0.9926, 1.0088, 1.0655, 1.0697, 1.0069, 0.8744, 0.9208, 0.9527, 0.9986, 0.9067, 0.8307, 1.0172, 0.9017, 1.027, 0.566, 0.542, 0.5168, 0.8567, 0.7703, 0.3679, 0.624, 0.5333, 0.3168, 0.1427, 0.0429, 0.5276, -0.1466, 0.5435, 0.6837, -0.0664, 0.0413, 0.1372, -0.2134, 0.1688, 0.1787, -0.4559, 0.471, -0.3868, 2.4309, 2.4307, 2.4303, 2.4303, 2.4303, 2.4299, 2.4299, 2.4299, 2.4299, 2.4296, 2.4295, 2.4295, 2.4294, 2.4294, 2.4293, 2.4292, 2.4291, 2.4289, 2.4288, 2.4288, 2.4287, 2.4286, 2.4286, 2.4285, 2.4284, 2.4284, 2.4283, 2.4283, 2.4282, 2.4281, 2.4275, 2.4274, 2.4216, 2.3924, 2.4268, 2.3161, 2.1853, 2.2725, 2.3494, 2.1776, 2.1817, 2.1767, 2.1285, 2.1416, 2.1628, 1.4686, 1.572, 2.047, 1.5796, 1.8602, 0.5254, 1.7751, 0.4276, 0.029, -0.018, 0.7312, 1.8289, -0.3605, -0.8091, -0.4907, 0.3471, 1.2363, 0.4901, 3.0174, 3.0173, 3.0173, 3.0173, 3.0172, 3.0171, 3.0171, 3.017, 3.017, 3.017, 3.0169, 3.0169, 3.0169, 3.0169, 3.0167, 3.0167, 3.0166, 3.0166, 3.0166, 3.0166, 3.0166, 3.0165, 3.0165, 3.0165, 3.0165, 3.0165, 3.0165, 3.0164, 3.0164, 3.0164, 3.016, 2.9719, 1.5385, 2.4835, 0.774, 0.2443, 0.5557, 3.5433, 3.5433, 3.5426, 3.5408, 3.5402, 3.5401, 3.5396, 3.5396, 3.5396, 3.5396, 3.5396, 3.5396, 3.5396, 3.5396, 3.5396, 3.5396, 3.5396, 3.5396, 3.5396, 3.5396, 3.5395, 3.5395, 3.5395, 3.5394, 3.5393, 3.5377, 3.5377, 3.5377, 3.535, 3.5349, 3.5318, 3.4898, 3.1961, 2.9913, -0.151, 0.2249, 0.4665, 0.5708, -0.7642, 0.3706, -0.3456, 2.512, 0.8902, -0.8973, -1.053, -1.0995, 0.6543, 0.4088, -0.1624, 2.1562, 0.5024, 0.1831, -0.903, 1.3217, -0.338, 0.439, -0.5943, -1.1825, -0.5329, -0.5728, -1.7568, -0.8862, -0.9424, 1.9184, 1.9182, 1.918, 1.9179, 1.9174, 1.9173, 1.9173, 1.9167, 1.9167, 1.9162, 1.9161, 1.916, 1.916, 1.916, 1.9159, 1.9158, 1.9156, 1.9155, 1.9155, 1.9154, 1.9153, 1.9152, 1.9152, 1.9152, 1.9151, 1.9151, 1.9151, 1.9149, 1.9149, 1.9147, 1.9138, 1.9116, 1.9088, 1.9136, 1.904, 1.9131, 1.9129, 1.9014, 1.9147, 1.9125, 1.8894, 1.9026, 1.9058, 1.9068, 1.9093, 1.9117, 1.8175, 1.8087, 1.8989, 1.8911, 1.8483, 1.8321, 1.8634, 1.7785, 1.6827, 1.8208, 1.7661, 1.5981, 1.8203, 1.7969, 1.7909, 1.4874, 1.6647, 1.6074, 1.5894, 1.4478, 1.6905, 1.6196, 1.4114, 1.6684, 1.0694, 1.3919, 0.6367, 0.8177, 1.2114, 0.4273, 0.5924, 0.8273, 0.4062, 0.3602, 0.5397, 0.2623, 0.0512, -0.2705, 0.4558, 0.2807, 0.5027, 0.4902, 0.8627, 0.153, 0.0571, 4.1303, 4.1298, 4.1298, 4.1264, 4.1258, 4.1258, 4.1245, 4.1245, 4.1241, 4.1241, 4.124, 4.1236, 4.1232, 4.1229, 4.1224, 4.1222, 4.1222, 4.1222, 4.1222, 4.1222, 4.1222, 4.1222, 4.1222, 4.1222, 4.1222, 4.1222, 4.1222, 4.1222, 4.1222, 4.1222, 4.0897, 4.031, 3.8692, 4.1222, 4.0283, 3.1729, 3.4734, -0.3471, -0.4893, 0.8078, -1.3201, 3.4239, 2.13, 0.2124, -1.3482, -0.1519, 1.1743, -0.2591, -0.6605, -1.0046, 0.0668, -1.7307, -1.7477, 0.529, -1.802, 0.7076, -0.3076, 0.9551, 0.955, 0.9549, 0.9549, 0.9549, 0.9548, 0.9548, 0.9547, 0.9545, 0.9544, 0.9544, 0.9543, 0.9543, 0.9542, 0.9542, 0.9542, 0.9542, 0.954, 0.954, 0.954, 0.9539, 0.9539, 0.9538, 0.9538, 0.9537, 0.9535, 0.9535, 0.9533, 0.9533, 0.9533, 0.9524, 0.9531, 0.9532, 0.9434, 0.9492, 0.9507, 0.9504, 0.9512, 0.9504, 0.9478, 0.9529, 0.9532, 0.9513, 0.9469, 0.9532, 0.9425, 0.9532, 0.9369, 0.9415, 0.9314, 0.9436, 0.939, 0.9238, 0.9152, 0.917, 0.9358, 0.933, 0.922, 0.8975, 0.8869, 0.9345, 0.8618, 0.8882, 0.896, 0.7089, 0.7996, 0.9083, 0.8198, 0.7997, 0.808, 0.8723, 0.8093, 0.7168, 0.799, 0.7416, 0.8737, 0.807, 0.7957, 0.7132, 0.7065, 0.7793, 0.6026, 0.7436, 0.7269, 0.5542, 0.6912, 0.4615, 0.3391, 0.4206, 0.4079, 0.4647, 0.3994, 0.3346, 0.5214, 0.5802, 0.2714, 0.4186, 0.2423, 0.2176, 0.1062, 0.3264, 0.1659, 0.4299, 0.1567, -0.0443, 0.2466, 0.4046, 0.0132, 0.2202, -0.093, -0.0876]}, \"token.table\": {\"Topic\": [1, 4, 5, 7, 4, 1, 3, 4, 5, 7, 6, 1, 7, 7, 5, 3, 1, 2, 4, 5, 6, 7, 4, 7, 1, 2, 1, 2, 1, 2, 3, 4, 5, 6, 7, 1, 1, 2, 3, 4, 5, 6, 7, 1, 2, 3, 4, 5, 6, 7, 1, 2, 3, 4, 5, 7, 1, 5, 7, 6, 1, 2, 4, 6, 7, 2, 7, 1, 7, 1, 4, 5, 6, 7, 6, 1, 2, 4, 5, 7, 1, 3, 5, 6, 7, 1, 4, 6, 7, 1, 2, 6, 3, 5, 7, 1, 2, 3, 4, 5, 6, 7, 2, 1, 2, 1, 2, 1, 7, 1, 2, 5, 6, 7, 1, 6, 7, 1, 5, 7, 5, 1, 5, 7, 5, 7, 7, 1, 2, 3, 4, 5, 6, 7, 3, 1, 5, 7, 1, 2, 3, 4, 5, 6, 7, 6, 6, 6, 5, 7, 1, 2, 3, 4, 5, 6, 7, 4, 1, 4, 5, 7, 5, 7, 1, 7, 1, 2, 3, 4, 5, 6, 7, 1, 2, 1, 2, 4, 5, 7, 1, 2, 3, 4, 5, 6, 7, 1, 3, 5, 6, 6, 4, 5, 6, 7, 3, 5, 7, 1, 2, 6, 1, 4, 2, 2, 2, 1, 2, 2, 7, 1, 1, 1, 1, 7, 1, 1, 1, 2, 1, 1, 2, 4, 7, 2, 2, 2, 4, 1, 1, 2, 3, 4, 5, 6, 7, 1, 2, 3, 4, 5, 6, 7, 6, 1, 2, 3, 4, 5, 6, 7, 1, 2, 3, 4, 5, 6, 7, 5, 1, 2, 4, 5, 6, 7, 1, 2, 3, 4, 5, 6, 7, 3, 1, 2, 3, 4, 5, 6, 7, 7, 5, 1, 2, 3, 4, 5, 6, 7, 3, 3, 3, 3, 3, 3, 3, 3, 1, 2, 7, 1, 3, 4, 7, 1, 2, 6, 2, 6, 1, 3, 7, 1, 2, 3, 4, 5, 6, 7, 1, 2, 3, 4, 5, 6, 7, 1, 2, 3, 4, 5, 6, 7, 1, 2, 4, 7, 5, 7, 3, 1, 2, 3, 4, 5, 7, 7, 1, 2, 3, 4, 5, 7, 1, 2, 4, 7, 1, 2, 3, 4, 5, 6, 7, 1, 2, 4, 5, 6, 7, 1, 2, 3, 4, 5, 6, 7, 5, 7, 7, 5, 1, 2, 4, 7, 1, 6, 1, 2, 4, 5, 6, 7, 4, 2, 2, 2, 2, 2, 2, 5, 1, 1, 3, 4, 5, 6, 7, 1, 2, 1, 2, 5, 4, 5, 6, 7, 6, 4, 7, 1, 3, 4, 7, 1, 3, 7, 4, 7, 1, 2, 3, 4, 5, 6, 7, 6, 3, 1, 2, 4, 5, 6, 7, 1, 2, 5, 6, 7, 1, 1, 2, 3, 4, 5, 6, 7, 1, 2, 4, 5, 7, 1, 2, 3, 4, 5, 6, 7, 6, 6, 1, 2, 3, 4, 5, 6, 7, 2, 1, 2, 6, 7, 1, 7, 1, 2, 3, 4, 5, 6, 7, 1, 3, 4, 5, 6, 7, 7, 1, 1, 5, 7, 1, 2, 3, 4, 5, 6, 7, 7, 1, 2, 3, 4, 5, 6, 7, 1, 2, 3, 4, 5, 6, 7, 5, 1, 2, 4, 5, 7, 4, 5, 1, 2, 3, 4, 5, 6, 7, 1, 2, 3, 4, 5, 6, 7, 1, 2, 3, 4, 5, 6, 7, 4, 1, 2, 3, 4, 5, 6, 7, 1, 2, 3, 4, 5, 6, 7, 1, 2, 3, 4, 5, 6, 7, 1, 2, 3, 4, 5, 6, 7, 5, 1, 2, 3, 4, 5, 6, 7, 1, 4, 5, 7, 7, 1, 2, 3, 4, 5, 6, 7, 3, 5, 7, 4, 1, 2, 4, 7, 2, 5, 6, 7, 1, 2, 6, 4, 1, 1, 1, 1, 3, 6, 1, 6, 1, 2, 3, 4, 5, 6, 7, 4, 1, 2, 3, 4, 5, 6, 7, 4, 3, 1, 2, 3, 4, 5, 6, 7, 1, 2, 3, 4, 5, 6, 7, 4, 5, 5, 3, 1, 6, 7, 3, 1, 6, 1, 2, 4, 5, 6, 7, 1, 2, 3, 4, 5, 6, 7, 1, 2, 6, 1, 2, 6, 1, 2, 6, 1, 2, 6, 6, 3, 5, 1, 2, 1, 2, 3, 4, 6, 7, 5, 1, 2, 3, 4, 5, 6, 7, 1, 5, 6, 7, 1, 2, 4, 5, 6, 7, 1, 2, 6, 1, 1, 1, 3, 4, 5, 6, 7, 1, 2, 3, 4, 5, 6, 7, 4, 4, 4, 4, 4, 1, 2, 3, 4, 5, 6, 7, 4, 4, 1, 4, 5, 7, 1, 1, 2, 3, 4, 5, 6, 7, 1, 2, 4, 5, 6, 7, 7, 1, 2, 3, 4, 5, 6, 7, 1, 2, 3, 4, 5, 6, 7, 1, 2, 3, 4, 5, 7, 5, 1, 2, 3, 4, 5, 6, 7, 1, 4, 5, 7, 1, 4, 1, 2, 3, 4, 5, 6, 7, 3, 5, 2, 1, 1, 1, 7, 1, 2, 4, 7, 1, 3, 4, 5, 7, 1, 7, 1, 3, 7, 2, 4, 5, 7, 7, 4, 1, 2, 3, 4, 5, 6, 7, 1, 2, 3, 4, 5, 6, 7, 1, 2, 1, 2, 3, 4, 5, 6, 7, 1, 2, 4, 5, 7, 5, 1, 2, 3, 4, 5, 6, 7, 4, 5, 7, 6, 6, 3, 5, 1, 4, 5, 6, 7, 1, 2, 3, 4, 5, 7, 1, 2, 3, 4, 5, 7, 1, 1, 1, 2, 3, 4, 5, 7, 1, 2, 3, 4, 5, 6, 7, 4, 1, 6, 6, 6, 5, 1, 2, 3, 4, 5, 6, 7, 1, 2, 3, 4, 5, 6, 7, 1, 2, 3, 4, 5, 6, 7, 1, 2, 3, 4, 5, 6, 7, 4, 2, 5, 7, 1, 2, 3, 4, 5, 6, 7, 5, 1, 2, 4, 5, 6, 7, 1, 4, 7, 1, 7, 5, 4, 4, 4, 4, 2, 1, 2, 3, 4, 5, 6, 7, 1, 2, 3, 4, 5, 6, 7, 3, 1, 2, 3, 4, 5, 6, 7, 1, 4, 5, 7, 1, 2, 3, 4, 5, 6, 7, 1, 2, 3, 4, 5, 7, 7, 1, 2, 6, 4, 5, 6, 7, 7, 5, 7, 3, 3, 5, 4, 6, 6, 1, 5, 7, 3, 5, 6, 7, 7, 1, 2, 5, 6, 7, 2, 1, 2, 3, 4, 5, 6, 7, 3, 1, 2, 3, 4, 5, 6, 7, 6, 1, 2, 4, 5, 7, 1, 2, 3, 4, 5, 6, 7, 4, 1, 2, 3, 4, 5, 6, 7, 1, 2, 5, 7, 2, 2, 2, 1, 2, 2, 1, 4, 5, 7, 1, 2, 3, 4, 5, 6, 7, 5, 4, 5, 6, 7, 1, 3, 4, 5, 6, 7, 1, 2, 3, 4, 5, 6, 7, 1, 2, 3, 4, 5, 6, 7, 1, 3, 4, 5, 7, 5, 5, 7, 1, 2, 3, 4, 5, 6, 7, 1, 2, 4, 5, 7, 1, 2, 3, 4, 5, 6, 7, 1, 1, 2, 3, 4, 5, 6, 7, 1, 7, 1, 2, 3, 4, 5, 6, 7, 6, 3, 3, 1, 7, 1, 2, 3, 4, 5, 6, 7, 5, 7, 1, 2, 6, 6, 2, 7, 1, 2, 3, 4, 5, 6, 7, 1, 7, 2, 5, 1, 4, 5, 7, 1, 5, 1, 2, 3, 4, 5, 6, 7, 1, 2, 3, 4, 5, 6, 7, 7, 3, 1, 2, 3, 4, 5, 6, 7, 5, 1, 2, 4, 5, 6, 7, 1, 2, 3, 4, 5, 6, 7, 1, 2, 4, 6, 7, 1, 2, 3, 4, 5, 6, 7, 7, 7, 7, 1, 4, 5, 6, 7, 1, 2, 3, 4, 5, 6, 7, 1, 4, 5, 7, 1, 2, 4, 5, 6, 7, 1, 4, 5, 6, 7, 1, 7, 1, 2, 3, 4, 5, 6, 7, 1, 2, 3, 4, 5, 6, 7, 4, 4, 3, 6, 1, 4, 5, 6, 7, 5, 7, 1, 6, 6, 1, 4, 5, 7, 1, 7, 4, 7, 1, 2, 3, 4, 5, 6, 7, 6, 6, 1, 5, 6, 7, 7, 7, 1, 4, 7, 5, 1, 2, 3, 4, 5, 6, 7, 1, 4, 5, 7, 1, 2, 3, 4, 5, 6, 7, 3, 1, 2, 3, 4, 5, 6, 7, 1, 2, 3, 4, 5, 6, 7, 7, 5, 1, 2, 3, 4, 5, 7, 1, 2, 3, 4, 5, 6, 7, 1, 4, 7, 3, 1, 2, 3, 4, 5, 6, 7, 3, 1, 2, 4, 5, 6, 7, 1, 3, 4, 5, 6, 7, 1, 2, 3, 4, 5, 6, 7, 1, 3, 4, 5, 6, 7, 4], \"Freq\": [0.8832907946050365, 0.0007624434998748696, 0.0007624434998748696, 0.1151289684811053, 0.9903894880804036, 0.8345980536975085, 0.0038870168834880636, 0.0005552881262125805, 0.12743862496578723, 0.03359493163586112, 0.9904105183236623, 0.003020423806842157, 0.9959847503062013, 0.9971119920103547, 0.9972165938122509, 0.9993905103086143, 0.43956297416364043, 0.004676201852804686, 0.0006680288361149551, 0.36073557150207575, 0.051438220380851545, 0.14162211325637047, 0.002462600899444021, 0.9973533642748285, 0.0034723121841830564, 0.9965535968605372, 0.0023452454711201855, 0.9975110737164523, 0.2483256452239252, 0.1486862375315667, 0.005103422014284798, 0.004980743600479875, 0.1544521229803981, 0.01128641407005292, 0.427190772551503, 0.9991463641975092, 0.9000954267467361, 0.00034328582255787037, 0.06556759210855324, 0.0024030007579050926, 0.00034328582255787037, 0.003776144048136574, 0.02746286580462963, 0.46052736181633125, 0.05883472010143334, 0.0010338369346897232, 0.00620302160813834, 0.044548973367538984, 0.005075199497567732, 0.42368517287102475, 0.02623187310817572, 0.0004949410020410513, 0.004949410020410513, 0.008908938036738924, 0.0009898820040821026, 0.9591956619555575, 0.002760568093089312, 0.001656340855853587, 0.9954608543680058, 0.9904099966855124, 0.7469075395199656, 0.10074566812129768, 0.001985136317661038, 0.03573245371789868, 0.11439348030521732, 0.9989812066626812, 0.9965423499580972, 0.9695285615261456, 0.028855016712087667, 0.5548716038504261, 0.00666512437057569, 0.1349687685041577, 0.1349687685041577, 0.16829439035703617, 0.982853236186802, 0.012214718128936654, 0.0009047939354767892, 0.0013571909032151837, 0.8581970477997345, 0.12712354793448888, 0.0035274375473708236, 0.0008818593868427059, 0.0017637187736854118, 0.0008818593868427059, 0.9920918101980442, 0.5148947391960447, 0.0027682512860002406, 0.3820186774680332, 0.09965704629600866, 0.22005118229959747, 0.7789644514103621, 0.0008366965106448573, 0.012616676968971867, 0.8851594947178684, 0.10159745138172083, 0.010929017778145552, 0.019693873620024657, 0.01374242829529193, 0.02445502987981084, 0.7894862743499994, 0.006384277711986015, 0.1353683291134662, 0.9985362720542792, 0.0016564936878375718, 0.9983135292034433, 0.23429629125558205, 0.7648174089003802, 0.007242731713790902, 0.9910471228370551, 0.040172952190806924, 0.0014697421533222046, 0.01665707773765165, 0.0004899140511074016, 0.9411248921773183, 0.9929764888666718, 0.0027892598001872802, 0.9988873092271372, 0.1974189134371695, 0.7783945729808397, 0.023972296631656294, 0.997957411679613, 0.00015778237719951452, 0.999393577181725, 0.0004733471315985436, 0.9947810180761684, 0.0031184357933422206, 0.996446788698718, 0.7497156772848593, 0.0036805678927538453, 0.011921839478702673, 0.00536082714814147, 0.006801049367045149, 0.0018402839463769226, 0.22059403652874676, 0.9985500184150183, 0.9497202960171591, 0.0009440559602556253, 0.050034965893548146, 0.18504009964384371, 0.01685681440183102, 0.0032328137208991, 0.003848587762975119, 0.08828660328264923, 0.0009236610631140285, 0.7017514927008832, 0.9904104161400612, 0.9904105754629049, 0.9890408072870908, 0.9897439574673835, 0.007813768085268817, 0.49012986754192744, 0.034001689363663906, 0.0002446164702421864, 0.01035543057358589, 0.04158479994117169, 0.004076941170703107, 0.4195987852887637, 0.9904868588543336, 0.0021419873871206044, 0.0010709936935603022, 0.01927788648408544, 0.9767462485269955, 0.9949764074165803, 0.0035919725899515535, 0.9838542391986309, 0.015567313911370742, 0.21825992107377604, 0.18269993393282727, 0.0022399991899810243, 0.009799996456166981, 0.17527993661601513, 0.0025199990887286522, 0.4092198520196583, 0.0027679351430451877, 0.9964566514962676, 0.05340450212412017, 0.005707351372043377, 0.001630671820583822, 0.005707351372043377, 0.9335596172842381, 0.5071986751627515, 0.0023863068549145705, 0.0002169369868104155, 0.005640361657070803, 0.03883172063906438, 0.017138021958022824, 0.4288844229241915, 0.9990789188791774, 0.02879777187382489, 0.017721705768507623, 0.9525416850572848, 0.9955193913172421, 0.0008510024368563574, 0.9829078145690928, 0.0008510024368563574, 0.015318043863414434, 0.0014051410776644148, 0.992732171369909, 0.005620564310657659, 0.0035710917521975688, 0.9618140452585452, 0.0339253716458769, 0.05481167165790388, 0.9444472654900361, 0.9986072308987728, 0.9970582946278298, 0.9989577723840334, 0.99924001254451, 0.9992445227440142, 0.9971106207577835, 0.9976720841711794, 0.99735622578234, 0.9988983603750414, 0.9972641248145239, 0.0018720981855148752, 0.9978283328794284, 0.9986254638942281, 0.9981714958992703, 0.07705228477053261, 0.9206760180273896, 0.9992832633730196, 0.9991215499712558, 0.1525062549493233, 0.5735561327441941, 0.27185897621401106, 0.9995064302341848, 0.9984849266530603, 0.9988557117834094, 0.9869034424035092, 0.9995643686236008, 0.10210183453001397, 0.07857402048614119, 0.0007398683661595215, 0.05105091726500698, 0.0008878420393914258, 0.0001479736732319043, 0.7667995746877281, 0.11369335729100756, 0.0016778359122355297, 0.0010386603266219945, 0.0069510344935471945, 0.01981444315401959, 0.002237114549647373, 0.8545777579652964, 0.9890416018534828, 0.90484398846796, 0.02619712290465782, 0.002318329460589188, 0.0018546635684713502, 0.00023183294605891877, 0.00046366589211783754, 0.06444955900437942, 0.05852960212431238, 0.004197341985010449, 0.00606282731168176, 0.015390253945038315, 0.7753423388977636, 0.012358840289197435, 0.12825211620865262, 0.9987117655929623, 0.21763699719201687, 0.003873797684647549, 0.07008052174953294, 0.15882570507054952, 0.0024651439811393494, 0.5472619638129356, 0.3469420943251613, 0.002169518046848325, 0.040316877037264706, 0.03453149557900251, 0.10214814137244198, 0.01970645559220562, 0.4541524444735827, 0.9986261134152037, 0.14568548763163394, 0.010719674983406842, 0.0004083685707964511, 0.00423682392201318, 0.2653374788749941, 0.0008677832129424586, 0.5727369205420227, 0.9992874700532363, 0.9965773513839156, 0.7919802036123306, 0.014378932332346824, 0.024202163331672872, 0.000901649222160362, 0.0065488206662173655, 0.001945664110977623, 0.16001900932235474, 0.997796269382076, 0.9995295486143538, 0.9981128532261744, 0.9988331949823531, 0.9993739398599918, 0.9984936676086663, 0.9991822922127581, 0.9985631817822271, 0.007489989041210134, 0.0012483315068683558, 0.9899268849466061, 0.9720699798910363, 0.00853268719688283, 0.0003281802768031858, 0.01870627577778159, 0.24674157806012403, 0.748314621985622, 0.004044943902624984, 0.9973816597104803, 0.9904097815108388, 0.9680500311912044, 0.005451609186112977, 0.025700443305961176, 0.788496399927064, 0.02116980917455952, 0.00015798365055641434, 0.001421852855007729, 0.023381580282349324, 0.00015798365055641434, 0.165092914831453, 0.24068051256642695, 0.1434961073464557, 0.00017542311411547154, 0.012805887330429422, 0.20121031189044586, 0.0007016924564618862, 0.40084181575385247, 0.10763557980357054, 0.00027598866616300135, 0.0024838979954670123, 0.055473721898763276, 0.07424095119784736, 0.007451693986401037, 0.7523451039603417, 0.0582695385410368, 0.015357862871281018, 0.005420422189863889, 0.9201166667293951, 0.9708698590168546, 0.028748554512450567, 0.9992908604690166, 0.8763245529310917, 0.013671473187099081, 0.00894553183847224, 0.0023629706743134213, 0.00016878361959381583, 0.09840085022319463, 0.9951691293010322, 0.802960011444282, 0.00028026527450062197, 0.00560530549001244, 0.012331672078027368, 0.014854059548532965, 0.16395518558286387, 0.0181390357291995, 0.005078930004175861, 0.0014511228583359603, 0.9751545608017652, 0.19902319551189612, 0.010464381009835128, 0.004332387042288429, 0.020395545152927064, 0.15063376485495153, 0.0037325180672023385, 0.6113997898294117, 0.40228344969490754, 0.057892196575907044, 0.009289678055203688, 0.20019929374040413, 0.013732567559866321, 0.3166568519686822, 0.11170260171981934, 0.029768459849190434, 0.0045361462627337805, 0.002835091414208613, 0.7413764048155522, 0.0002835091414208613, 0.10971803772987332, 0.9933827863041049, 0.004869523462275024, 0.997372129754571, 0.9986885467505807, 0.008530506438461486, 0.0036559313307692083, 0.006093218884615347, 0.9822268841999939, 0.08965081765178995, 0.8965081765178996, 0.07466507915022136, 0.003629552458691316, 0.04459164449249332, 0.023851344728542934, 0.001814776229345658, 0.8511300515631137, 0.987609044965428, 0.9962605815070523, 0.9973778023622633, 0.999101408902983, 0.9961984236625049, 0.9983225805973792, 0.9994756587200104, 0.9983260708903111, 0.998655359096985, 0.05654218912116145, 0.0004038727794368675, 0.015347165618600965, 0.795629375490629, 0.0004038727794368675, 0.13166252609641882, 0.003377959176071182, 0.9964979569409987, 0.008502178015621687, 0.9896535210183643, 0.9970234760458155, 0.006284281450282422, 0.9866321876943402, 0.0015710703625706054, 0.004713211087711816, 0.9904104181143605, 0.9916768577755486, 0.996510270223624, 0.9477986615735688, 0.012055585640850967, 0.0005740755067071889, 0.03961120996279603, 0.0005230633421819175, 0.00209225336872767, 0.9969587301987347, 0.7023684074949494, 0.2935270956695311, 0.26596193653727457, 0.012388592817573572, 0.0006647537609429722, 0.005559758727886676, 0.18238425913871725, 0.0005438894407715227, 0.5324073303552349, 0.9776172965980496, 0.9988928546716332, 0.49158186276175103, 0.0277422253773773, 0.04770625672371424, 0.029816410452321397, 0.0005185462687360243, 0.40239190453915485, 0.1922475472373304, 0.5477641511357759, 0.0720928302139989, 0.013429056608489991, 0.17387094345729145, 0.9977289474496223, 0.49516685753215967, 0.010356071608575613, 0.0010997598168398881, 0.009531251745945699, 0.07808294699563206, 0.0010081131654365641, 0.4048032592484822, 0.9388046840176926, 0.01168636536121609, 0.005453637168567509, 0.010907274337135018, 0.03350091403548613, 0.3396701820548454, 0.38182223509106333, 0.0012268788825510412, 0.0006134394412755206, 0.0566993312150374, 0.0038559050594461296, 0.21610595174077626, 0.990411030446023, 0.9904100811018909, 0.12202563933634261, 0.036103453621826986, 0.0004033905432606367, 0.020572917706292475, 0.013816126106676808, 0.0007059334507061143, 0.8063776959780129, 0.9997409906843221, 0.29778416839592087, 0.6808839112083038, 0.005742394431877262, 0.01476615711054153, 0.004729275054253051, 0.9947241864112251, 0.1581044009900147, 0.0049459145252350786, 0.0008243190875391798, 0.012859377765611205, 0.6019177977211091, 0.011705331043056353, 0.2095419120524595, 0.033583476056571755, 0.003444459082725308, 0.0038750164680659716, 0.016361180642945214, 0.0004305573853406635, 0.9424901165107124, 0.9972015140752951, 0.9947458885062486, 0.9893091732273668, 0.006856598230288681, 0.002938542098695149, 0.34040979043146574, 0.04309063854625756, 0.016260618319342474, 0.00806776831998146, 0.09943993510674821, 0.0011257351144160176, 0.49150845912197116, 0.9970419175751535, 0.8480533377942158, 0.05311261883608104, 0.010272811050600036, 0.0030599862703915, 0.0043714089577021435, 0.011365663290025573, 0.06972397287534918, 0.16545622255646775, 0.011933489736041534, 0.0010482119362739185, 0.009030748989436836, 0.21835060949459778, 0.0037090576206615577, 0.5904658468718389, 0.9952629981041653, 0.3736253385008317, 0.014439626608727794, 0.24908355900055446, 0.048733739804456305, 0.31225692541373856, 0.9947958907485214, 0.9978180097093944, 0.8702234433291136, 0.042977986618184964, 0.005816569617498718, 0.003877713078332478, 0.005816569617498718, 0.0006462855130554131, 0.07076826367956773, 0.7870595980247516, 0.0034395920736300196, 0.022053855060333655, 0.005260552583198854, 0.001011644727538241, 0.00020232894550764821, 0.18088207728383748, 0.0039037138139483376, 0.0010957793161960247, 0.0034927965703748284, 0.0038352276066860864, 0.9034015599963601, 0.0018491275960807916, 0.0823889073364886, 0.9953795928521484, 0.30014033664152856, 0.09050606711267518, 0.003986187793410242, 0.010063490494838973, 0.2249908946346142, 0.002842609328087632, 0.36748077141381147, 0.26503542301554334, 0.008694004929933332, 0.003227320011869191, 0.00428113879125505, 0.23954618128914792, 0.00039518204226969686, 0.47876304420973775, 0.18226284924791405, 0.019524472987637872, 0.00940067217923305, 0.004924161617693502, 0.2773714813323158, 0.002617036943669274, 0.5038829157462169, 0.32982326387556554, 0.015581755293898046, 0.0027197245603894768, 0.009689018746387511, 0.23145989227481278, 0.000906574853463159, 0.40977183376534787, 0.9941530186590377, 0.4705981075432862, 0.01763582651542887, 0.00046410069777444397, 0.0232050348887222, 0.05522798303515883, 0.03248704884421108, 0.40051890217934516, 0.007405661958580379, 0.00246855398619346, 0.012342769930967298, 0.97754737853261, 0.9965326911002024, 0.40316520535533745, 0.005735295517502376, 0.08524734701014894, 0.003519385885740094, 0.17649068478859584, 0.0006517381269889063, 0.32534767299286205, 0.9984537360733732, 0.9925661706443676, 0.005770733550257951, 0.9916767046591952, 0.015730798251535515, 0.004194879533742804, 0.001048719883435701, 0.9795043711289447, 0.000558520616199687, 0.9947252174516427, 0.001117041232399374, 0.0033511236971981223, 0.12632101929573233, 0.3600149049928371, 0.5179161791125025, 0.990385053370506, 0.9990866609228649, 0.9986583945724204, 0.9957021239125271, 0.023797782055702894, 0.9544163119181897, 0.02004023752059191, 0.9981394768698901, 0.9826995775789289, 0.4153937393344084, 0.01889120355059688, 0.007275666232324473, 0.007062927453601536, 0.09743436065510552, 0.0005105730689350508, 0.45343143297006966, 0.9916766175096525, 0.7722603808268445, 0.042833365331342105, 0.00541716090955209, 0.006802946258507275, 0.01788922905014876, 0.0006299024313432662, 0.15407413470656292, 0.9916778086315703, 0.999472521605209, 0.837891957235114, 0.07410371072521567, 0.0048752441266589255, 0.0022751139257741653, 0.013975699829755587, 0.000325016275110595, 0.06630332012256139, 0.7119010204149863, 0.03734607582115512, 0.00437756200101452, 0.006429544188990076, 0.03378930669533082, 0.00013679881253170374, 0.20588221286021413, 0.005945967509964024, 0.9929765741639921, 0.9954061634488184, 0.999120068592794, 0.0791348318738687, 0.9043980785584994, 0.011304975981981243, 0.9985919445279635, 0.9980065052712572, 0.9904104088549125, 0.06647633162863362, 0.09887831717089215, 0.04327232907901623, 0.03762811224262281, 0.0010452253400728556, 0.7525622448524562, 0.19974941661549922, 0.06132750040227709, 0.00010546431711483591, 0.006696984136792081, 0.14380059638607876, 0.0033748581476747493, 0.5849578348774374, 0.14490683566766563, 0.8535918288548429, 0.0022641693073072755, 0.21552427396233095, 0.7819807427010228, 0.002256798680233832, 0.255235278071358, 0.7386892866744874, 0.005687694218860346, 0.2123953218092405, 0.7759091091924284, 0.010972452049185856, 0.9942778194486386, 0.9988197792120614, 0.9985235233536836, 0.9870868467601814, 0.012675272510564127, 0.7758086047843304, 0.12438272402569689, 0.00013475918095958494, 0.0014823509905554342, 0.012263085467322228, 0.0858415982712556, 0.995189641400965, 0.2591274047453122, 0.0032692036455251867, 0.0011184117734691428, 0.006108248916639165, 0.3356095637156251, 0.00025809502464672527, 0.3944552293350785, 0.009396207211843283, 0.9167174661054603, 0.0005872629507402052, 0.07282060589178545, 0.06127539910878269, 0.012530991562584077, 0.004483565788447514, 0.23521475905547726, 0.0002299264506896161, 0.6862154920831592, 0.9974829054750731, 0.5021846547922847, 0.4862422847988788, 0.9973145640572807, 0.9994550675280769, 0.8908355902736782, 0.0014461616725222049, 0.0028923233450444097, 0.0014461616725222049, 0.000482053890840735, 0.10315953263991728, 0.1361906769759235, 0.03715590347716695, 0.005287570879442989, 0.008717346585027631, 0.03358322045051628, 0.0007145366053301337, 0.7785590851677137, 0.987307822899265, 0.9916767271412291, 0.9916763102317128, 0.9916769430542005, 0.991676908499798, 0.10474942342471662, 0.010560568574153991, 0.047379848197555745, 0.002711497336607106, 0.050662187078711715, 0.0001427103861372161, 0.7837654406655908, 0.991677378652376, 0.9950730088003736, 0.9757030593510806, 0.0003316461792491776, 0.0029848156132425987, 0.020893709292698192, 0.9978329152571963, 0.29503609380249035, 0.03429899752474663, 0.00025886035867733303, 0.011842861409487987, 0.2426168711703304, 0.002006167779749331, 0.4139177135250556, 0.04918601688302458, 0.008261713773320535, 0.001729195906043833, 0.07742955001507386, 0.00038426575689862956, 0.8628687571158726, 0.997416941118398, 0.23226180930520346, 0.006917972059568687, 0.0032769341334799047, 0.006044122957307379, 0.21037917136940987, 0.0019297501008270549, 0.5392013064744878, 0.722067804642948, 0.0005032708169666827, 0.016104666142933845, 0.003019624901800096, 0.08857566378613614, 0.0005032708169666827, 0.16909899450080537, 0.17798477515399377, 0.032960143547035886, 0.004056633051942878, 0.0010141582629857196, 0.5902401090576888, 0.19370422823027245, 0.9981579459899923, 0.494413782826199, 0.03245447324306898, 0.002607146049997231, 0.007371930210336998, 0.10976983886367653, 0.0014833762008604936, 0.3519197659556607, 0.019733143530731356, 0.01290244000086281, 0.0015179341177485658, 0.9661650659469622, 0.9983364802692816, 0.9916765936328577, 0.879253368151174, 0.04291636044626545, 0.0031921259836065214, 0.00744829396174855, 0.004610848642987197, 0.002837445318761352, 0.0595863516939884, 0.0025476565326272302, 0.9961337042572471, 0.9964579218464965, 0.998136613958959, 0.9987888655243758, 0.9844138388656635, 0.014181231772374504, 0.028602284022253645, 0.0022433163939022467, 0.007851607378657864, 0.9612610747871128, 0.008004916737642401, 0.0008894351930713778, 0.0035577407722855114, 0.0008894351930713778, 0.9854941939230867, 0.0011569515732747513, 0.9984492077361103, 0.011639882209203036, 0.0015519842945604049, 0.9866740152667773, 0.001355936071337334, 0.001355936071337334, 0.004067808214012002, 0.9939011402902657, 0.999043707721329, 0.9953790937232101, 0.4821273531219367, 0.04083938007446236, 0.00015181925678238797, 0.011690082772243874, 0.15536170610731037, 0.0015687989867513425, 0.308243697687175, 0.343765547702572, 0.002748590284717478, 0.002556828171830212, 0.011250043956052933, 0.05554709203301135, 0.0003196035214787765, 0.5837877923331332, 0.000989352877857333, 0.9987517301969777, 0.9142614024947282, 0.02849942027726709, 0.0008549826083180127, 0.002564947824954038, 0.0019949594194086963, 0.0005699884055453418, 0.05158395070185343, 0.04802688522738425, 0.009371099556562781, 0.0007809249630468984, 0.8687790213896744, 0.073016484044885, 0.9980069728718924, 0.536600518215865, 0.0152312206271491, 0.006738661247162935, 0.016892808331929, 0.07680227613204879, 9.231042804332788e-05, 0.3476410720111728, 0.009148939779631316, 0.9835110263103664, 0.005718087362269572, 0.9902786937927568, 0.9904103243944118, 0.999208542317182, 0.9948640797425554, 0.10897800951531394, 0.019888486736544794, 0.007356015642283691, 0.0027244502378828486, 0.8609262751709801, 0.3184499315672823, 0.05644298568260365, 0.004180961902415085, 0.10800818247905636, 0.09267798883686772, 0.4194898442089802, 0.05986272587682083, 0.07546796638317156, 0.00025582361485820864, 0.02481489064124624, 0.002302412533723878, 0.837310691430917, 0.9971535584278419, 0.9960972716645372, 0.9307435056070557, 0.004915112127545661, 0.00357462700185139, 0.00357462700185139, 0.00044682837523142376, 0.056747203654390815, 0.2791447985416864, 0.02052160391105548, 0.002103145742437363, 0.008221387902255146, 0.015550532156203533, 0.005863315403158709, 0.6686091510275871, 0.995679053410038, 0.22573920402423897, 0.7618698135818065, 0.9828846556064684, 0.9892021948335569, 0.995672342722765, 0.17441207475727297, 0.027171565330606735, 0.019460715709758877, 0.0066092996750124495, 0.49276000910370593, 0.0001835916576392347, 0.27942650292691523, 0.37876647304876326, 0.019666562472008348, 8.228687226781735e-05, 0.015881366347688747, 0.08475547843585186, 0.00041143436133908676, 0.5003864702605972, 0.012717130014275702, 7.350942204783642e-05, 0.0013231695968610557, 0.003307923992152639, 0.6242420120302269, 0.0009556224866218735, 0.3574028099965807, 0.013176390303878918, 0.00013045930993939523, 0.002348267578909114, 0.0007827558596363713, 0.8954727034240089, 0.00039137792981818565, 0.0875381969693342, 0.9953792777405027, 0.01172788655500672, 0.9851424706205645, 0.0021989787290637598, 0.24275571297512877, 0.012457528890273456, 0.0019101544298419301, 0.00656096521554402, 0.42754239151418505, 0.0048999613635075595, 0.30388065473007053, 0.9975182108886431, 0.0020136722118985484, 0.0006712240706328494, 0.039602220167338116, 0.8799747565996656, 0.003356120353164247, 0.07450587184024629, 0.008972790268428947, 0.002990930089476316, 0.9870069295271842, 0.002210411641332626, 0.9968956502410145, 0.9978672840289206, 0.990333493242727, 0.9916765823840585, 0.9916768860947436, 0.9956797914383118, 0.9984859909683982, 0.6772040764584742, 0.03471162094032798, 0.039787376832545754, 0.002128542793510678, 0.01735581047016399, 0.004257085587021356, 0.22464313174589617, 0.6212520283699887, 0.041519636905339614, 0.2277795560255783, 0.0005141750700351655, 0.012468745448352763, 0.0007712626050527482, 0.09589365056155837, 0.997726088781812, 0.48737102896089124, 0.04671966290692639, 0.002566042091478912, 0.01628109464938344, 0.08565271532936505, 0.00203513683117293, 0.3594228612271496, 0.00150917041772711, 0.00150917041772711, 0.00150917041772711, 0.9930341348644384, 0.6598698436995124, 0.020253343279344367, 0.006190978294996095, 0.008402041971780416, 0.061113800026318596, 0.0005306552824282367, 0.2437476597287034, 0.9614783694698774, 0.011160318745165654, 0.0016909573856311597, 0.0020291488627573917, 0.0013527659085049277, 0.022320637490331308, 0.9982242140609705, 0.9934107211392446, 0.006514168663208161, 0.9904105524550221, 0.004953454676396049, 0.9898653594998105, 0.0008255757793993416, 0.004127878896996708, 0.9975892377341936, 0.994736705650963, 0.003782268842779327, 0.9978698236165532, 0.9989505763615482, 0.9979623257584864, 0.9934137481670714, 0.9938494807934385, 0.9879113479787235, 0.030082083503130977, 0.9059004574942872, 0.06274263130653032, 0.9993466202806072, 0.9726588912410631, 0.001743116292546708, 0.024403628095653912, 0.9972848795791546, 0.03402499653616669, 0.8909801418540393, 0.03560755451459305, 0.0007912789892131788, 0.037981391482232583, 0.9975191354742271, 0.38505113487393283, 0.015500613398104232, 0.062399905218009345, 0.012956922994312768, 0.06534104724739323, 0.003656554955450229, 0.45508211130331655, 0.9985852892589646, 0.7083515233191297, 0.04319396385692092, 0.00014741967186662427, 0.017690360623994913, 0.01901713767079453, 0.006044206546531596, 0.20550302258207426, 0.9904105124808157, 0.04445322759402861, 0.020206012542740275, 0.0016838343785616897, 0.0010103006271370138, 0.9325074788474638, 0.5696851978119176, 0.015817829072095106, 0.0037719438556534485, 0.005232051154616074, 0.144428946989053, 0.002190160948443938, 0.25892569434937224, 0.9907810604050807, 0.8867214011580081, 0.02018552783123921, 0.001922431222022782, 0.0043254702495512595, 0.007689724888091128, 0.00961215611011391, 0.06968813179832585, 0.5312162966581733, 0.42665562288156456, 0.002163324285033285, 0.03966094522561023, 0.9998520557356213, 0.9956347059210171, 0.9964413684658178, 0.4349467656284906, 0.5646677308159351, 0.9982204284272445, 0.014352321698060997, 0.006798468172765736, 0.9313901396689057, 0.0460785065043011, 0.09383665713651329, 0.0023799152172304097, 0.0011332929605859094, 0.0013599515527030913, 0.347694280307757, 0.00022665859211718186, 0.5533869526540995, 0.995880040841508, 0.012525381937044658, 0.9790673547456573, 0.0020875636561741096, 0.004175127312348219, 0.24056774349470905, 0.011347535070505144, 0.00983453039443779, 0.21446841283254722, 0.027234084169212344, 0.49664378491910843, 0.07366532964502412, 0.0027215846050425672, 0.0021739486784181482, 0.02477637692273508, 0.1119666544525744, 0.004264922216438657, 0.7804309805240357, 0.05322674079902424, 0.0009079188195995605, 0.0012483883769493958, 0.04596339024222775, 0.04380708304567879, 0.0003404695573498352, 0.8545785889480864, 0.17030513143409487, 0.00433778297118957, 0.00018859925961693783, 0.7191289769193839, 0.10580418464510212, 0.9991299403376579, 0.9974699771608443, 0.9958713882362646, 0.015022539740910328, 0.006509767221061142, 0.0032191156587664986, 0.0062951595104767085, 0.7254455976789125, 0.0007153590352814442, 0.24279285657452215, 0.383856532446625, 0.42340538730476207, 0.0048317605482791955, 0.008947704719035547, 0.17859618619194953, 0.15786732525613878, 0.05380425076256263, 0.00038328940881611847, 0.004695295257997451, 0.17099498750809083, 0.0027788482139168586, 0.6094301600176283, 0.9980032821279793, 0.6893130000411523, 0.03518280551005636, 0.031470471115709886, 0.008437123623514715, 0.009618320930806775, 0.0026155083232895617, 0.22341503355066966, 0.998654994074079, 0.997876637831133, 0.2525542663071611, 0.001974108386976246, 0.10607542399352363, 0.0036850023223556597, 0.0529061047709634, 0.004211431225549326, 0.5786769718356369, 0.9789824833709457, 0.9989695398982634, 0.9992938474671031, 0.9548788724518703, 0.044759947146181416, 0.08630959655945464, 0.020534860089182105, 0.001895525546693733, 0.0047388138667343324, 0.09761956565472725, 0.0022746306560324793, 0.7866431018778991, 0.0027060606619951078, 0.9958303236141998, 0.22361552056325634, 0.7748154015088475, 0.0008251495223736396, 0.9820624986527439, 0.99521320697076, 0.9962645534542878, 0.7806153918994082, 0.05850536380016466, 0.03239938473395573, 0.011654454940271846, 0.003263247383276117, 0.0006992672964163107, 0.11281512382183147, 0.01908362896344767, 0.980604934429465, 0.9989734849422071, 0.9954103168011832, 0.10878580174769686, 0.35484892474843976, 0.07770414410549777, 0.4584544502224368, 0.0048065852602179404, 0.9949631488651136, 0.20359112226180484, 0.010765429846217736, 0.0009520448163321809, 0.004906692514942778, 0.33241010933321297, 0.0015379185494596769, 0.44577667669338344, 0.39469614784217616, 0.02665735976703545, 0.0038854823276675285, 0.03605137400228226, 0.08626754433833982, 0.003147732518616732, 0.4492896337119351, 0.9954752747938621, 0.9994550484509315, 0.053957672125253923, 0.007021888838217976, 0.006282742644721347, 0.011456765999197751, 0.06596879776957415, 0.001293505838619101, 0.8540834265853549, 0.9971717069842534, 0.0695382094305671, 0.0048225603855650565, 0.04169181236553016, 0.011200785411634969, 0.0007778323202524284, 0.8719500310029722, 0.7952917498232739, 0.02499262859186603, 0.0121016938444825, 0.0026308030096701086, 0.008418569630944348, 0.00026308030096701087, 0.15653277907537147, 0.4708499695932553, 0.5188642757030938, 0.0005162828613961133, 0.0061953943367533595, 0.003613980029772793, 0.15737772131089622, 0.007585720472562181, 0.0003117419372285828, 0.002753720445519148, 0.2517316143120806, 0.0026498064664429535, 0.5776058526950258, 0.9983081089267144, 0.9962725648293982, 0.9964908543918315, 0.014935969251721963, 0.048037306512294965, 0.012917595028516292, 0.004440423291052476, 0.9191676212478624, 0.18950687145195155, 0.017369302855377227, 0.0005184866523993202, 0.008814273090788444, 0.6494045321301486, 0.0011233877468651938, 0.13316465522455875, 0.001169680868850335, 0.001169680868850335, 0.946271822899921, 0.051465958229414736, 0.6097705035301898, 0.30270749996677276, 0.0010888758991610531, 0.020325683451006327, 0.0014518345322147375, 0.06388071941744845, 0.06389931506937226, 0.004541863080911263, 0.06922425799181994, 0.00031323193661456983, 0.861857673594989, 0.002838441763810756, 0.9962930590975754, 0.12129498935878547, 0.015072686177672606, 8.918749217557755e-05, 0.004191812132252145, 0.21155273144046996, 0.0008918749217557755, 0.6469660682416396, 0.2690487707325467, 0.03914379321268414, 0.009785948303171034, 0.00959152548920075, 0.19076118430717842, 0.004147686698032756, 0.4775024311110211, 0.991676369469269, 0.9916765470374385, 0.9994250020411986, 0.9904108073981488, 0.017987278210604283, 0.004796607522827808, 0.002398303761413904, 0.0071949112842417135, 0.9677155677305104, 0.906172146223375, 0.09240315801249496, 0.9984657237230298, 0.9904100482583571, 0.9904102284132628, 0.0061723971336215926, 0.0010287328556035987, 0.007201129989225191, 0.984497342812644, 0.003687294971661423, 0.9937259948627535, 0.0021013716839042482, 0.9960501781706137, 0.5064009746591516, 0.022050636219842414, 0.001956874642886448, 0.007016111524495314, 0.07197480393836009, 0.0013364021951419646, 0.38922713933509717, 0.9904101215585636, 0.9900496929757918, 0.002080836230184065, 0.9883972093374307, 0.00416167246036813, 0.00416167246036813, 0.9973881991303323, 0.9972219909467716, 0.00405178393220333, 0.0013505946440677766, 0.9940376580338836, 0.9951022197409775, 0.2809642427265661, 0.0037657842274564273, 0.006521236101205033, 0.0053272069559139705, 0.1410791359359286, 0.008266355621245816, 0.554029523415053, 0.002025322003201782, 0.0006751073344005941, 0.04455708407043921, 0.9525764488392383, 0.7455648133265429, 0.06875619563457193, 0.005539598700415748, 0.007005963062290504, 0.0024439406031245945, 0.002281011229582955, 0.16846897224205537, 0.999105206876781, 0.29963346483505127, 0.13484803781271368, 0.006446056347158914, 0.004975144160558893, 0.19429019500060862, 0.009777239828576608, 0.34999057616453433, 0.04186479558205213, 0.0001597892961147028, 0.000798946480573514, 0.0020772608494911363, 0.7323143440936829, 0.0017576822572617308, 0.22098859652663397, 0.9955234138717673, 0.9967586249568512, 0.07187640328836364, 0.004583422818388406, 0.00020833740083583662, 0.002291711409194203, 0.01166689444680685, 0.9093927546484268, 0.3316094692175648, 0.08636228607077741, 0.007530411432722931, 0.013432625798911175, 0.06885916760552951, 0.0027815033219967585, 0.4894428223547711, 0.9765422544356701, 0.007011072595948401, 0.015023726991318001, 0.9992135855624843, 0.15835575315307474, 0.005423142231269683, 0.006688542085232609, 0.0059654564543966514, 0.02856188241802033, 0.00018077140770898943, 0.7946711082887176, 0.9987465510636423, 0.17983593543330148, 0.009501753253625721, 0.01342449542255377, 0.22080679808655, 0.0006973763855872088, 0.5756842063022409, 0.11868740131898305, 0.0024017686607551375, 0.03422520341576071, 0.03562623513453454, 0.0010007369419813073, 0.8079950069557076, 0.19529950051933576, 0.01112963323539509, 0.02257388507815117, 0.011758870450117073, 0.22027235247861449, 0.0022023302515269435, 0.5367786714837723, 0.21335464621348876, 0.5858649760942978, 0.004301504963981628, 0.036992942690242, 0.0017206019855926513, 0.15657478068893127, 0.9966694293287855], \"Term\": [\"accident\", \"accident\", \"accident\", \"accident\", \"account_bonus\", \"acquire\", \"acquire\", \"acquire\", \"acquire\", \"acquire\", \"activethings_function_index_value\", \"actor\", \"actor\", \"actress\", \"added_point\", \"additional_shares_last_quarter\", \"advantage\", \"advantage\", \"advantage\", \"advantage\", \"advantage\", \"advantage\", \"album\", \"album\", \"alcohol_detox_chicago\", \"alcohol_detox_chicago\", \"alcohol_drug_rehab_center\", \"alcohol_drug_rehab_center\", \"also\", \"also\", \"also\", \"also\", \"also\", \"also\", \"also\", \"announce_minutes_ago_faile\", \"application\", \"application\", \"application\", \"application\", \"application\", \"application\", \"application\", \"area\", \"area\", \"area\", \"area\", \"area\", \"area\", \"area\", \"art\", \"art\", \"art\", \"art\", \"art\", \"art\", \"artist\", \"artist\", \"artist\", \"assetid_hasbeenlogged_true_return\", \"attorney\", \"attorney\", \"attorney\", \"attorney\", \"attorney\", \"attorneys_near\", \"atwater\", \"automobile\", \"automobile\", \"availability\", \"availability\", \"availability\", \"availability\", \"availability\", \"availability_please_follow_fare\", \"ball\", \"ball\", \"ball\", \"ball\", \"ball\", \"band\", \"band\", \"band\", \"band\", \"band\", \"bankruptcy\", \"bankruptcy\", \"bankruptcy\", \"bankruptcy\", \"basic_principle\", \"basic_principle\", \"basic_principle\", \"basketball\", \"basketball\", \"basketball\", \"bear\", \"bear\", \"bear\", \"bear\", \"bear\", \"bear\", \"bear\", \"best_chicago_style\", \"best_drug_rehab_center\", \"best_drug_rehab_center\", \"best_strategy_use\", \"best_strategy_use\", \"biden\", \"biden\", \"black\", \"black\", \"black\", \"black\", \"black\", \"borrower\", \"borrower\", \"brewery\", \"buck\", \"buck\", \"buck\", \"buckeye\", \"bull\", \"bull\", \"bull\", \"bullpen\", \"bullpen\", \"burgess\", \"business\", \"business\", \"business\", \"business\", \"business\", \"business\", \"business\", \"business_revenue_billion_quarter\", \"buyer\", \"buyer\", \"buyer\", \"call\", \"call\", \"call\", \"call\", \"call\", \"call\", \"call\", \"card_carousel_card_carousel\", \"carousel_card_carousel_initialize\", \"carousel_isuseraction_true_trackactive\", \"caruso\", \"caruso\", \"case\", \"case\", \"case\", \"case\", \"case\", \"case\", \"case\", \"cash_bonus_required_activitie\", \"cast\", \"cast\", \"cast\", \"cast\", \"cavalier\", \"cavalier\", \"cbd\", \"cbd\", \"center\", \"center\", \"center\", \"center\", \"center\", \"center\", \"center\", \"center_content_section\", \"center_content_section\", \"character\", \"character\", \"character\", \"character\", \"character\", \"charge\", \"charge\", \"charge\", \"charge\", \"charge\", \"charge\", \"charge\", \"chicago_accident_lawyer\", \"chicago_atlantic_real_estate\", \"chicago_atlantic_real_estate\", \"chicago_atlantic_real_estate\", \"chicago_bankruptcy_law_firm\", \"chicago_bear\", \"chicago_bear\", \"chicago_bear\", \"chicago_bear\", \"chicago_bull\", \"chicago_bull\", \"chicago_bull\", \"chicago_content_section\", \"chicago_content_section\", \"chicago_content_section\", \"chicago_custody_lawyer\", \"chicago_custody_lawyer\", \"chicago_divorce_attorney\", \"chicago_divorce_attorneys_content\", \"chicago_divorce_lawyer\", \"chicago_employment_lawyer\", \"chicago_family_lawyer\", \"chicago_family_lawyer_content\", \"chicago_fire_season_episode\", \"chicago_immigration_lawyer\", \"chicago_injury_lawyer\", \"chicago_insurance_lawyer\", \"chicago_me\", \"chicago_me\", \"chicago_personal_injury_lawyer\", \"chicago_police_brutality_lawyer\", \"chicago_roofe\", \"chicago_roofe\", \"chicago_semi_truck_accident\", \"chicago_sexual_harassment_lawyer\", \"chicago_style\", \"chicago_style\", \"chicago_style\", \"chicago_style_thin_crust\", \"chicago_tavern_style_pizza\", \"chicago_thin_crust_denver\", \"chicago_tribune_historical_photo\", \"chicago_truck_accident_lawyer\", \"child\", \"child\", \"child\", \"child\", \"child\", \"child\", \"child\", \"city\", \"city\", \"city\", \"city\", \"city\", \"city\", \"city\", \"clickevent_function_stoppropagation_card\", \"client\", \"client\", \"client\", \"client\", \"client\", \"client\", \"client\", \"coach\", \"coach\", \"coach\", \"coach\", \"coach\", \"coach\", \"coach\", \"cockburn\", \"college\", \"college\", \"college\", \"college\", \"college\", \"college\", \"com\", \"com\", \"com\", \"com\", \"com\", \"com\", \"com\", \"com_get_latest_filing\", \"come\", \"come\", \"come\", \"come\", \"come\", \"come\", \"come\", \"comedy\", \"community_unit_school_district\", \"company\", \"company\", \"company\", \"company\", \"company\", \"company\", \"company\", \"company_also_recently\", \"company_debt_equity_ratio\", \"company_quick_ratio_current\", \"company_revenue_billion_quarter\", \"compared_analyst_estimates_billion\", \"compared_analysts_expectations_billion\", \"compared_consensus_estimate_billion\", \"components_fasteners_automotive_relate\", \"concert\", \"concert\", \"concert\", \"consumer\", \"consumer\", \"consumer\", \"consumer\", \"content_section\", \"content_section\", \"content_section\", \"content_section_divorce_lawyer\", \"control_prev_tnt_client\", \"corporation\", \"corporation\", \"corporation\", \"cost\", \"cost\", \"cost\", \"cost\", \"cost\", \"cost\", \"cost\", \"court\", \"court\", \"court\", \"court\", \"court\", \"court\", \"court\", \"covid\", \"covid\", \"covid\", \"covid\", \"covid\", \"covid\", \"covid\", \"crime\", \"crime\", \"crime\", \"crime\", \"cub\", \"cub\", \"current_ratio_quick_ratio\", \"customer\", \"customer\", \"customer\", \"customer\", \"customer\", \"customer\", \"dancer\", \"datum\", \"datum\", \"datum\", \"datum\", \"datum\", \"datum\", \"daughter\", \"daughter\", \"daughter\", \"daughter\", \"day\", \"day\", \"day\", \"day\", \"day\", \"day\", \"day\", \"deal\", \"deal\", \"deal\", \"deal\", \"deal\", \"deal\", \"defense\", \"defense\", \"defense\", \"defense\", \"defense\", \"defense\", \"defense\", \"defensively\", \"defensively\", \"democracy\", \"derozan\", \"dinner\", \"dinner\", \"dinner\", \"dinner\", \"discover_financial_service\", \"discover_financial_service\", \"district\", \"district\", \"district\", \"district\", \"district\", \"district\", \"district_officials_cancel_classe\", \"divorce_attorney_chicago_content\", \"divorce_lawyer\", \"divorce_lawyers_chicago\", \"divorce_lawyers_chicago_content\", \"divorce_lawyers_content_section\", \"divorce_lawyers_near\", \"dosunmu\", \"download_without\", \"draft\", \"draft\", \"draft\", \"draft\", \"draft\", \"draft\", \"drug_detox_center\", \"drug_detox_center\", \"drug_rehab_center\", \"drug_rehab_center\", \"eastern_conference\", \"eberflus\", \"eberflus\", \"eberflus\", \"eberflus\", \"else_var_activethings_owl\", \"employed_individuals_living_poverty\", \"ensemble\", \"enterprise\", \"enterprise\", \"enterprise\", \"enterprise\", \"episode\", \"episode\", \"episode\", \"essay\", \"essay\", \"even\", \"even\", \"even\", \"even\", \"even\", \"even\", \"even\", \"event_isuseraction_trackactive_card\", \"ex_dividend_date_dividend\", \"example\", \"example\", \"example\", \"example\", \"example\", \"example\", \"excitement\", \"excitement\", \"excitement\", \"excitement\", \"excitement\", \"expenditure\", \"experience\", \"experience\", \"experience\", \"experience\", \"experience\", \"experience\", \"experience\", \"expertise\", \"expertise\", \"expertise\", \"expertise\", \"expertise\", \"fact\", \"fact\", \"fact\", \"fact\", \"fact\", \"fact\", \"fact\", \"false_assettracked_foreach_function\", \"false_items_bind_previous\", \"family\", \"family\", \"family\", \"family\", \"family\", \"family\", \"family\", \"family_lawyers_near\", \"fascination\", \"fascination\", \"fascination\", \"fascination\", \"festival\", \"festival\", \"field\", \"field\", \"field\", \"field\", \"field\", \"field\", \"field\", \"film\", \"film\", \"film\", \"film\", \"film\", \"film\", \"filter_td_pulldown_filter\", \"financial_loan\", \"financing\", \"financing\", \"financing\", \"find\", \"find\", \"find\", \"find\", \"find\", \"find\", \"find\", \"firehouse\", \"firm\", \"firm\", \"firm\", \"firm\", \"firm\", \"firm\", \"firm\", \"first\", \"first\", \"first\", \"first\", \"first\", \"first\", \"first\", \"fleury\", \"format\", \"format\", \"format\", \"format\", \"format\", \"free_app\", \"free_throw_line\", \"function\", \"function\", \"function\", \"function\", \"function\", \"function\", \"function\", \"fund\", \"fund\", \"fund\", \"fund\", \"fund\", \"fund\", \"fund\", \"game\", \"game\", \"game\", \"game\", \"game\", \"game\", \"game\", \"game_results_favorite_team\", \"get\", \"get\", \"get\", \"get\", \"get\", \"get\", \"get\", \"give\", \"give\", \"give\", \"give\", \"give\", \"give\", \"give\", \"go\", \"go\", \"go\", \"go\", \"go\", \"go\", \"go\", \"good\", \"good\", \"good\", \"good\", \"good\", \"good\", \"good\", \"grizzly\", \"guide\", \"guide\", \"guide\", \"guide\", \"guide\", \"guide\", \"guide\", \"gun\", \"gun\", \"gun\", \"gun\", \"halstead\", \"high\", \"high\", \"high\", \"high\", \"high\", \"high\", \"high\", \"holdings_illinois_tool_work\", \"hoosier\", \"hoosier\", \"household_income_percent_individual\", \"husband\", \"husband\", \"husband\", \"husband\", \"illini\", \"illini\", \"illini\", \"illini\", \"illinois_content_section\", \"illinois_content_section\", \"illinois_content_section\", \"illinois_custody_lawyer\", \"illinois_insurance_claims_lawyer\", \"illinois_police_brutality_lawyer\", \"illinois_residential_lease_agreement\", \"illinois_tool_work\", \"illinois_tool_work\", \"illinois_tool_work\", \"illinois_truck_accident_lawyer\", \"impact_link\", \"include\", \"include\", \"include\", \"include\", \"include\", \"include\", \"include\", \"income_percent_individuals_live\", \"individual\", \"individual\", \"individual\", \"individual\", \"individual\", \"individual\", \"individual\", \"individuals_years_old_live\", \"industrial_products_company_stock\", \"info\", \"info\", \"info\", \"info\", \"info\", \"info\", \"info\", \"information\", \"information\", \"information\", \"information\", \"information\", \"information\", \"information\", \"inning\", \"inning\", \"innings\", \"insider_trades_illinois_tool\", \"insolvency\", \"insolvency\", \"insolvency\", \"institutional_investor_owned_share\", \"insurance_policie\", \"item_index_array_item\", \"kid\", \"kid\", \"kid\", \"kid\", \"kid\", \"kid\", \"know\", \"know\", \"know\", \"know\", \"know\", \"know\", \"know\", \"known_detail\", \"known_detail\", \"known_detail\", \"known_fact\", \"known_fact\", \"known_fact\", \"known_factual_statement\", \"known_factual_statement\", \"known_factual_statement\", \"known_incorrect_statement\", \"known_incorrect_statement\", \"known_incorrect_statement\", \"latest_cheap_chicago_flight\", \"latest_filings_insider_trade\", \"lavine\", \"lawful\", \"lawful\", \"lawyer\", \"lawyer\", \"lawyer\", \"lawyer\", \"lawyer\", \"lawyer\", \"layup\", \"lead\", \"lead\", \"lead\", \"lead\", \"lead\", \"lead\", \"lead\", \"league\", \"league\", \"league\", \"league\", \"leave\", \"leave\", \"leave\", \"leave\", \"leave\", \"leave\", \"legal_professional\", \"legal_representative\", \"legal_representative\", \"legal_responsibility\", \"lender\", \"license\", \"license\", \"license\", \"license\", \"license\", \"license\", \"life\", \"life\", \"life\", \"life\", \"life\", \"life\", \"life\", \"line_median_household_income\", \"line_percent_individuals_living\", \"line_total_employed_individual\", \"line_total_individuals_living\", \"line_total_individuals_year\", \"live\", \"live\", \"live\", \"live\", \"live\", \"live\", \"live\", \"living_poverty_line_percent\", \"living_poverty_line_total\", \"loan\", \"loan\", \"loan\", \"loan\", \"loan_provider\", \"look\", \"look\", \"look\", \"look\", \"look\", \"look\", \"look\", \"love\", \"love\", \"love\", \"love\", \"love\", \"love\", \"lyric\", \"make\", \"make\", \"make\", \"make\", \"make\", \"make\", \"make\", \"market\", \"market\", \"market\", \"market\", \"market\", \"market\", \"market\", \"match\", \"match\", \"match\", \"match\", \"match\", \"match\", \"matchup\", \"may\", \"may\", \"may\", \"may\", \"may\", \"may\", \"may\", \"mayor\", \"mayor\", \"mayor\", \"mayor\", \"mb_mb_mb_mb\", \"median_household_income_percent\", \"method\", \"method\", \"method\", \"method\", \"method\", \"method\", \"method\", \"milwaukee_buck\", \"milwaukee_buck\", \"minute_rule_divorce_lawyer\", \"minutes_ago_failed_udp\", \"minutes_ago_success_udp\", \"mortgage\", \"mortgage\", \"mother\", \"mother\", \"mother\", \"mother\", \"murder\", \"murder\", \"murder\", \"murder\", \"murder\", \"museum\", \"museum\", \"music\", \"music\", \"music\", \"musical\", \"musical\", \"musical\", \"musical\", \"musician\", \"nearly_million_users_nationwide\", \"need\", \"need\", \"need\", \"need\", \"need\", \"need\", \"need\", \"new\", \"new\", \"new\", \"new\", \"new\", \"new\", \"new\", \"new_beginnings_alcohol_drug\", \"new_beginnings_alcohol_drug\", \"obtain\", \"obtain\", \"obtain\", \"obtain\", \"obtain\", \"obtain\", \"obtain\", \"offense\", \"offense\", \"offense\", \"offense\", \"offense\", \"offensively\", \"offer\", \"offer\", \"offer\", \"offer\", \"offer\", \"offer\", \"offer\", \"offseason\", \"offseason\", \"offseason\", \"ongoing_covid_pandemic_encourage\", \"owl_assettracked_length_return\", \"owns_shares_industrial_product\", \"padding_bottom_px_important\", \"pandemic\", \"pandemic\", \"pandemic\", \"pandemic\", \"pandemic\", \"paper\", \"paper\", \"paper\", \"paper\", \"paper\", \"paper\", \"parent\", \"parent\", \"parent\", \"parent\", \"parent\", \"parent\", \"payday_advance\", \"payday_loan\", \"payment\", \"payment\", \"payment\", \"payment\", \"payment\", \"payment\", \"people\", \"people\", \"people\", \"people\", \"people\", \"people\", \"people\", \"percent_individuals_living_poverty\", \"personal_bankruptcy\", \"personal_bankruptcy\", \"personal_bankruptcy_lawyer\", \"personal_bankruptcy_legal_representative\", \"physical_facilities_installed_maintaine\", \"pick\", \"pick\", \"pick\", \"pick\", \"pick\", \"pick\", \"pick\", \"place\", \"place\", \"place\", \"place\", \"place\", \"place\", \"place\", \"play\", \"play\", \"play\", \"play\", \"play\", \"play\", \"play\", \"player\", \"player\", \"player\", \"player\", \"player\", \"player\", \"player\", \"player_performance_stats_convenient\", \"playoff\", \"playoff\", \"playoff\", \"point\", \"point\", \"point\", \"point\", \"point\", \"point\", \"point\", \"points_shoote\", \"pole\", \"pole\", \"pole\", \"pole\", \"pole\", \"pole\", \"politic\", \"politic\", \"politic\", \"politician\", \"politician\", \"postseason\", \"poverty_line_median_household\", \"poverty_line_percent_individual\", \"poverty_line_total_employe\", \"poverty_line_total_individual\", \"pre_alcoholic\", \"price\", \"price\", \"price\", \"price\", \"price\", \"price\", \"price\", \"product\", \"product\", \"product\", \"product\", \"product\", \"product\", \"product\", \"products_company_stock_value\", \"program\", \"program\", \"program\", \"program\", \"program\", \"program\", \"program\", \"protest\", \"protest\", \"protest\", \"protest\", \"provide\", \"provide\", \"provide\", \"provide\", \"provide\", \"provide\", \"provide\", \"provider\", \"provider\", \"provider\", \"provider\", \"provider\", \"provider\", \"pulldown_filter_display_option\", \"purchaser\", \"purchaser\", \"push_assetid_tncms_tracke\", \"quarterback\", \"quarterback\", \"quarterback\", \"quarterback\", \"racist\", \"rambler\", \"rambler\", \"rated_stock_sell_rate\", \"ratio_debt_equity_ratio\", \"read_sport\", \"reading_news_brief_powere\", \"real_estate_finance\", \"real_estate_finance_research\", \"rebound\", \"rebound\", \"rebound\", \"receive_concise_daily_summary\", \"redbird\", \"redbird\", \"redbird\", \"refugee\", \"rehab\", \"rehab\", \"rehab\", \"rehab\", \"rehab\", \"rehab_center_content_section\", \"report\", \"report\", \"report\", \"report\", \"report\", \"report\", \"report\", \"represents_dividend_annualized_basis\", \"require\", \"require\", \"require\", \"require\", \"require\", \"require\", \"require\", \"responsiveclass_true_featured_classified\", \"restaurant\", \"restaurant\", \"restaurant\", \"restaurant\", \"restaurant\", \"result\", \"result\", \"result\", \"result\", \"result\", \"result\", \"result\", \"returned_winter_break_prompte\", \"revenue\", \"revenue\", \"revenue\", \"revenue\", \"revenue\", \"revenue\", \"revenue\", \"roof\", \"roof\", \"roof\", \"roof\", \"roof_covere\", \"roof_repair_chicago\", \"roof_shingle\", \"roofing\", \"roofing\", \"roofing_repair_chicago_il\", \"roster\", \"roster\", \"roster\", \"roster\", \"run\", \"run\", \"run\", \"run\", \"run\", \"run\", \"run\", \"rutger\", \"ryan_pole\", \"ryan_pole\", \"ryan_pole\", \"ryan_pole\", \"save\", \"save\", \"save\", \"save\", \"save\", \"save\", \"say\", \"say\", \"say\", \"say\", \"say\", \"say\", \"say\", \"school\", \"school\", \"school\", \"school\", \"school\", \"school\", \"school\", \"score\", \"score\", \"score\", \"score\", \"score\", \"scored_point\", \"scoring_point\", \"sculpture\", \"season\", \"season\", \"season\", \"season\", \"season\", \"season\", \"season\", \"section\", \"section\", \"section\", \"section\", \"section\", \"see\", \"see\", \"see\", \"see\", \"see\", \"see\", \"see\", \"seek_service\", \"service\", \"service\", \"service\", \"service\", \"service\", \"service\", \"service\", \"service_anonymize_torrent_downloads\", \"severide\", \"share\", \"share\", \"share\", \"share\", \"share\", \"share\", \"share\", \"shares_chicago_atlantic\", \"shares_illinois_tool_work\", \"shares_sold_average_price\", \"shopper\", \"shopper\", \"show\", \"show\", \"show\", \"show\", \"show\", \"show\", \"show\", \"sing\", \"sing\", \"single_strategy_use\", \"single_strategy_use\", \"single_strategy_use\", \"site_include_financial_companie\", \"smart_trick_divorce_lawyer\", \"soldier\", \"solution\", \"solution\", \"solution\", \"solution\", \"solution\", \"solution\", \"solution\", \"song\", \"song\", \"source_hotel_food_drink\", \"spartan\", \"spell\", \"spell\", \"spell\", \"spell\", \"sportsbook\", \"sportsbook\", \"start\", \"start\", \"start\", \"start\", \"start\", \"start\", \"start\", \"state\", \"state\", \"state\", \"state\", \"state\", \"state\", \"state\", \"stella\", \"stock_sold_average_price\", \"story\", \"story\", \"story\", \"story\", \"story\", \"story\", \"story\", \"strikeout\", \"student\", \"student\", \"student\", \"student\", \"student\", \"student\", \"supply\", \"supply\", \"supply\", \"supply\", \"supply\", \"supply\", \"supply\", \"table_content\", \"table_content\", \"table_content\", \"table_content\", \"table_content\", \"take\", \"take\", \"take\", \"take\", \"take\", \"take\", \"take\", \"td_block_template_widget\", \"td_block_title_wrap\", \"td_wrapper_pulldown_filter\", \"teacher\", \"teacher\", \"teacher\", \"teacher\", \"teacher\", \"team\", \"team\", \"team\", \"team\", \"team\", \"team\", \"team\", \"teammate\", \"teammate\", \"teammate\", \"teammate\", \"technique\", \"technique\", \"technique\", \"technique\", \"technique\", \"technique\", \"tell\", \"tell\", \"tell\", \"tell\", \"tell\", \"theater\", \"theater\", \"think\", \"think\", \"think\", \"think\", \"think\", \"think\", \"think\", \"time\", \"time\", \"time\", \"time\", \"time\", \"time\", \"time\", \"total_employed_individuals_living\", \"total_individuals_living_poverty\", \"total_transaction\", \"touchonly_false_true_autoplaytimeout\", \"tour\", \"tour\", \"tour\", \"tour\", \"tour\", \"tournament\", \"tournament\", \"truck_accident\", \"true_hasbeenlogged_false_assettracke\", \"true_loop_true_margin\", \"trump\", \"trump\", \"trump\", \"trump\", \"ukraine\", \"ukraine\", \"ukrainian\", \"ukrainian\", \"use\", \"use\", \"use\", \"use\", \"use\", \"use\", \"use\", \"var_assetid_find_card\", \"view_bankruptcy_attorney_chicago\", \"viking\", \"viking\", \"viking\", \"viking\", \"violet\", \"voight\", \"voter\", \"voter\", \"voter\", \"vucevic\", \"want\", \"want\", \"want\", \"want\", \"want\", \"want\", \"want\", \"war\", \"war\", \"war\", \"war\", \"website\", \"website\", \"website\", \"website\", \"website\", \"website\", \"website\", \"welding_construction_products_specialty\", \"well\", \"well\", \"well\", \"well\", \"well\", \"well\", \"well\", \"win\", \"win\", \"win\", \"win\", \"win\", \"win\", \"win\", \"windy_city_time\", \"wolverine\", \"woman\", \"woman\", \"woman\", \"woman\", \"woman\", \"woman\", \"work\", \"work\", \"work\", \"work\", \"work\", \"work\", \"work\", \"workforce\", \"workforce\", \"workforce\", \"works_inc_nyse_itw\", \"world\", \"world\", \"world\", \"world\", \"world\", \"world\", \"world\", \"worth_purchasing_additional_share\", \"would\", \"would\", \"would\", \"would\", \"would\", \"would\", \"write\", \"write\", \"write\", \"write\", \"write\", \"write\", \"year\", \"year\", \"year\", \"year\", \"year\", \"year\", \"year\", \"yield\", \"yield\", \"yield\", \"yield\", \"yield\", \"yield\", \"\\u0430nd\"]}, \"R\": 30, \"lambda.step\": 0.01, \"plot.opts\": {\"xlab\": \"PC1\", \"ylab\": \"PC2\"}, \"topic.order\": [1, 2, 3, 4, 5, 6, 7]};\n",
       "\n",
       "function LDAvis_load_lib(url, callback){\n",
       "  var s = document.createElement('script');\n",
       "  s.src = url;\n",
       "  s.async = true;\n",
       "  s.onreadystatechange = s.onload = callback;\n",
       "  s.onerror = function(){console.warn(\"failed to load library \" + url);};\n",
       "  document.getElementsByTagName(\"head\")[0].appendChild(s);\n",
       "}\n",
       "\n",
       "if(typeof(LDAvis) !== \"undefined\"){\n",
       "   // already loaded: just create the visualization\n",
       "   !function(LDAvis){\n",
       "       new LDAvis(\"#\" + \"ldavis_el41951402453668340006967384239\", ldavis_el41951402453668340006967384239_data);\n",
       "   }(LDAvis);\n",
       "}else if(typeof define === \"function\" && define.amd){\n",
       "   // require.js is available: use it to load d3/LDAvis\n",
       "   require.config({paths: {d3: \"https://d3js.org/d3.v5\"}});\n",
       "   require([\"d3\"], function(d3){\n",
       "      window.d3 = d3;\n",
       "      LDAvis_load_lib(\"https://cdn.jsdelivr.net/gh/bmabey/pyLDAvis@3.3.1/pyLDAvis/js/ldavis.v3.0.0.js\", function(){\n",
       "        new LDAvis(\"#\" + \"ldavis_el41951402453668340006967384239\", ldavis_el41951402453668340006967384239_data);\n",
       "      });\n",
       "    });\n",
       "}else{\n",
       "    // require.js not available: dynamically load d3 & LDAvis\n",
       "    LDAvis_load_lib(\"https://d3js.org/d3.v5.js\", function(){\n",
       "         LDAvis_load_lib(\"https://cdn.jsdelivr.net/gh/bmabey/pyLDAvis@3.3.1/pyLDAvis/js/ldavis.v3.0.0.js\", function(){\n",
       "                 new LDAvis(\"#\" + \"ldavis_el41951402453668340006967384239\", ldavis_el41951402453668340006967384239_data);\n",
       "            })\n",
       "         });\n",
       "}\n",
       "</script>"
      ],
      "text/plain": [
       "<IPython.core.display.HTML object>"
      ]
     },
     "execution_count": 26,
     "metadata": {},
     "output_type": "execute_result"
    }
   ],
   "source": [
    "pyLDAvis.display(lda_display)"
   ]
  },
  {
   "cell_type": "code",
   "execution_count": 27,
   "metadata": {},
   "outputs": [
    {
     "name": "stdout",
     "output_type": "stream",
     "text": [
      "[(0,\n",
      "  '0.006*\"company\" + 0.004*\"may\" + 0.004*\"use\" + 0.004*\"also\" + 0.004*\"work\" + '\n",
      "  '0.004*\"include\" + 0.004*\"need\" + 0.004*\"business\" + 0.003*\"get\" + '\n",
      "  '0.003*\"time\"'),\n",
      " (1,\n",
      "  '0.008*\"also\" + 0.005*\"fact\" + 0.004*\"well\" + 0.003*\"get\" + '\n",
      "  '0.003*\"alcohol_drug_rehab_center\" + 0.003*\"work\" + 0.003*\"section\" + '\n",
      "  '0.003*\"roof_covere\" + 0.003*\"new_beginnings_alcohol_drug\" + '\n",
      "  '0.002*\"best_drug_rehab_center\"'),\n",
      " (2,\n",
      "  '0.004*\"product\" + 0.004*\"additional_shares_last_quarter\" + '\n",
      "  '0.003*\"owns_shares_industrial_product\" + 0.003*\"total_transaction\" + '\n",
      "  '0.003*\"industrial_products_company_stock\" + '\n",
      "  '0.003*\"shares_illinois_tool_work\" + 0.002*\"ratio_debt_equity_ratio\" + '\n",
      "  '0.002*\"ex_dividend_date_dividend\" + '\n",
      "  '0.002*\"represents_dividend_annualized_basis\" + '\n",
      "  '0.002*\"stock_sold_average_price\"'),\n",
      " (3,\n",
      "  '0.006*\"say\" + 0.003*\"state\" + 0.002*\"school\" + 0.002*\"work\" + 0.001*\"child\" '\n",
      "  '+ 0.001*\"get\" + 0.001*\"day\" + 0.001*\"year\" + 0.001*\"time\" + '\n",
      "  '0.001*\"student\"'),\n",
      " (4,\n",
      "  '0.011*\"team\" + 0.010*\"game\" + 0.008*\"season\" + 0.006*\"play\" + 0.006*\"go\" + '\n",
      "  '0.005*\"bear\" + 0.005*\"get\" + 0.005*\"player\" + 0.005*\"say\" + 0.005*\"bull\"'),\n",
      " (5,\n",
      "  '0.003*\"also\" + 0.003*\"chicago_atlantic_real_estate\" + 0.002*\"say\" + '\n",
      "  '0.002*\"well\" + 0.001*\"chicago_bankruptcy_law_firm\" + 0.001*\"attorney\" + '\n",
      "  '0.001*\"bankruptcy\" + 0.001*\"time\" + 0.001*\"com\" + '\n",
      "  '0.001*\"personal_bankruptcy\"'),\n",
      " (6,\n",
      "  '0.013*\"say\" + 0.005*\"also\" + 0.004*\"make\" + 0.004*\"time\" + 0.004*\"go\" + '\n",
      "  '0.004*\"work\" + 0.004*\"year\" + 0.004*\"see\" + 0.004*\"show\" + 0.003*\"get\"')]\n"
     ]
    }
   ],
   "source": [
    "from pprint import pprint\n",
    "pprint(positive_lda_model.print_topics())"
   ]
  },
  {
   "cell_type": "code",
   "execution_count": 28,
   "metadata": {},
   "outputs": [
    {
     "name": "stdout",
     "output_type": "stream",
     "text": [
      "CPU times: user 3 µs, sys: 0 ns, total: 3 µs\n",
      "Wall time: 6.68 µs\n",
      "\n",
      "Coherence Score:  0.3828439005193501\n"
     ]
    }
   ],
   "source": [
    "# Running LDA with 7 topics for negative sentiments\n",
    "\n",
    "%time\n",
    "\n",
    "negative_lda_model = LdaMulticore(corpus=doc_term_matrix_negative,\n",
    "                       id2word=dictionary_negative,\n",
    "                       num_topics=7,\n",
    "                       random_state=100,\n",
    "                       passes=10,\n",
    "                       alpha=\"asymmetric\",\n",
    "                       eta=\"auto\",\n",
    "                       workers = workers)\n",
    "\n",
    "coherence_model_lda = CoherenceModel(model=negative_lda_model, texts=data_lemmatized_negative, \\\n",
    "                                     dictionary=dictionary_negative, \n",
    "                                     coherence='c_v')\n",
    "coherence_lda = coherence_model_lda.get_coherence()\n",
    "print('\\nCoherence Score: ', coherence_lda)"
   ]
  },
  {
   "cell_type": "code",
   "execution_count": 29,
   "metadata": {},
   "outputs": [
    {
     "name": "stdout",
     "output_type": "stream",
     "text": [
      "CPU times: user 3 µs, sys: 0 ns, total: 3 µs\n",
      "Wall time: 5.48 µs\n"
     ]
    }
   ],
   "source": [
    "%time\n",
    "\n",
    "lda_display = gensimvis.prepare(negative_lda_model, doc_term_matrix_negative, dictionary_negative, \\\n",
    "                                sort_topics=False, mds='mmds')"
   ]
  },
  {
   "cell_type": "code",
   "execution_count": 30,
   "metadata": {},
   "outputs": [
    {
     "data": {
      "text/html": [
       "\n",
       "<link rel=\"stylesheet\" type=\"text/css\" href=\"https://cdn.jsdelivr.net/gh/bmabey/pyLDAvis@3.3.1/pyLDAvis/js/ldavis.v1.0.0.css\">\n",
       "\n",
       "\n",
       "<div id=\"ldavis_el41951402448547688001733386803\"></div>\n",
       "<script type=\"text/javascript\">\n",
       "\n",
       "var ldavis_el41951402448547688001733386803_data = {\"mdsDat\": {\"x\": [0.19389765871412887, 0.2546083102301859, 0.018400781042398544, -0.21973590498242102, 0.050026432933895415, -0.03625639332432604, -0.26094088461386167], \"y\": [-0.23733154109140614, -0.04782133700059757, -0.26296381251494044, 0.18849657742475426, 0.2797158135915986, 0.12083164841136056, -0.04092734882076924], \"topics\": [1, 2, 3, 4, 5, 6, 7], \"cluster\": [1, 1, 1, 1, 1, 1, 1], \"Freq\": [37.65360321388354, 31.15843467652693, 20.221060726882854, 2.901814346096589, 2.876258671337522, 2.431787098110481, 2.757041267162095]}, \"tinfo\": {\"Term\": [\"say\", \"police\", \"school\", \"game\", \"state\", \"season\", \"covid\", \"team\", \"officer\", \"case\", \"company\", \"play\", \"test\", \"district\", \"shoot\", \"crime\", \"bull\", \"rights_reserve\", \"child\", \"show\", \"report\", \"student\", \"player\", \"year_old\", \"read\", \"department\", \"week\", \"city\", \"time\", \"story\", \"chicago_chicago_new\", \"local_news_alerts_today\", \"search_news_emovies_emusic\", \"illini\", \"cub\", \"website_application\", \"fan\", \"live_map_website_application\", \"breaking_illinois_local_new\", \"ball\", \"chicago_bear\", \"videos_chicago_videos_new\", \"ebooks_search_search\", \"game_results_favorite_team\", \"reading_news_brief_powere\", \"enabled_real_time_scene\", \"overall_objective_top_smartphone\", \"means_solved_zennie_media\", \"problem_far_less_though\", \"necessary_camera_crew_shoot\", \"reported_smartphone_also_promote\", \"time_product_revenue_generate\", \"reporting_news_interviews_observation\", \"media_content_news_production\", \"content_media_technology_partner\", \"network_coding_seeks_intereste\", \"found_disconnect_post_length\", \"expensive_cameras_even_laptop\", \"secondary_objective_faster_inexpensive\", \"percent_individuals_living_poverty\", \"season\", \"game\", \"player\", \"bear\", \"bull\", \"coach\", \"chicago_bull\", \"episode\", \"favorite\", \"tournament\", \"star\", \"music\", \"fun\", \"song\", \"play\", \"score\", \"win\", \"character\", \"buck\", \"team\", \"league\", \"love\", \"sport\", \"match\", \"good\", \"read_full_story\", \"go\", \"show\", \"start\", \"watch\", \"look\", \"get\", \"pick\", \"field\", \"see\", \"point\", \"come\", \"take\", \"year\", \"make\", \"time\", \"run\", \"also\", \"first\", \"know\", \"lead\", \"say\", \"well\", \"day\", \"back\", \"may\", \"work\", \"leave\", \"week\", \"include\", \"chicago_police_said\", \"offender\", \"firearm\", \"carjack\", \"prosecutor\", \"walkout\", \"taken_mount_sinai_hospital\", \"deputy\", \"detain\", \"opened_fire\", \"felony\", \"ctu\", \"pronounced_dead_police_said\", \"illinois_news_source\", \"prosecution\", \"electronic_monitore\", \"trooper\", \"elementary\", \"unvaccinate\", \"per_past_week_new\", \"cases_change_previous_week\", \"burglary\", \"police_said\", \"gunshot\", \"year_old_man\", \"taken_university_chicago_medical\", \"convict\", \"officers_responde\", \"city_official\", \"contact_matt_masterson_bymattmasterson\", \"crime\", \"cps\", \"homicide\", \"mayor\", \"carjacking\", \"chicago_police_officer\", \"university_chicago_medical_center\", \"police\", \"custody\", \"victim\", \"arrest\", \"mask\", \"incident\", \"officer\", \"police_officer\", \"jail\", \"investigation\", \"teacher\", \"mandate\", \"suspect\", \"district\", \"gun\", \"school\", \"murder\", \"chicago_police\", \"child\", \"case\", \"fox_chicago_app\", \"violence\", \"student\", \"parent\", \"charge\", \"say\", \"death\", \"covid\", \"department\", \"read\", \"city\", \"report\", \"car\", \"family\", \"shoot\", \"vehicle\", \"kill\", \"people\", \"news\", \"state\", \"time\", \"man\", \"day\", \"week\", \"call\", \"also\", \"home\", \"year\", \"see\", \"work\", \"go\", \"take\", \"essay\", \"explore_breaking_illinois_local\", \"news_alerts_today_headline\", \"inflation\", \"chicago_insurance_lawyer\", \"read_full_article_local\", \"morning_maine_good_morne\", \"noon_pm_paid_programming\", \"need_know_pm_general\", \"pm_gma\", \"physical_facilities_installed_maintaine\", \"paid_programme\", \"mortgage\", \"local_news_national_new\", \"russian_force\", \"maine_words_less_right\", \"antibody\", \"interest_rate\", \"national_news_entertainment_view\", \"clean_comment\", \"pawn_stars_good_morning\", \"illinois_tool_work\", \"lender\", \"live_events_exclusive_reporting\", \"coal\", \"report_date\", \"unemployment\", \"chicago_immigration_lawyer\", \"financing\", \"fundamentals_explaine\", \"application\", \"investor\", \"software\", \"industrial\", \"index\", \"clinical\", \"russian\", \"lease\", \"certification\", \"export\", \"employer\", \"investment\", \"economy\", \"loan\", \"revenue\", \"ukrainian\", \"consumer\", \"debt\", \"ukraine\", \"economic\", \"payment\", \"troop\", \"manufacturer\", \"abortion\", \"tax\", \"growth\", \"company\", \"supply\", \"fund\", \"provider\", \"voter\", \"market\", \"industry\", \"product\", \"war\", \"estimate\", \"technology\", \"benefit\", \"property\", \"sale\", \"service\", \"state\", \"cost\", \"business\", \"customer\", \"support\", \"provide\", \"pay\", \"increase\", \"use\", \"program\", \"study\", \"project\", \"country\", \"price\", \"view\", \"bill\", \"include\", \"say\", \"power\", \"new\", \"people\", \"plan\", \"need\", \"work\", \"year\", \"law\", \"make\", \"find\", \"group\", \"report\", \"also\", \"may\", \"time\", \"area\", \"help\", \"live\", \"go\", \"usa_news_washington_celebrity\", \"news_post_world_new\", \"suggest_correction_file_source\", \"fully_vaccinated_fully_vaccinate\", \"population_fully_vaccinated_fully\", \"points_rebounds_assists_steal\", \"county_il_updated_hrs\", \"field_opponent\", \"per_residents_illinois_cumulative\", \"residents_illinois_cumulative_case\", \"game_shoote\", \"total_vaccine_doses_administere\", \"fully_vaccinated_lower_vaccination\", \"chicago_truck_accident_lawyer\", \"vaccinated_lower_vaccination_rate\", \"within_past_hours_laboratorie\", \"total_deaths_less_deaths\", \"least_total_covid_case\", \"reported_testing_new_specimens\", \"skrive_data\", \"previous_week_cumulative_case\", \"per_total_cases_case\", \"steals_blocks_per_game\", \"chicago_custody_lawyer\", \"total_since_pandemic_began\", \"including_least_related_death\", \"change_previous_week_cumulative\", \"patients_availability_illinois_overall\", \"chicago_semi_truck_accident\", \"opponents_averaged_point\", \"close_modal_suggest_correction\", \"state_population_fully_vaccinated\", \"averaging_points_rebounds_assist\", \"averaged_point\", \"positivity_rate\", \"state\", \"say\", \"year\", \"high\", \"rights_reserve\", \"windy_city_time\", \"news_windy_city_times\", \"nightspots_chicago_glbt_nightlife\", \"unified_school_district\", \"union_elementary_school_district\", \"presale_start\", \"opinions_expresse\", \"available_check\", \"transegender_news_feature_publication\", \"assumed_unsolicite\", \"chicago_glbt_nightlife_new\", \"feature_publication_cannot_accept\", \"commentators_necessarily\", \"drawings_photograph\", \"transgender_news_feature_publication\", \"listed_return\", \"reprint_permission\", \"rights_letter\", \"pdfs_back\", \"submitted_returne\", \"indicate_sexual_orientation_individual\", \"feature_publication_treated_unconditionally\", \"assigned_publication_purposes_subject\", \"responsibility_may\", \"reflect_position\", \"issues_downloadable\", \"sent_nightspot\", \"responsibility_advertising_claims_promotion\", \"copyright_windy_city\", \"chicago_pride_parade_start\", \"chicago_atlantic_real_estate\", \"table_content\", \"rights_reserve\", \"say\", \"time\", \"police\", \"parade\", \"shoot\", \"officer\", \"department\", \"year_old\", \"fire\", \"year\", \"city\", \"verified_clean_high_quality\", \"quality_virus_user_comment\", \"chicago_police_department\", \"start\", \"group\", \"press\", \"day\", \"district\", \"report\", \"go\", \"material\", \"weekend\", \"ap_college_basketball_coverage\", \"report_created_automatically_weather\", \"data_stats_llc\", \"generated_automated_insights_use\", \"generated_automated_insights_using\", \"beltone\", \"basketball_northern_illinois_huskie\", \"see_low_temperature_degree\", \"college_basketball_coverage\", \"understand_use\", \"cookies_stored_browser_consent\", \"chicago_employment_lawyer\", \"illinois_insurance_claims_lawyer\", \"cookies_categorized_necessary_store\", \"data_provide\", \"chicago_personal_injury_lawyer\", \"read_twitter\", \"recent_tweets_sean_casten\", \"prosecutor_case\", \"forecast_information_severe_weather\", \"tools_needed_keep_love\", \"beginning_pandemic_administration_keep\", \"working_ensure_every_illinoisan\", \"illinois_police_brutality\", \"video_released_copa_show\", \"mph_wind_conditions_coming\", \"navigate_website\", \"browser_essential_working_basic\", \"tomorrow_forecast_showing_wind\", \"tomorrow_forecast_models_showe\", \"trademarks_belong_rightful_owner\", \"whose_losing_streak_stretche\", \"content_deleted_within_hour\", \"rewritten_redistribute\", \"added_point\", \"chance_rain\", \"share_twitter_email_article\", \"material_may_published_broadcast\", \"rights_reserve\", \"adsbygoogle_window_adsbygoogle_push\", \"mph\", \"say\", \"press\", \"website\", \"tomorrow\", \"state\", \"week\", \"update\", \"point\", \"night\", \"get\", \"district\", \"read\", \"news\", \"real_estate_real_estate\", \"betterads_el_width_betterad\", \"betterads_el_width_else\", \"buyer_address_sale_price\", \"estate_real_estate_storie\", \"el_width_else_betterads\", \"story_receive_alerts_donate\", \"stories_tag_real_estate\", \"college_associate_degree_bachelor\", \"foundation_mission_restore_community\", \"help_support_metric_media\", \"document_body_clientwidth_betterad\", \"tag_real_estate_real\", \"adsbygoogle_push_else_betterad\", \"width_adsbygoogle_window_adsbygoogle\", \"el_width_raw_betterad\", \"place_innerhtml_adsbygoogle_window\", \"saying_though_right_middle\", \"profligate_government_borrowing_spende\", \"continue_fight_cronyism_corruption\", \"major_surge_breaking_records\", \"degree_graduate_professional_degree\", \"el_width_betterads_screen\", \"en_gb_false_false\", \"based_new\", \"district_officials_blamed_union\", \"hospitals_full_said_wednesday\", \"usd_market_us_locale\", \"protocols_place\", \"screening_questions_students_builde\", \"residents_older_fully_vaccinate\", \"deductible_donation_thanks_subscribing\", \"fully_vaccinated_county\", \"chicago_suburban_cook_lake\", \"northern_illinois_percentage_population\", \"chicago_neighborhoods_click_support\", \"dime_make_funds_reporting\", \"reporting_chicago_neighborhoods_click\", \"block_club_chicago_independent\", \"every_dime_make_fund\", \"idph_reported_total_dose\", \"covid_vaccines_distributed_statewide\", \"subscribe_block_club_chicago\", \"independent_journalist_run_newsroom\", \"healthcare_providers_vaccines_administered\", \"much_hour_delay_reporte\", \"real_estate\", \"next_time\", \"test\", \"covid\", \"administer\", \"school\", \"centers_disease_control_prevention\", \"say\", \"show\", \"story\", \"report\", \"week\", \"state\", \"case\"], \"Freq\": [42444.0, 4702.0, 6588.0, 5272.0, 9594.0, 4616.0, 3454.0, 6412.0, 3077.0, 5225.0, 3275.0, 3937.0, 1897.0, 2730.0, 3862.0, 2350.0, 2683.0, 1279.0, 3480.0, 6298.0, 6458.0, 3824.0, 1954.0, 1822.0, 6081.0, 1532.0, 5433.0, 6197.0, 10125.0, 2495.0, 1238.562123563778, 859.5451593325422, 650.2888055073674, 641.2504264854321, 682.8047747854627, 511.77154704937914, 1382.992954200876, 466.7566278399916, 464.66784365122174, 535.8864170105882, 469.85011478825305, 436.4675462227614, 393.2822822319583, 391.9826299142066, 368.5814897943852, 358.19687935953385, 358.1968177061981, 358.1967560528623, 358.1967560528623, 358.1967560528623, 358.1967560528623, 358.1967252261945, 358.1967252261945, 358.1967252261945, 358.1967252261945, 358.1967252261945, 358.1967252261945, 358.19663274619086, 358.19663274619086, 340.4030484734506, 4603.971725713558, 5236.609921033805, 1949.538526976574, 1642.9118269240932, 2653.38348904239, 1180.4374548257563, 927.0347231586669, 772.9002123534827, 617.8399150585757, 514.7878131946052, 1085.1587596673328, 691.1986298353972, 598.2318731145151, 372.14005868092744, 3823.727306351399, 1489.040390902583, 1886.9748180640684, 793.959697127928, 672.5844396637351, 5886.615614423378, 520.2951515444138, 1547.9966398332915, 985.454279801613, 968.9295211787461, 3133.734492456732, 1123.279017165714, 6205.401831967142, 4410.619466380187, 3068.888746974527, 1657.140800283387, 2935.418892981602, 4736.362153104054, 1163.9920440460082, 1225.0928426076784, 4412.7201188360905, 2584.7884809061475, 4018.888474555872, 3960.163672247594, 5429.543924137402, 4212.673293692912, 4943.805405631296, 2160.178504962801, 3887.94862684906, 2538.192369421275, 2996.123013981013, 2388.0965836815067, 8274.547953618428, 2400.831696715415, 2864.941731811378, 2156.637137356935, 2452.698921794144, 2477.978269134458, 2116.3654250539876, 2178.9361624467692, 2202.0702203160927, 712.005165532357, 276.1843571189915, 305.675157984188, 208.22509714312199, 522.222481746967, 170.5071294369567, 158.9994627706588, 192.25654660768922, 144.6193658562962, 232.35352143051782, 184.4866564587279, 156.51756457192403, 123.12409616310862, 131.85194348340218, 119.7791602715064, 113.88439536387523, 120.49813514399497, 110.89344969067017, 113.40727256752874, 105.36019381795792, 103.83362535000668, 110.0354883149794, 98.88318936018187, 95.32499075161239, 94.66723779482268, 264.53390308889175, 295.690909408096, 94.88986236306557, 184.16975651759165, 92.60164862284023, 2305.231034931268, 695.8533956596295, 350.9420302327732, 856.4743973949675, 323.68924751421184, 323.04228492006405, 180.03986638476957, 4502.658847385029, 550.4903748460787, 1469.4495430059912, 1352.4554824707184, 1605.8109524995486, 1082.3654099317075, 2906.1765842900954, 854.971246309771, 505.2824286913536, 1268.8630787754855, 1583.547296746077, 919.6085796306884, 909.1603454609937, 2509.6655006365, 1062.3435986946024, 5722.503068808324, 1054.5081118138828, 805.6803595788255, 3039.453225524639, 4348.955105831454, 707.7587624412204, 738.4920110672624, 3092.1044811717693, 1539.552411832662, 2169.629389411534, 25959.47832049099, 1726.5037350717687, 2605.0608774593175, 1286.3310177992123, 3977.5070500266606, 3944.4410933577024, 3988.6824985183316, 1723.9769025378241, 2584.0674744200714, 2411.510035780925, 1414.5339948067385, 1324.13269372053, 2970.079203604363, 2405.6764035070323, 3534.495472523148, 3559.1042337574645, 1917.2426541621119, 2713.678963634776, 2481.8195285730794, 2281.9503811215122, 2637.7403197671633, 2189.7254832396866, 2516.4564395988705, 2223.3836599065053, 2057.9873487466557, 2128.5037716138722, 1951.4522362163245, 178.79572893651235, 167.77319451399543, 161.77537341220935, 253.8581783454192, 110.18317914600503, 101.91009097209434, 87.26549016441004, 86.15229565391351, 86.15208871889602, 86.15187350647783, 144.6551262162627, 80.99078173181913, 89.59770575334844, 74.94990986899406, 141.67117292843398, 71.91625078996378, 85.57726462730707, 77.52691302882394, 69.51462919615861, 104.47393306481175, 59.260999079435926, 56.44968753800033, 53.31213880278844, 52.38601768680493, 77.60148413172732, 73.62680047675377, 52.28040633127777, 50.67159417648749, 52.5331195133392, 49.234749159933315, 648.3175431404281, 307.7320712240918, 108.00649591621354, 87.74522347676111, 142.78769495401176, 90.28302486687734, 329.0754813666155, 167.23282924151923, 104.2786443501043, 103.81374413980704, 276.27008503466124, 374.04484455900274, 257.2086218266267, 214.07836463129618, 295.88535601390817, 310.76825491033543, 292.6535939039326, 180.22103111779083, 339.76216853314384, 209.30392679812073, 284.4976723369258, 148.07539784977268, 146.76885981373314, 254.42794494518063, 361.73068797650706, 350.94867826352134, 2360.765006143629, 450.51481629248514, 739.0191147736846, 323.59829221403766, 315.59818443780154, 887.2194186000153, 630.2912847734978, 575.5272071139793, 560.8108495196295, 425.41939285120975, 420.31240216752417, 506.8746443684898, 724.372287345212, 717.4507910993492, 1556.7771030318381, 4289.6941770712765, 734.0861150527061, 1436.8660411519509, 587.8849028241552, 1415.2932807908405, 1292.7014005915482, 1051.7327575060604, 1013.398393166519, 2101.714944092948, 1403.249331676785, 583.3878903528301, 850.5129872108803, 1164.480490601243, 785.1966804817991, 829.6405611681681, 720.844194290188, 2175.9404489623093, 7018.787091987464, 770.3743059392879, 1630.2976382384093, 1752.505579483648, 1090.389013404011, 1425.616590066653, 1639.9616691032943, 1975.7595255645413, 915.4233702096495, 1538.8988445894179, 1266.1190248885832, 984.3935864843897, 1280.8429976915766, 1346.8291116852756, 1147.6277027767044, 1334.7909898613127, 1035.7655191179758, 1018.7220862005221, 994.6746479070312, 961.0374766973358, 217.4674743544865, 217.46775943721792, 203.6300527160562, 157.84961467116406, 148.25620064947057, 198.34524605803327, 120.97317507863691, 165.96974964529005, 116.08208667818356, 114.13156963550594, 139.49855416864514, 82.96985096270059, 77.94941102425638, 80.02086016159103, 72.008609995782, 72.00591121259147, 71.947364722321, 70.97783161250433, 69.36147904480825, 70.08313747105727, 62.427088675366456, 59.269659635198686, 58.353555780623985, 60.010280814464224, 56.403594649272584, 54.30166541657312, 53.76562435673428, 52.534874691520784, 50.42802303032593, 48.72726696862199, 245.40807175355198, 82.13851170692683, 91.44900962598561, 120.1838950285014, 68.57647998702248, 138.66735745423708, 168.32008571598905, 131.13722019824496, 96.03723563536442, 82.77208907193305, 98.74577902443363, 98.23591540556409, 98.23582121487505, 77.38349087319669, 64.86410247203798, 61.97932423865646, 50.94447057800172, 49.90434634654993, 49.16105465255459, 49.16105465255459, 49.16105465255459, 49.16105465255459, 49.16105465255459, 49.16104052395123, 49.16104523348569, 49.16104052395123, 49.16104052395123, 49.16103581441678, 49.16103581441678, 49.161021685813424, 49.161021685813424, 49.161021685813424, 49.16101697627897, 49.16101697627897, 49.16101697627897, 49.16100284767561, 49.16100284767561, 48.643490944855614, 44.780382281570276, 35.07511025887154, 52.9434371857939, 73.04329224129502, 153.83510616432656, 448.5816872021121, 188.99795034050908, 148.99878162555257, 69.2988826843442, 129.12276603303246, 107.47408167268526, 91.44991895610961, 84.06606594607975, 79.62331720148032, 83.88251655033773, 79.29027776315498, 51.49214704898838, 51.49158190485411, 61.4051848935826, 66.58450011697956, 63.45766594135571, 55.62532867497247, 59.667159461186266, 56.79588346307934, 54.707120161886095, 52.755569146959175, 51.719127771449045, 51.52384692538648, 206.6555924565867, 169.29356386803175, 119.7140956607212, 117.5677333864254, 78.08371092326946, 54.33486186363716, 48.08678029129882, 47.74287129619412, 49.48236889440895, 40.04393024555551, 39.05643668380506, 38.483174062749214, 37.66789182237143, 36.19275950672809, 95.6236072118381, 43.659933982034005, 28.383613164822616, 28.285213805760833, 25.533898045511958, 24.515665260617073, 24.380888499657935, 24.38088451789328, 24.38088252701095, 43.456700732226324, 20.964500579797132, 20.292424496155274, 20.1006647012039, 20.100658728556915, 19.524499373713812, 19.1904492278974, 32.56139611308901, 21.352993393755245, 26.50093130957747, 86.89424917645721, 82.17116754031416, 38.75342837524695, 49.723452799036714, 62.902576181042456, 197.54912149063458, 78.04082731792418, 57.64470771571463, 367.1911694013608, 91.96405491531678, 86.01133268163235, 58.69398233786781, 133.55709070029508, 74.55257850043394, 50.145030095521655, 52.36635705299626, 49.9178505130727, 50.95556209066481, 48.22009375374687, 46.93754346745637, 44.18618788956094, 182.95855428381566, 163.36320201328024, 127.06671569898874, 177.08317183428153, 97.92335682866936, 80.20564081016224, 79.28592732874662, 73.17212956844148, 68.86133264212405, 61.52734759499707, 61.164634721755256, 52.2017439774418, 49.8707922488889, 47.9895400185233, 47.61367238763495, 45.66155871911638, 45.13675882689755, 36.60540417397976, 36.492257006631476, 36.49225249230147, 34.972374636329974, 34.940063319289784, 34.423596880267766, 31.518034142175523, 31.54868870010237, 31.404686087141833, 31.404329455071114, 30.797808903862403, 30.13984079070489, 30.01104921271004, 90.77201705938087, 70.8632980569332, 77.93968189075045, 77.93904988454918, 77.93895056928898, 82.09650404911723, 84.0263620706909, 78.05740658872797, 83.31884918568342, 83.1946328811528, 40.404481479279745, 40.40444987896968, 60.19068607961023, 63.355858907866256, 55.60544948904909, 55.60277249135369, 106.70337657864384, 65.13593145973772, 196.26107498021472, 220.28029008647567, 76.92341591910004, 166.6909132935142, 89.5779858006318, 207.34561505653878, 119.19156631335991, 102.87274184941519, 112.26192529081872, 102.56422350793272, 79.58784571975578, 74.82170638273965], \"Total\": [42444.0, 4702.0, 6588.0, 5272.0, 9594.0, 4616.0, 3454.0, 6412.0, 3077.0, 5225.0, 3275.0, 3937.0, 1897.0, 2730.0, 3862.0, 2350.0, 2683.0, 1279.0, 3480.0, 6298.0, 6458.0, 3824.0, 1954.0, 1822.0, 6081.0, 1532.0, 5433.0, 6197.0, 10125.0, 2495.0, 1239.2598548624562, 860.2419579043668, 650.9861721248963, 641.9985275399449, 683.6231350804792, 512.4692210617764, 1385.0458272077408, 467.45356827869585, 465.3647899981076, 536.7280645302066, 470.59022779750796, 437.1635649807603, 393.97881794063767, 392.6801194495818, 369.2786166086897, 358.89325034945716, 358.89321143709924, 358.8931738478823, 358.8931745542465, 358.8931855754928, 358.89318586236914, 358.8931573464661, 358.89316235593975, 358.8931655881369, 358.8931681202795, 358.89317911779915, 358.89318447508595, 358.89310351611635, 358.8931043331487, 341.0991709997735, 4616.13971487957, 5272.307785211668, 1954.411896884827, 1649.1113987312303, 2683.820806492948, 1186.0989042826097, 929.2381480252609, 776.0679597752312, 619.3053222888672, 515.8569672734897, 1095.7264496693122, 694.7628327825759, 600.5370950775323, 372.97917868821753, 3937.677094506406, 1518.8568215885446, 1947.8946189521173, 808.4488869462616, 681.4271040518491, 6412.691058407162, 524.7265662369184, 1682.8541846012301, 1047.9341205731955, 1063.521247166841, 4054.8721607620423, 1270.6407612487815, 9390.026606715895, 6298.21706848074, 4282.999463695515, 2043.7535013397796, 4171.032737204465, 7652.624731633371, 1336.6150815290266, 1427.3197890201175, 7422.425771954965, 3754.2048863428563, 6696.926846857543, 6618.644311252585, 10185.655931578383, 7413.717977756042, 10125.514967470071, 3203.607488329713, 7941.363630952204, 4213.90823284775, 5560.926949608066, 3897.100876677702, 42444.25192347288, 4173.202479949498, 6407.967674668186, 3564.6803428079597, 4986.3454099004475, 6277.648961828745, 4000.8542898501155, 5433.922774115387, 6368.331399341855, 714.0689028857531, 277.0182223934692, 306.765466045946, 208.99303000539422, 524.4140901539485, 171.24292418900006, 159.70251066412317, 193.13560275741756, 145.34976683985954, 233.60329820489548, 185.48503859022514, 157.3975570999769, 123.82343756758827, 132.618106503255, 120.50091958344363, 114.58504921105511, 121.24899517711759, 111.60074461670965, 114.15826578976154, 106.06106291640651, 104.53265679880487, 110.79472852755524, 99.58355668220213, 96.02491551298087, 95.37735823571273, 266.5313465508324, 297.93321459723467, 95.6325047358534, 185.6245339519051, 93.33646125226217, 2350.0161423340355, 706.4918950279299, 355.04216014089116, 875.6894025398776, 327.8555942104228, 328.01692935874775, 181.94545500825384, 4702.609346009767, 562.9129555504098, 1524.3007614341725, 1401.8620082653476, 1674.4930629285059, 1122.692366720022, 3077.3965114384237, 886.8268021866589, 520.5106595692914, 1334.764052098519, 1682.6927094979837, 962.8174673279916, 955.1113190450405, 2730.5881031513263, 1139.3641597135788, 6588.580398021185, 1132.2510121600035, 855.8940980678708, 3480.436470180863, 5225.039908894901, 762.9710147415267, 803.3130590312469, 3824.541237776946, 1793.385408374576, 2629.9481838596535, 42444.25192347288, 2075.6646552664733, 3454.4087823537025, 1532.2318391435763, 6081.534976895879, 6197.420990703578, 6458.511406539355, 2345.263136355445, 4241.322426502102, 3862.0131351020846, 1825.5291825094562, 1660.6561758717116, 6205.425790707978, 4522.92340858059, 9594.382091376021, 10125.514967470071, 3239.9106886428403, 6407.967674668186, 5433.922774115387, 5418.792341407208, 7941.363630952204, 4923.22898431581, 10185.655931578383, 7422.425771954965, 6277.648961828745, 9390.026606715895, 6618.644311252585, 179.48950037112297, 168.46719120520743, 162.4690529272534, 255.15251525888712, 110.88390922236871, 102.61127457377751, 87.95934947627369, 86.84589758797671, 86.84589125493721, 86.84589274664675, 145.87422246682118, 81.68806132887784, 90.38494090759374, 75.64361860666195, 142.99082645888453, 72.60960288498934, 86.44612313594072, 78.33152661118424, 70.24127594695356, 105.65119703393115, 59.95397306820316, 57.1451144158524, 54.01652454254568, 53.08346298666221, 78.64652602253265, 74.62064149849523, 52.99150764009456, 51.370513349057674, 53.27376253950641, 49.93544265383292, 659.6198363758998, 312.4405189011416, 109.76976729786149, 88.99573683456876, 145.63337831723186, 91.67343532968651, 338.56624820529726, 171.5518643960317, 106.15852118577959, 105.80095685468713, 288.24766586977705, 394.9567871614756, 270.87091664917176, 225.06820613158357, 315.8405589822782, 333.32959885383207, 317.6996265577439, 190.06839927965086, 375.69428632093826, 223.93469542230457, 311.5251808847305, 154.59645136011463, 153.14942910540495, 277.7674079507711, 409.6011110818928, 396.6198057464748, 3275.9034914476083, 528.2962707684901, 921.1610801895033, 368.3458130389418, 359.5374089810459, 1175.402154687578, 793.9835399246714, 723.757557916938, 707.7121871455739, 515.6191897018372, 510.2554449213888, 643.0175091111919, 988.7189409674048, 1009.0854473557719, 2681.8251348113213, 9594.382091376021, 1052.2143298547596, 2494.713193305397, 797.4910110096857, 2499.0705774014014, 2349.556512330075, 1784.9197685438073, 1717.7810041401842, 4757.684700217083, 2802.7416249566386, 812.2419031394942, 1398.1952582405322, 2230.438668045899, 1301.528615170289, 1421.3836087639647, 1150.2986134703783, 6368.331399341855, 42444.25192347288, 1283.690230926534, 5070.048069079717, 6205.425790707978, 2632.663910339004, 4621.861998317896, 6277.648961828745, 10185.655931578383, 1923.341833113079, 7413.717977756042, 4907.044830668946, 2511.0174170648665, 6458.511406539355, 7941.363630952204, 4986.3454099004475, 10125.514967470071, 3660.7964227009697, 3406.661377265206, 3184.233473633014, 9390.026606715895, 218.22898315843608, 218.229470868174, 204.38582782483195, 158.58909256602894, 148.99638200363222, 199.42042305323443, 121.71397601531837, 167.00079129057525, 116.82338537442762, 114.87071977928561, 140.60035682541334, 83.75003496110382, 78.69005422991694, 80.81025120559205, 72.74841238430663, 72.74724328025799, 72.68964719787814, 71.71897313964809, 70.10367594763018, 70.84930719691762, 63.16858879508446, 60.00952480188135, 59.093263117194304, 60.77378688770518, 57.14495162027421, 55.04270553033612, 54.507412780100694, 53.274023801382846, 51.17743866600502, 49.4669947961539, 257.8436924479866, 87.49213623540952, 100.45490474802068, 172.0110704300812, 190.79676253298626, 9594.382091376021, 42444.25192347288, 10185.655931578383, 2525.0823160895957, 1279.7402326964996, 99.48924170211349, 98.97916123931869, 98.97920108964819, 78.1260586692217, 65.60657293663225, 62.752392359600414, 51.688474108408336, 50.64717463804871, 49.90384709943123, 49.903853704947295, 49.903853842940386, 49.903858851372, 49.903860600355, 49.90385130772985, 49.90385619039811, 49.90385543138371, 49.90385656240271, 49.90386453784204, 49.9038727875014, 49.90385987213572, 49.90386022905312, 49.903865168736395, 49.90386327603921, 49.90387275627967, 49.90387574591219, 49.90387142773958, 49.903871466664675, 49.38631436712816, 45.523157067335156, 35.81773576536826, 58.13638304331442, 94.86075692637763, 1279.7402326964996, 42444.25192347288, 10125.514967470071, 4702.609346009767, 208.69914645755546, 3862.0131351020846, 3077.3965114384237, 1532.2318391435763, 1822.4682561705208, 2931.6693546251495, 10185.655931578383, 6197.420990703578, 81.90061207241475, 81.90086563667427, 781.6998861135884, 4282.999463695515, 2511.0174170648665, 915.4996241064124, 6407.967674668186, 2730.5881031513263, 6458.511406539355, 9390.026606715895, 380.1006990139104, 1801.5329028385916, 207.53040001265626, 170.05327779529406, 120.49382803282693, 118.34114142883553, 79.0472229010326, 55.09444003047986, 48.83710707017638, 48.49387257702731, 50.404694826926224, 40.794448787629804, 39.806932299679154, 39.23556255136974, 38.418894768738966, 36.94314530845522, 97.74846500900279, 44.6573138925806, 29.135322811308146, 29.03635389573288, 26.285158803580792, 25.26718122190706, 25.131810296833425, 25.131808181037265, 25.131809067993224, 44.98566162957958, 21.714624822192704, 21.042800803134014, 20.850893579174436, 20.850895888572804, 20.27527821584725, 19.940883181886292, 35.18676438864428, 22.380620211057927, 28.53860444561261, 148.08540375387315, 152.10895290290821, 57.75212452849756, 87.91460573847777, 138.49970516794906, 1279.7402326964996, 274.6700374912496, 169.2077313871534, 42444.25192347288, 915.4996241064124, 1329.637753867999, 366.13542311941444, 9594.382091376021, 5433.922774115387, 1363.1396324215782, 3754.2048863428563, 2119.7312493674785, 7652.624731633371, 2730.5881031513263, 6081.534976895879, 4522.92340858059, 183.71831833742883, 164.11019577383442, 127.8134404044307, 178.4326205372274, 98.72558767992307, 80.95203690262217, 80.06121804254661, 73.9221388292282, 69.60831534092272, 62.274912680179426, 61.91199687298975, 52.94816255175072, 50.64237154838826, 48.735841623648525, 48.36008786714094, 46.4078189295, 45.883084766082135, 37.352251633966326, 37.2455548299528, 37.245569905515346, 35.71916846580133, 35.68617764092226, 35.16946197956315, 32.263652724320664, 32.29506898957894, 32.151129152300776, 32.15076440618776, 31.543427198522572, 30.888043305462883, 30.75772885293166, 93.42517736417174, 73.54868202391275, 81.44963583795987, 81.44997282382666, 81.45002330092623, 86.73328846777521, 89.39693651986279, 82.91814327098012, 89.04979056822579, 89.88999146206497, 41.72991022728606, 41.72992804280232, 67.05718083841482, 74.13477504269211, 64.82386034056815, 64.82523772097404, 194.6034845805224, 87.38410339028627, 1897.5878190570115, 3454.4087823537025, 188.99647718319437, 6588.580398021185, 514.76733699395, 42444.25192347288, 6298.21706848074, 2495.410165297374, 6458.511406539355, 5433.922774115387, 9594.382091376021, 5225.039908894901], \"Category\": [\"Default\", \"Default\", \"Default\", \"Default\", \"Default\", \"Default\", \"Default\", \"Default\", \"Default\", \"Default\", \"Default\", \"Default\", \"Default\", \"Default\", \"Default\", \"Default\", \"Default\", \"Default\", \"Default\", \"Default\", \"Default\", \"Default\", \"Default\", \"Default\", \"Default\", \"Default\", \"Default\", \"Default\", \"Default\", \"Default\", \"Topic1\", \"Topic1\", \"Topic1\", \"Topic1\", \"Topic1\", \"Topic1\", \"Topic1\", \"Topic1\", \"Topic1\", \"Topic1\", \"Topic1\", \"Topic1\", \"Topic1\", \"Topic1\", \"Topic1\", \"Topic1\", \"Topic1\", \"Topic1\", \"Topic1\", \"Topic1\", \"Topic1\", \"Topic1\", \"Topic1\", \"Topic1\", \"Topic1\", \"Topic1\", \"Topic1\", \"Topic1\", \"Topic1\", \"Topic1\", \"Topic1\", \"Topic1\", \"Topic1\", \"Topic1\", \"Topic1\", \"Topic1\", \"Topic1\", \"Topic1\", \"Topic1\", \"Topic1\", \"Topic1\", \"Topic1\", \"Topic1\", \"Topic1\", \"Topic1\", \"Topic1\", \"Topic1\", \"Topic1\", \"Topic1\", \"Topic1\", \"Topic1\", \"Topic1\", \"Topic1\", \"Topic1\", \"Topic1\", \"Topic1\", \"Topic1\", \"Topic1\", \"Topic1\", \"Topic1\", \"Topic1\", \"Topic1\", \"Topic1\", \"Topic1\", \"Topic1\", \"Topic1\", \"Topic1\", \"Topic1\", \"Topic1\", \"Topic1\", \"Topic1\", \"Topic1\", \"Topic1\", \"Topic1\", \"Topic1\", \"Topic1\", \"Topic1\", \"Topic1\", \"Topic1\", \"Topic1\", \"Topic1\", \"Topic1\", \"Topic1\", \"Topic1\", \"Topic1\", \"Topic2\", \"Topic2\", \"Topic2\", \"Topic2\", \"Topic2\", \"Topic2\", \"Topic2\", \"Topic2\", \"Topic2\", \"Topic2\", \"Topic2\", \"Topic2\", \"Topic2\", \"Topic2\", \"Topic2\", \"Topic2\", \"Topic2\", \"Topic2\", \"Topic2\", \"Topic2\", \"Topic2\", \"Topic2\", \"Topic2\", \"Topic2\", \"Topic2\", \"Topic2\", \"Topic2\", \"Topic2\", \"Topic2\", \"Topic2\", \"Topic2\", \"Topic2\", \"Topic2\", \"Topic2\", \"Topic2\", \"Topic2\", \"Topic2\", \"Topic2\", \"Topic2\", \"Topic2\", \"Topic2\", \"Topic2\", \"Topic2\", \"Topic2\", \"Topic2\", \"Topic2\", \"Topic2\", \"Topic2\", \"Topic2\", \"Topic2\", \"Topic2\", \"Topic2\", \"Topic2\", \"Topic2\", \"Topic2\", \"Topic2\", \"Topic2\", \"Topic2\", \"Topic2\", \"Topic2\", \"Topic2\", \"Topic2\", \"Topic2\", \"Topic2\", \"Topic2\", \"Topic2\", \"Topic2\", \"Topic2\", \"Topic2\", \"Topic2\", \"Topic2\", \"Topic2\", \"Topic2\", \"Topic2\", \"Topic2\", \"Topic2\", \"Topic2\", \"Topic2\", \"Topic2\", \"Topic2\", \"Topic2\", \"Topic2\", \"Topic2\", \"Topic2\", \"Topic2\", \"Topic2\", \"Topic2\", \"Topic2\", \"Topic2\", \"Topic3\", \"Topic3\", \"Topic3\", \"Topic3\", \"Topic3\", \"Topic3\", \"Topic3\", \"Topic3\", \"Topic3\", \"Topic3\", \"Topic3\", \"Topic3\", \"Topic3\", \"Topic3\", \"Topic3\", \"Topic3\", \"Topic3\", \"Topic3\", \"Topic3\", \"Topic3\", \"Topic3\", \"Topic3\", \"Topic3\", \"Topic3\", \"Topic3\", \"Topic3\", \"Topic3\", \"Topic3\", \"Topic3\", \"Topic3\", \"Topic3\", \"Topic3\", \"Topic3\", \"Topic3\", \"Topic3\", \"Topic3\", \"Topic3\", \"Topic3\", \"Topic3\", \"Topic3\", \"Topic3\", \"Topic3\", \"Topic3\", \"Topic3\", \"Topic3\", \"Topic3\", \"Topic3\", \"Topic3\", \"Topic3\", \"Topic3\", \"Topic3\", \"Topic3\", \"Topic3\", \"Topic3\", \"Topic3\", \"Topic3\", \"Topic3\", \"Topic3\", \"Topic3\", \"Topic3\", \"Topic3\", \"Topic3\", \"Topic3\", \"Topic3\", \"Topic3\", \"Topic3\", \"Topic3\", \"Topic3\", \"Topic3\", \"Topic3\", \"Topic3\", \"Topic3\", \"Topic3\", \"Topic3\", \"Topic3\", \"Topic3\", \"Topic3\", \"Topic3\", \"Topic3\", \"Topic3\", \"Topic3\", \"Topic3\", \"Topic3\", \"Topic3\", \"Topic3\", \"Topic3\", \"Topic3\", \"Topic3\", \"Topic3\", \"Topic3\", \"Topic3\", \"Topic3\", \"Topic3\", \"Topic3\", \"Topic3\", \"Topic3\", \"Topic3\", \"Topic3\", \"Topic3\", \"Topic3\", \"Topic3\", \"Topic3\", \"Topic3\", \"Topic3\", \"Topic3\", \"Topic3\", \"Topic3\", \"Topic3\", \"Topic4\", \"Topic4\", \"Topic4\", \"Topic4\", \"Topic4\", \"Topic4\", \"Topic4\", \"Topic4\", \"Topic4\", \"Topic4\", \"Topic4\", \"Topic4\", \"Topic4\", \"Topic4\", \"Topic4\", \"Topic4\", \"Topic4\", \"Topic4\", \"Topic4\", \"Topic4\", \"Topic4\", \"Topic4\", \"Topic4\", \"Topic4\", \"Topic4\", \"Topic4\", \"Topic4\", \"Topic4\", \"Topic4\", \"Topic4\", \"Topic4\", \"Topic4\", \"Topic4\", \"Topic4\", \"Topic4\", \"Topic4\", \"Topic4\", \"Topic4\", \"Topic4\", \"Topic4\", \"Topic5\", \"Topic5\", \"Topic5\", \"Topic5\", \"Topic5\", \"Topic5\", \"Topic5\", \"Topic5\", \"Topic5\", \"Topic5\", \"Topic5\", \"Topic5\", \"Topic5\", \"Topic5\", \"Topic5\", \"Topic5\", \"Topic5\", \"Topic5\", \"Topic5\", \"Topic5\", \"Topic5\", \"Topic5\", \"Topic5\", \"Topic5\", \"Topic5\", \"Topic5\", \"Topic5\", \"Topic5\", \"Topic5\", \"Topic5\", \"Topic5\", \"Topic5\", \"Topic5\", \"Topic5\", \"Topic5\", \"Topic5\", \"Topic5\", \"Topic5\", \"Topic5\", \"Topic5\", \"Topic5\", \"Topic5\", \"Topic5\", \"Topic5\", \"Topic5\", \"Topic5\", \"Topic5\", \"Topic5\", \"Topic5\", \"Topic5\", \"Topic5\", \"Topic5\", \"Topic5\", \"Topic5\", \"Topic5\", \"Topic5\", \"Topic6\", \"Topic6\", \"Topic6\", \"Topic6\", \"Topic6\", \"Topic6\", \"Topic6\", \"Topic6\", \"Topic6\", \"Topic6\", \"Topic6\", \"Topic6\", \"Topic6\", \"Topic6\", \"Topic6\", \"Topic6\", \"Topic6\", \"Topic6\", \"Topic6\", \"Topic6\", \"Topic6\", \"Topic6\", \"Topic6\", \"Topic6\", \"Topic6\", \"Topic6\", \"Topic6\", \"Topic6\", \"Topic6\", \"Topic6\", \"Topic6\", \"Topic6\", \"Topic6\", \"Topic6\", \"Topic6\", \"Topic6\", \"Topic6\", \"Topic6\", \"Topic6\", \"Topic6\", \"Topic6\", \"Topic6\", \"Topic6\", \"Topic6\", \"Topic6\", \"Topic6\", \"Topic6\", \"Topic6\", \"Topic6\", \"Topic6\", \"Topic6\", \"Topic6\", \"Topic6\", \"Topic6\", \"Topic7\", \"Topic7\", \"Topic7\", \"Topic7\", \"Topic7\", \"Topic7\", \"Topic7\", \"Topic7\", \"Topic7\", \"Topic7\", \"Topic7\", \"Topic7\", \"Topic7\", \"Topic7\", \"Topic7\", \"Topic7\", \"Topic7\", \"Topic7\", \"Topic7\", \"Topic7\", \"Topic7\", \"Topic7\", \"Topic7\", \"Topic7\", \"Topic7\", \"Topic7\", \"Topic7\", \"Topic7\", \"Topic7\", \"Topic7\", \"Topic7\", \"Topic7\", \"Topic7\", \"Topic7\", \"Topic7\", \"Topic7\", \"Topic7\", \"Topic7\", \"Topic7\", \"Topic7\", \"Topic7\", \"Topic7\", \"Topic7\", \"Topic7\", \"Topic7\", \"Topic7\", \"Topic7\", \"Topic7\", \"Topic7\", \"Topic7\", \"Topic7\", \"Topic7\", \"Topic7\", \"Topic7\", \"Topic7\", \"Topic7\", \"Topic7\", \"Topic7\", \"Topic7\", \"Topic7\"], \"logprob\": [30.0, 29.0, 28.0, 27.0, 26.0, 25.0, 24.0, 23.0, 22.0, 21.0, 20.0, 19.0, 18.0, 17.0, 16.0, 15.0, 14.0, 13.0, 12.0, 11.0, 10.0, 9.0, 8.0, 7.0, 6.0, 5.0, 4.0, 3.0, 2.0, 1.0, -6.7513, -7.1166, -7.3956, -7.4096, -7.3468, -7.6351, -6.641, -7.7272, -7.7317, -7.5891, -7.7206, -7.7943, -7.8985, -7.9018, -7.9634, -7.9919, -7.9919, -7.9919, -7.9919, -7.9919, -7.9919, -7.9919, -7.9919, -7.9919, -7.9919, -7.9919, -7.9919, -7.9919, -7.9919, -8.0429, -5.4383, -5.3096, -6.2977, -6.4688, -5.9894, -6.7994, -7.041, -7.2229, -7.4468, -7.6293, -6.8835, -7.3346, -7.479, -7.9538, -5.624, -6.5671, -6.3303, -7.196, -7.3619, -5.1926, -7.6186, -6.5283, -6.9799, -6.9968, -5.823, -6.849, -5.1398, -5.4813, -5.844, -6.4602, -5.8884, -5.41, -6.8134, -6.7622, -5.4808, -6.0156, -5.5743, -5.589, -5.2734, -5.5272, -5.3671, -6.1951, -5.6074, -6.0338, -5.8679, -6.0948, -4.8521, -6.0895, -5.9127, -6.1967, -6.0681, -6.0578, -6.2156, -6.1864, -6.1759, -7.1156, -8.0626, -7.9612, -8.3451, -7.4256, -8.5449, -8.6148, -8.4248, -8.7096, -8.2354, -8.4661, -8.6305, -8.8705, -8.802, -8.898, -8.9485, -8.892, -8.9751, -8.9527, -9.0263, -9.0409, -8.9829, -9.0897, -9.1264, -9.1333, -8.1057, -7.9944, -9.131, -8.4678, -9.1554, -5.9407, -7.1385, -7.8231, -6.9309, -7.9039, -7.9059, -8.4905, -5.2713, -7.3729, -6.391, -6.474, -6.3023, -6.6968, -5.7091, -6.9326, -7.4586, -6.5378, -6.3163, -6.8597, -6.8712, -5.8558, -6.7154, -5.0315, -6.7228, -6.992, -5.6642, -5.306, -7.1216, -7.0791, -5.6471, -6.3444, -6.0014, -3.5194, -6.2298, -5.8185, -6.5241, -5.3953, -5.4036, -5.3925, -6.2313, -5.8266, -5.8957, -6.4291, -6.4952, -5.6873, -5.8981, -5.5134, -5.5064, -6.125, -5.7776, -5.8669, -5.9509, -5.806, -5.9921, -5.8531, -5.9769, -6.0542, -6.0205, -6.1073, -8.0651, -8.1287, -8.1651, -7.7145, -8.5492, -8.6272, -8.7824, -8.7952, -8.7952, -8.7952, -8.277, -8.857, -8.756, -8.9345, -8.2978, -8.9758, -8.8019, -8.9007, -9.0098, -8.6024, -9.1694, -9.218, -9.2752, -9.2927, -8.8997, -8.9523, -9.2947, -9.326, -9.2899, -9.3547, -6.7769, -7.5221, -8.5691, -8.7769, -8.29, -8.7484, -7.455, -8.1319, -8.6043, -8.6087, -7.6299, -7.3269, -7.7014, -7.885, -7.5613, -7.5123, -7.5723, -8.0571, -7.4231, -7.9075, -7.6006, -8.2536, -8.2625, -7.7123, -7.3604, -7.3907, -5.4846, -7.1409, -6.646, -7.4718, -7.4968, -6.4632, -6.8051, -6.896, -6.9219, -7.1982, -7.2103, -7.0231, -6.666, -6.6756, -5.9009, -4.8873, -6.6527, -5.9811, -6.8748, -5.9962, -6.0868, -6.2931, -6.3303, -5.6008, -6.0048, -6.8825, -6.5055, -6.1913, -6.5854, -6.5303, -6.6709, -5.5661, -4.395, -6.6044, -5.8548, -5.7825, -6.257, -5.989, -5.8489, -5.6626, -6.4319, -5.9125, -6.1076, -6.3593, -6.096, -6.0458, -6.2059, -6.0548, -6.3084, -6.325, -6.3489, -6.3833, -5.9279, -5.9279, -5.9936, -6.2483, -6.311, -6.0199, -6.5144, -6.1981, -6.5556, -6.5726, -6.3719, -6.8915, -6.9539, -6.9276, -7.0331, -7.0332, -7.034, -7.0476, -7.0706, -7.0602, -7.1759, -7.2278, -7.2434, -7.2154, -7.2774, -7.3154, -7.3253, -7.3485, -7.3894, -7.4237, -5.807, -6.9015, -6.7941, -6.5209, -7.082, -6.3779, -6.1841, -6.4337, -6.7452, -6.8938, -6.7085, -6.7137, -6.7137, -6.9523, -7.1288, -7.1743, -7.3703, -7.391, -7.406, -7.406, -7.406, -7.406, -7.406, -7.406, -7.406, -7.406, -7.406, -7.406, -7.406, -7.406, -7.406, -7.406, -7.406, -7.406, -7.406, -7.406, -7.406, -7.4166, -7.4993, -7.7436, -7.3319, -7.01, -6.2652, -5.195, -6.0593, -6.2971, -7.0627, -6.4403, -6.6238, -6.7853, -6.8695, -6.9238, -6.8717, -6.928, -7.3597, -7.3597, -7.1836, -7.1026, -7.1507, -7.2824, -7.2123, -7.2616, -7.2991, -7.3354, -7.3553, -7.359, -5.8022, -6.0016, -6.3481, -6.3662, -6.7754, -7.1381, -7.2602, -7.2674, -7.2316, -7.4432, -7.4682, -7.483, -7.5044, -7.5444, -6.5728, -7.3568, -7.7874, -7.7909, -7.8932, -7.9339, -7.9394, -7.9394, -7.9394, -7.3615, -8.0904, -8.123, -8.1325, -8.1325, -8.1615, -8.1788, -7.6501, -8.072, -7.856, -6.6685, -6.7244, -7.476, -7.2267, -6.9916, -5.8472, -6.776, -7.0789, -5.2273, -6.6118, -6.6787, -7.0609, -6.2387, -6.8217, -7.2183, -7.175, -7.2228, -7.2023, -7.2574, -7.2844, -7.3448, -6.0495, -6.1628, -6.414, -6.0821, -6.6746, -6.8742, -6.8857, -6.9659, -7.0267, -7.1393, -7.1452, -7.3036, -7.3493, -7.3878, -7.3956, -7.4375, -7.4491, -7.6586, -7.6617, -7.6617, -7.7042, -7.7051, -7.72, -7.8082, -7.8072, -7.8118, -7.8118, -7.8313, -7.8529, -7.8572, -6.7504, -6.998, -6.9028, -6.9028, -6.9028, -6.8509, -6.8276, -6.9013, -6.8361, -6.8376, -7.5598, -7.5598, -7.1612, -7.11, -7.2405, -7.2405, -6.5887, -7.0823, -5.9793, -5.8638, -6.9159, -6.1426, -6.7636, -5.9244, -6.478, -6.6253, -6.5379, -6.6283, -6.8819, -6.9436], \"loglift\": [30.0, 29.0, 28.0, 27.0, 26.0, 25.0, 24.0, 23.0, 22.0, 21.0, 20.0, 19.0, 18.0, 17.0, 16.0, 15.0, 14.0, 13.0, 12.0, 11.0, 10.0, 9.0, 8.0, 7.0, 6.0, 5.0, 4.0, 3.0, 2.0, 1.0, 0.9762, 0.9759, 0.9757, 0.9756, 0.9755, 0.9754, 0.9753, 0.9752, 0.9752, 0.9752, 0.9752, 0.9751, 0.975, 0.975, 0.9749, 0.9748, 0.9748, 0.9748, 0.9748, 0.9748, 0.9748, 0.9748, 0.9748, 0.9748, 0.9748, 0.9748, 0.9748, 0.9748, 0.9748, 0.9747, 0.9741, 0.9699, 0.9742, 0.973, 0.9653, 0.972, 0.9744, 0.9727, 0.9744, 0.9747, 0.9671, 0.9716, 0.9729, 0.9745, 0.9474, 0.9569, 0.945, 0.9587, 0.9637, 0.8911, 0.9683, 0.8932, 0.9153, 0.8836, 0.719, 0.8535, 0.5625, 0.6205, 0.6434, 0.767, 0.6254, 0.497, 0.8385, 0.824, 0.4567, 0.6035, 0.4661, 0.4631, 0.3476, 0.4115, 0.2598, 0.5827, 0.2625, 0.4698, 0.3583, 0.487, -0.6583, 0.4239, 0.1717, 0.4742, 0.2672, 0.0472, 0.3399, 0.0629, -0.0852, 1.1632, 1.1631, 1.1625, 1.1624, 1.1619, 1.1618, 1.1617, 1.1615, 1.161, 1.1607, 1.1607, 1.1605, 1.1604, 1.1603, 1.1601, 1.16, 1.1599, 1.1597, 1.1595, 1.1595, 1.1594, 1.1592, 1.159, 1.1588, 1.1586, 1.1586, 1.1585, 1.1583, 1.1582, 1.1582, 1.1468, 1.1509, 1.1545, 1.1439, 1.1533, 1.1508, 1.1556, 1.1226, 1.1438, 1.1294, 1.1302, 1.1242, 1.1295, 1.1088, 1.1295, 1.1364, 1.1155, 1.1054, 1.1202, 1.1168, 1.0817, 1.0961, 1.0252, 1.095, 1.1056, 1.0306, 0.9826, 1.091, 1.082, 0.9535, 1.0135, 0.9737, 0.6744, 0.9819, 0.8839, 0.9912, 0.7415, 0.7143, 0.6841, 0.8583, 0.6706, 0.6951, 0.911, 0.9396, 0.4292, 0.5348, 0.1675, 0.1205, 0.6414, 0.3068, 0.3824, 0.3012, 0.0639, 0.3559, -0.232, -0.0394, 0.0508, -0.3181, -0.0552, 1.5946, 1.5943, 1.5942, 1.5934, 1.5921, 1.5916, 1.5905, 1.5904, 1.5904, 1.5904, 1.5901, 1.5899, 1.5897, 1.5892, 1.5892, 1.5889, 1.5883, 1.5881, 1.588, 1.5872, 1.5868, 1.5862, 1.5853, 1.5852, 1.5851, 1.585, 1.5849, 1.5847, 1.5844, 1.5843, 1.5812, 1.5833, 1.5823, 1.5843, 1.5787, 1.5832, 1.57, 1.5729, 1.5806, 1.5795, 1.556, 1.544, 1.5467, 1.5484, 1.5332, 1.5284, 1.5163, 1.5452, 1.4979, 1.5309, 1.5077, 1.5553, 1.5559, 1.5107, 1.4742, 1.4761, 1.2708, 1.4392, 1.3781, 1.4689, 1.4681, 1.3172, 1.3676, 1.3693, 1.3658, 1.4062, 1.4045, 1.3605, 1.2873, 1.2574, 1.0546, 0.7935, 1.2384, 1.0467, 1.2935, 1.0299, 1.001, 1.0695, 1.0707, 0.7814, 0.9066, 1.2675, 1.1013, 0.9485, 1.0931, 1.0601, 1.1311, 0.5246, -0.2012, 1.0878, 0.4639, 0.3341, 0.717, 0.4223, 0.2561, -0.0416, 0.856, 0.0262, 0.2437, 0.662, -0.0194, -0.1759, 0.1294, -0.4278, 0.3359, 0.3913, 0.4349, -0.6809, 3.5363, 3.5363, 3.5361, 3.5352, 3.5349, 3.5344, 3.5337, 3.5336, 3.5335, 3.5334, 3.532, 3.5305, 3.5304, 3.53, 3.5296, 3.5296, 3.5296, 3.5294, 3.5292, 3.529, 3.528, 3.5274, 3.5272, 3.5272, 3.5268, 3.5263, 3.5261, 3.5259, 3.5251, 3.5248, 3.4904, 3.4767, 3.4459, 3.1813, 2.5166, -0.697, -1.9902, -0.8127, 0.2705, 0.8015, 3.5412, 3.5411, 3.5411, 3.5391, 3.5373, 3.5363, 3.5342, 3.5339, 3.5337, 3.5337, 3.5337, 3.5337, 3.5337, 3.5337, 3.5337, 3.5337, 3.5337, 3.5337, 3.5337, 3.5337, 3.5337, 3.5337, 3.5337, 3.5337, 3.5337, 3.5337, 3.5337, 3.5335, 3.5322, 3.5277, 3.4551, 3.2873, 1.4301, -1.0012, -0.4324, 0.0967, 2.4462, 0.1505, 0.1941, 0.73, 0.4723, -0.0573, -1.2506, -0.8101, 3.0846, 3.0846, 1.0047, -0.6153, -0.1294, 0.7478, -1.1278, -0.3241, -1.2225, -1.6331, 1.5541, -0.0057, 3.7123, 3.7121, 3.7101, 3.71, 3.7043, 3.7027, 3.7011, 3.7009, 3.6981, 3.698, 3.6975, 3.6972, 3.6968, 3.696, 3.6946, 3.694, 3.6904, 3.6903, 3.6875, 3.6863, 3.6862, 3.6862, 3.6862, 3.682, 3.6814, 3.6802, 3.6799, 3.6799, 3.6788, 3.6782, 3.639, 3.6695, 3.6425, 3.1834, 3.1008, 3.3176, 3.1467, 2.9273, 1.8481, 2.4582, 2.6397, -1.0335, 1.4185, 0.9784, 1.8859, -0.5579, -0.5724, 0.4139, -0.5558, -0.0321, -1.2953, -0.32, -1.1477, -0.912, 3.5869, 3.5864, 3.5852, 3.5834, 3.5829, 3.5817, 3.5813, 3.5808, 3.5802, 3.5789, 3.5789, 3.5768, 3.5757, 3.5756, 3.5755, 3.5748, 3.5746, 3.5708, 3.5706, 3.5706, 3.5699, 3.5699, 3.5696, 3.5676, 3.5676, 3.5675, 3.5675, 3.5671, 3.5665, 3.5664, 3.5622, 3.5538, 3.547, 3.547, 3.5469, 3.5361, 3.5291, 3.5306, 3.5245, 3.5136, 3.5587, 3.5587, 3.483, 3.4339, 3.4376, 3.4376, 2.9901, 3.2972, 1.3221, 0.8385, 2.6921, -0.0859, 1.8424, -1.7305, -0.3763, 0.4023, -0.4613, -0.3789, -1.2011, -0.6551]}, \"token.table\": {\"Topic\": [2, 3, 1, 6, 1, 2, 3, 7, 7, 1, 2, 3, 5, 6, 7, 1, 2, 3, 4, 5, 6, 7, 3, 6, 2, 3, 1, 2, 3, 4, 5, 6, 7, 1, 2, 3, 4, 5, 5, 5, 5, 1, 3, 4, 1, 4, 6, 1, 2, 3, 4, 5, 6, 7, 1, 7, 6, 1, 2, 3, 6, 6, 1, 2, 3, 6, 7, 7, 1, 2, 3, 6, 1, 2, 7, 1, 6, 1, 6, 1, 2, 4, 5, 6, 7, 2, 1, 2, 3, 4, 6, 1, 7, 1, 2, 3, 4, 5, 6, 1, 2, 3, 4, 5, 6, 2, 2, 5, 1, 2, 3, 4, 5, 6, 7, 2, 2, 3, 4, 5, 6, 7, 2, 3, 1, 4, 6, 4, 1, 3, 7, 1, 2, 3, 4, 5, 6, 7, 5, 6, 1, 1, 4, 1, 4, 6, 5, 3, 3, 1, 2, 7, 6, 2, 4, 5, 6, 2, 4, 5, 2, 5, 2, 4, 5, 5, 4, 1, 7, 4, 1, 2, 3, 6, 7, 1, 2, 3, 4, 5, 6, 7, 2, 7, 3, 1, 3, 4, 6, 1, 2, 3, 3, 7, 6, 1, 2, 3, 4, 5, 6, 7, 5, 1, 2, 3, 4, 6, 1, 2, 3, 4, 2, 6, 7, 1, 7, 2, 4, 6, 6, 5, 1, 2, 3, 1, 2, 3, 5, 6, 7, 4, 1, 2, 3, 4, 5, 6, 7, 1, 7, 2, 6, 1, 2, 3, 4, 5, 2, 1, 1, 2, 3, 5, 7, 1, 2, 3, 7, 2, 6, 6, 1, 2, 3, 4, 5, 6, 7, 1, 2, 3, 4, 5, 6, 7, 2, 3, 4, 2, 7, 7, 1, 2, 3, 4, 5, 6, 7, 2, 2, 1, 2, 7, 1, 2, 3, 4, 5, 6, 7, 7, 7, 5, 1, 1, 2, 3, 1, 2, 3, 6, 7, 7, 7, 2, 2, 2, 3, 7, 1, 1, 5, 3, 7, 1, 2, 3, 4, 2, 7, 1, 3, 1, 3, 1, 2, 3, 4, 5, 6, 1, 6, 1, 3, 5, 5, 2, 1, 2, 3, 4, 5, 6, 4, 3, 1, 2, 3, 4, 5, 6, 7, 1, 2, 3, 4, 5, 2, 3, 1, 2, 3, 4, 5, 6, 7, 6, 1, 7, 1, 2, 3, 1, 7, 4, 4, 1, 2, 1, 2, 3, 4, 5, 7, 3, 1, 2, 3, 4, 5, 6, 1, 4, 6, 6, 1, 2, 3, 4, 5, 6, 7, 1, 2, 3, 4, 5, 6, 7, 1, 2, 3, 4, 5, 6, 7, 1, 2, 3, 4, 5, 6, 7, 1, 2, 3, 7, 1, 2, 3, 4, 5, 2, 1, 7, 1, 2, 3, 4, 5, 6, 7, 1, 2, 3, 4, 5, 6, 7, 1, 2, 3, 4, 5, 6, 7, 2, 3, 5, 7, 1, 7, 1, 6, 2, 2, 6, 3, 1, 2, 3, 5, 6, 1, 2, 3, 4, 5, 6, 7, 4, 1, 2, 3, 4, 6, 7, 2, 7, 1, 3, 5, 1, 3, 1, 2, 3, 6, 3, 3, 1, 2, 3, 5, 6, 1, 2, 3, 4, 1, 2, 3, 4, 5, 1, 2, 3, 5, 7, 1, 2, 3, 5, 1, 2, 3, 5, 6, 7, 1, 2, 3, 4, 5, 6, 1, 2, 3, 4, 5, 6, 7, 1, 4, 1, 2, 3, 4, 1, 2, 3, 4, 5, 6, 3, 5, 1, 2, 3, 5, 6, 3, 1, 1, 2, 3, 1, 3, 1, 2, 3, 4, 6, 7, 1, 2, 3, 3, 7, 1, 2, 3, 4, 5, 6, 7, 1, 2, 3, 4, 5, 1, 2, 3, 6, 7, 1, 2, 3, 1, 2, 3, 4, 6, 1, 2, 3, 4, 6, 7, 1, 2, 3, 4, 5, 1, 2, 3, 5, 1, 2, 5, 6, 1, 2, 3, 4, 5, 6, 7, 1, 2, 3, 1, 1, 3, 3, 1, 2, 6, 6, 1, 7, 1, 2, 3, 5, 1, 2, 3, 4, 3, 6, 1, 1, 2, 3, 4, 5, 6, 7, 3, 1, 1, 2, 3, 4, 5, 6, 7, 1, 2, 3, 4, 5, 6, 7, 3, 4, 5, 1, 7, 1, 2, 3, 5, 6, 7, 5, 3, 1, 7, 2, 1, 2, 3, 4, 5, 6, 2, 2, 5, 4, 1, 3, 1, 2, 5, 1, 2, 3, 4, 5, 7, 4, 3, 1, 2, 3, 5, 6, 7, 1, 2, 3, 5, 1, 2, 3, 4, 5, 6, 7, 2, 4, 4, 1, 3, 1, 2, 3, 5, 6, 7, 1, 2, 3, 4, 6, 7, 1, 2, 3, 4, 5, 6, 7, 1, 2, 3, 3, 1, 2, 3, 4, 5, 6, 7, 4, 1, 2, 3, 4, 5, 6, 7, 1, 2, 3, 5, 2, 4, 2, 4, 7, 1, 2, 3, 5, 5, 1, 2, 3, 4, 5, 6, 7, 4, 1, 2, 3, 5, 6, 7, 1, 1, 2, 3, 6, 7, 1, 2, 3, 4, 6, 1, 2, 3, 6, 7, 2, 1, 2, 3, 4, 2, 2, 5, 6, 7, 1, 2, 3, 4, 5, 6, 7, 1, 2, 3, 2, 5, 1, 2, 3, 4, 5, 6, 7, 3, 1, 2, 3, 6, 1, 1, 3, 7, 7, 6, 5, 1, 2, 3, 4, 5, 6, 7, 6, 3, 1, 4, 2, 7, 1, 5, 4, 1, 7, 5, 5, 1, 2, 3, 5, 1, 2, 4, 5, 6, 7, 5, 1, 2, 3, 4, 5, 6, 7, 1, 2, 3, 4, 5, 6, 7, 1, 2, 3, 2, 3, 1, 2, 3, 4, 5, 1, 2, 3, 4, 5, 6, 7, 7, 1, 2, 3, 4, 5, 6, 7, 1, 2, 3, 5, 7, 1, 1, 2, 3, 4, 5, 6, 7, 1, 1, 2, 3, 4, 5, 6, 7, 6, 5, 1, 2, 3, 4, 5, 6, 7, 1, 5, 6, 7, 1, 2, 3, 4, 5, 6, 7, 1, 2, 3, 4, 5, 6, 7, 4, 2, 3, 1, 1, 2, 3, 4, 5, 7, 1, 2, 3, 1, 2, 3, 5, 6, 7, 1, 2, 3, 4, 5, 6, 7, 4, 7, 4, 7, 1, 2, 3, 4, 5, 6, 7, 7, 1, 2, 3, 4, 5, 6, 7, 1, 2, 3, 4, 5, 1, 2, 7, 4, 1, 2, 3, 6, 1, 2, 3, 4, 5, 6, 7, 1, 2, 3, 5, 6, 1, 3, 5, 7, 1, 2, 3, 4, 5, 6, 2, 2, 6, 1, 2, 3, 7, 1, 2, 3, 5, 6, 7, 1, 2, 3, 4, 5, 6, 7, 1, 2, 3, 1, 2, 3, 5, 7, 1, 2, 3, 4, 5, 6, 7, 1, 1, 2, 3, 6, 6, 6, 6, 4, 4, 4, 1, 6, 7, 5, 5, 1, 2, 3, 2, 1, 2, 3, 6, 1, 2, 3, 6, 3, 5, 5, 2, 5, 2, 1, 2, 3, 4, 5, 6, 7, 4, 7, 1, 2, 3, 4, 5, 6, 7, 4, 1, 2, 3, 4, 5, 6, 2, 5, 1, 2, 3, 5, 6, 1, 1, 2, 3, 5, 7, 1, 2, 3, 4, 1, 2, 3, 4, 2, 1, 2, 3, 4, 5, 6, 1, 2, 3, 4, 5, 1, 2, 3, 4, 5, 6, 7, 1, 1, 2, 3, 4, 5, 6, 7, 1, 2, 3, 4, 5, 7, 1, 2, 3, 4, 6, 7, 6, 7, 1, 2, 3, 5, 6, 5, 4, 1, 2, 3, 4, 5, 6, 7, 6, 1, 2, 3, 4, 5, 6, 7, 1, 2, 5, 7, 2], \"Freq\": [0.08280309115343117, 0.9144341370857181, 0.45362221409835746, 0.5390872689284828, 0.042328831305387754, 0.3756683778353163, 0.16931532522155102, 0.4074150013143571, 0.9849014277965917, 0.16383294082971683, 0.35679173780693885, 0.007281464036876303, 0.0036407320184381514, 0.28397709743817584, 0.17839586890346942, 0.4895884612116435, 0.33218476354843507, 0.16961822460187342, 0.001511075497566801, 0.001511075497566801, 0.003148073953264169, 0.0025184591626113352, 0.9948392927322007, 0.9974442297965797, 0.016676272291076752, 0.9823840404197942, 0.3201489142450832, 0.37587449317511473, 0.28299852829172883, 0.006555950462356652, 0.003277975231178326, 0.011199748706525948, 0.00027316460259819384, 0.0014266739438033443, 0.9644315860110607, 0.014266739438033443, 0.017833424297541804, 0.0014266739438033443, 0.9818879097387799, 0.981888098055688, 0.9872219004776918, 0.2906789654583536, 0.005813579309167072, 0.6976295171000486, 0.06968300868492859, 0.9058791129040717, 0.00995471552641837, 0.6051033451995009, 0.2911902050612341, 0.08303689855310721, 0.003927420877511828, 0.00981855219377957, 0.006452191441626574, 0.0005610601253588325, 0.998643513208418, 0.9908633423364369, 0.9828592003008388, 0.996294126196731, 0.0012127743471658321, 0.001819161520748748, 0.9549651114283433, 0.980135200033354, 0.1259685760531807, 0.08086871549093083, 0.7884699760365756, 0.004665502816784471, 0.9932350591101334, 0.9936357209237402, 0.08954196657618799, 0.28253533142971937, 0.6267937660333159, 0.0008693394813222134, 0.011229672676589248, 0.04491869070635699, 0.9320628321569076, 0.9992161203297975, 0.9591913991072618, 0.987633154006143, 0.011740067209582681, 0.9885160714089467, 0.0003726031177568589, 0.0011178093532705766, 0.0003726031177568589, 0.008197268590650897, 0.0011178093532705766, 0.9928270185945031, 0.15472720512956648, 0.2665637083190718, 0.5760181185782047, 0.002405086090096888, 0.0004008476816828147, 0.005604356406296036, 0.9919710839143984, 0.39805917335445407, 0.4211270438548281, 0.1740240150548216, 0.004798117064077796, 0.0005536288920089765, 0.001291800748020945, 0.2212971295010118, 0.7350987500187752, 0.028568222883560288, 0.0029847397042525674, 0.005116696635861544, 0.006822262181148725, 0.9952485018023396, 0.9882399621098177, 0.009150370019535349, 0.08593235799704424, 0.8323381401539987, 0.060669393062501166, 0.0024880192738565145, 0.004019108057768216, 0.0003827721959779253, 0.0143539573491722, 0.9949043981554007, 0.714886072898454, 0.06604925673518325, 0.009713125990468125, 0.01165575118856175, 0.0233115023771235, 0.17483626782842626, 0.009419875002308854, 0.9796670002401208, 0.27704608498177175, 0.03463076062272147, 0.6752998321430687, 0.9906909399250383, 0.9821276432195496, 0.014843238940345838, 0.0037108097350864594, 0.07566689002516849, 0.825111313339777, 0.0771878325382372, 0.008365183821877923, 0.00684424130880921, 0.006464005680542032, 0.00038023562826717833, 0.9116494220239404, 0.08600466245508873, 0.9987457712407876, 0.9975914161186589, 0.0010761503949500097, 0.999790314467594, 0.9872677526392268, 0.9685091159390907, 0.9818880953405916, 0.992787431448464, 0.992028516774277, 0.011529598585110016, 0.03458879575533005, 0.9454270839790214, 0.9852809352984885, 0.9417052901982808, 0.001168368846399852, 0.05491333578079304, 0.001168368846399852, 0.8980428582255068, 0.02302673995450017, 0.07803506317913947, 0.984705273082839, 0.01219449254591751, 0.9971026565120087, 0.0014004250793707988, 0.0014004250793707988, 0.9771695293436465, 0.9769930130015057, 0.03683242481233102, 0.9576430451206065, 0.9899734106316455, 0.061199220794549175, 0.8731663473926523, 0.058038697654924566, 0.004884444852147117, 0.0022985622833633494, 0.22945028296981382, 0.6363937524844907, 0.10956170333087453, 0.0003227148846270237, 0.012747237942767435, 0.00354986373089726, 0.00790651467336208, 0.9912482799696832, 0.005387218912878713, 0.9843712415922665, 0.010908285441727861, 0.9817456897555076, 0.9501880681041771, 0.042661505098554896, 0.9948580137283758, 0.0016862000232684335, 0.0016862000232684335, 0.9917793441715732, 0.9912608811469815, 0.9721316668665587, 0.6001260118118015, 0.2610152447491985, 0.1352859334912894, 0.00014932222239656668, 0.0019411888911553667, 0.0005972888895862667, 0.0008959333343794, 0.9818879623844458, 0.08333578834441256, 0.1929238763138049, 0.7207172024950844, 0.0021368150857541683, 0.0009157778938946435, 0.015738136220601502, 0.047214408661804506, 0.922254782527248, 0.015738136220601502, 0.9963951788213525, 0.9460869066479827, 0.03504025580177714, 0.9975113259331252, 0.9665579045058215, 0.9935112484861813, 0.006712913841122847, 0.9744703570694788, 0.9797288498997031, 0.9885078913450284, 0.21193400780882862, 0.08933541136336273, 0.6975765100075345, 0.21565264577367066, 0.2443465529036393, 0.5218704359263049, 0.0004483422989057602, 0.002241711494528801, 0.015691980461701605, 0.9941339849482157, 0.04863350303478884, 0.7541087821763388, 0.10826744127982753, 0.019684989323605004, 0.0005789702742236766, 0.004921247330901251, 0.06368673016460442, 0.023963616687148408, 0.9585446674859364, 0.985149305884797, 0.014154444050068922, 0.0012765869757049417, 0.9808443263332968, 0.014467985724656005, 0.0017021159676065887, 0.0012765869757049417, 0.9974741850680416, 0.9990884815792463, 0.003552947183538213, 0.9770604754730087, 0.0017764735917691066, 0.007105894367076426, 0.008882367958845533, 0.06395056407649037, 0.1968674227452743, 0.7373123858230655, 0.0012539326289507918, 0.020460679355075263, 0.9821126090436126, 0.9959016321342834, 0.44709963368352257, 0.4235352201804818, 0.10752239009003388, 0.004993782994021893, 0.00936334311379105, 0.0007802785928159207, 0.007022507335343287, 0.07419310224764102, 0.83202264663426, 0.04673201894818947, 0.01059901460680586, 0.007226600868276723, 0.0009635467824368963, 0.027942856690669992, 0.01578379157908332, 0.9470274947449994, 0.03156758315816664, 0.02719287341341812, 0.9653470061763432, 0.9807718930330213, 0.03459006571069803, 0.8392985755463711, 0.06004313293177772, 0.0026105709970338136, 0.05939049018251926, 0.0006526427492584534, 0.003915856495550721, 0.9941201790803744, 0.9975936195326347, 0.011186065640826668, 0.04474426256330667, 0.9396295138294402, 0.0007324429479831958, 0.9192158997189106, 0.019775959595546285, 0.0036622147399159788, 0.02087462401752108, 0.017578630751596696, 0.018311073699579895, 0.9641963071701822, 0.9820926259561132, 0.9818881452223739, 0.9975155569384313, 0.04465587604074313, 0.022327938020371564, 0.9333078092515313, 0.003691795384940444, 0.040609749234344884, 0.9487914139296941, 0.007383590769880888, 0.96674780011583, 0.9882394941616184, 0.9912122797643316, 0.9948941924353717, 0.9946170196375222, 0.03816162731728596, 0.957509921779175, 0.9918281811866292, 0.9975110973845638, 0.9960467897990277, 0.002577093893399813, 0.997272818910795, 0.9926504597544106, 0.03684890007873247, 0.1357591055532249, 0.8242517122874369, 0.0019394157936174984, 0.06674825419837865, 0.9233508497442381, 0.9975115054946263, 0.9972268119277994, 0.009451710359987152, 0.9829778774386638, 0.2730280519972221, 0.6092439433167719, 0.10256235113885286, 0.0040081838376103416, 0.00872369423479898, 0.002121979678734887, 0.9985229173161257, 0.0007219977710167214, 0.997892279878941, 0.0016147124269885777, 0.9818879967967217, 0.9818878724988491, 0.9919937553912049, 0.8582519554647148, 0.020317801394674883, 0.11209821459130968, 0.0007006138411956856, 0.008407366094348227, 0.0007006138411956856, 0.994007266176159, 0.9948612126034201, 0.3631513592177782, 0.37395215721920483, 0.2579964201850209, 0.0006113659246090542, 0.0002037886415363514, 0.0004075772830727028, 0.0036681955476543255, 0.4250138229381999, 0.523592470473625, 0.020125052611038356, 0.0037521284529054566, 0.027288206930221503, 0.997504718976968, 0.003259819343061987, 0.6022912364859035, 0.24371674541805474, 0.1414363975356968, 0.0026104033102225923, 0.00474618783676835, 0.0035596408775762623, 0.0014238563510305048, 0.9894257606513144, 0.9975112804764117, 0.995585498745036, 0.06946528632933051, 0.9279513720974717, 0.0013106657797986889, 0.03683257720106147, 0.9576470072275982, 0.9962854156203481, 0.9912307312954604, 0.995775289989031, 0.003330352140431542, 0.008684691713586316, 0.17260824780752804, 0.802248397042536, 0.002171172928396579, 0.007599105249388027, 0.006513518785189737, 0.9812669598161433, 0.993303163121337, 0.00018967026219616898, 0.000569010786588507, 0.0049314268171003935, 0.000569010786588507, 0.000569010786588507, 0.9982680064105738, 0.9886176901570702, 0.9971173048973786, 0.9867519330521741, 0.6188726307750297, 0.24697408618344724, 0.12113490893759556, 0.001698763555759161, 0.004312245949234793, 0.006664380103362862, 0.0002613482393475632, 0.6608074992633233, 0.2267299219873675, 0.10234262800838899, 0.00042598388348965237, 0.005644286456237894, 0.0017039355339586095, 0.002342911359193088, 0.7728973629124277, 0.08705576550991927, 0.13267989191030188, 0.0012330844973076384, 0.0004932337989230554, 0.0007398506983845829, 0.0049323379892305536, 0.27319603414056237, 0.30664860974961083, 0.391873028563139, 0.0003982449477267673, 0.02508943170678634, 0.0015929797909070692, 0.0011947348431803019, 0.09833094423158831, 0.01260653131174209, 0.8849784980842947, 0.002521306262348418, 0.020186697820810773, 0.9320988298130888, 0.045639490725311316, 0.0008776825139482945, 0.0008776825139482945, 0.9893265668862544, 0.1388377667222575, 0.8638794373829356, 0.42387541351679986, 0.26037222423088746, 0.29911983820887744, 0.00880627590408864, 0.000293542530136288, 0.007632105783543487, 0.985269464416393, 0.45820288417042915, 0.21227030761914437, 0.27009020484376206, 0.03801856255865272, 0.0027721868532350944, 0.009108613946343882, 0.00950464063966318, 0.43711149874518124, 0.44483001034012404, 0.10968411213866072, 0.0020311872618270503, 0.0024374247141924605, 0.0010155936309135252, 0.0030467808927405757, 0.9886149855011949, 0.008449700730779443, 0.0028165669102598145, 0.9642072458480556, 0.023963626917800723, 0.9585450767120289, 0.9984446575854758, 0.9890966470727363, 0.9953391997552021, 0.02222930515581139, 0.9558601216998898, 0.9799612892972923, 0.02494004665035962, 0.9637546598460397, 0.0026721478553956737, 0.0026721478553956737, 0.005344295710791347, 0.3457734627672751, 0.3044753607201392, 0.341690760663756, 0.001884324047778066, 0.0006281080159260221, 0.0004710810119445165, 0.0050248641274081764, 0.9810564266365605, 0.0913969822821417, 0.30155182689267135, 0.5897142869542009, 0.003492878303776116, 0.000582146383962686, 0.013389366831141778, 0.1348894630656299, 0.8498036173134684, 0.013733115465078468, 0.9819177557531105, 0.9818879696900299, 0.011236493292469358, 0.9888114097373034, 0.1763260734766396, 0.027708382974900504, 0.7934673306448781, 0.0012594719534045685, 0.9954830339112364, 0.9957676477718882, 0.0014983921666571673, 0.9507298297439727, 0.03970739241641493, 0.0037459804166429184, 0.004495176499971502, 0.02278730304822033, 0.02785114817004707, 0.9469390377816004, 0.00253192256091337, 0.006401218404815203, 0.0032006092024076016, 0.9857876343415413, 0.0032006092024076016, 0.9818877493492989, 0.005763570725876045, 0.9702010721891343, 0.007684760967834727, 0.009605951209793408, 0.005763570725876045, 0.13006906735924267, 0.797275209183506, 0.06623887689591061, 0.00602171608144642, 0.5387591002631599, 0.3425687870498397, 0.10501846280163063, 0.0005394784048028971, 0.0023377397541458874, 0.010969394230992241, 0.002079713512769432, 0.49497181603912477, 0.47573446604600755, 0.021317063505886677, 0.003639498647346506, 0.0015597851345770738, 0.612763198995193, 0.19860917756376859, 0.18013390523225523, 0.002566010046043522, 0.0005132020092087044, 0.004618818082878339, 0.0007698030138130566, 0.9909923252584388, 0.007623017886603376, 0.017487422888476607, 0.0058291409628255355, 0.9734665407918645, 0.9899751333827922, 0.5288870442915511, 0.40841277427806916, 0.060237135006740924, 0.00024994661828523206, 0.0012497330914261603, 0.0007498398548556962, 0.981181230166983, 0.9818880640870226, 0.4679305121116015, 0.2173207479068646, 0.31247708694700904, 0.0003140473235648332, 0.0021983312649538327, 0.9795894441375378, 0.9990297041043755, 0.031101682997853236, 0.013329292713365673, 0.9508228802200847, 0.9997187327331065, 0.9914914355167396, 0.7036626622036809, 0.14696600065787271, 0.14576725676996183, 0.00047949755516434815, 0.0007192463327465223, 0.0021577389982395667, 0.9198657935814057, 0.03624794147833705, 0.04337868406423942, 0.9916043765456901, 0.9798660356136262, 0.5682708747001968, 0.21837895707088026, 0.2075881500507009, 0.0006744254387612115, 0.00026977017550448455, 0.004046552632567269, 0.0006744254387612115, 0.3864304051308426, 0.5916829765461863, 0.009259514499940318, 0.0003086504833313439, 0.012037368849922413, 0.0010386184650089463, 0.9555289878082306, 0.03323579088028628, 0.0010386184650089463, 0.009347566185080517, 0.01958871161011807, 0.01958871161011807, 0.9598468688957854, 0.24076865851519677, 0.001701545289860048, 0.7546353360529313, 0.000850772644930024, 0.002552317934790072, 0.01612428298316145, 0.9590962396650847, 0.006569152326473183, 0.0017915869981290499, 0.011346717654817316, 0.005374760994387149, 0.9111242512374434, 0.044192817139483836, 0.03855118090891144, 0.0028208181152862026, 0.0028208181152862026, 0.20257789633052492, 0.1183896796736834, 0.5419616447284173, 0.13680585206736748, 0.043321391859457124, 0.4693150784774522, 0.021660695929728562, 0.4548746145242998, 0.4919434572521871, 0.25650048178783014, 0.23022873580330647, 0.0006016430378135186, 0.008623550208660433, 0.003008215189067593, 0.009225193246473952, 0.001141957407614581, 0.9775155409180815, 0.02055523333706246, 0.9975113100137679, 0.997511332970988, 0.9890932631722968, 0.9957410946588183, 0.5791697530402583, 0.07682864070942202, 0.342773935472806, 0.9504438210060562, 0.13883481675360015, 0.863861082022401, 0.05829096136031826, 0.9317721853808448, 0.008831963842472463, 0.0008831963842472464, 0.9945840039146806, 0.0014393400924959199, 0.0014393400924959199, 0.0028786801849918398, 0.9965650403740419, 0.9591915053451572, 0.9975112774179299, 0.40697883248884986, 0.27564648197277763, 0.308533660355715, 0.000432726031354439, 0.0012981780940633171, 0.004543623329221609, 0.0028127192038038536, 0.9902598586678777, 0.997511295366508, 0.4195226496907907, 0.24950453778037154, 0.3214959656774748, 0.001183420732555122, 0.004930919718979675, 0.002169604676351057, 0.001380657521314309, 0.3791795361262178, 0.5319568302738659, 0.07119289249716743, 0.003979726909779545, 0.0019898634548897727, 0.009728221335016666, 0.00221095939432197, 0.997112970631623, 0.9943661556650308, 0.9901074001127247, 0.25176203847673223, 0.7438423864085271, 0.711882697606256, 0.25663630715560193, 0.004245821258089002, 0.0033023054229581127, 0.023587895878272234, 0.0009435158351308894, 0.9901070014824499, 0.9902597864554304, 0.036832401986137735, 0.9576424516395811, 0.9963243486848206, 0.00422435001524181, 0.9443047034071309, 0.009423550034000963, 0.002924550010552023, 0.03476965012545183, 0.0038994000140693636, 0.9933860904553274, 0.9931366628073495, 0.986680316641494, 0.9905594670127362, 0.9975112055379298, 0.9915769658664356, 0.5031165760965609, 0.1629139389265054, 0.3306194642920257, 0.06523974124783487, 0.8587111241168008, 0.061894113491535646, 0.0005576046260498706, 0.0022304185041994826, 0.011152092520997412, 0.9948563336907971, 0.9840882427071526, 0.16975552926235826, 0.23306369694105952, 0.589382233610564, 0.006162741986422247, 0.0005602492714929315, 0.0005602492714929315, 0.01605006691850725, 0.07062029444143189, 0.9116438009712118, 0.9818877225951935, 0.21803499802156784, 0.47861341029124643, 0.28249471657931147, 0.00531792678101385, 0.004351031002647695, 0.002900687335098463, 0.008379763412506671, 0.9899957355957972, 0.9929518788401089, 0.9831772571901836, 0.9967775617966125, 0.9940070119858221, 0.8708565510636295, 0.10773483105941807, 0.02020028082364089, 0.0007481585490237366, 0.0007481585490237366, 0.9807535877200887, 0.2788050525999287, 0.3012158129587786, 0.4140293015448533, 0.0003798433959127094, 0.0022790603754762567, 0.003038747167301675, 0.971130925218576, 0.0076187049572587024, 0.010158273276344937, 0.006602877629624209, 0.00025395683190862343, 0.0022856114871776106, 0.001777697823360364, 0.9977425961784928, 0.001023325739670249, 0.0015349886095053734, 0.9902598416586671, 0.6885612475237513, 0.22055269359754973, 0.07245209258276997, 0.0013318399371832713, 0.0023973118869298885, 0.013851135346706022, 0.0007991039623099628, 0.9928772438073945, 0.0004252957991709495, 0.9575534918333928, 0.005528845389222343, 0.0006379436987564242, 0.03168453703823573, 0.002339126895440222, 0.001701183196683798, 0.004510463587858593, 0.9641115919047741, 0.00563807948482324, 0.023679933836257612, 0.9941400297233366, 0.9933127100790412, 0.47170611704923543, 0.36164135640441386, 0.16771773050639482, 0.25317634439379, 0.14567377354350378, 0.5998331851791332, 0.000779004136596277, 0.9880101406287611, 0.2228291466521544, 0.3855818076873064, 0.1649372605121339, 0.0371381911086924, 0.06116878535549337, 0.10049157594116767, 0.027307493462273826, 0.9815004764650466, 0.36879711625640893, 0.0015366546510683706, 0.6031369505443355, 0.00998825523194441, 0.005378291278739298, 0.010756582557478595, 0.997511308050492, 0.18652654956522507, 0.005526712579710373, 0.7958466114782936, 0.012435103304348338, 0.9665582957311424, 0.3278932284791745, 0.1684065330165075, 0.5005812835215254, 0.002497554515075323, 0.00035679350215361757, 0.3139761756540578, 0.0715207689416988, 0.6086417436938568, 0.0028608307576679522, 0.0028608307576679522, 0.9933499054479181, 0.06978727436179938, 0.1972249058050852, 0.7322606759122138, 0.0010114097733594112, 0.9958430227323141, 0.9953965955544029, 0.0019068900297977067, 0.9891513379960274, 0.971249609543709, 0.20259142416963907, 0.24132213761383478, 0.5503166206960994, 0.0021280611782525114, 0.0008512244713010044, 0.0004256122356505022, 0.0021280611782525114, 0.0027148401436947493, 0.11673812617887422, 0.8796082065570988, 0.36629649475360787, 0.6227040410811334, 0.26720227807181474, 0.6541111767198025, 0.05541364166781635, 0.002795346909058985, 0.002137618224574518, 0.007728312042692488, 0.010523658951751473, 0.994042812777479, 0.8838060561636, 0.1030975898107138, 0.012592072037949778, 0.961032770473801, 0.9992455111231504, 0.01027730826254782, 0.4367856011582823, 0.5498359920463083, 0.9960901104259537, 0.9643084011355441, 0.981887664386744, 0.1529764271995607, 0.617634583096202, 0.19834291826177858, 0.0023225166072807796, 0.008515894226696193, 0.0027870199287369354, 0.017341457334363156, 0.9938061893957612, 0.9916827102255916, 0.997511276620583, 0.9842565181823751, 0.048240346951906835, 0.9406867655621832, 0.99751134195459, 0.981888041833551, 0.9924200024082845, 0.021407505518603313, 0.9740415010964507, 0.9921777040445583, 0.9818877232094992, 0.018996926865040977, 0.028495390297561467, 0.9371817253420216, 0.012664617910027319, 0.17557436007139207, 0.20258580008237548, 0.006752860002745849, 0.013505720005491698, 0.5874988202388889, 0.013505720005491698, 0.9818878849120665, 0.18675665099346825, 0.3086563897172383, 0.13830931893658527, 0.06485691226969817, 0.12033692156064481, 0.15471889914940046, 0.026567891773129373, 0.6742399023190492, 0.22786811513560457, 0.09426872708349669, 0.0015607405146274287, 0.0006242962058509715, 0.0009364443087764571, 0.0006242962058509715, 0.020675421832820715, 0.005907263380805918, 0.9717448261425736, 0.006993455627641534, 0.9930706991250978, 0.2437851032780459, 0.0436038396107074, 0.7105443863835729, 0.0009909963547888045, 0.0009909963547888045, 0.1949616172979053, 0.611602250566323, 0.16536986003794527, 0.003958133136682548, 0.010578582014109906, 0.008646636078348185, 0.004876985471983854, 0.990569467205934, 0.057675550276980646, 0.8686241427241058, 0.03217688594399973, 0.007437110430452767, 0.006222888319358438, 0.0025802219860754498, 0.025346886569094125, 0.9803425700407246, 0.0019751697180135485, 0.007900678872054194, 0.008559068778058709, 0.975364603265906, 0.9984851104875588, 0.9973701586976582, 0.0004332624494776969, 0.0004332624494776969, 0.0006498936742165454, 0.00021663122473884844, 0.0008665248989553938, 0.00021663122473884844, 0.9975115032237575, 0.5945495631191305, 0.299497774487611, 0.10185349415773005, 0.0005389073764959262, 0.0005389073764959262, 0.0022903563501076862, 0.0006736342206199078, 0.9898157736063902, 0.981887748583425, 0.19427068276644172, 0.21477910417172827, 0.580574765964203, 0.0044745646702443395, 0.0011186411675610849, 0.0003728803891870283, 0.0044745646702443395, 0.2729921814288006, 0.056873371131000126, 0.5687337113100013, 0.0909973938096002, 0.3275493779403115, 0.6245447427604991, 0.0018125262020412495, 0.004401849347814463, 0.03340226858047445, 0.003625052404082499, 0.004660781662391784, 0.700356934675169, 0.22720715790527474, 0.04509212637672818, 0.0026991765788886585, 0.0057159033435289245, 0.00015877509287580345, 0.01889423605222061, 0.988012484094487, 0.009109976495499793, 0.9838774615139776, 0.9973747095168655, 0.9399445830251505, 0.03053627071756834, 0.007634067679392085, 0.010496843059164117, 0.010496843059164117, 0.0009542584599240106, 0.9902106500463237, 0.004563182719107483, 0.003650546175285986, 0.7165539071424408, 0.15339717073723805, 0.11323839848943754, 0.0156432426779223, 0.00023348123399884028, 0.0009339249359953611, 0.1477948226884334, 0.3683405524548122, 0.4471366638458247, 0.014487644819247, 0.0001042276605701223, 0.013966506516396388, 0.008338212845609783, 0.937227087236364, 0.05714799312416854, 0.9814993611873127, 0.987525539116793, 0.6267506727951557, 0.2568715992721834, 0.07012875175137612, 0.0016029428971743114, 0.0020036786214678894, 0.0008014714485871557, 0.041275779602238515, 0.9867449175956496, 0.05647736200788155, 0.8084629783720823, 0.11426207035853815, 0.007059670250985194, 0.001307346342775036, 0.010981709279310303, 0.001307346342775036, 0.11942255087440527, 0.16128200169636175, 0.7177664655647245, 0.0012311603182928379, 0.981887976712591, 0.029825292011892435, 0.07456323002973109, 0.894758760356773, 0.9981122574449603, 0.04164329982492122, 0.10221537229753391, 0.8536876464108851, 0.003785754529538293, 0.1644611415606231, 0.26209743971340177, 0.5662104995335321, 0.0004001487629212241, 0.0024008925775273445, 0.003601338866291017, 0.0004001487629212241, 0.023033964273396428, 0.9517215238416978, 0.02093996752126948, 0.001046998376063474, 0.003140995128190422, 0.20029357360859018, 0.021083534064062125, 0.7695489933382675, 0.9873155318610132, 0.5983098371470827, 0.294773356634838, 0.1050063981861673, 0.00030217668542781957, 0.00015108834271390978, 0.0013597950844251882, 0.9956011294925685, 0.9942545348956157, 0.003751903905266474, 0.09277318584324482, 0.019531197019630485, 0.8837866651382795, 0.0024413996274538106, 0.01842285274371253, 0.9413483466464725, 0.021394280605601647, 0.0011885711447556472, 0.004159999006644765, 0.013668568164689941, 0.9180233300467562, 0.04272777177387654, 0.028537161440216813, 0.00826486096356006, 0.0015594077289735962, 0.00046782231869207887, 0.00046782231869207887, 0.07447250270078817, 0.09994993783526834, 0.8231171351139746, 0.09380330028069817, 0.548591211192173, 0.2529527198580625, 0.0015809544991128904, 0.10328902727537552, 0.4882714623289221, 0.35148829579867186, 0.13184514607789463, 0.0028640518623662503, 0.018665717309904184, 0.003950416361884483, 0.0029628122714133623, 0.9975113558779727, 0.6746137751316167, 0.1310990332239579, 0.03277475830598948, 0.16114256167111493, 0.9528163736127313, 0.986422962342776, 0.9549650310317664, 0.9905124426316066, 0.979964081028848, 0.9910443624118824, 0.9983387502198157, 0.9378526435539494, 0.05683955415478481, 0.9818882280231751, 0.9818880491529627, 0.01940536133660562, 0.01940536133660562, 0.957331159272544, 0.9896989234814434, 0.007985215930159871, 0.07985215930159871, 0.9049911387514521, 0.007985215930159871, 0.024000268885536535, 0.04200047054968893, 0.9330104529252328, 0.9805255663150251, 0.9812893106037172, 0.9855866443488551, 0.9907543877163326, 0.9893074822442496, 0.00549615267913472, 0.9898538596241936, 0.4122835156671538, 0.2802354145637949, 0.23035057636919268, 0.005868804493482616, 0.002200801685055981, 0.036680028084266354, 0.03227842471415439, 0.9943683779274001, 0.9827720940054343, 0.2873246308099456, 0.25958004319698813, 0.44181153910936766, 0.0014713038885659246, 0.00042037253959026415, 0.002942607777131849, 0.0065157743636490946, 0.9897123200386421, 0.07942902331513339, 0.7751177102821638, 0.14187666923185896, 0.0005477863676905751, 0.0021911454707623005, 0.0005477863676905751, 0.3662976288073971, 0.622705968972575, 0.018369078274064216, 0.9637205708785833, 0.0013120770195760155, 0.016400962744700192, 0.9670901602931521, 0.9973383761274535, 0.35880531958821166, 0.0471371694360984, 0.5839380691337562, 0.005628318738638615, 0.004221239053978961, 0.01618298103565914, 0.9186953849474189, 0.031121117376267576, 0.03361080676636898, 0.011125406981532962, 0.050064331416898325, 0.878907151541104, 0.06118973839843129, 0.9985814059754554, 0.1709734581342044, 0.02119505679349641, 0.7926951240767658, 0.0028260075724661883, 0.0014130037862330942, 0.011304030289864753, 0.8107631369995237, 0.15902113429381123, 0.02593267728483691, 0.0004892957978271115, 0.00342507058478978, 0.3203880145255649, 0.16245026088620193, 0.42944027299083937, 0.0007520845411398238, 0.0015041690822796476, 0.06467927053802484, 0.021058367151915065, 0.9990843917205326, 0.4009994419463809, 0.45676026384163254, 0.09919169307439159, 0.0022083493819901653, 0.00828131018246312, 0.013802183637438533, 0.018954998862082253, 0.6572180825198509, 0.26588468034375723, 0.01665248519898271, 0.028309224838270603, 0.028864307678236695, 0.003330497039796542, 0.5753375283216681, 0.24321848864910167, 0.1720501230049803, 0.004073610154714018, 0.001198120633739417, 0.004073610154714018, 0.9383117984203233, 0.9925540278559831, 0.9687382375003039, 0.02002161699126224, 0.009754121098307245, 0.0010267495892954995, 0.0005133747946477498, 0.9950824662672738, 0.9897282254754418, 0.39473376339892263, 0.32782973570418994, 0.26124429861752746, 0.002867315472631399, 0.001274362432280622, 0.005734630945262798, 0.006371812161403109, 0.9549650777255567, 0.5331026333969794, 0.24701403786865567, 0.19399830637061352, 0.012861223752302819, 0.008246891566362113, 0.003927091222077197, 0.0008835955249673692, 0.24856400020479405, 0.7039903140458075, 0.04609133778631943, 0.0010974128044361768, 0.9960435239275537], \"Term\": [\"abortion\", \"abortion\", \"added_point\", \"added_point\", \"administer\", \"administer\", \"administer\", \"administer\", \"adsbygoogle_push_else_betterad\", \"adsbygoogle_window_adsbygoogle_push\", \"adsbygoogle_window_adsbygoogle_push\", \"adsbygoogle_window_adsbygoogle_push\", \"adsbygoogle_window_adsbygoogle_push\", \"adsbygoogle_window_adsbygoogle_push\", \"adsbygoogle_window_adsbygoogle_push\", \"also\", \"also\", \"also\", \"also\", \"also\", \"also\", \"also\", \"antibody\", \"ap_college_basketball_coverage\", \"application\", \"application\", \"area\", \"area\", \"area\", \"area\", \"area\", \"area\", \"area\", \"arrest\", \"arrest\", \"arrest\", \"arrest\", \"arrest\", \"assigned_publication_purposes_subject\", \"assumed_unsolicite\", \"available_check\", \"averaged_point\", \"averaged_point\", \"averaged_point\", \"averaging_points_rebounds_assist\", \"averaging_points_rebounds_assist\", \"averaging_points_rebounds_assist\", \"back\", \"back\", \"back\", \"back\", \"back\", \"back\", \"back\", \"ball\", \"based_new\", \"basketball_northern_illinois_huskie\", \"bear\", \"bear\", \"bear\", \"beginning_pandemic_administration_keep\", \"beltone\", \"benefit\", \"benefit\", \"benefit\", \"benefit\", \"betterads_el_width_betterad\", \"betterads_el_width_else\", \"bill\", \"bill\", \"bill\", \"bill\", \"block_club_chicago_independent\", \"block_club_chicago_independent\", \"block_club_chicago_independent\", \"breaking_illinois_local_new\", \"browser_essential_working_basic\", \"buck\", \"buck\", \"bull\", \"bull\", \"bull\", \"bull\", \"bull\", \"bull\", \"burglary\", \"business\", \"business\", \"business\", \"business\", \"business\", \"buyer_address_sale_price\", \"buyer_address_sale_price\", \"call\", \"call\", \"call\", \"call\", \"call\", \"call\", \"car\", \"car\", \"car\", \"car\", \"car\", \"car\", \"carjack\", \"carjacking\", \"carjacking\", \"case\", \"case\", \"case\", \"case\", \"case\", \"case\", \"case\", \"cases_change_previous_week\", \"centers_disease_control_prevention\", \"centers_disease_control_prevention\", \"centers_disease_control_prevention\", \"centers_disease_control_prevention\", \"centers_disease_control_prevention\", \"centers_disease_control_prevention\", \"certification\", \"certification\", \"chance_rain\", \"chance_rain\", \"chance_rain\", \"change_previous_week_cumulative\", \"character\", \"character\", \"character\", \"charge\", \"charge\", \"charge\", \"charge\", \"charge\", \"charge\", \"charge\", \"chicago_atlantic_real_estate\", \"chicago_atlantic_real_estate\", \"chicago_bear\", \"chicago_bull\", \"chicago_bull\", \"chicago_chicago_new\", \"chicago_custody_lawyer\", \"chicago_employment_lawyer\", \"chicago_glbt_nightlife_new\", \"chicago_immigration_lawyer\", \"chicago_insurance_lawyer\", \"chicago_neighborhoods_click_support\", \"chicago_neighborhoods_click_support\", \"chicago_neighborhoods_click_support\", \"chicago_personal_injury_lawyer\", \"chicago_police\", \"chicago_police\", \"chicago_police\", \"chicago_police\", \"chicago_police_department\", \"chicago_police_department\", \"chicago_police_department\", \"chicago_police_officer\", \"chicago_police_officer\", \"chicago_police_said\", \"chicago_police_said\", \"chicago_police_said\", \"chicago_pride_parade_start\", \"chicago_semi_truck_accident\", \"chicago_suburban_cook_lake\", \"chicago_suburban_cook_lake\", \"chicago_truck_accident_lawyer\", \"child\", \"child\", \"child\", \"child\", \"child\", \"city\", \"city\", \"city\", \"city\", \"city\", \"city\", \"city\", \"city_official\", \"city_official\", \"clean_comment\", \"clinical\", \"clinical\", \"close_modal_suggest_correction\", \"close_modal_suggest_correction\", \"coach\", \"coach\", \"coach\", \"coal\", \"college_associate_degree_bachelor\", \"college_basketball_coverage\", \"come\", \"come\", \"come\", \"come\", \"come\", \"come\", \"come\", \"commentators_necessarily\", \"company\", \"company\", \"company\", \"company\", \"company\", \"consumer\", \"consumer\", \"consumer\", \"consumer\", \"contact_matt_masterson_bymattmasterson\", \"content_deleted_within_hour\", \"content_deleted_within_hour\", \"content_media_technology_partner\", \"continue_fight_cronyism_corruption\", \"convict\", \"convict\", \"cookies_categorized_necessary_store\", \"cookies_stored_browser_consent\", \"copyright_windy_city\", \"cost\", \"cost\", \"cost\", \"country\", \"country\", \"country\", \"country\", \"country\", \"country\", \"county_il_updated_hrs\", \"covid\", \"covid\", \"covid\", \"covid\", \"covid\", \"covid\", \"covid\", \"covid_vaccines_distributed_statewide\", \"covid_vaccines_distributed_statewide\", \"cps\", \"cps\", \"crime\", \"crime\", \"crime\", \"crime\", \"crime\", \"ctu\", \"cub\", \"custody\", \"custody\", \"custody\", \"custody\", \"custody\", \"customer\", \"customer\", \"customer\", \"customer\", \"data_provide\", \"data_provide\", \"data_stats_llc\", \"day\", \"day\", \"day\", \"day\", \"day\", \"day\", \"day\", \"death\", \"death\", \"death\", \"death\", \"death\", \"death\", \"death\", \"debt\", \"debt\", \"debt\", \"deductible_donation_thanks_subscribing\", \"deductible_donation_thanks_subscribing\", \"degree_graduate_professional_degree\", \"department\", \"department\", \"department\", \"department\", \"department\", \"department\", \"department\", \"deputy\", \"detain\", \"dime_make_funds_reporting\", \"dime_make_funds_reporting\", \"dime_make_funds_reporting\", \"district\", \"district\", \"district\", \"district\", \"district\", \"district\", \"district\", \"district_officials_blamed_union\", \"document_body_clientwidth_betterad\", \"drawings_photograph\", \"ebooks_search_search\", \"economic\", \"economic\", \"economic\", \"economy\", \"economy\", \"economy\", \"economy\", \"el_width_betterads_screen\", \"el_width_else_betterads\", \"el_width_raw_betterad\", \"electronic_monitore\", \"elementary\", \"employer\", \"employer\", \"en_gb_false_false\", \"enabled_real_time_scene\", \"episode\", \"episode\", \"essay\", \"estate_real_estate_storie\", \"estimate\", \"estimate\", \"estimate\", \"estimate\", \"every_dime_make_fund\", \"every_dime_make_fund\", \"expensive_cameras_even_laptop\", \"explore_breaking_illinois_local\", \"export\", \"export\", \"family\", \"family\", \"family\", \"family\", \"family\", \"family\", \"fan\", \"fan\", \"favorite\", \"favorite\", \"feature_publication_cannot_accept\", \"feature_publication_treated_unconditionally\", \"felony\", \"field\", \"field\", \"field\", \"field\", \"field\", \"field\", \"field_opponent\", \"financing\", \"find\", \"find\", \"find\", \"find\", \"find\", \"find\", \"find\", \"fire\", \"fire\", \"fire\", \"fire\", \"fire\", \"firearm\", \"firearm\", \"first\", \"first\", \"first\", \"first\", \"first\", \"first\", \"first\", \"forecast_information_severe_weather\", \"found_disconnect_post_length\", \"foundation_mission_restore_community\", \"fox_chicago_app\", \"fox_chicago_app\", \"fox_chicago_app\", \"fully_vaccinated_county\", \"fully_vaccinated_county\", \"fully_vaccinated_fully_vaccinate\", \"fully_vaccinated_lower_vaccination\", \"fun\", \"fun\", \"fund\", \"fund\", \"fund\", \"fund\", \"fund\", \"fund\", \"fundamentals_explaine\", \"game\", \"game\", \"game\", \"game\", \"game\", \"game\", \"game_results_favorite_team\", \"game_shoote\", \"generated_automated_insights_use\", \"generated_automated_insights_using\", \"get\", \"get\", \"get\", \"get\", \"get\", \"get\", \"get\", \"go\", \"go\", \"go\", \"go\", \"go\", \"go\", \"go\", \"good\", \"good\", \"good\", \"good\", \"good\", \"good\", \"good\", \"group\", \"group\", \"group\", \"group\", \"group\", \"group\", \"group\", \"growth\", \"growth\", \"growth\", \"growth\", \"gun\", \"gun\", \"gun\", \"gun\", \"gun\", \"gunshot\", \"healthcare_providers_vaccines_administered\", \"healthcare_providers_vaccines_administered\", \"help\", \"help\", \"help\", \"help\", \"help\", \"help\", \"help_support_metric_media\", \"high\", \"high\", \"high\", \"high\", \"high\", \"high\", \"high\", \"home\", \"home\", \"home\", \"home\", \"home\", \"home\", \"home\", \"homicide\", \"homicide\", \"homicide\", \"hospitals_full_said_wednesday\", \"idph_reported_total_dose\", \"idph_reported_total_dose\", \"illini\", \"illinois_insurance_claims_lawyer\", \"illinois_news_source\", \"illinois_police_brutality\", \"illinois_police_brutality\", \"illinois_tool_work\", \"incident\", \"incident\", \"incident\", \"incident\", \"incident\", \"include\", \"include\", \"include\", \"include\", \"include\", \"include\", \"include\", \"including_least_related_death\", \"increase\", \"increase\", \"increase\", \"increase\", \"increase\", \"increase\", \"independent_journalist_run_newsroom\", \"independent_journalist_run_newsroom\", \"index\", \"index\", \"indicate_sexual_orientation_individual\", \"industrial\", \"industrial\", \"industry\", \"industry\", \"industry\", \"industry\", \"inflation\", \"interest_rate\", \"investigation\", \"investigation\", \"investigation\", \"investigation\", \"investigation\", \"investment\", \"investment\", \"investment\", \"investment\", \"investor\", \"investor\", \"investor\", \"investor\", \"issues_downloadable\", \"jail\", \"jail\", \"jail\", \"jail\", \"jail\", \"kill\", \"kill\", \"kill\", \"kill\", \"know\", \"know\", \"know\", \"know\", \"know\", \"know\", \"law\", \"law\", \"law\", \"law\", \"law\", \"law\", \"lead\", \"lead\", \"lead\", \"lead\", \"lead\", \"lead\", \"lead\", \"league\", \"league\", \"lease\", \"lease\", \"lease\", \"least_total_covid_case\", \"leave\", \"leave\", \"leave\", \"leave\", \"leave\", \"leave\", \"lender\", \"listed_return\", \"live\", \"live\", \"live\", \"live\", \"live\", \"live_events_exclusive_reporting\", \"live_map_website_application\", \"loan\", \"loan\", \"loan\", \"local_news_alerts_today\", \"local_news_national_new\", \"look\", \"look\", \"look\", \"look\", \"look\", \"look\", \"love\", \"love\", \"love\", \"maine_words_less_right\", \"major_surge_breaking_records\", \"make\", \"make\", \"make\", \"make\", \"make\", \"make\", \"make\", \"man\", \"man\", \"man\", \"man\", \"man\", \"mandate\", \"mandate\", \"mandate\", \"mandate\", \"mandate\", \"manufacturer\", \"manufacturer\", \"manufacturer\", \"market\", \"market\", \"market\", \"market\", \"market\", \"mask\", \"mask\", \"mask\", \"mask\", \"mask\", \"mask\", \"match\", \"match\", \"match\", \"match\", \"match\", \"material\", \"material\", \"material\", \"material\", \"material_may_published_broadcast\", \"material_may_published_broadcast\", \"material_may_published_broadcast\", \"material_may_published_broadcast\", \"may\", \"may\", \"may\", \"may\", \"may\", \"may\", \"may\", \"mayor\", \"mayor\", \"mayor\", \"means_solved_zennie_media\", \"media_content_news_production\", \"morning_maine_good_morne\", \"mortgage\", \"mph\", \"mph\", \"mph\", \"mph_wind_conditions_coming\", \"much_hour_delay_reporte\", \"much_hour_delay_reporte\", \"murder\", \"murder\", \"murder\", \"murder\", \"music\", \"music\", \"music\", \"music\", \"national_news_entertainment_view\", \"navigate_website\", \"necessary_camera_crew_shoot\", \"need\", \"need\", \"need\", \"need\", \"need\", \"need\", \"need\", \"need_know_pm_general\", \"network_coding_seeks_intereste\", \"new\", \"new\", \"new\", \"new\", \"new\", \"new\", \"new\", \"news\", \"news\", \"news\", \"news\", \"news\", \"news\", \"news\", \"news_alerts_today_headline\", \"news_post_world_new\", \"news_windy_city_times\", \"next_time\", \"next_time\", \"night\", \"night\", \"night\", \"night\", \"night\", \"night\", \"nightspots_chicago_glbt_nightlife\", \"noon_pm_paid_programming\", \"northern_illinois_percentage_population\", \"northern_illinois_percentage_population\", \"offender\", \"officer\", \"officer\", \"officer\", \"officer\", \"officer\", \"officer\", \"officers_responde\", \"opened_fire\", \"opinions_expresse\", \"opponents_averaged_point\", \"overall_objective_top_smartphone\", \"paid_programme\", \"parade\", \"parade\", \"parade\", \"parent\", \"parent\", \"parent\", \"parent\", \"parent\", \"parent\", \"patients_availability_illinois_overall\", \"pawn_stars_good_morning\", \"pay\", \"pay\", \"pay\", \"pay\", \"pay\", \"pay\", \"payment\", \"payment\", \"payment\", \"pdfs_back\", \"people\", \"people\", \"people\", \"people\", \"people\", \"people\", \"people\", \"per_past_week_new\", \"per_residents_illinois_cumulative\", \"per_total_cases_case\", \"percent_individuals_living_poverty\", \"physical_facilities_installed_maintaine\", \"pick\", \"pick\", \"pick\", \"pick\", \"pick\", \"place_innerhtml_adsbygoogle_window\", \"plan\", \"plan\", \"plan\", \"plan\", \"plan\", \"plan\", \"play\", \"play\", \"play\", \"play\", \"play\", \"play\", \"play\", \"player\", \"player\", \"player\", \"pm_gma\", \"point\", \"point\", \"point\", \"point\", \"point\", \"point\", \"point\", \"points_rebounds_assists_steal\", \"police\", \"police\", \"police\", \"police\", \"police\", \"police\", \"police\", \"police_officer\", \"police_officer\", \"police_officer\", \"police_officer\", \"police_said\", \"population_fully_vaccinated_fully\", \"positivity_rate\", \"positivity_rate\", \"positivity_rate\", \"power\", \"power\", \"power\", \"power\", \"presale_start\", \"press\", \"press\", \"press\", \"press\", \"press\", \"press\", \"press\", \"previous_week_cumulative_case\", \"price\", \"price\", \"price\", \"price\", \"price\", \"price\", \"problem_far_less_though\", \"product\", \"product\", \"product\", \"product\", \"profligate_government_borrowing_spende\", \"program\", \"program\", \"program\", \"program\", \"program\", \"project\", \"project\", \"project\", \"project\", \"project\", \"pronounced_dead_police_said\", \"property\", \"property\", \"property\", \"property\", \"prosecution\", \"prosecutor\", \"prosecutor\", \"prosecutor_case\", \"protocols_place\", \"provide\", \"provide\", \"provide\", \"provide\", \"provide\", \"provide\", \"provide\", \"provider\", \"provider\", \"provider\", \"quality_virus_user_comment\", \"quality_virus_user_comment\", \"read\", \"read\", \"read\", \"read\", \"read\", \"read\", \"read\", \"read_full_article_local\", \"read_full_story\", \"read_full_story\", \"read_full_story\", \"read_twitter\", \"reading_news_brief_powere\", \"real_estate\", \"real_estate\", \"real_estate\", \"real_estate_real_estate\", \"recent_tweets_sean_casten\", \"reflect_position\", \"report\", \"report\", \"report\", \"report\", \"report\", \"report\", \"report\", \"report_created_automatically_weather\", \"report_date\", \"reported_smartphone_also_promote\", \"reported_testing_new_specimens\", \"reporting_chicago_neighborhoods_click\", \"reporting_chicago_neighborhoods_click\", \"reporting_news_interviews_observation\", \"reprint_permission\", \"residents_illinois_cumulative_case\", \"residents_older_fully_vaccinate\", \"residents_older_fully_vaccinate\", \"responsibility_advertising_claims_promotion\", \"responsibility_may\", \"revenue\", \"revenue\", \"revenue\", \"revenue\", \"rewritten_redistribute\", \"rewritten_redistribute\", \"rewritten_redistribute\", \"rewritten_redistribute\", \"rewritten_redistribute\", \"rewritten_redistribute\", \"rights_letter\", \"rights_reserve\", \"rights_reserve\", \"rights_reserve\", \"rights_reserve\", \"rights_reserve\", \"rights_reserve\", \"rights_reserve\", \"run\", \"run\", \"run\", \"run\", \"run\", \"run\", \"run\", \"russian\", \"russian\", \"russian\", \"russian_force\", \"russian_force\", \"sale\", \"sale\", \"sale\", \"sale\", \"sale\", \"say\", \"say\", \"say\", \"say\", \"say\", \"say\", \"say\", \"saying_though_right_middle\", \"school\", \"school\", \"school\", \"school\", \"school\", \"school\", \"school\", \"score\", \"score\", \"score\", \"score\", \"screening_questions_students_builde\", \"search_news_emovies_emusic\", \"season\", \"season\", \"season\", \"season\", \"season\", \"season\", \"season\", \"secondary_objective_faster_inexpensive\", \"see\", \"see\", \"see\", \"see\", \"see\", \"see\", \"see\", \"see_low_temperature_degree\", \"sent_nightspot\", \"service\", \"service\", \"service\", \"service\", \"service\", \"service\", \"service\", \"share_twitter_email_article\", \"share_twitter_email_article\", \"share_twitter_email_article\", \"share_twitter_email_article\", \"shoot\", \"shoot\", \"shoot\", \"shoot\", \"shoot\", \"shoot\", \"shoot\", \"show\", \"show\", \"show\", \"show\", \"show\", \"show\", \"show\", \"skrive_data\", \"software\", \"software\", \"song\", \"sport\", \"sport\", \"sport\", \"sport\", \"sport\", \"sport\", \"star\", \"star\", \"star\", \"start\", \"start\", \"start\", \"start\", \"start\", \"start\", \"state\", \"state\", \"state\", \"state\", \"state\", \"state\", \"state\", \"state_population_fully_vaccinated\", \"state_population_fully_vaccinated\", \"steals_blocks_per_game\", \"stories_tag_real_estate\", \"story\", \"story\", \"story\", \"story\", \"story\", \"story\", \"story\", \"story_receive_alerts_donate\", \"student\", \"student\", \"student\", \"student\", \"student\", \"student\", \"student\", \"study\", \"study\", \"study\", \"study\", \"submitted_returne\", \"subscribe_block_club_chicago\", \"subscribe_block_club_chicago\", \"subscribe_block_club_chicago\", \"suggest_correction_file_source\", \"supply\", \"supply\", \"supply\", \"supply\", \"support\", \"support\", \"support\", \"support\", \"support\", \"support\", \"support\", \"suspect\", \"suspect\", \"suspect\", \"suspect\", \"suspect\", \"table_content\", \"table_content\", \"table_content\", \"tag_real_estate_real\", \"take\", \"take\", \"take\", \"take\", \"take\", \"take\", \"taken_mount_sinai_hospital\", \"taken_university_chicago_medical\", \"taken_university_chicago_medical\", \"tax\", \"tax\", \"tax\", \"tax\", \"teacher\", \"teacher\", \"teacher\", \"teacher\", \"teacher\", \"teacher\", \"team\", \"team\", \"team\", \"team\", \"team\", \"team\", \"team\", \"technology\", \"technology\", \"technology\", \"test\", \"test\", \"test\", \"test\", \"test\", \"time\", \"time\", \"time\", \"time\", \"time\", \"time\", \"time\", \"time_product_revenue_generate\", \"tomorrow\", \"tomorrow\", \"tomorrow\", \"tomorrow\", \"tomorrow_forecast_models_showe\", \"tomorrow_forecast_showing_wind\", \"tools_needed_keep_love\", \"total_deaths_less_deaths\", \"total_since_pandemic_began\", \"total_vaccine_doses_administere\", \"tournament\", \"trademarks_belong_rightful_owner\", \"trademarks_belong_rightful_owner\", \"transegender_news_feature_publication\", \"transgender_news_feature_publication\", \"troop\", \"troop\", \"troop\", \"trooper\", \"ukraine\", \"ukraine\", \"ukraine\", \"ukraine\", \"ukrainian\", \"ukrainian\", \"ukrainian\", \"understand_use\", \"unemployment\", \"unified_school_district\", \"union_elementary_school_district\", \"university_chicago_medical_center\", \"university_chicago_medical_center\", \"unvaccinate\", \"update\", \"update\", \"update\", \"update\", \"update\", \"update\", \"update\", \"usa_news_washington_celebrity\", \"usd_market_us_locale\", \"use\", \"use\", \"use\", \"use\", \"use\", \"use\", \"use\", \"vaccinated_lower_vaccination_rate\", \"vehicle\", \"vehicle\", \"vehicle\", \"vehicle\", \"vehicle\", \"vehicle\", \"verified_clean_high_quality\", \"verified_clean_high_quality\", \"victim\", \"victim\", \"victim\", \"victim\", \"video_released_copa_show\", \"videos_chicago_videos_new\", \"view\", \"view\", \"view\", \"view\", \"view\", \"violence\", \"violence\", \"violence\", \"violence\", \"voter\", \"voter\", \"voter\", \"voter\", \"walkout\", \"war\", \"war\", \"war\", \"war\", \"war\", \"war\", \"watch\", \"watch\", \"watch\", \"watch\", \"watch\", \"website\", \"website\", \"website\", \"website\", \"website\", \"website\", \"website\", \"website_application\", \"week\", \"week\", \"week\", \"week\", \"week\", \"week\", \"week\", \"weekend\", \"weekend\", \"weekend\", \"weekend\", \"weekend\", \"weekend\", \"well\", \"well\", \"well\", \"well\", \"well\", \"well\", \"whose_losing_streak_stretche\", \"width_adsbygoogle_window_adsbygoogle\", \"win\", \"win\", \"win\", \"win\", \"win\", \"windy_city_time\", \"within_past_hours_laboratorie\", \"work\", \"work\", \"work\", \"work\", \"work\", \"work\", \"work\", \"working_ensure_every_illinoisan\", \"year\", \"year\", \"year\", \"year\", \"year\", \"year\", \"year\", \"year_old\", \"year_old\", \"year_old\", \"year_old\", \"year_old_man\"]}, \"R\": 30, \"lambda.step\": 0.01, \"plot.opts\": {\"xlab\": \"PC1\", \"ylab\": \"PC2\"}, \"topic.order\": [1, 2, 3, 4, 5, 6, 7]};\n",
       "\n",
       "function LDAvis_load_lib(url, callback){\n",
       "  var s = document.createElement('script');\n",
       "  s.src = url;\n",
       "  s.async = true;\n",
       "  s.onreadystatechange = s.onload = callback;\n",
       "  s.onerror = function(){console.warn(\"failed to load library \" + url);};\n",
       "  document.getElementsByTagName(\"head\")[0].appendChild(s);\n",
       "}\n",
       "\n",
       "if(typeof(LDAvis) !== \"undefined\"){\n",
       "   // already loaded: just create the visualization\n",
       "   !function(LDAvis){\n",
       "       new LDAvis(\"#\" + \"ldavis_el41951402448547688001733386803\", ldavis_el41951402448547688001733386803_data);\n",
       "   }(LDAvis);\n",
       "}else if(typeof define === \"function\" && define.amd){\n",
       "   // require.js is available: use it to load d3/LDAvis\n",
       "   require.config({paths: {d3: \"https://d3js.org/d3.v5\"}});\n",
       "   require([\"d3\"], function(d3){\n",
       "      window.d3 = d3;\n",
       "      LDAvis_load_lib(\"https://cdn.jsdelivr.net/gh/bmabey/pyLDAvis@3.3.1/pyLDAvis/js/ldavis.v3.0.0.js\", function(){\n",
       "        new LDAvis(\"#\" + \"ldavis_el41951402448547688001733386803\", ldavis_el41951402448547688001733386803_data);\n",
       "      });\n",
       "    });\n",
       "}else{\n",
       "    // require.js not available: dynamically load d3 & LDAvis\n",
       "    LDAvis_load_lib(\"https://d3js.org/d3.v5.js\", function(){\n",
       "         LDAvis_load_lib(\"https://cdn.jsdelivr.net/gh/bmabey/pyLDAvis@3.3.1/pyLDAvis/js/ldavis.v3.0.0.js\", function(){\n",
       "                 new LDAvis(\"#\" + \"ldavis_el41951402448547688001733386803\", ldavis_el41951402448547688001733386803_data);\n",
       "            })\n",
       "         });\n",
       "}\n",
       "</script>"
      ],
      "text/plain": [
       "<IPython.core.display.HTML object>"
      ]
     },
     "execution_count": 30,
     "metadata": {},
     "output_type": "execute_result"
    }
   ],
   "source": [
    "pyLDAvis.display(lda_display)"
   ]
  },
  {
   "cell_type": "code",
   "execution_count": 31,
   "metadata": {},
   "outputs": [
    {
     "name": "stdout",
     "output_type": "stream",
     "text": [
      "[(0,\n",
      "  '0.008*\"say\" + 0.006*\"go\" + 0.006*\"team\" + 0.005*\"year\" + 0.005*\"game\" + '\n",
      "  '0.005*\"time\" + 0.004*\"get\" + 0.004*\"season\" + 0.004*\"see\" + 0.004*\"show\"'),\n",
      " (1,\n",
      "  '0.030*\"say\" + 0.007*\"school\" + 0.005*\"police\" + 0.005*\"case\" + '\n",
      "  '0.005*\"report\" + 0.005*\"read\" + 0.005*\"city\" + 0.004*\"time\" + 0.004*\"state\" '\n",
      "  '+ 0.004*\"student\"'),\n",
      " (2,\n",
      "  '0.012*\"say\" + 0.008*\"state\" + 0.004*\"company\" + 0.004*\"include\" + '\n",
      "  '0.004*\"use\" + 0.003*\"year\" + 0.003*\"people\" + 0.003*\"work\" + 0.003*\"new\" + '\n",
      "  '0.003*\"service\"'),\n",
      " (3,\n",
      "  '0.003*\"close_modal_suggest_correction\" + 0.003*\"news_post_world_new\" + '\n",
      "  '0.003*\"usa_news_washington_celebrity\" + '\n",
      "  '0.002*\"suggest_correction_file_source\" + '\n",
      "  '0.002*\"points_rebounds_assists_steal\" + 0.002*\"say\" + '\n",
      "  '0.002*\"field_opponent\" + 0.002*\"fully_vaccinated_fully_vaccinate\" + '\n",
      "  '0.002*\"population_fully_vaccinated_fully\" + 0.002*\"game_shoote\"'),\n",
      " (4,\n",
      "  '0.006*\"say\" + 0.002*\"time\" + 0.002*\"rights_reserve\" + 0.002*\"police\" + '\n",
      "  '0.002*\"shoot\" + 0.001*\"officer\" + 0.001*\"windy_city_time\" + '\n",
      "  '0.001*\"news_windy_city_times\" + 0.001*\"nightspots_chicago_glbt_nightlife\" + '\n",
      "  '0.001*\"department\"'),\n",
      " (5,\n",
      "  '0.005*\"say\" + 0.003*\"ap_college_basketball_coverage\" + '\n",
      "  '0.003*\"rights_reserve\" + 0.002*\"report_created_automatically_weather\" + '\n",
      "  '0.002*\"state\" + 0.002*\"data_stats_llc\" + '\n",
      "  '0.002*\"generated_automated_insights_use\" + 0.001*\"data_provide\" + '\n",
      "  '0.001*\"press\" + 0.001*\"rewritten_redistribute\"'),\n",
      " (6,\n",
      "  '0.003*\"covid\" + 0.003*\"say\" + 0.003*\"test\" + '\n",
      "  '0.002*\"real_estate_real_estate\" + 0.002*\"buyer_address_sale_price\" + '\n",
      "  '0.002*\"school\" + 0.002*\"betterads_el_width_betterad\" + '\n",
      "  '0.002*\"betterads_el_width_else\" + 0.002*\"show\" + 0.001*\"report\"')]\n"
     ]
    }
   ],
   "source": [
    "pprint(negative_lda_model.print_topics())"
   ]
  },
  {
   "cell_type": "markdown",
   "metadata": {},
   "source": [
    "### Sentiment Change Over Time"
   ]
  },
  {
   "cell_type": "code",
   "execution_count": 6,
   "metadata": {},
   "outputs": [],
   "source": [
    "df_news_sentiment = pd.read_csv('zero_shot_bert_sentiment.csv')"
   ]
  },
  {
   "cell_type": "code",
   "execution_count": 7,
   "metadata": {},
   "outputs": [
    {
     "data": {
      "text/plain": [
       "(165360, 11)"
      ]
     },
     "execution_count": 7,
     "metadata": {},
     "output_type": "execute_result"
    }
   ],
   "source": [
    "df_news_sentiment.shape"
   ]
  },
  {
   "cell_type": "code",
   "execution_count": 8,
   "metadata": {},
   "outputs": [
    {
     "data": {
      "text/html": [
       "<div>\n",
       "<style scoped>\n",
       "    .dataframe tbody tr th:only-of-type {\n",
       "        vertical-align: middle;\n",
       "    }\n",
       "\n",
       "    .dataframe tbody tr th {\n",
       "        vertical-align: top;\n",
       "    }\n",
       "\n",
       "    .dataframe thead th {\n",
       "        text-align: right;\n",
       "    }\n",
       "</style>\n",
       "<table border=\"1\" class=\"dataframe\">\n",
       "  <thead>\n",
       "    <tr style=\"text-align: right;\">\n",
       "      <th></th>\n",
       "      <th>Unnamed: 0</th>\n",
       "      <th>date</th>\n",
       "      <th>clean_text</th>\n",
       "      <th>clean_title</th>\n",
       "      <th>positive</th>\n",
       "      <th>negative</th>\n",
       "      <th>positive_new</th>\n",
       "      <th>negative_new</th>\n",
       "      <th>Sentiment</th>\n",
       "      <th>Sentiment_value</th>\n",
       "      <th>Sentiment_Pred</th>\n",
       "    </tr>\n",
       "  </thead>\n",
       "  <tbody>\n",
       "    <tr>\n",
       "      <th>0</th>\n",
       "      <td>0</td>\n",
       "      <td>2022-03-15</td>\n",
       "      <td>chicago  new york flights  chicago  new york flights  ticket   lowest cost  find  lowest prices   coming chicago  new york flights   bookflight  also  book new york  chicago flights  there  currently   flights  fly  chicago  new york  to get   savings   booking flights  click  fare calendar button  choose  dates  want  book  chicago  new york flights information looking  chicago  new york flight  here     aware   to make  easier  save time  select  airport closest   destination  want  go   t...</td>\n",
       "      <td>chicago  new york flights</td>\n",
       "      <td>0.989108</td>\n",
       "      <td>0.003644</td>\n",
       "      <td>0.996329</td>\n",
       "      <td>0.003671</td>\n",
       "      <td>positive_new</td>\n",
       "      <td>1</td>\n",
       "      <td>1</td>\n",
       "    </tr>\n",
       "    <tr>\n",
       "      <th>1</th>\n",
       "      <td>1</td>\n",
       "      <td>2022-03-21</td>\n",
       "      <td>w wrightwood ave apt          the gaertner building  racine  wrightwood  lincoln park    scientific  astronomical instrument factory   it  best known  pioneering  ellipsometer  originally built     architects schmidt  garden   martin    historic structure  converted    condos exactly   years ago  an elevator building  attached garage parking   particular pricey unit comes   open concept living dining area  glass blocks   exposed brickwork  currently contingent   property fits today curren...</td>\n",
       "      <td>five lofts for sale  former chicago factories</td>\n",
       "      <td>0.963150</td>\n",
       "      <td>0.073637</td>\n",
       "      <td>0.928976</td>\n",
       "      <td>0.071024</td>\n",
       "      <td>positive_new</td>\n",
       "      <td>1</td>\n",
       "      <td>1</td>\n",
       "    </tr>\n",
       "    <tr>\n",
       "      <th>2</th>\n",
       "      <td>2</td>\n",
       "      <td>2022-04-15</td>\n",
       "      <td>north michigan avenue  chicago  illinois                   email chicago subzero repair companies chicago subzero repair email  established january   for     years  chicago sub zero repair   providing superior sub zero service  restore comfort  convenience back   home  from simple  significant repairs   company   necessary knowledge  tools  get  job done right  all parts used  certified  sub zero   repair  backed   comprehensive warranty  service areas  residents include garfield park  sou...</td>\n",
       "      <td>chicago subzero repair   chicago  illinois  united states</td>\n",
       "      <td>0.969308</td>\n",
       "      <td>0.314146</td>\n",
       "      <td>0.755234</td>\n",
       "      <td>0.244766</td>\n",
       "      <td>positive_new</td>\n",
       "      <td>1</td>\n",
       "      <td>0</td>\n",
       "    </tr>\n",
       "    <tr>\n",
       "      <th>3</th>\n",
       "      <td>3</td>\n",
       "      <td>2022-02-06</td>\n",
       "      <td>on saturday  indiana played  strong first half  faded   second   minutes  league leader illinois       loss  after  game  assembly call  live  switchyard brewery  bloomington   annual meetup  the show included  live appearence  iu players anthony leal  jordan geronimo   khristian lander  on  mics  jerod morris  andy bottoms  ryan phillips  brian tonsoni  we also point    meaningful moments  may  missed  go inside  numbers   hand   game balls  all         edition  the assembly call   music pr...</td>\n",
       "      <td>iu illinois postgame show  switchyard  hoosiers fade late against illini</td>\n",
       "      <td>0.864837</td>\n",
       "      <td>0.176018</td>\n",
       "      <td>0.830891</td>\n",
       "      <td>0.169109</td>\n",
       "      <td>positive_new</td>\n",
       "      <td>1</td>\n",
       "      <td>0</td>\n",
       "    </tr>\n",
       "    <tr>\n",
       "      <th>4</th>\n",
       "      <td>4</td>\n",
       "      <td>2022-01-30</td>\n",
       "      <td>erika jayne    hook   least  illinois   the real housewives of beverly hills star   dismissed   estranged husband tom girardi    embezzlement  fraud lawsuit   according  court documents filed   state  jan      pursuant  stipulation  plaintiff   claims  defendants ej global llc  erika girardi  dismissed without prejudice  without costs  according   filing  obtained  e  news  shortly   decision made  jay edelson    attorney   plaintiffs   case  took  twitter  vow  carry   clients  legal fight ...</td>\n",
       "      <td>erika jayne dismissed from fraud  embezzlement lawsuit against tom girardi in illinois</td>\n",
       "      <td>0.177808</td>\n",
       "      <td>0.829553</td>\n",
       "      <td>0.176509</td>\n",
       "      <td>0.823491</td>\n",
       "      <td>negative_new</td>\n",
       "      <td>0</td>\n",
       "      <td>1</td>\n",
       "    </tr>\n",
       "  </tbody>\n",
       "</table>\n",
       "</div>"
      ],
      "text/plain": [
       "   Unnamed: 0        date  \\\n",
       "0           0  2022-03-15   \n",
       "1           1  2022-03-21   \n",
       "2           2  2022-04-15   \n",
       "3           3  2022-02-06   \n",
       "4           4  2022-01-30   \n",
       "\n",
       "                                                                                                                                                                                                                                                                                                                                                                                                                                                                                                            clean_text  \\\n",
       "0  chicago  new york flights  chicago  new york flights  ticket   lowest cost  find  lowest prices   coming chicago  new york flights   bookflight  also  book new york  chicago flights  there  currently   flights  fly  chicago  new york  to get   savings   booking flights  click  fare calendar button  choose  dates  want  book  chicago  new york flights information looking  chicago  new york flight  here     aware   to make  easier  save time  select  airport closest   destination  want  go   t...   \n",
       "1     w wrightwood ave apt          the gaertner building  racine  wrightwood  lincoln park    scientific  astronomical instrument factory   it  best known  pioneering  ellipsometer  originally built     architects schmidt  garden   martin    historic structure  converted    condos exactly   years ago  an elevator building  attached garage parking   particular pricey unit comes   open concept living dining area  glass blocks   exposed brickwork  currently contingent   property fits today curren...   \n",
       "2    north michigan avenue  chicago  illinois                   email chicago subzero repair companies chicago subzero repair email  established january   for     years  chicago sub zero repair   providing superior sub zero service  restore comfort  convenience back   home  from simple  significant repairs   company   necessary knowledge  tools  get  job done right  all parts used  certified  sub zero   repair  backed   comprehensive warranty  service areas  residents include garfield park  sou...   \n",
       "3  on saturday  indiana played  strong first half  faded   second   minutes  league leader illinois       loss  after  game  assembly call  live  switchyard brewery  bloomington   annual meetup  the show included  live appearence  iu players anthony leal  jordan geronimo   khristian lander  on  mics  jerod morris  andy bottoms  ryan phillips  brian tonsoni  we also point    meaningful moments  may  missed  go inside  numbers   hand   game balls  all         edition  the assembly call   music pr...   \n",
       "4  erika jayne    hook   least  illinois   the real housewives of beverly hills star   dismissed   estranged husband tom girardi    embezzlement  fraud lawsuit   according  court documents filed   state  jan      pursuant  stipulation  plaintiff   claims  defendants ej global llc  erika girardi  dismissed without prejudice  without costs  according   filing  obtained  e  news  shortly   decision made  jay edelson    attorney   plaintiffs   case  took  twitter  vow  carry   clients  legal fight ...   \n",
       "\n",
       "                                                                              clean_title  \\\n",
       "0                                                               chicago  new york flights   \n",
       "1                                           five lofts for sale  former chicago factories   \n",
       "2                               chicago subzero repair   chicago  illinois  united states   \n",
       "3                iu illinois postgame show  switchyard  hoosiers fade late against illini   \n",
       "4  erika jayne dismissed from fraud  embezzlement lawsuit against tom girardi in illinois   \n",
       "\n",
       "   positive  negative  positive_new  negative_new     Sentiment  \\\n",
       "0  0.989108  0.003644      0.996329      0.003671  positive_new   \n",
       "1  0.963150  0.073637      0.928976      0.071024  positive_new   \n",
       "2  0.969308  0.314146      0.755234      0.244766  positive_new   \n",
       "3  0.864837  0.176018      0.830891      0.169109  positive_new   \n",
       "4  0.177808  0.829553      0.176509      0.823491  negative_new   \n",
       "\n",
       "   Sentiment_value  Sentiment_Pred  \n",
       "0                1               1  \n",
       "1                1               1  \n",
       "2                1               0  \n",
       "3                1               0  \n",
       "4                0               1  "
      ]
     },
     "execution_count": 8,
     "metadata": {},
     "output_type": "execute_result"
    }
   ],
   "source": [
    "df_news_sentiment.head()"
   ]
  },
  {
   "cell_type": "code",
   "execution_count": 9,
   "metadata": {},
   "outputs": [],
   "source": [
    "df_news_sentiment.drop(columns=['Unnamed: 0'], inplace=True)"
   ]
  },
  {
   "cell_type": "code",
   "execution_count": 10,
   "metadata": {},
   "outputs": [],
   "source": [
    "df_news = pd.read_csv('df_cleaned_news.csv')"
   ]
  },
  {
   "cell_type": "code",
   "execution_count": 11,
   "metadata": {},
   "outputs": [],
   "source": [
    "df_news.dropna(inplace=True)"
   ]
  },
  {
   "cell_type": "code",
   "execution_count": 12,
   "metadata": {},
   "outputs": [],
   "source": [
    "df_news.drop(columns=['Unnamed: 0'], inplace=True)"
   ]
  },
  {
   "cell_type": "code",
   "execution_count": 13,
   "metadata": {},
   "outputs": [],
   "source": [
    "df_news.reset_index(inplace=True, drop=True)"
   ]
  },
  {
   "cell_type": "code",
   "execution_count": 16,
   "metadata": {},
   "outputs": [
    {
     "data": {
      "text/plain": [
       "date           object\n",
       "clean_text     object\n",
       "clean_title    object\n",
       "dtype: object"
      ]
     },
     "execution_count": 16,
     "metadata": {},
     "output_type": "execute_result"
    }
   ],
   "source": [
    "df_news.dtypes"
   ]
  },
  {
   "cell_type": "code",
   "execution_count": 18,
   "metadata": {},
   "outputs": [],
   "source": [
    "df_news_sentiment_bert = df_news.merge(df_news_sentiment[['Sentiment_Pred','clean_text']], how='inner', on=\"clean_text\")"
   ]
  },
  {
   "cell_type": "code",
   "execution_count": 19,
   "metadata": {},
   "outputs": [
    {
     "data": {
      "text/html": [
       "<div>\n",
       "<style scoped>\n",
       "    .dataframe tbody tr th:only-of-type {\n",
       "        vertical-align: middle;\n",
       "    }\n",
       "\n",
       "    .dataframe tbody tr th {\n",
       "        vertical-align: top;\n",
       "    }\n",
       "\n",
       "    .dataframe thead th {\n",
       "        text-align: right;\n",
       "    }\n",
       "</style>\n",
       "<table border=\"1\" class=\"dataframe\">\n",
       "  <thead>\n",
       "    <tr style=\"text-align: right;\">\n",
       "      <th></th>\n",
       "      <th>date</th>\n",
       "      <th>clean_text</th>\n",
       "      <th>clean_title</th>\n",
       "      <th>Sentiment_Pred</th>\n",
       "    </tr>\n",
       "  </thead>\n",
       "  <tbody>\n",
       "    <tr>\n",
       "      <th>0</th>\n",
       "      <td>2022-01-06</td>\n",
       "      <td>chicago  ap   chicago school leaders canceled classes thursday   second consecutive day  failing  reach agreement   teachers union  covid   safety protocols   nation third largest school district  the chicago teachers union sought  revert  remote instruction   latest surge  infections    sides hammer   deal  but chicago public schools leaders  said remote learning  work  schools  safely remain open  protocols  place  the move  cancel classes  activities thursday affects roughly     students ...</td>\n",
       "      <td>no deal   school  chicago cancels classes   2nd day</td>\n",
       "      <td>0</td>\n",
       "    </tr>\n",
       "    <tr>\n",
       "      <th>1</th>\n",
       "      <td>2022-01-06</td>\n",
       "      <td>chicago pd    lies season   episode   promo  voight employs  new informant  help solve  tricky drug trafficking case  atwater     struggles  reconcile  personal  professional life  reaches  decision   jesseleesoffer  marinasqu  trspiridakos  nbcchicagopd</td>\n",
       "      <td>watch chicago p d  preview wednesday</td>\n",
       "      <td>0</td>\n",
       "    </tr>\n",
       "    <tr>\n",
       "      <th>2</th>\n",
       "      <td>2022-01-06</td>\n",
       "      <td>wise  foolish  the chicago tribune article titled  chicago public schools cancels classes  thursday  deadlock  union continues  trump  biden press secretary  comment  impasse  reported trumps solution  follows educate  children  person  give every dollar spent  education directly   students    get    failing government schools  trump said   statement  the purpose  this post is  relate  ancient wisdom proverb  trump solution  king solomon go   presence   foolish man   thou perceivest     lips...</td>\n",
       "      <td>trump solution  chicago public schools  king solomon blog</td>\n",
       "      <td>0</td>\n",
       "    </tr>\n",
       "    <tr>\n",
       "      <th>3</th>\n",
       "      <td>2022-01-06</td>\n",
       "      <td>the neighbors near mashawn plummer portage park firehouse knew    often sat outside   friendly presence   station  he showed  early   shifts  ready    job   thrilled    friends  family recalled  chicago firefighter emt mashawn plummer  engine     chicago fire department  hundreds  chicago firefighters joined family  friends  thursday  lay plummer  rest   died  december battling  apartment fire   northwest side  they remembered plummer       gentle giant  followed  dream  becoming  chicago fi...</td>\n",
       "      <td>family  friends  colleagues gathering today  south side church  attend funeral services  chicago firefighter mashawn plummer</td>\n",
       "      <td>0</td>\n",
       "    </tr>\n",
       "    <tr>\n",
       "      <th>4</th>\n",
       "      <td>2022-01-06</td>\n",
       "      <td>mashawn plummer died final month  preventing  fireplace  town northwest aspect  additionally killed  civilian  a visitation  held  plummer wednesday night time  a remaining visitation  probably  held        home  hope church    e  114th st  related   chicago firefighter amongst   critically injured  belmont central residence fireplace    killed following  ultimate visitation  funeral companies  start         probably  adopted   procession  oak woods cemetery  67th road  the   yea...</td>\n",
       "      <td>chicago firefighter funeral  pals  household say goodbye  mashawn plummer</td>\n",
       "      <td>1</td>\n",
       "    </tr>\n",
       "  </tbody>\n",
       "</table>\n",
       "</div>"
      ],
      "text/plain": [
       "         date  \\\n",
       "0  2022-01-06   \n",
       "1  2022-01-06   \n",
       "2  2022-01-06   \n",
       "3  2022-01-06   \n",
       "4  2022-01-06   \n",
       "\n",
       "                                                                                                                                                                                                                                                                                                                                                                                                                                                                                                            clean_text  \\\n",
       "0  chicago  ap   chicago school leaders canceled classes thursday   second consecutive day  failing  reach agreement   teachers union  covid   safety protocols   nation third largest school district  the chicago teachers union sought  revert  remote instruction   latest surge  infections    sides hammer   deal  but chicago public schools leaders  said remote learning  work  schools  safely remain open  protocols  place  the move  cancel classes  activities thursday affects roughly     students ...   \n",
       "1                                                                                                                                                                                                                                                       chicago pd    lies season   episode   promo  voight employs  new informant  help solve  tricky drug trafficking case  atwater     struggles  reconcile  personal  professional life  reaches  decision   jesseleesoffer  marinasqu  trspiridakos  nbcchicagopd   \n",
       "2  wise  foolish  the chicago tribune article titled  chicago public schools cancels classes  thursday  deadlock  union continues  trump  biden press secretary  comment  impasse  reported trumps solution  follows educate  children  person  give every dollar spent  education directly   students    get    failing government schools  trump said   statement  the purpose  this post is  relate  ancient wisdom proverb  trump solution  king solomon go   presence   foolish man   thou perceivest     lips...   \n",
       "3  the neighbors near mashawn plummer portage park firehouse knew    often sat outside   friendly presence   station  he showed  early   shifts  ready    job   thrilled    friends  family recalled  chicago firefighter emt mashawn plummer  engine     chicago fire department  hundreds  chicago firefighters joined family  friends  thursday  lay plummer  rest   died  december battling  apartment fire   northwest side  they remembered plummer       gentle giant  followed  dream  becoming  chicago fi...   \n",
       "4              mashawn plummer died final month  preventing  fireplace  town northwest aspect  additionally killed  civilian  a visitation  held  plummer wednesday night time  a remaining visitation  probably  held        home  hope church    e  114th st  related   chicago firefighter amongst   critically injured  belmont central residence fireplace    killed following  ultimate visitation  funeral companies  start         probably  adopted   procession  oak woods cemetery  67th road  the   yea...   \n",
       "\n",
       "                                                                                                                    clean_title  \\\n",
       "0                                                                           no deal   school  chicago cancels classes   2nd day   \n",
       "1                                                                                          watch chicago p d  preview wednesday   \n",
       "2                                                                     trump solution  chicago public schools  king solomon blog   \n",
       "3  family  friends  colleagues gathering today  south side church  attend funeral services  chicago firefighter mashawn plummer   \n",
       "4                                                     chicago firefighter funeral  pals  household say goodbye  mashawn plummer   \n",
       "\n",
       "   Sentiment_Pred  \n",
       "0               0  \n",
       "1               0  \n",
       "2               0  \n",
       "3               0  \n",
       "4               1  "
      ]
     },
     "execution_count": 19,
     "metadata": {},
     "output_type": "execute_result"
    }
   ],
   "source": [
    "df_news_sentiment_bert.head()"
   ]
  },
  {
   "cell_type": "code",
   "execution_count": 43,
   "metadata": {},
   "outputs": [
    {
     "data": {
      "text/plain": [
       "date              object\n",
       "clean_text        object\n",
       "clean_title       object\n",
       "Sentiment_Pred     int64\n",
       "dtype: object"
      ]
     },
     "execution_count": 43,
     "metadata": {},
     "output_type": "execute_result"
    }
   ],
   "source": [
    "df_news_sentiment_bert.dtypes"
   ]
  },
  {
   "cell_type": "code",
   "execution_count": 20,
   "metadata": {},
   "outputs": [],
   "source": [
    "from datetime import datetime"
   ]
  },
  {
   "cell_type": "code",
   "execution_count": 21,
   "metadata": {},
   "outputs": [
    {
     "data": {
      "text/html": [
       "<div>\n",
       "<style scoped>\n",
       "    .dataframe tbody tr th:only-of-type {\n",
       "        vertical-align: middle;\n",
       "    }\n",
       "\n",
       "    .dataframe tbody tr th {\n",
       "        vertical-align: top;\n",
       "    }\n",
       "\n",
       "    .dataframe thead th {\n",
       "        text-align: right;\n",
       "    }\n",
       "</style>\n",
       "<table border=\"1\" class=\"dataframe\">\n",
       "  <thead>\n",
       "    <tr style=\"text-align: right;\">\n",
       "      <th></th>\n",
       "      <th>date</th>\n",
       "      <th>clean_text</th>\n",
       "      <th>clean_title</th>\n",
       "      <th>Sentiment_Pred</th>\n",
       "      <th>date_new</th>\n",
       "    </tr>\n",
       "  </thead>\n",
       "  <tbody>\n",
       "    <tr>\n",
       "      <th>0</th>\n",
       "      <td>2022-01-06</td>\n",
       "      <td>chicago  ap   chicago school leaders canceled classes thursday   second consecutive day  failing  reach agreement   teachers union  covid   safety protocols   nation third largest school district  the chicago teachers union sought  revert  remote instruction   latest surge  infections    sides hammer   deal  but chicago public schools leaders  said remote learning  work  schools  safely remain open  protocols  place  the move  cancel classes  activities thursday affects roughly     students ...</td>\n",
       "      <td>no deal   school  chicago cancels classes   2nd day</td>\n",
       "      <td>0</td>\n",
       "      <td>2022-01-06</td>\n",
       "    </tr>\n",
       "    <tr>\n",
       "      <th>1</th>\n",
       "      <td>2022-01-06</td>\n",
       "      <td>chicago pd    lies season   episode   promo  voight employs  new informant  help solve  tricky drug trafficking case  atwater     struggles  reconcile  personal  professional life  reaches  decision   jesseleesoffer  marinasqu  trspiridakos  nbcchicagopd</td>\n",
       "      <td>watch chicago p d  preview wednesday</td>\n",
       "      <td>0</td>\n",
       "      <td>2022-01-06</td>\n",
       "    </tr>\n",
       "    <tr>\n",
       "      <th>2</th>\n",
       "      <td>2022-01-06</td>\n",
       "      <td>wise  foolish  the chicago tribune article titled  chicago public schools cancels classes  thursday  deadlock  union continues  trump  biden press secretary  comment  impasse  reported trumps solution  follows educate  children  person  give every dollar spent  education directly   students    get    failing government schools  trump said   statement  the purpose  this post is  relate  ancient wisdom proverb  trump solution  king solomon go   presence   foolish man   thou perceivest     lips...</td>\n",
       "      <td>trump solution  chicago public schools  king solomon blog</td>\n",
       "      <td>0</td>\n",
       "      <td>2022-01-06</td>\n",
       "    </tr>\n",
       "    <tr>\n",
       "      <th>3</th>\n",
       "      <td>2022-01-06</td>\n",
       "      <td>the neighbors near mashawn plummer portage park firehouse knew    often sat outside   friendly presence   station  he showed  early   shifts  ready    job   thrilled    friends  family recalled  chicago firefighter emt mashawn plummer  engine     chicago fire department  hundreds  chicago firefighters joined family  friends  thursday  lay plummer  rest   died  december battling  apartment fire   northwest side  they remembered plummer       gentle giant  followed  dream  becoming  chicago fi...</td>\n",
       "      <td>family  friends  colleagues gathering today  south side church  attend funeral services  chicago firefighter mashawn plummer</td>\n",
       "      <td>0</td>\n",
       "      <td>2022-01-06</td>\n",
       "    </tr>\n",
       "    <tr>\n",
       "      <th>4</th>\n",
       "      <td>2022-01-06</td>\n",
       "      <td>mashawn plummer died final month  preventing  fireplace  town northwest aspect  additionally killed  civilian  a visitation  held  plummer wednesday night time  a remaining visitation  probably  held        home  hope church    e  114th st  related   chicago firefighter amongst   critically injured  belmont central residence fireplace    killed following  ultimate visitation  funeral companies  start         probably  adopted   procession  oak woods cemetery  67th road  the   yea...</td>\n",
       "      <td>chicago firefighter funeral  pals  household say goodbye  mashawn plummer</td>\n",
       "      <td>1</td>\n",
       "      <td>2022-01-06</td>\n",
       "    </tr>\n",
       "  </tbody>\n",
       "</table>\n",
       "</div>"
      ],
      "text/plain": [
       "         date  \\\n",
       "0  2022-01-06   \n",
       "1  2022-01-06   \n",
       "2  2022-01-06   \n",
       "3  2022-01-06   \n",
       "4  2022-01-06   \n",
       "\n",
       "                                                                                                                                                                                                                                                                                                                                                                                                                                                                                                            clean_text  \\\n",
       "0  chicago  ap   chicago school leaders canceled classes thursday   second consecutive day  failing  reach agreement   teachers union  covid   safety protocols   nation third largest school district  the chicago teachers union sought  revert  remote instruction   latest surge  infections    sides hammer   deal  but chicago public schools leaders  said remote learning  work  schools  safely remain open  protocols  place  the move  cancel classes  activities thursday affects roughly     students ...   \n",
       "1                                                                                                                                                                                                                                                       chicago pd    lies season   episode   promo  voight employs  new informant  help solve  tricky drug trafficking case  atwater     struggles  reconcile  personal  professional life  reaches  decision   jesseleesoffer  marinasqu  trspiridakos  nbcchicagopd   \n",
       "2  wise  foolish  the chicago tribune article titled  chicago public schools cancels classes  thursday  deadlock  union continues  trump  biden press secretary  comment  impasse  reported trumps solution  follows educate  children  person  give every dollar spent  education directly   students    get    failing government schools  trump said   statement  the purpose  this post is  relate  ancient wisdom proverb  trump solution  king solomon go   presence   foolish man   thou perceivest     lips...   \n",
       "3  the neighbors near mashawn plummer portage park firehouse knew    often sat outside   friendly presence   station  he showed  early   shifts  ready    job   thrilled    friends  family recalled  chicago firefighter emt mashawn plummer  engine     chicago fire department  hundreds  chicago firefighters joined family  friends  thursday  lay plummer  rest   died  december battling  apartment fire   northwest side  they remembered plummer       gentle giant  followed  dream  becoming  chicago fi...   \n",
       "4              mashawn plummer died final month  preventing  fireplace  town northwest aspect  additionally killed  civilian  a visitation  held  plummer wednesday night time  a remaining visitation  probably  held        home  hope church    e  114th st  related   chicago firefighter amongst   critically injured  belmont central residence fireplace    killed following  ultimate visitation  funeral companies  start         probably  adopted   procession  oak woods cemetery  67th road  the   yea...   \n",
       "\n",
       "                                                                                                                    clean_title  \\\n",
       "0                                                                           no deal   school  chicago cancels classes   2nd day   \n",
       "1                                                                                          watch chicago p d  preview wednesday   \n",
       "2                                                                     trump solution  chicago public schools  king solomon blog   \n",
       "3  family  friends  colleagues gathering today  south side church  attend funeral services  chicago firefighter mashawn plummer   \n",
       "4                                                     chicago firefighter funeral  pals  household say goodbye  mashawn plummer   \n",
       "\n",
       "   Sentiment_Pred   date_new  \n",
       "0               0 2022-01-06  \n",
       "1               0 2022-01-06  \n",
       "2               0 2022-01-06  \n",
       "3               0 2022-01-06  \n",
       "4               1 2022-01-06  "
      ]
     },
     "execution_count": 21,
     "metadata": {},
     "output_type": "execute_result"
    }
   ],
   "source": [
    "df_news_sentiment_bert['date_new'] = df_news_sentiment_bert['date'].apply(lambda x: datetime.strptime(x, '%Y-%m-%d'))\n",
    "df_news_sentiment_bert.head()"
   ]
  },
  {
   "cell_type": "code",
   "execution_count": 22,
   "metadata": {},
   "outputs": [
    {
     "data": {
      "text/html": [
       "<div>\n",
       "<style scoped>\n",
       "    .dataframe tbody tr th:only-of-type {\n",
       "        vertical-align: middle;\n",
       "    }\n",
       "\n",
       "    .dataframe tbody tr th {\n",
       "        vertical-align: top;\n",
       "    }\n",
       "\n",
       "    .dataframe thead th {\n",
       "        text-align: right;\n",
       "    }\n",
       "</style>\n",
       "<table border=\"1\" class=\"dataframe\">\n",
       "  <thead>\n",
       "    <tr style=\"text-align: right;\">\n",
       "      <th></th>\n",
       "      <th>date</th>\n",
       "      <th>clean_text</th>\n",
       "      <th>clean_title</th>\n",
       "      <th>Sentiment_Pred</th>\n",
       "      <th>date_new</th>\n",
       "      <th>Sentiment_Pred_New</th>\n",
       "    </tr>\n",
       "  </thead>\n",
       "  <tbody>\n",
       "    <tr>\n",
       "      <th>0</th>\n",
       "      <td>2022-01-06</td>\n",
       "      <td>chicago  ap   chicago school leaders canceled classes thursday   second consecutive day  failing  reach agreement   teachers union  covid   safety protocols   nation third largest school district  the chicago teachers union sought  revert  remote instruction   latest surge  infections    sides hammer   deal  but chicago public schools leaders  said remote learning  work  schools  safely remain open  protocols  place  the move  cancel classes  activities thursday affects roughly     students ...</td>\n",
       "      <td>no deal   school  chicago cancels classes   2nd day</td>\n",
       "      <td>0</td>\n",
       "      <td>2022-01-06</td>\n",
       "      <td>Negative</td>\n",
       "    </tr>\n",
       "    <tr>\n",
       "      <th>1</th>\n",
       "      <td>2022-01-06</td>\n",
       "      <td>chicago pd    lies season   episode   promo  voight employs  new informant  help solve  tricky drug trafficking case  atwater     struggles  reconcile  personal  professional life  reaches  decision   jesseleesoffer  marinasqu  trspiridakos  nbcchicagopd</td>\n",
       "      <td>watch chicago p d  preview wednesday</td>\n",
       "      <td>0</td>\n",
       "      <td>2022-01-06</td>\n",
       "      <td>Negative</td>\n",
       "    </tr>\n",
       "    <tr>\n",
       "      <th>2</th>\n",
       "      <td>2022-01-06</td>\n",
       "      <td>wise  foolish  the chicago tribune article titled  chicago public schools cancels classes  thursday  deadlock  union continues  trump  biden press secretary  comment  impasse  reported trumps solution  follows educate  children  person  give every dollar spent  education directly   students    get    failing government schools  trump said   statement  the purpose  this post is  relate  ancient wisdom proverb  trump solution  king solomon go   presence   foolish man   thou perceivest     lips...</td>\n",
       "      <td>trump solution  chicago public schools  king solomon blog</td>\n",
       "      <td>0</td>\n",
       "      <td>2022-01-06</td>\n",
       "      <td>Negative</td>\n",
       "    </tr>\n",
       "    <tr>\n",
       "      <th>3</th>\n",
       "      <td>2022-01-06</td>\n",
       "      <td>the neighbors near mashawn plummer portage park firehouse knew    often sat outside   friendly presence   station  he showed  early   shifts  ready    job   thrilled    friends  family recalled  chicago firefighter emt mashawn plummer  engine     chicago fire department  hundreds  chicago firefighters joined family  friends  thursday  lay plummer  rest   died  december battling  apartment fire   northwest side  they remembered plummer       gentle giant  followed  dream  becoming  chicago fi...</td>\n",
       "      <td>family  friends  colleagues gathering today  south side church  attend funeral services  chicago firefighter mashawn plummer</td>\n",
       "      <td>0</td>\n",
       "      <td>2022-01-06</td>\n",
       "      <td>Negative</td>\n",
       "    </tr>\n",
       "    <tr>\n",
       "      <th>4</th>\n",
       "      <td>2022-01-06</td>\n",
       "      <td>mashawn plummer died final month  preventing  fireplace  town northwest aspect  additionally killed  civilian  a visitation  held  plummer wednesday night time  a remaining visitation  probably  held        home  hope church    e  114th st  related   chicago firefighter amongst   critically injured  belmont central residence fireplace    killed following  ultimate visitation  funeral companies  start         probably  adopted   procession  oak woods cemetery  67th road  the   yea...</td>\n",
       "      <td>chicago firefighter funeral  pals  household say goodbye  mashawn plummer</td>\n",
       "      <td>1</td>\n",
       "      <td>2022-01-06</td>\n",
       "      <td>Positive</td>\n",
       "    </tr>\n",
       "  </tbody>\n",
       "</table>\n",
       "</div>"
      ],
      "text/plain": [
       "         date  \\\n",
       "0  2022-01-06   \n",
       "1  2022-01-06   \n",
       "2  2022-01-06   \n",
       "3  2022-01-06   \n",
       "4  2022-01-06   \n",
       "\n",
       "                                                                                                                                                                                                                                                                                                                                                                                                                                                                                                            clean_text  \\\n",
       "0  chicago  ap   chicago school leaders canceled classes thursday   second consecutive day  failing  reach agreement   teachers union  covid   safety protocols   nation third largest school district  the chicago teachers union sought  revert  remote instruction   latest surge  infections    sides hammer   deal  but chicago public schools leaders  said remote learning  work  schools  safely remain open  protocols  place  the move  cancel classes  activities thursday affects roughly     students ...   \n",
       "1                                                                                                                                                                                                                                                       chicago pd    lies season   episode   promo  voight employs  new informant  help solve  tricky drug trafficking case  atwater     struggles  reconcile  personal  professional life  reaches  decision   jesseleesoffer  marinasqu  trspiridakos  nbcchicagopd   \n",
       "2  wise  foolish  the chicago tribune article titled  chicago public schools cancels classes  thursday  deadlock  union continues  trump  biden press secretary  comment  impasse  reported trumps solution  follows educate  children  person  give every dollar spent  education directly   students    get    failing government schools  trump said   statement  the purpose  this post is  relate  ancient wisdom proverb  trump solution  king solomon go   presence   foolish man   thou perceivest     lips...   \n",
       "3  the neighbors near mashawn plummer portage park firehouse knew    often sat outside   friendly presence   station  he showed  early   shifts  ready    job   thrilled    friends  family recalled  chicago firefighter emt mashawn plummer  engine     chicago fire department  hundreds  chicago firefighters joined family  friends  thursday  lay plummer  rest   died  december battling  apartment fire   northwest side  they remembered plummer       gentle giant  followed  dream  becoming  chicago fi...   \n",
       "4              mashawn plummer died final month  preventing  fireplace  town northwest aspect  additionally killed  civilian  a visitation  held  plummer wednesday night time  a remaining visitation  probably  held        home  hope church    e  114th st  related   chicago firefighter amongst   critically injured  belmont central residence fireplace    killed following  ultimate visitation  funeral companies  start         probably  adopted   procession  oak woods cemetery  67th road  the   yea...   \n",
       "\n",
       "                                                                                                                    clean_title  \\\n",
       "0                                                                           no deal   school  chicago cancels classes   2nd day   \n",
       "1                                                                                          watch chicago p d  preview wednesday   \n",
       "2                                                                     trump solution  chicago public schools  king solomon blog   \n",
       "3  family  friends  colleagues gathering today  south side church  attend funeral services  chicago firefighter mashawn plummer   \n",
       "4                                                     chicago firefighter funeral  pals  household say goodbye  mashawn plummer   \n",
       "\n",
       "   Sentiment_Pred   date_new Sentiment_Pred_New  \n",
       "0               0 2022-01-06           Negative  \n",
       "1               0 2022-01-06           Negative  \n",
       "2               0 2022-01-06           Negative  \n",
       "3               0 2022-01-06           Negative  \n",
       "4               1 2022-01-06           Positive  "
      ]
     },
     "execution_count": 22,
     "metadata": {},
     "output_type": "execute_result"
    }
   ],
   "source": [
    "df_news_sentiment_bert['Sentiment_Pred_New'] = df_news_sentiment_bert['Sentiment_Pred'].apply(lambda x: \"Positive\" if x==1 else \"Negative\")\n",
    "df_news_sentiment_bert.head()"
   ]
  },
  {
   "cell_type": "code",
   "execution_count": 23,
   "metadata": {},
   "outputs": [
    {
     "data": {
      "text/html": [
       "<div>\n",
       "<style scoped>\n",
       "    .dataframe tbody tr th:only-of-type {\n",
       "        vertical-align: middle;\n",
       "    }\n",
       "\n",
       "    .dataframe tbody tr th {\n",
       "        vertical-align: top;\n",
       "    }\n",
       "\n",
       "    .dataframe thead th {\n",
       "        text-align: right;\n",
       "    }\n",
       "</style>\n",
       "<table border=\"1\" class=\"dataframe\">\n",
       "  <thead>\n",
       "    <tr style=\"text-align: right;\">\n",
       "      <th>Sentiment_Pred_New</th>\n",
       "      <th>date_new</th>\n",
       "      <th>Negative</th>\n",
       "      <th>Positive</th>\n",
       "      <th>Total</th>\n",
       "      <th>Neg_Perc</th>\n",
       "      <th>Pos_Perc</th>\n",
       "    </tr>\n",
       "  </thead>\n",
       "  <tbody>\n",
       "    <tr>\n",
       "      <th>0</th>\n",
       "      <td>2022-01-01</td>\n",
       "      <td>623</td>\n",
       "      <td>339</td>\n",
       "      <td>962</td>\n",
       "      <td>0.647609</td>\n",
       "      <td>0.352391</td>\n",
       "    </tr>\n",
       "    <tr>\n",
       "      <th>1</th>\n",
       "      <td>2022-01-02</td>\n",
       "      <td>568</td>\n",
       "      <td>356</td>\n",
       "      <td>924</td>\n",
       "      <td>0.614719</td>\n",
       "      <td>0.385281</td>\n",
       "    </tr>\n",
       "    <tr>\n",
       "      <th>2</th>\n",
       "      <td>2022-01-03</td>\n",
       "      <td>713</td>\n",
       "      <td>463</td>\n",
       "      <td>1176</td>\n",
       "      <td>0.606293</td>\n",
       "      <td>0.393707</td>\n",
       "    </tr>\n",
       "    <tr>\n",
       "      <th>3</th>\n",
       "      <td>2022-01-04</td>\n",
       "      <td>847</td>\n",
       "      <td>657</td>\n",
       "      <td>1504</td>\n",
       "      <td>0.563165</td>\n",
       "      <td>0.436835</td>\n",
       "    </tr>\n",
       "    <tr>\n",
       "      <th>4</th>\n",
       "      <td>2022-01-05</td>\n",
       "      <td>1126</td>\n",
       "      <td>870</td>\n",
       "      <td>1996</td>\n",
       "      <td>0.564128</td>\n",
       "      <td>0.435872</td>\n",
       "    </tr>\n",
       "  </tbody>\n",
       "</table>\n",
       "</div>"
      ],
      "text/plain": [
       "Sentiment_Pred_New   date_new  Negative  Positive  Total  Neg_Perc  Pos_Perc\n",
       "0                  2022-01-01       623       339    962  0.647609  0.352391\n",
       "1                  2022-01-02       568       356    924  0.614719  0.385281\n",
       "2                  2022-01-03       713       463   1176  0.606293  0.393707\n",
       "3                  2022-01-04       847       657   1504  0.563165  0.436835\n",
       "4                  2022-01-05      1126       870   1996  0.564128  0.435872"
      ]
     },
     "execution_count": 23,
     "metadata": {},
     "output_type": "execute_result"
    }
   ],
   "source": [
    "# Aggregating and Creating percentages\n",
    "\n",
    "sentiment_time = df_news_sentiment_bert.pivot_table(index=\"date_new\", columns=\"Sentiment_Pred_New\", aggfunc = \"count\", values=\"clean_text\").\\\n",
    "reset_index()\n",
    "sentiment_time[\"Total\"] = sentiment_time[\"Negative\"]+sentiment_time[\"Positive\"]\n",
    "sentiment_time[\"Neg_Perc\"] = sentiment_time[\"Negative\"]/sentiment_time[\"Total\"]\n",
    "sentiment_time[\"Pos_Perc\"] = sentiment_time[\"Positive\"]/sentiment_time[\"Total\"]\n",
    "\n",
    "sentiment_time.head()"
   ]
  },
  {
   "cell_type": "code",
   "execution_count": 24,
   "metadata": {},
   "outputs": [
    {
     "data": {
      "text/plain": [
       "<AxesSubplot:title={'center':'Percentage of Positive Sentiment over time'}, xlabel='date_new'>"
      ]
     },
     "execution_count": 24,
     "metadata": {},
     "output_type": "execute_result"
    },
    {
     "data": {
      "image/png": "[encoded data removed]",
      "text/plain": [
       "<Figure size 432x288 with 1 Axes>"
      ]
     },
     "metadata": {
      "needs_background": "light"
     },
     "output_type": "display_data"
    }
   ],
   "source": [
    "# Plotting the trend charts\n",
    "\n",
    "sentiment_time.plot('date_new' , 'Pos_Perc', title = \"Percentage of Positive Sentiment over time\")"
   ]
  },
  {
   "cell_type": "code",
   "execution_count": 25,
   "metadata": {},
   "outputs": [
    {
     "data": {
      "text/plain": [
       "<AxesSubplot:title={'center':'Percentage of Negative Sentiment over time'}, xlabel='date_new'>"
      ]
     },
     "execution_count": 25,
     "metadata": {},
     "output_type": "execute_result"
    },
    {
     "data": {
      "image/png": "[encoded data removed]",
      "text/plain": [
       "<Figure size 432x288 with 1 Axes>"
      ]
     },
     "metadata": {
      "needs_background": "light"
     },
     "output_type": "display_data"
    }
   ],
   "source": [
    "sentiment_time.plot('date_new' , 'Neg_Perc', title = \"Percentage of Negative Sentiment over time\")"
   ]
  },
  {
   "cell_type": "code",
   "execution_count": 26,
   "metadata": {},
   "outputs": [
    {
     "data": {
      "text/plain": [
       "<AxesSubplot:title={'center':'Count of Positive Sentiment over time'}, xlabel='date_new'>"
      ]
     },
     "execution_count": 26,
     "metadata": {},
     "output_type": "execute_result"
    },
    {
     "data": {
      "image/png": "[encoded data removed]",
      "text/plain": [
       "<Figure size 432x288 with 1 Axes>"
      ]
     },
     "metadata": {
      "needs_background": "light"
     },
     "output_type": "display_data"
    }
   ],
   "source": [
    "sentiment_time.plot('date_new' , 'Positive', title = \"Count of Positive Sentiment over time\")"
   ]
  },
  {
   "cell_type": "code",
   "execution_count": 27,
   "metadata": {},
   "outputs": [
    {
     "data": {
      "text/plain": [
       "<AxesSubplot:title={'center':'Count of Negative Sentiment over time'}, xlabel='date_new'>"
      ]
     },
     "execution_count": 27,
     "metadata": {},
     "output_type": "execute_result"
    },
    {
     "data": {
      "image/png": "[encoded data removed]",
      "text/plain": [
       "<Figure size 432x288 with 1 Axes>"
      ]
     },
     "metadata": {
      "needs_background": "light"
     },
     "output_type": "display_data"
    }
   ],
   "source": [
    "sentiment_time.plot('date_new' , 'Negative', title = \"Count of Negative Sentiment over time\")"
   ]
  },
  {
   "cell_type": "code",
   "execution_count": null,
   "metadata": {},
   "outputs": [],
   "source": []
  }
 ],
 "metadata": {
  "colab": {
   "authorship_tag": "ABX9TyNNk18rJpwfUM9tNVdUV0wP",
   "collapsed_sections": [],
   "name": "Analyzing_Sentiments_Yelp.ipynb",
   "provenance": []
  },
  "kernelspec": {
   "display_name": "Python 3",
   "language": "python",
   "name": "python3"
  },
  "language_info": {
   "codemirror_mode": {
    "name": "ipython",
    "version": 3
   },
   "file_extension": ".py",
   "mimetype": "text/x-python",
   "name": "python",
   "nbconvert_exporter": "python",
   "pygments_lexer": "ipython3",
   "version": "3.8.8"
  }
 },
 "nbformat": 4,
 "nbformat_minor": 1
}
